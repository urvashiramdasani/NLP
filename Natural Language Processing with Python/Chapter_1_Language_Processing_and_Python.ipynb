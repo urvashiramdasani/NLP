{
  "nbformat": 4,
  "nbformat_minor": 0,
  "metadata": {
    "colab": {
      "name": "Chapter-1: Language Processing and Python.ipynb",
      "provenance": [],
      "collapsed_sections": [
        "_eOxgvr8hFck",
        "KGO4_T4ohJja",
        "2CsBf_fSsBaR"
      ],
      "authorship_tag": "ABX9TyNFmSVkxCqjRfHZNv/dgHfr",
      "include_colab_link": true
    },
    "kernelspec": {
      "name": "python3",
      "display_name": "Python 3"
    }
  },
  "cells": [
    {
      "cell_type": "markdown",
      "metadata": {
        "id": "view-in-github",
        "colab_type": "text"
      },
      "source": [
        "<a href=\"https://colab.research.google.com/github/urvashiramdasani/NLP/blob/main/Natural%20Language%20Processing%20with%20Python/Chapter_1_Language_Processing_and_Python.ipynb\" target=\"_parent\"><img src=\"https://colab.research.google.com/assets/colab-badge.svg\" alt=\"Open In Colab\"/></a>"
      ]
    },
    {
      "cell_type": "markdown",
      "metadata": {
        "id": "9g6ljWEHc728"
      },
      "source": [
        "This notebook contains the theory and implementations of Python Codes of the first chapter of the Book 'Natural Language Processing with Python -- Analyzing Text with the Natural Language Toolkit'"
      ]
    },
    {
      "cell_type": "markdown",
      "metadata": {
        "id": "_eOxgvr8hFck"
      },
      "source": [
        "## Installation\r\n",
        "\r\n",
        "For the purpose of understanding the book, I have installed only the 'book' collection."
      ]
    },
    {
      "cell_type": "code",
      "metadata": {
        "id": "Oz2bATKKnNrb",
        "colab": {
          "base_uri": "https://localhost:8080/"
        },
        "outputId": "d90ae7ae-a8a0-4c93-d2cb-8527c73e54da"
      },
      "source": [
        "import nltk\r\n",
        "\r\n",
        "nltk.download('book')"
      ],
      "execution_count": null,
      "outputs": [
        {
          "output_type": "stream",
          "text": [
            "[nltk_data] Downloading collection 'book'\n",
            "[nltk_data]    | \n",
            "[nltk_data]    | Downloading package abc to /root/nltk_data...\n",
            "[nltk_data]    |   Unzipping corpora/abc.zip.\n",
            "[nltk_data]    | Downloading package brown to /root/nltk_data...\n",
            "[nltk_data]    |   Unzipping corpora/brown.zip.\n",
            "[nltk_data]    | Downloading package chat80 to /root/nltk_data...\n",
            "[nltk_data]    |   Unzipping corpora/chat80.zip.\n",
            "[nltk_data]    | Downloading package cmudict to /root/nltk_data...\n",
            "[nltk_data]    |   Unzipping corpora/cmudict.zip.\n",
            "[nltk_data]    | Downloading package conll2000 to /root/nltk_data...\n",
            "[nltk_data]    |   Unzipping corpora/conll2000.zip.\n",
            "[nltk_data]    | Downloading package conll2002 to /root/nltk_data...\n",
            "[nltk_data]    |   Unzipping corpora/conll2002.zip.\n",
            "[nltk_data]    | Downloading package dependency_treebank to\n",
            "[nltk_data]    |     /root/nltk_data...\n",
            "[nltk_data]    |   Unzipping corpora/dependency_treebank.zip.\n",
            "[nltk_data]    | Downloading package genesis to /root/nltk_data...\n",
            "[nltk_data]    |   Unzipping corpora/genesis.zip.\n",
            "[nltk_data]    | Downloading package gutenberg to /root/nltk_data...\n",
            "[nltk_data]    |   Unzipping corpora/gutenberg.zip.\n",
            "[nltk_data]    | Downloading package ieer to /root/nltk_data...\n",
            "[nltk_data]    |   Unzipping corpora/ieer.zip.\n",
            "[nltk_data]    | Downloading package inaugural to /root/nltk_data...\n",
            "[nltk_data]    |   Unzipping corpora/inaugural.zip.\n",
            "[nltk_data]    | Downloading package movie_reviews to\n",
            "[nltk_data]    |     /root/nltk_data...\n",
            "[nltk_data]    |   Unzipping corpora/movie_reviews.zip.\n",
            "[nltk_data]    | Downloading package nps_chat to /root/nltk_data...\n",
            "[nltk_data]    |   Unzipping corpora/nps_chat.zip.\n",
            "[nltk_data]    | Downloading package names to /root/nltk_data...\n",
            "[nltk_data]    |   Unzipping corpora/names.zip.\n",
            "[nltk_data]    | Downloading package ppattach to /root/nltk_data...\n",
            "[nltk_data]    |   Unzipping corpora/ppattach.zip.\n",
            "[nltk_data]    | Downloading package reuters to /root/nltk_data...\n",
            "[nltk_data]    | Downloading package senseval to /root/nltk_data...\n",
            "[nltk_data]    |   Unzipping corpora/senseval.zip.\n",
            "[nltk_data]    | Downloading package state_union to /root/nltk_data...\n",
            "[nltk_data]    |   Unzipping corpora/state_union.zip.\n",
            "[nltk_data]    | Downloading package stopwords to /root/nltk_data...\n",
            "[nltk_data]    |   Unzipping corpora/stopwords.zip.\n",
            "[nltk_data]    | Downloading package swadesh to /root/nltk_data...\n",
            "[nltk_data]    |   Unzipping corpora/swadesh.zip.\n",
            "[nltk_data]    | Downloading package timit to /root/nltk_data...\n",
            "[nltk_data]    |   Unzipping corpora/timit.zip.\n",
            "[nltk_data]    | Downloading package treebank to /root/nltk_data...\n",
            "[nltk_data]    |   Unzipping corpora/treebank.zip.\n",
            "[nltk_data]    | Downloading package toolbox to /root/nltk_data...\n",
            "[nltk_data]    |   Unzipping corpora/toolbox.zip.\n",
            "[nltk_data]    | Downloading package udhr to /root/nltk_data...\n",
            "[nltk_data]    |   Unzipping corpora/udhr.zip.\n",
            "[nltk_data]    | Downloading package udhr2 to /root/nltk_data...\n",
            "[nltk_data]    |   Unzipping corpora/udhr2.zip.\n",
            "[nltk_data]    | Downloading package unicode_samples to\n",
            "[nltk_data]    |     /root/nltk_data...\n",
            "[nltk_data]    |   Unzipping corpora/unicode_samples.zip.\n",
            "[nltk_data]    | Downloading package webtext to /root/nltk_data...\n",
            "[nltk_data]    |   Unzipping corpora/webtext.zip.\n",
            "[nltk_data]    | Downloading package wordnet to /root/nltk_data...\n",
            "[nltk_data]    |   Unzipping corpora/wordnet.zip.\n",
            "[nltk_data]    | Downloading package wordnet_ic to /root/nltk_data...\n",
            "[nltk_data]    |   Unzipping corpora/wordnet_ic.zip.\n",
            "[nltk_data]    | Downloading package words to /root/nltk_data...\n",
            "[nltk_data]    |   Unzipping corpora/words.zip.\n",
            "[nltk_data]    | Downloading package maxent_treebank_pos_tagger to\n",
            "[nltk_data]    |     /root/nltk_data...\n",
            "[nltk_data]    |   Unzipping taggers/maxent_treebank_pos_tagger.zip.\n",
            "[nltk_data]    | Downloading package maxent_ne_chunker to\n",
            "[nltk_data]    |     /root/nltk_data...\n",
            "[nltk_data]    |   Unzipping chunkers/maxent_ne_chunker.zip.\n",
            "[nltk_data]    | Downloading package universal_tagset to\n",
            "[nltk_data]    |     /root/nltk_data...\n",
            "[nltk_data]    |   Unzipping taggers/universal_tagset.zip.\n",
            "[nltk_data]    | Downloading package punkt to /root/nltk_data...\n",
            "[nltk_data]    |   Unzipping tokenizers/punkt.zip.\n",
            "[nltk_data]    | Downloading package book_grammars to\n",
            "[nltk_data]    |     /root/nltk_data...\n",
            "[nltk_data]    |   Unzipping grammars/book_grammars.zip.\n",
            "[nltk_data]    | Downloading package city_database to\n",
            "[nltk_data]    |     /root/nltk_data...\n",
            "[nltk_data]    |   Unzipping corpora/city_database.zip.\n",
            "[nltk_data]    | Downloading package tagsets to /root/nltk_data...\n",
            "[nltk_data]    |   Unzipping help/tagsets.zip.\n",
            "[nltk_data]    | Downloading package panlex_swadesh to\n",
            "[nltk_data]    |     /root/nltk_data...\n",
            "[nltk_data]    | Downloading package averaged_perceptron_tagger to\n",
            "[nltk_data]    |     /root/nltk_data...\n",
            "[nltk_data]    |   Unzipping taggers/averaged_perceptron_tagger.zip.\n",
            "[nltk_data]    | \n",
            "[nltk_data]  Done downloading collection book\n"
          ],
          "name": "stdout"
        },
        {
          "output_type": "execute_result",
          "data": {
            "text/plain": [
              "True"
            ]
          },
          "metadata": {
            "tags": []
          },
          "execution_count": 1
        }
      ]
    },
    {
      "cell_type": "code",
      "metadata": {
        "colab": {
          "base_uri": "https://localhost:8080/"
        },
        "id": "p8vZgfoFe8bJ",
        "outputId": "26c3bd23-4d01-40e9-9b81-bb5808c4e0e2"
      },
      "source": [
        "from nltk.book import *"
      ],
      "execution_count": null,
      "outputs": [
        {
          "output_type": "stream",
          "text": [
            "*** Introductory Examples for the NLTK Book ***\n",
            "Loading text1, ..., text9 and sent1, ..., sent9\n",
            "Type the name of the text or sentence to view it.\n",
            "Type: 'texts()' or 'sents()' to list the materials.\n",
            "text1: Moby Dick by Herman Melville 1851\n",
            "text2: Sense and Sensibility by Jane Austen 1811\n",
            "text3: The Book of Genesis\n",
            "text4: Inaugural Address Corpus\n",
            "text5: Chat Corpus\n",
            "text6: Monty Python and the Holy Grail\n",
            "text7: Wall Street Journal\n",
            "text8: Personals Corpus\n",
            "text9: The Man Who Was Thursday by G . K . Chesterton 1908\n"
          ],
          "name": "stdout"
        }
      ]
    },
    {
      "cell_type": "code",
      "metadata": {
        "colab": {
          "base_uri": "https://localhost:8080/"
        },
        "id": "KWbYp0pQfrZe",
        "outputId": "b0edfac0-efd0-42d1-88e4-ca01d2e84ad4"
      },
      "source": [
        "text1"
      ],
      "execution_count": null,
      "outputs": [
        {
          "output_type": "execute_result",
          "data": {
            "text/plain": [
              "<Text: Moby Dick by Herman Melville 1851>"
            ]
          },
          "metadata": {
            "tags": []
          },
          "execution_count": 3
        }
      ]
    },
    {
      "cell_type": "markdown",
      "metadata": {
        "id": "KGO4_T4ohJja"
      },
      "source": [
        "## Searching Text\r\n",
        "\r\n",
        "A concordance view shows us every occurrence of a given word, together with some context. Concordance makes an index to make subesquent searches faster. "
      ]
    },
    {
      "cell_type": "code",
      "metadata": {
        "colab": {
          "base_uri": "https://localhost:8080/"
        },
        "id": "dLKUVab-gcZQ",
        "outputId": "2e99ec43-3d44-4477-fc83-400e0538172f"
      },
      "source": [
        "text1.concordance(\"monstrous\")"
      ],
      "execution_count": null,
      "outputs": [
        {
          "output_type": "stream",
          "text": [
            "Displaying 11 of 11 matches:\n",
            "ong the former , one was of a most monstrous size . ... This came towards us , \n",
            "ON OF THE PSALMS . \" Touching that monstrous bulk of the whale or ork we have r\n",
            "ll over with a heathenish array of monstrous clubs and spears . Some were thick\n",
            "d as you gazed , and wondered what monstrous cannibal and savage could ever hav\n",
            "that has survived the flood ; most monstrous and most mountainous ! That Himmal\n",
            "they might scout at Moby Dick as a monstrous fable , or still worse and more de\n",
            "th of Radney .'\" CHAPTER 55 Of the Monstrous Pictures of Whales . I shall ere l\n",
            "ing Scenes . In connexion with the monstrous pictures of whales , I am strongly\n",
            "ere to enter upon those still more monstrous stories of them which are to be fo\n",
            "ght have been rummaged out of this monstrous cabinet there is no telling . But \n",
            "of Whale - Bones ; for Whales of a monstrous size are oftentimes cast up dead u\n"
          ],
          "name": "stdout"
        }
      ]
    },
    {
      "cell_type": "code",
      "metadata": {
        "colab": {
          "base_uri": "https://localhost:8080/"
        },
        "id": "b-zrufzrhrzC",
        "outputId": "2580dfa9-8249-44b0-a180-6e086e9260dd"
      },
      "source": [
        "text2.concordance(\"affection\")"
      ],
      "execution_count": null,
      "outputs": [
        {
          "output_type": "stream",
          "text": [
            "Displaying 25 of 79 matches:\n",
            ", however , and , as a mark of his affection for the three girls , he left them\n",
            "t . It was very well known that no affection was ever supposed to exist between\n",
            "deration of politeness or maternal affection on the side of the former , the tw\n",
            "d the suspicion -- the hope of his affection for me may warrant , without impru\n",
            "hich forbade the indulgence of his affection . She knew that his mother neither\n",
            "rd she gave one with still greater affection . Though her late conversation wit\n",
            " can never hope to feel or inspire affection again , and if her home be uncomfo\n",
            "m of the sense , elegance , mutual affection , and domestic comfort of the fami\n",
            ", and which recommended him to her affection beyond every thing else . His soci\n",
            "ween the parties might forward the affection of Mr . Willoughby , an equally st\n",
            " the most pointed assurance of her affection . Elinor could not be surprised at\n",
            "he natural consequence of a strong affection in a young and ardent mind . This \n",
            " opinion . But by an appeal to her affection for her mother , by representing t\n",
            " every alteration of a place which affection had established as perfect with hi\n",
            "e will always have one claim of my affection , which no other can possibly shar\n",
            "f the evening declared at once his affection and happiness . \" Shall we see you\n",
            "ause he took leave of us with less affection than his usual behaviour has shewn\n",
            "ness .\" \" I want no proof of their affection ,\" said Elinor ; \" but of their en\n",
            "onths , without telling her of his affection ;-- that they should part without \n",
            "ould be the natural result of your affection for her . She used to be all unres\n",
            "distinguished Elinor by no mark of affection . Marianne saw and listened with i\n",
            "th no inclination for expense , no affection for strangers , no profession , an\n",
            "till distinguished her by the same affection which once she had felt no doubt o\n",
            "al of her confidence in Edward ' s affection , to the remembrance of every mark\n",
            " was made ? Had he never owned his affection to yourself ?\" \" Oh , no ; but if \n"
          ],
          "name": "stdout"
        }
      ]
    },
    {
      "cell_type": "code",
      "metadata": {
        "colab": {
          "base_uri": "https://localhost:8080/"
        },
        "id": "F_b5ZA61ihYb",
        "outputId": "0fcda090-fbcb-480d-d161-1c9ad1e013ae"
      },
      "source": [
        "text3.concordance(\"lived\")"
      ],
      "execution_count": null,
      "outputs": [
        {
          "output_type": "stream",
          "text": [
            "Displaying 25 of 38 matches:\n",
            "ay when they were created . And Adam lived an hundred and thirty years , and be\n",
            "ughters : And all the days that Adam lived were nine hundred and thirty yea and\n",
            "nd thirty yea and he died . And Seth lived an hundred and five years , and bega\n",
            "ve years , and begat Enos : And Seth lived after he begat Enos eight hundred an\n",
            "welve years : and he died . And Enos lived ninety years , and begat Cainan : An\n",
            " years , and begat Cainan : And Enos lived after he begat Cainan eight hundred \n",
            "ive years : and he died . And Cainan lived seventy years and begat Mahalaleel :\n",
            "rs and begat Mahalaleel : And Cainan lived after he begat Mahalaleel eight hund\n",
            "years : and he died . And Mahalaleel lived sixty and five years , and begat Jar\n",
            "s , and begat Jared : And Mahalaleel lived after he begat Jared eight hundred a\n",
            "and five yea and he died . And Jared lived an hundred sixty and two years , and\n",
            "o years , and he begat Eno And Jared lived after he begat Enoch eight hundred y\n",
            " and two yea and he died . And Enoch lived sixty and five years , and begat Met\n",
            " ; for God took him . And Methuselah lived an hundred eighty and seven years , \n",
            " , and begat Lamech . And Methuselah lived after he begat Lamech seven hundred \n",
            "nd nine yea and he died . And Lamech lived an hundred eighty and two years , an\n",
            "ch the LORD hath cursed . And Lamech lived after he begat Noah five hundred nin\n",
            "naan shall be his servant . And Noah lived after the flood three hundred and fi\n",
            "xad two years after the flo And Shem lived after he begat Arphaxad five hundred\n",
            "at sons and daughters . And Arphaxad lived five and thirty years , and begat Sa\n",
            "ars , and begat Salah : And Arphaxad lived after he begat Salah four hundred an\n",
            "begat sons and daughters . And Salah lived thirty years , and begat Eber : And \n",
            "y years , and begat Eber : And Salah lived after he begat Eber four hundred and\n",
            " begat sons and daughters . And Eber lived four and thirty years , and begat Pe\n",
            "y years , and begat Peleg : And Eber lived after he begat Peleg four hundred an\n"
          ],
          "name": "stdout"
        }
      ]
    },
    {
      "cell_type": "code",
      "metadata": {
        "colab": {
          "base_uri": "https://localhost:8080/"
        },
        "id": "X0gnGeUNi0rw",
        "outputId": "6fe7228a-544e-41a0-a500-f7378e7bcd8a"
      },
      "source": [
        "text4.concordance('nation')"
      ],
      "execution_count": null,
      "outputs": [
        {
          "output_type": "stream",
          "text": [
            "Displaying 25 of 316 matches:\n",
            " to the character of an independent nation seems to have been distinguished by\n",
            "f Heaven can never be expected on a nation that disregards the eternal rules o\n",
            "first , the representatives of this nation , then consisting of little more th\n",
            ", situation , and relations of this nation and country than any which had ever\n",
            ", prosperity , and happiness of the nation I have acquired an habitual attachm\n",
            "an be no spectacle presented by any nation more pleasing , more noble , majest\n",
            "party for its own ends , not of the nation for the national good . If that sol\n",
            "tures and the people throughout the nation . On this subject it might become m\n",
            "if a personal esteem for the French nation , formed in a residence of seven ye\n",
            "f our fellow - citizens by whatever nation , and if success can not be obtaine\n",
            "y , continue His blessing upon this nation and its Government and give it all \n",
            "powers so justly inspire . A rising nation , spread over a wide and fruitful l\n",
            "ing now decided by the voice of the nation , announced according to the rules \n",
            "ars witness to the fact that a just nation is trusted on its word when recours\n",
            "e union of opinion which gives to a nation the blessing of harmony and the ben\n",
            "uil suffrage of a free and virtuous nation , would under any circumstances hav\n",
            "d spirit and united councils of the nation will be safeguards to its honor and\n",
            "iction that the war with a powerful nation , which forms so prominent a featur\n",
            "out breaking down the spirit of the nation , destroying all confidence in itse\n",
            "ed on the military resources of the nation . These resources are amply suffici\n",
            "the war to an honorable issue . Our nation is in number more than half that of\n",
            "ndividually have been happy and the nation prosperous . Under this Constitutio\n",
            "rights , and is able to protect the nation against injustice from foreign powe\n",
            " great agricultural interest of the nation prospers under its protection . Loc\n",
            "ak our Union , and demolish us as a nation . Our distance from Europe and the \n"
          ],
          "name": "stdout"
        }
      ]
    },
    {
      "cell_type": "code",
      "metadata": {
        "colab": {
          "base_uri": "https://localhost:8080/"
        },
        "id": "UjjpLEW-j_Qa",
        "outputId": "c4e4fa58-149a-4adb-c16c-2587aac0b829"
      },
      "source": [
        "text4.concordance('terror')"
      ],
      "execution_count": null,
      "outputs": [
        {
          "output_type": "stream",
          "text": [
            "Displaying 8 of 8 matches:\n",
            "menaces , by fraud or violence , by terror , intrigue , or venality , the Gove\n",
            "ameless , unreasoning , unjustified terror which paralyzes needed efforts to c\n",
            "ublic seemed frozen by a fatalistic terror , we proved that this is not true .\n",
            " to alter that uncertain balance of terror that stays the hand of mankind ' s \n",
            "eans freeing all Americans from the terror of runaway living costs . All must \n",
            "still . They fuel the fanaticism of terror . And they torment the lives of mil\n",
            "d maintain a strong defense against terror and destruction . Our children will\n",
            "k to advance their aims by inducing terror and slaughtering innocents , we say\n"
          ],
          "name": "stdout"
        }
      ]
    },
    {
      "cell_type": "code",
      "metadata": {
        "colab": {
          "base_uri": "https://localhost:8080/"
        },
        "id": "5fWzh09IkCmB",
        "outputId": "3b1cb4fe-ea53-433d-cc98-2e54535e2264"
      },
      "source": [
        "text4.concordance('god')"
      ],
      "execution_count": null,
      "outputs": [
        {
          "output_type": "stream",
          "text": [
            "Displaying 25 of 108 matches:\n",
            "eliance on the protection of Almighty God , I shall forthwith commence the duti\n",
            "humble , acknowledged dependence upon God and His overruling providence . We ha\n",
            "great office I must humbly invoke the God of our fathers for wisdom and firmnes\n",
            "d the same Bible and pray to the same God , and each invokes His aid against th\n",
            "hat any men should dare to ask a just God ' s assistance in wringing their brea\n",
            "offenses which , in the providence of God , must needs come , but which , havin\n",
            "butes which the believers in a living God always ascribe to Him ? Fondly do we \n",
            "war may speedily pass away . Yet , if God wills that it continue until all the \n",
            "r all , with firmness in the right as God gives us to see the right , let us st\n",
            "the prayers of the nation to Almighty God in behalf of this consummation . Fell\n",
            "r , they have \" followed the light as God gave them to see the light .\" They ar\n",
            "ess their fathers and their fathers ' God that the Union was preserved , that s\n",
            "the support and blessings of Almighty God . Fellow citizens , in the presence o\n",
            "ng the power and goodness of Almighty God , who presides over the destiny of na\n",
            "expect the favor and help of Almighty God -- that He will give to me wisdom , s\n",
            " suggestion to enterprise and labor . God has placed upon our head a diadem and\n",
            "urn than the pledge I now give before God and these witnesses of unreserved and\n",
            "han human life can escape the laws of God and nature . Manifestly nothing is mo\n",
            "and invoking the guidance of Almighty God . Our faith teaches that there is no \n",
            "re is no safer reliance than upon the God of our fathers , who has so singularl\n",
            "e the direction and favor of Almighty God . I should shrink from the duties thi\n",
            " devolve upon it , and in the fear of God will \" take occasion by the hand and \n",
            " citizens and the aid of the Almighty God in the discharge of my responsible du\n",
            "our heartstrings like some air out of God ' s own presence , where justice and \n",
            " forward - looking men , to my side . God helping me , I will not fail them , i\n"
          ],
          "name": "stdout"
        }
      ]
    },
    {
      "cell_type": "code",
      "metadata": {
        "colab": {
          "base_uri": "https://localhost:8080/"
        },
        "id": "k-0zJsACkT2Z",
        "outputId": "9c568100-364e-4cd4-fb13-320ad0308f12"
      },
      "source": [
        "text5.concordance('im')"
      ],
      "execution_count": null,
      "outputs": [
        {
          "output_type": "stream",
          "text": [
            "Displaying 25 of 149 matches:\n",
            "                                      im left with this gay name :P PART hey e\n",
            "what did you but on e-bay i feel like im in the wrong room yeee haw U30 im con\n",
            "ike im in the wrong room yeee haw U30 im considering changing my nickname to \"\n",
            " the hell outta my freaking PM box .. Im with my fiance !!!!!!!!!!!!!!!! answe\n",
            "m impressed . PART hiya room lmao !!! im doin alright thanks omg Finger .. Dee\n",
            "th lol JOIN so read it . thanks U7 .. Im happy to have my fiance here !! forwa\n",
            "i didnt me phone you . . . sheesh now im that phone perv guy lets hope not U12\n",
            "to spain ? i need to go this summer . im a HUGE phone perv ok seriously who wa\n",
            "an ... . ACTION video tapes . hey U20 Im blind now . ACTION has left the room \n",
            "T u got that right , i dont do shit , im the supervisor Hello U165 . hey U165 \n",
            " him in the \" untouchable \" list U115 im good U6 lmao U7 how r u U128 hehe how\n",
            "can I ask where ya all are from ..... im here in kentucky as I said ... too wi\n",
            "ic but had to resize and stuff U37 no im an equal oppertunity hater LOL Hi , U\n",
            "he cover weeeeeeeee thanks U19 ! PART im out in cal now U3 looking at some new\n",
            " :) hi U58 lol wb U29 hi U29 U13 .... im down to time now PART Hello U24 , wel\n",
            ", I 'd never kick you outta my box hi im good thanks U16 yerself ?? PART inter\n",
            "ke wth . . who are you even ty U34 yw Im glad he 's back . awwww U16 i like ps\n",
            " ha U23 !!! wow ... are you the U39 ? Im talkin about all yer typin . . It 's \n",
            "... you ??? Apparently , I 'm not U41 im good U23 dear . How are you U23 ~wink\n",
            "~ U35 ... I love that 5 am phone call im good ... me and eric r back together \n",
            " , I am happy . You know i LuverZ YOU im the same busy busy oh ok then U1 nm l\n",
            "))) . ACTION stretches . ty U19 Ugh , Im so sore ! Repeatedly , with a big sti\n",
            "'m a size queen U41 Why U45 ? naw U23 im cheating on you with Jayse hes hawt t\n",
            "oeer is sum1 gonna ghet fuked up ? :) im always hungry yeah U45 .. i believe i\n",
            "without first asking permission . U35 im sorry U35 i tried to refrain me too U\n"
          ],
          "name": "stdout"
        }
      ]
    },
    {
      "cell_type": "code",
      "metadata": {
        "colab": {
          "base_uri": "https://localhost:8080/"
        },
        "id": "SqWbWPvVkiGm",
        "outputId": "dcbf42ee-11c2-498a-c187-3c66b8ea75bf"
      },
      "source": [
        "text5.concordance('ur')"
      ],
      "execution_count": null,
      "outputs": [
        {
          "output_type": "stream",
          "text": [
            "Displaying 21 of 21 matches:\n",
            "k up PART no i dont want daughters !! ur annoying . ACTION Now Playing - Cradl\n",
            "ooo U92 !!!!!! . ACTION U1370 watches ur nad with a stick . ca u U23 ewwww lol\n",
            "er lip . Meep . ACTION is resisting . ur female right lol U115 beeeeehave Reme\n",
            " geeshh ... two kids fighting ! whats ur major i probably sucks in summer too \n",
            "II Men scorpions rock ... lol what is ur job me too U11 hehe went to manhattan\n",
            "e no one i like to say if u have done ur time then that is that U42 Ok U37 , i\n",
            "hat a ride JOIN ty ty cheers babes .. ur the first to follow up with the pseud\n",
            " charger \\ty LoL yeah ;-) well i hope ur doing ok .. i 'm dojn fine babe . . g\n",
            " gonna rock up soojn and rob u of all ur ' candy ' :) as long as you are happy\n",
            "genital warts ? LoL moped U28 ?.. ohh ur a real man i had a moped once yup heh\n",
            "b-day is in 5 days =( PART LOL U35 no ur nawt yup your gay lmao U37 dang come \n",
            " people talk to me anymore oh because ur gay . PART PART . ACTION = U58 . Man \n",
            " om hi U73 heya U7 ! h shit i get all ur money now fawker ok girl lol JOIN ed \n",
            "hat tired huh U66 ? lol U75 ... bring ur pillow get comfy U70 yep , off to bed\n",
            "talked to hi sean . ACTION whispers : ur a douche . who PART . ACTION whispers\n",
            "ew england usa ? U7 .. it adds wax to ur clothes .. u think cottons breathe ?.\n",
            "ver knew what flavor to get specially ur towels lol U31 < whistles > U34 U39 I\n",
            "cks out U7 s pic JOIN PART U41 Hi U41 ur gettin pretty savvy there U39 ahhh ..\n",
            "om ? brb U30 a week .. heck a day and ur problem there , U30 ??? Hi U34 hartfo\n",
            " JOIN U57 Whats really good room JOIN ur telllin me hey any uk girls her ? JOI\n",
            "JOIN PART JOIN JOIN yea guitar rocker ur kool u lil guitar rocker PART whats e\n"
          ],
          "name": "stdout"
        }
      ]
    },
    {
      "cell_type": "code",
      "metadata": {
        "colab": {
          "base_uri": "https://localhost:8080/"
        },
        "id": "hA-p4iZ4kzll",
        "outputId": "d70a276e-cd11-4e21-9621-ae85e73b62c7"
      },
      "source": [
        "text5.concordance('lol')"
      ],
      "execution_count": null,
      "outputs": [
        {
          "output_type": "stream",
          "text": [
            "Displaying 25 of 822 matches:\n",
            "ast PART 24 / m boo . 26 / m and sexy lol U115 boo . JOIN PART he drew a girl w\n",
            "ope he didnt draw a penis PART ewwwww lol & a head between her legs JOIN JOIN s\n",
            "a bowl i got a blunt an a bong ...... lol JOIN well , glad it worked out my cha\n",
            "e \" PART Hi U121 in ny . ACTION would lol @ U121 . . . but appearently she does\n",
            "30 make sure u buy a nice ring for U6 lol U7 Hi U115 . ACTION isnt falling for \n",
            " didnt ya hear !!!! PART JOIN geeshhh lol U6 PART hes deaf ppl here dont get it\n",
            "es nobody here i wanna misbeahve with lol JOIN so read it . thanks U7 .. Im hap\n",
            "ies want to chat can i talk to him !! lol U121 !!! forwards too lol JOIN ALL PE\n",
            "k to him !! lol U121 !!! forwards too lol JOIN ALL PErvs ... redirect to U121 '\n",
            " loves ME the most i love myself JOIN lol U44 how do u know that what ? jerkett\n",
            "ng wrong ... i can see it in his eyes lol U20 = fiance Jerketts lmao wtf yah I \n",
            "cooler by the minute what 'd I miss ? lol noo there too much work ! why not ?? \n",
            " that mean I want you ? U6 hello room lol U83 and this .. has been the grammar \n",
            " the rule he 's in PM land now though lol ah ok i wont bug em then someone wann\n",
            "flight to hell :) lmao bbl maybe PART LOL lol U7 it was me , U83 hahah U83 ! 80\n",
            "ht to hell :) lmao bbl maybe PART LOL lol U7 it was me , U83 hahah U83 ! 808265\n",
            "082653953 K-Fed got his ass kicked .. Lol . ACTION laughs . i got a first class\n",
            " . i got a first class ticket to hell lol U7 JOIN any texas girls in here ? any\n",
            " . whats up U155 i was only kidding . lol he 's a douchebag . Poor U121 i 'm bo\n",
            " ??? sits with U30 Cum to my shower . lol U121 . ACTION U1370 watches his nads \n",
            " ur nad with a stick . ca u U23 ewwww lol *sniffs* ewwwwww PART U115 ! owww spl\n",
            "ACTION is resisting . ur female right lol U115 beeeeehave Remember the LAst tim\n",
            "pm's me . charge that is 1.99 / min . lol @ innocent hahah lol .... yeah LOLOLO\n",
            " is 1.99 / min . lol @ innocent hahah lol .... yeah LOLOLOLLL U12 thats not nic\n",
            "s . lmao no U115 Check my record . :) Lol lick em U7 U23 how old r u lol Way to\n"
          ],
          "name": "stdout"
        }
      ]
    },
    {
      "cell_type": "markdown",
      "metadata": {
        "id": "rOXkeU4Wl2Hx"
      },
      "source": [
        "similar is used to find other words that have similar context of the word specified."
      ]
    },
    {
      "cell_type": "code",
      "metadata": {
        "colab": {
          "base_uri": "https://localhost:8080/"
        },
        "id": "C54lw_z0lWJk",
        "outputId": "c38c6f23-9f1c-408d-8f52-005a269319e2"
      },
      "source": [
        "text1.similar(\"monstrous\")"
      ],
      "execution_count": null,
      "outputs": [
        {
          "output_type": "stream",
          "text": [
            "true contemptible christian abundant few part mean careful puzzled\n",
            "mystifying passing curious loving wise doleful gamesome singular\n",
            "delightfully perilous fearless\n"
          ],
          "name": "stdout"
        }
      ]
    },
    {
      "cell_type": "code",
      "metadata": {
        "colab": {
          "base_uri": "https://localhost:8080/"
        },
        "id": "Ba0vh1LzmHIM",
        "outputId": "60a3abd4-d8bf-4142-b7b1-c3d8af9950bb"
      },
      "source": [
        "text2.similar(\"monstrous\")"
      ],
      "execution_count": null,
      "outputs": [
        {
          "output_type": "stream",
          "text": [
            "very so exceedingly heartily a as good great extremely remarkably\n",
            "sweet vast amazingly\n"
          ],
          "name": "stdout"
        }
      ]
    },
    {
      "cell_type": "markdown",
      "metadata": {
        "id": "QLE7BglKn3Q0"
      },
      "source": [
        "common_contexts finds out the context words common to both."
      ]
    },
    {
      "cell_type": "code",
      "metadata": {
        "colab": {
          "base_uri": "https://localhost:8080/"
        },
        "id": "3IqVw7LHndvx",
        "outputId": "6830af40-5dfe-426e-d43e-1a9bd0c684ef"
      },
      "source": [
        "text2.common_contexts(['monstrous', 'very'])"
      ],
      "execution_count": null,
      "outputs": [
        {
          "output_type": "stream",
          "text": [
            "a_pretty am_glad a_lucky is_pretty be_glad\n"
          ],
          "name": "stdout"
        }
      ]
    },
    {
      "cell_type": "markdown",
      "metadata": {
        "id": "iBKY2urXoXGq"
      },
      "source": [
        "We can use dipersion plot to find out positional information about text. Positional information includes how many words from the beginning it appears. This can be used to investigate changes in language use over time.\r\n"
      ]
    },
    {
      "cell_type": "code",
      "metadata": {
        "colab": {
          "base_uri": "https://localhost:8080/",
          "height": 295
        },
        "id": "wC1uT8nvn9Jt",
        "outputId": "de08df85-2719-4c0a-8c27-7f8412c90f72"
      },
      "source": [
        "text4.dispersion_plot([\"citizens\", \"democracy\", \"freedom\", \"duties\", \"America\"])"
      ],
      "execution_count": null,
      "outputs": [
        {
          "output_type": "display_data",
          "data": {
            "image/png": "[encoded data removed]",
            "text/plain": [
              "<Figure size 432x288 with 1 Axes>"
            ]
          },
          "metadata": {
            "tags": [],
            "needs_background": "light"
          }
        }
      ]
    },
    {
      "cell_type": "markdown",
      "metadata": {
        "id": "0MC_sbdzpZcw"
      },
      "source": [
        "generate will generate some random text in the style specified by the text."
      ]
    },
    {
      "cell_type": "code",
      "metadata": {
        "colab": {
          "base_uri": "https://localhost:8080/",
          "height": 161
        },
        "id": "HydAZsE_ooSn",
        "outputId": "2cedbf1b-e2ee-4826-8e0a-53d69030d0a4"
      },
      "source": [
        "text3.generate()"
      ],
      "execution_count": null,
      "outputs": [
        {
          "output_type": "error",
          "ename": "TypeError",
          "evalue": "ignored",
          "traceback": [
            "\u001b[0;31m---------------------------------------------------------------------------\u001b[0m",
            "\u001b[0;31mTypeError\u001b[0m                                 Traceback (most recent call last)",
            "\u001b[0;32m<ipython-input-23-463eb7c367ab>\u001b[0m in \u001b[0;36m<module>\u001b[0;34m()\u001b[0m\n\u001b[0;32m----> 1\u001b[0;31m \u001b[0mtext3\u001b[0m\u001b[0;34m.\u001b[0m\u001b[0mgenerate\u001b[0m\u001b[0;34m(\u001b[0m\u001b[0;34m)\u001b[0m\u001b[0;34m\u001b[0m\u001b[0;34m\u001b[0m\u001b[0m\n\u001b[0m",
            "\u001b[0;31mTypeError\u001b[0m: generate() missing 1 required positional argument: 'words'"
          ]
        }
      ]
    },
    {
      "cell_type": "markdown",
      "metadata": {
        "id": "2CsBf_fSsBaR"
      },
      "source": [
        "## Counting Vocabulary"
      ]
    },
    {
      "cell_type": "code",
      "metadata": {
        "colab": {
          "base_uri": "https://localhost:8080/"
        },
        "id": "oeqGtjDSsF7C",
        "outputId": "59c9314e-5481-4de8-fddd-846458ba6669"
      },
      "source": [
        "len(text3) # 44764 tokens. A token is the technical name for a sequence of characters."
      ],
      "execution_count": null,
      "outputs": [
        {
          "output_type": "execute_result",
          "data": {
            "text/plain": [
              "44764"
            ]
          },
          "metadata": {
            "tags": []
          },
          "execution_count": 17
        }
      ]
    },
    {
      "cell_type": "code",
      "metadata": {
        "colab": {
          "base_uri": "https://localhost:8080/"
        },
        "id": "BCxdYycmsxZh",
        "outputId": "305fac7b-e7cf-439a-ce6a-c59cf85b0695"
      },
      "source": [
        "# The above method will count all the tokens in the text. To count the distinct tokens we make a set of it.\r\n",
        "\r\n",
        "len(sorted(set(text3))) # 2789 word types. A word type is the form or spelling of the word independently of its specific occurrences in a text — \r\n",
        "                                            # that is, the word considered as a unique item of vocabulary."
      ],
      "execution_count": null,
      "outputs": [
        {
          "output_type": "execute_result",
          "data": {
            "text/plain": [
              "2789"
            ]
          },
          "metadata": {
            "tags": []
          },
          "execution_count": 18
        }
      ]
    },
    {
      "cell_type": "code",
      "metadata": {
        "id": "2qmydhZ0uggF",
        "colab": {
          "base_uri": "https://localhost:8080/"
        },
        "outputId": "2a7087f5-b45e-4c26-e024-df56b587be3b"
      },
      "source": [
        "# Measure of lexical richness - lexical diversity\r\n",
        "\r\n",
        "len(text3) / len(set(text3)) # It shows that each word is used approximately 16 times"
      ],
      "execution_count": null,
      "outputs": [
        {
          "output_type": "execute_result",
          "data": {
            "text/plain": [
              "16.050197203298673"
            ]
          },
          "metadata": {
            "tags": []
          },
          "execution_count": 19
        }
      ]
    },
    {
      "cell_type": "code",
      "metadata": {
        "colab": {
          "base_uri": "https://localhost:8080/"
        },
        "id": "XZtA5eBh0WNR",
        "outputId": "4f048443-9138-45ed-faf2-280a65d957c2"
      },
      "source": [
        "# Count how often a word occurs in a text\r\n",
        "\r\n",
        "text3.count('smote')"
      ],
      "execution_count": null,
      "outputs": [
        {
          "output_type": "execute_result",
          "data": {
            "text/plain": [
              "5"
            ]
          },
          "metadata": {
            "tags": []
          },
          "execution_count": 21
        }
      ]
    },
    {
      "cell_type": "code",
      "metadata": {
        "colab": {
          "base_uri": "https://localhost:8080/"
        },
        "id": "gOtxqWbH0tYN",
        "outputId": "19e6b0f0-2610-4408-a30b-160ee47da4d9"
      },
      "source": [
        "# What percentage of text is taken by a specific word\r\n",
        "\r\n",
        "100 * text4.count('a') / len(text4)"
      ],
      "execution_count": null,
      "outputs": [
        {
          "output_type": "execute_result",
          "data": {
            "text/plain": [
              "1.457973123627309"
            ]
          },
          "metadata": {
            "tags": []
          },
          "execution_count": 22
        }
      ]
    },
    {
      "cell_type": "code",
      "metadata": {
        "colab": {
          "base_uri": "https://localhost:8080/"
        },
        "id": "WeV_3xgK1oJi",
        "outputId": "43f218a0-90a6-421b-a2c4-1f330f7b0c43"
      },
      "source": [
        "print(text5.count('lol'))\r\n",
        "print(100 * text5.count('lol') / len(text5))"
      ],
      "execution_count": null,
      "outputs": [
        {
          "output_type": "stream",
          "text": [
            "704\n",
            "1.5640968673628082\n"
          ],
          "name": "stdout"
        }
      ]
    },
    {
      "cell_type": "code",
      "metadata": {
        "id": "GdhHGg6H144z",
        "colab": {
          "base_uri": "https://localhost:8080/"
        },
        "outputId": "e1956560-e2df-45b2-b782-093d936a686c"
      },
      "source": [
        "sent1 # Defined in nltk"
      ],
      "execution_count": 24,
      "outputs": [
        {
          "output_type": "execute_result",
          "data": {
            "text/plain": [
              "['Call', 'me', 'Ishmael', '.']"
            ]
          },
          "metadata": {
            "tags": []
          },
          "execution_count": 24
        }
      ]
    },
    {
      "cell_type": "code",
      "metadata": {
        "colab": {
          "base_uri": "https://localhost:8080/"
        },
        "id": "FZkBagrgLzO7",
        "outputId": "27bcef93-860d-45f9-877c-f59db5c579b0"
      },
      "source": [
        "# Since text is a Python list, we can perform list operations on it\r\n",
        "\r\n",
        "print(text4[173])\r\n",
        "print(text4.index('awaken'))\r\n",
        "print(text6[1600:1625])"
      ],
      "execution_count": 26,
      "outputs": [
        {
          "output_type": "stream",
          "text": [
            "awaken\n",
            "173\n",
            "['We', \"'\", 're', 'an', 'anarcho', '-', 'syndicalist', 'commune', '.', 'We', 'take', 'it', 'in', 'turns', 'to', 'act', 'as', 'a', 'sort', 'of', 'executive', 'officer', 'for', 'the', 'week']\n"
          ],
          "name": "stdout"
        }
      ]
    },
    {
      "cell_type": "markdown",
      "metadata": {
        "id": "aM4z8iVdQuVC"
      },
      "source": [
        "## Language Statistics"
      ]
    },
    {
      "cell_type": "code",
      "metadata": {
        "colab": {
          "base_uri": "https://localhost:8080/"
        },
        "id": "D8guigJuM0PV",
        "outputId": "29aeba70-0791-4b57-c7fa-d7220e2f64f3"
      },
      "source": [
        "# Frequency Distribution\r\n",
        "\r\n",
        "fdist1 = FreqDist(text1)\r\n",
        "print(fdist1)"
      ],
      "execution_count": 29,
      "outputs": [
        {
          "output_type": "stream",
          "text": [
            "<FreqDist with 19317 samples and 260819 outcomes>\n"
          ],
          "name": "stdout"
        }
      ]
    },
    {
      "cell_type": "code",
      "metadata": {
        "colab": {
          "base_uri": "https://localhost:8080/"
        },
        "id": "LHVO35pGSDVs",
        "outputId": "380b28ab-51b8-4c26-c2b0-d6a60d93dbe6"
      },
      "source": [
        "vocabulary1 = fdist1.keys()\r\n",
        "vocabulary1"
      ],
      "execution_count": 32,
      "outputs": [
        {
          "output_type": "execute_result",
          "data": {
            "text/plain": [
              "dict_keys(['[', 'Moby', 'Dick', 'by', 'Herman', 'Melville', '1851', ']', 'ETYMOLOGY', '.', '(', 'Supplied', 'a', 'Late', 'Consumptive', 'Usher', 'to', 'Grammar', 'School', ')', 'The', 'pale', '--', 'threadbare', 'in', 'coat', ',', 'heart', 'body', 'and', 'brain', ';', 'I', 'see', 'him', 'now', 'He', 'was', 'ever', 'dusting', 'his', 'old', 'lexicons', 'grammars', 'with', 'queer', 'handkerchief', 'mockingly', 'embellished', 'all', 'the', 'gay', 'flags', 'of', 'known', 'nations', 'world', 'loved', 'dust', 'it', 'somehow', 'mildly', 'reminded', 'mortality', '\"', 'While', 'you', 'take', 'hand', 'school', 'others', 'teach', 'them', 'what', 'name', 'whale', '-', 'fish', 'is', 'be', 'called', 'our', 'tongue', 'leaving', 'out', 'through', 'ignorance', 'letter', 'H', 'which', 'almost', 'alone', 'maketh', 'signification', 'word', 'deliver', 'that', 'not', 'true', '.\"', 'HACKLUYT', 'WHALE', '...', 'Sw', 'Dan', 'HVAL', 'This', 'animal', 'named', 'from', 'roundness', 'or', 'rolling', 'for', 'HVALT', 'arched', 'vaulted', 'WEBSTER', \"'\", 'S', 'DICTIONARY', 'It', 'more', 'immediately', 'Dut', 'Ger', 'WALLEN', 'A', 'WALW', 'IAN', 'roll', 'wallow', 'RICHARDSON', 'KETOS', 'GREEK', 'CETUS', 'LATIN', 'WHOEL', 'ANGLO', 'SAXON', 'DANISH', 'WAL', 'DUTCH', 'HWAL', 'SWEDISH', 'ICELANDIC', 'ENGLISH', 'BALEINE', 'FRENCH', 'BALLENA', 'SPANISH', 'PEKEE', 'NUEE', 'FEGEE', 'ERROMANGOAN', 'EXTRACTS', 'Sub', 'Librarian', ').', 'will', 'seen', 'this', 'mere', 'painstaking', 'burrower', 'grub', 'worm', 'poor', 'devil', 'appears', 'have', 'gone', 'long', 'Vaticans', 'street', 'stalls', 'earth', 'picking', 'up', 'whatever', 'random', 'allusions', 'whales', 'he', 'could', 'anyways', 'find', 'any', 'book', 'whatsoever', 'sacred', 'profane', 'Therefore', 'must', 'every', 'case', 'at', 'least', 'higgledy', 'piggledy', 'statements', 'however', 'authentic', 'these', 'extracts', 'veritable', 'gospel', 'cetology', 'Far', 'As', 'touching', 'ancient', 'authors', 'generally', 'as', 'well', 'poets', 'here', 'appearing', 'are', 'solely', 'valuable', 'entertaining', 'affording', 'glancing', 'bird', 's', 'eye', 'view', 'has', 'been', 'promiscuously', 'said', 'thought', 'fancied', 'sung', 'Leviathan', 'many', 'generations', 'including', 'own', 'So', 'fare', 'thee', 'whose', 'commentator', 'am', 'Thou', 'belongest', 'hopeless', 'sallow', 'tribe', 'no', 'wine', 'warm', 'whom', 'even', 'Pale', 'Sherry', 'would', 'too', 'rosy', 'strong', 'but', 'one', 'sometimes', 'loves', 'sit', 'feel', 'devilish', 'grow', 'convivial', 'upon', 'tears', 'say', 'bluntly', 'full', 'eyes', 'empty', 'glasses', 'altogether', 'unpleasant', 'sadness', 'Give', 'Subs', '!', 'For', 'how', 'much', 'pains', 'ye', 'please', 'so', 'shall', 'go', 'thankless', 'Would', 'clear', 'Hampton', 'Court', 'Tuileries', 'But', 'gulp', 'down', 'your', 'hie', 'aloft', 'royal', 'mast', 'hearts', 'friends', 'who', 'before', 'clearing', 'seven', 'storied', 'heavens', 'making', 'refugees', 'pampered', 'Gabriel', 'Michael', 'Raphael', 'against', 'coming', 'Here', 'strike', 'splintered', 'together', 'there', 'unsplinterable', 'And', 'God', 'created', 'great', 'GENESIS', 'path', 'shine', 'after', 'One', 'think', 'deep', 'hoary', 'JOB', 'Now', 'Lord', 'had', 'prepared', 'swallow', 'Jonah', 'JONAH', 'There', 'ships', 'thou', 'hast', 'made', 'play', 'therein', 'PSALMS', 'In', 'day', 'sore', 'sword', 'punish', 'piercing', 'serpent', 'crooked', 'slay', 'dragon', 'sea', 'ISAIAH', 'thing', 'soever', 'besides', 'cometh', 'within', 'chaos', 'monster', 'mouth', 'beast', 'boat', 'stone', 'goes', 'incontinently', 'foul', 'perisheth', 'bottomless', 'gulf', 'paunch', 'HOLLAND', 'PLUTARCH', 'MORALS', 'Indian', 'Sea', 'breedeth', 'most', 'biggest', 'fishes', ':', 'among', 'Whales', 'Whirlpooles', 'Balaene', 'length', 'four', 'acres', 'arpens', 'land', 'PLINY', 'Scarcely', 'we', 'proceeded', 'two', 'days', 'on', 'when', 'about', 'sunrise', 'other', 'monsters', 'appeared', 'Among', 'former', 'monstrous', 'size', 'came', 'towards', 'us', 'open', 'mouthed', 'raising', 'waves', 'sides', 'beating', 'into', 'foam', 'TOOKE', 'LUCIAN', 'THE', 'TRUE', 'HISTORY', 'visited', 'country', 'also', 'catching', 'horse', 'bones', 'very', 'value', 'their', 'teeth', 'brought', 'some', 'king', 'best', 'were', 'catched', 'forty', 'eight', 'fifty', 'yards', 'six', 'killed', 'sixty', 'OTHER', 'OR', 'OCTHER', 'VERBAL', 'NARRATIVE', 'TAKEN', 'DOWN', 'FROM', 'HIS', 'MOUTH', 'BY', 'KING', 'ALFRED', 'D', '890', 'whereas', 'things', 'whether', 'vessel', 'enter', 'dreadful', 'lost', 'swallowed', 'gudgeon', 'retires', 'security', 'sleeps', 'MONTAIGNE', 'APOLOGY', 'FOR', 'RAIMOND', 'SEBOND', 'Let', 'fly', 'let', 'Old', 'Nick', 'me', 'if', 'described', 'noble', 'prophet', 'Moses', 'life', 'patient', 'Job', 'RABELAIS', 'liver', 'cartloads', 'STOWE', 'ANNALS', 'seas', 'seethe', 'like', 'boiling', 'pan', 'LORD', 'BACON', 'VERSION', 'OF', 'Touching', 'bulk', 'ork', 'received', 'nothing', 'certain', 'They', 'exceeding', 'fat', 'insomuch', 'an', 'incredible', 'quantity', 'oil', 'extracted', 'IBID', 'LIFE', 'AND', 'DEATH', 'sovereignest', 'parmacetti', 'inward', 'bruise', 'HENRY', 'Very', 'HAMLET', 'Which', 'secure', 'skill', 'leach', 'art', 'Mote', 'availle', 'returne', 'againe', 'To', 'wound', 'worker', 'lowly', 'dart', 'Dinting', 'breast', 'bred', 'restless', 'paine', 'Like', 'wounded', 'shore', 'flies', 'thro', 'maine', 'FAERIE', 'QUEEN', 'Immense', 'motion', 'vast', 'bodies', 'can', 'peaceful', 'calm', 'trouble', 'ocean', 'til', 'boil', 'SIR', 'WILLIAM', 'DAVENANT', 'PREFACE', 'TO', 'GONDIBERT', 'What', 'spermacetti', 'men', 'might', 'justly', 'doubt', 'since', 'learned', 'Hosmannus', 'work', 'thirty', 'years', 'saith', 'plainly', 'Nescio', 'quid', 'T', 'BROWNE', 'SPERMA', 'CETI', 'VIDE', 'V', 'E', 'Spencer', 'Talus', 'modern', 'flail', 'threatens', 'ruin', 'ponderous', 'tail', 'Their', 'fixed', 'jav', 'lins', 'side', 'wears', 'back', 'grove', 'pikes', 'WALLER', 'BATTLE', 'SUMMER', 'ISLANDS', 'By', 'Commonwealth', 'State', '--(', 'Latin', 'Civitas', 'artificial', 'man', 'OPENING', 'SENTENCE', 'HOBBES', 'LEVIATHAN', 'Silly', 'Mansoul', 'without', 'chewing', 'sprat', 'PILGRIM', 'PROGRESS', 'That', 'works', 'Created', 'hugest', 'swim', 'stream', 'PARADISE', 'LOST', '---\"', 'Hugest', 'living', 'creatures', 'Stretched', 'promontory', 'swims', 'seems', 'moving', 'gills', 'Draws', 'breath', 'spouts', 'mighty', 'water', 'swimming', 'FULLLER', 'PROFANE', 'HOLY', 'STATE', 'close', 'behind', 'lie', 'huge', 'attend', 'prey', 'give', 'chance', 'fry', 'gaping', 'jaws', 'mistake', 'way', 'DRYDEN', 'ANNUS', 'MIRABILIS', 'floating', 'stern', 'ship', 'they', 'cut', 'off', 'head', 'tow', 'near', 'come', 'aground', 'twelve', 'thirteen', 'feet', 'THOMAS', 'EDGE', 'TEN', 'VOYAGES', 'SPITZBERGEN', 'IN', 'PURCHAS', 'saw', 'sporting', 'wantonness', 'fuzzing', 'pipes', 'vents', 'nature', 'placed', 'shoulders', 'HERBERT', 'INTO', 'ASIA', 'AFRICA', 'HARRIS', 'COLL', 'such', 'troops', 'forced', 'proceed', 'deal', 'caution', 'fear', 'should', 'run', 'SCHOUTEN', 'SIXTH', 'CIRCUMNAVIGATION', 'We', 'set', 'sail', 'Elbe', 'wind', 'N', 'Jonas', 'Whale', 'Some', 't', 'fable', 'frequently', 'climb', 'masts', 'first', 'discoverer', 'ducat', 'told', 'taken', 'Shetland', 'above', 'barrel', 'herrings', 'belly', 'harpooneers', 'caught', 'once', 'Spitzbergen', 'white', 'over', 'VOYAGE', 'GREENLAND', '1671', 'Several', 'coast', 'Fife', 'Anno', '1652', 'eighty', 'bone', 'kind', 'informed', '),', 'did', 'afford', '500', 'weight', 'baleen', 'stand', 'gate', 'garden', 'Pitferren', 'SIBBALD', 'FIFE', 'KINROSS', 'Myself', 'agreed', 'try', 'master', 'kill', 'Sperma', 'ceti', 'never', 'hear', 'sort', 'fierceness', 'swiftness', 'RICHARD', 'STRAFFORD', 'LETTER', 'BERMUDAS', 'PHIL', 'TRANS', '1668', 'voice', 'obey', 'PRIMER', 'abundance', 'large', 'being', 'those', 'southern', 'may', 'hundred', 'than', 'northward', 'CAPTAIN', 'COWLEY', 'ROUND', 'GLOBE', '1729', '\"...', 'frequendy', 'attended', 'insupportable', 'smell', 'bring', 'disorder', 'ULLOA', 'SOUTH', 'AMERICA', 'chosen', 'sylphs', 'special', 'note', 'trust', 'important', 'charge', 'petticoat', 'Oft', 'fold', 'fence', 'fail', 'Tho', 'stuffed', 'hoops', 'armed', 'ribs', 'RAPE', 'LOCK', 'If', 'compare', 'animals', 'respect', 'magnitude', 'abode', 'appear', 'contemptible', 'comparison', 'doubtless', 'largest', 'creation', 'GOLDSMITH', 'NAT', 'HIST', 'write', 'little', 'make', 'speak', 'wales', 'JOHNSON', 'afternoon', 'supposed', 'rock', 'found', 'dead', 'Asiatics', 'then', 'towing', 'ashore', 'seemed', 'endeavor', 'conceal', 'themselves', 'order', 'avoid', 'COOK', 'larger', 'seldom', 'venture', 'attack', 'dread', 'afraid', 'mention', 'names', 'carry', 'dung', 'lime', 'juniper', 'wood', 'articles', 'same', 'boats', 'terrify', 'prevent', 'approach', 'UNO', 'VON', 'TROIL', 'LETTERS', 'ON', 'BANKS', 'SOLANDER', 'ICELAND', '1772', 'Spermacetti', 'Nantuckois', 'active', 'fierce', 'requires', 'address', 'boldness', 'fishermen', 'JEFFERSON', 'MEMORIAL', 'MINISTER', '1778', 'pray', 'sir', 'equal', '?\"', 'EDMUND', 'BURKE', 'REFERENCE', 'PARLIAMENT', 'NANTUCKET', 'FISHERY', 'Spain', 'stranded', 'shores', 'Europe', 'SOMEWHERE', '.)', 'tenth', 'branch', 'ordinary', 'revenue', 'grounded', 'consideration', 'guarding', 'protecting', 'pirates', 'robbers', 'right', 'sturgeon', 'either', 'thrown', 'property', 'BLACKSTONE', 'Soon', 'sport', 'death', 'crews', 'repair', 'Rodmond', 'unerring', 'o', 'er', 'suspends', 'barbed', 'steel', 'turn', 'attends', 'FALCONER', 'SHIPWRECK', 'Bright', 'shone', 'roofs', 'domes', 'spires', 'rockets', 'blew', 'self', 'driven', 'hang', 'momentary', 'fire', 'Around', 'vault', 'heaven', 'serves', 'high', 'Up', 'spouted', 'air', 'express', 'unwieldy', 'joy', 'COWPER', 'VISIT', 'LONDON', 'Ten', 'fifteen', 'gallons', 'blood', 'stroke', 'immense', 'velocity', 'JOHN', 'HUNTER', 'ACCOUNT', 'DISSECTION', 'SMALL', 'SIZED', 'ONE', 'aorta', 'bore', 'main', 'pipe', 'London', 'Bridge', 'roaring', 'its', 'passage', 'inferior', 'impetus', 'gushing', 'PALEY', 'THEOLOGY', 'mammiferous', 'hind', 'BARON', 'CUVIER', '40', 'degrees', 'south', 'till', 'May', 'covered', 'COLNETT', 'PURPOSE', 'EXTENDING', 'SPERMACETI', 'free', 'element', 'beneath', 'swam', 'Floundered', 'dived', 'chace', 'battle', 'Fishes', 'colour', 'form', 'language', 'cannot', 'paint', 'mariner', 'Had', 'insect', 'millions', 'peopling', 'wave', 'Gather', 'd', 'shoals', 'islands', 'Led', 'mysterious', 'instincts', 'waste', 'trackless', 'region', 'though', 'Assaulted', 'voracious', 'enemies', 'sharks', 'arm', 'front', 'jaw', 'With', 'swords', 'saws', 'spiral', 'horns', 'hooked', 'fangs', 'MONTGOMERY', 'WORLD', 'BEFORE', 'FLOOD', 'Io', 'Paean', 'sing', 'finny', 'people', 'Not', 'mightier', 'Atlantic', 'fatter', 'Flounders', 'round', 'Polar', 'CHARLES', 'LAMB', 'TRIUMPH', 'year', '1690', 'persons', 'hill', 'observing', 'spouting', 'each', 'observed', 'pointing', 'green', 'pasture', 'where', 'children', 'grand', 'bread', 'OBED', 'MACY', 'built', 'cottage', 'Susan', 'myself', 'gateway', 'Gothic', 'Arch', 'setting', 'HAWTHORNE', 'TWICE', 'TOLD', 'TALES', 'She', 'bespeak', 'monument', 'her', 'love', 'Pacific', 'less', 'ago', 'No', 'Sir', 'tis', 'Right', ',\"', 'answered', 'Tom', 'sprout', 'threw', 'pair', 'pretty', 'rainbows', 'Christian', 'wish', 'look', 'raal', 'butt', 'fellow', '!\"', 'COOPER', 'PILOT', 'papers', 'Berlin', 'Gazette', 'introduced', 'stage', 'ECKERMANN', 'CONVERSATIONS', 'WITH', 'GOETHE', 'My', 'Mr', 'Chace', 'matter', 'stove', '--\"', 'SHIP', 'ESSEX', 'WHICH', 'WAS', 'ATTACKED', 'FINALLY', 'DESTROYED', 'LARGE', 'SPERM', 'PACIFIC', 'OCEAN', 'OWEN', 'CHACE', 'FIRST', 'MATE', 'SAID', 'VESSEL', 'NEW', 'YORK', '1821', 'sat', 'shrouds', 'night', 'piping', 'bright', 'dimmed', 'moonlight', 'phospher', 'gleamed', 'wake', 'floundered', 'ELIZABETH', 'OAKES', 'SMITH', 'line', 'withdrawn', 'engaged', 'capture', 'amounted', '10', '440', 'nearly', 'English', 'miles', 'Sometimes', 'shakes', 'tremendous', 'cracking', 'whip', 'resounds', 'distance', 'three', 'SCORESBY', 'Mad', 'agonies', 'endures', 'fresh', 'attacks', 'infuriated', 'Sperm', 'rolls', 'rears', 'enormous', 'wide', 'expanded', 'snaps', 'everything', 'around', 'rushes', 'propelled', 'utterly', 'destroyed', 'astonishment', 'habits', 'interesting', 'commercial', 'point', 'entirely', 'neglected', 'excited', 'curiosity', 'numerous', 'competent', 'observers', 'late', 'possessed', 'abundant', 'convenient', 'opportunities', 'witnessing', 'habitudes', 'BEALE', '1839', 'Cachalot', 'only', 'better', 'True', 'Greenland', 'possessing', 'formidable', 'weapon', 'extremity', 'displays', 'disposition', 'employ', 'weapons', 'offensively', 'manner', 'artful', 'bold', 'mischievous', 'lead', 'regarded', 'dangerous', 'species', 'FREDERICK', 'DEBELL', 'BENNETT', 'WHALING', '1840', 'October', '13', 'she', 'blows', 'Where', 'away', 'demanded', 'captain', 'Three', 'points', 'lee', 'bow', 'Raise', 'wheel', 'Steady', 'Mast', 'ahoy', 'Do', 'Ay', 'ay', 'shoal', 'breaches', 'Sing', 'time', 'THAR', 'bowes', 'bo', 'os', 'How', 'far', 'Two', 'half', 'Thunder', 'lightning', 'Call', 'hands', 'J', 'ROSS', 'ETCHINGS', 'CRUIZE', '1846', 'Globe', 'board', 'occurred', 'horrid', 'transactions', 'relate', 'belonged', 'island', 'Nantucket', 'LAY', 'HUSSEY', 'SURVIVORS', '1828', 'Being', 'pursued', 'parried', 'assault', 'lance', 'furious', 'rushed', 'himself', 'comrades', 'preserved', 'leaping', 'onset', 'inevitable', 'MISSIONARY', 'JOURNAL', 'TYERMAN', 'itself', 'Webster', 'striking', 'peculiar', 'portion', 'National', 'interest', 'population', 'nine', 'thousand', 'adding', 'largely', 'wealth', 'boldest', 'persevering', 'industry', 'REPORT', 'DANIEL', 'SPEECH', 'U', 'SENATE', 'APPLICATION', 'ERECTION', 'BREAKWATER', 'AT', 'fell', 'directly', 'probably', 'moment', 'CAPTORS', 'WHALEMAN', 'ADVENTURES', 'BIOGRAPHY', 'GATHERED', 'HOMEWARD', 'CRUISE', 'COMMODORE', 'PREBLE', 'REV', 'CHEEVER', 'damn', 'bit', 'noise', 'replied', 'Samuel', 'send', 'hell', 'SAMUEL', 'COMSTOCK', 'MUTINEER', 'BROTHER', 'ANOTHER', 'voyages', 'Dutch', 'Northern', 'Ocean', 'possible', 'discover', 'India', 'failed', 'object', 'laid', 'haunts', 'MCCULLOCH', 'COMMERCIAL', 'These', 'reciprocal', 'ball', 'rebounds', 'bound', 'forward', 'again', 'laying', 'whalemen', 'seem', 'indirectly', 'hit', 'new', 'clews', 'mystic', 'North', 'West', 'Passage', 'SOMETHING', 'UNPUBLISHED', 'impossible', 'meet', 'struck', 'appearance', 'under', 'short', 'outs', 'heads', 'eagerly', 'scanning', 'expanse', 'totally', 'different', 'regular', 'voyage', 'CURRENTS', 'EX', 'Pedestrians', 'vicinity', 'elsewhere', 'recollect', 'having', 'curved', 'upright', 'arches', 'gateways', 'entrances', 'alcoves', 'perhaps', 'VOYAGER', 'ARCTIC', 'returned', 'pursuit', 'whites', 'bloody', 'possession', 'savages', 'enrolled', 'crew', 'NEWSPAPER', 'TAKING', 'RETAKING', 'HOBOMACK', 'Whaling', 'vessels', 'American', 'few', 'return', 'departed', 'BOAT', 'Suddenly', 'mass', 'emerged', 'shot', 'perpendicularly', 'while', 'MIRIAM', 'COFFIN', 'FISHERMAN', 'harpooned', 'sure', 'bethink', 'manage', 'powerful', 'unbroken', 'colt', 'appliance', 'rope', 'tied', 'root', 'CHAPTER', 'RIBS', 'TRUCKS', 'On', 'occasion', 'male', 'female', 'slowly', 'throw', 'Terra', 'Del', 'Fuego', 'beech', 'tree', 'extended', 'branches', 'DARWIN', 'NATURALIST', '\"\\'', 'Stern', \"!'\", 'exclaimed', 'mate', 'turning', 'distended', 'threatening', 'instant', 'destruction', \";--'\", 'lives', '!\\'\"', 'WHARTON', 'KILLER', 'cheery', 'my', 'lads', 'harpooneer', 'SONG', 'Oh', 'rare', 'mid', 'storm', 'gale', 'home', 'giant', 'King', 'boundless', '1', 'Loomings', 'Ishmael', 'mind', 'precisely', 'money', 'purse', 'particular', 'watery', 'part', 'driving', 'spleen', 'regulating', 'circulation', 'Whenever', 'growing', 'grim', 'whenever', 'damp', 'drizzly', 'November', 'soul', 'involuntarily', 'pausing', 'coffin', 'warehouses', 'bringing', 'rear', 'funeral', 'especially', 'hypos', 'get', 'upper', 'moral', 'principle', 'deliberately', 'stepping', 'methodically', 'knocking', 'hats', 'account', 'soon', 'substitute', 'pistol', 'philosophical', 'flourish', 'Cato', 'throws', 'quietly', 'surprising', 'knew', 'degree', 'cherish', 'feelings', 'insular', 'city', 'Manhattoes', 'belted', 'wharves', 'isles', 'coral', 'reefs', 'commerce', 'surrounds', 'surf', 'left', 'streets', 'waterward', 'Its', 'extreme', 'downtown', 'battery', 'mole', 'washed', 'cooled', 'breezes', 'hours', 'previous', 'sight', 'Look', 'crowds', 'gazers', 'Circumambulate', 'dreamy', 'Sabbath', 'Go', 'Corlears', 'Hook', 'Coenties', 'Slip', 'thence', 'Whitehall', 'do', '?--', 'Posted', 'silent', 'sentinels', 'town', 'thousands', 'mortal', 'reveries', 'leaning', 'spiles', 'seated', 'pier', 'looking', 'bulwarks', 'China', 'rigging', 'striving', 'still', 'seaward', 'peep', 'landsmen', 'week', 'pent', 'lath', 'plaster', 'counters', 'nailed', 'benches', 'clinched', 'desks', '?', 'Are', 'fields', 'pacing', 'straight', 'seemingly', 'dive', 'Strange', 'Nothing', 'content', 'extremest', 'limit', 'loitering', 'shady', 'yonder', 'suffice', 'just', 'nigh', 'possibly', 'falling', 'leagues', 'Inlanders', 'lanes', 'alleys', 'avenues', 'north', 'east', 'west', 'Yet', 'unite', 'Tell', 'does', 'magnetic', 'virtue', 'needles', 'compasses', 'attract', 'thither', 'Once', 'Say', 'lakes', 'Take', 'ten', 'carries', 'dale', 'leaves', 'pool', 'magic', 'absent', 'minded', 'plunged', 'deepest', 'legs', 'going', 'infallibly', 'Should', 'athirst', 'desert', 'experiment', 'caravan', 'happen', 'supplied', 'metaphysical', 'professor', 'Yes', 'knows', 'meditation', 'wedded', 'artist', 'desires', 'dreamiest', 'shadiest', 'quietest', 'enchanting', 'romantic', 'landscape', 'valley', 'Saco', 'chief', 'employs', 'trees', 'hollow', 'trunk', 'hermit', 'crucifix', 'meadow', 'sleep', 'cattle', 'sleepy', 'smoke', 'Deep', 'distant', 'woodlands', 'winds', 'mazy', 'reaching', 'overlapping', 'spurs', 'mountains', 'bathed', 'blue', 'picture', 'lies', 'thus', 'tranced', 'pine', 'sighs', 'shepherd', 'yet', 'vain', 'unless', 'visit', 'Prairies', 'June', 'scores', 'wade', 'knee', 'Tiger', 'lilies', 'charm', 'wanting', 'Water', 'drop', 'Were', 'Niagara', 'cataract', 'sand', 'travel', 'Why', 'poet', 'Tennessee', 'suddenly', 'receiving', 'handfuls', 'silver', 'deliberate', 'buy', 'sadly', 'needed', 'invest', 'pedestrian', 'trip', 'Rockaway', 'Beach', 'robust', 'healthy', 'boy', 'crazy', 'passenger', 'yourself', 'mystical', 'vibration', 'Persians', 'hold', 'holy', 'Greeks', 'separate', 'deity', 'brother', 'Jove', 'Surely', 'meaning', 'deeper', 'story', 'Narcissus', 'because', 'grasp', 'tormenting', 'mild', 'image', 'fountain', 'drowned', 'ourselves', 'rivers', 'oceans', 'ungraspable', 'phantom', 'key', 'habit', 'begin', 'hazy', 'conscious', 'lungs', 'mean', 'inferred', 'needs', 'rag', 'something', 'Besides', 'passengers', 'sick', 'quarrelsome', 'don', 'nights', 'enjoy', 'general', ';--', 'nor', 'salt', 'Commodore', 'Captain', 'Cook', 'abandon', 'glory', 'distinction', 'offices', 'abominate', 'honourable', 'respectable', 'toils', 'trials', 'tribulations', 'quite', 'care', 'taking', 'barques', 'brigs', 'schooners', 'cook', ',--', 'confess', 'considerable', 'officer', 'broiling', 'fowls', 'broiled', 'judiciously', 'buttered', 'judgmatically', 'salted', 'peppered', 'respectfully', 'reverentially', 'fowl', 'idolatrous', 'dotings', 'Egyptians', 'ibis', 'roasted', 'river', 'mummies', 'bake', 'houses', 'pyramids', 'simple', 'sailor', 'plumb', 'forecastle', 'rather', 'jump', 'spar', 'grasshopper', 'enough', 'touches', 'sense', 'honour', 'particularly', 'established', 'family', 'Van', 'Rensselaers', 'Randolphs', 'Hardicanutes', 'putting', 'tar', 'pot', 'lording', 'schoolmaster', 'tallest', 'boys', 'awe', 'transition', 'keen', 'assure', 'decoction', 'Seneca', 'Stoics', 'enable', 'grin', 'bear', 'hunks', 'orders', 'broom', 'sweep', 'decks', 'indignity', 'amount', 'weighed', 'scales', 'New', 'Testament', 'archangel', 'thinks', 'anything', 'promptly', 'instance', 'Who', 'ain', 'slave', 'Well', 'captains', 'thump', 'punch', 'satisfaction', 'knowing', 'everybody', 'else', 'served', 'physical', 'universal', 'passed', 'rub', 'shoulder', 'blades', 'Again', 'always', 'paying', 'pay', 'single', 'penny', 'heard', 'contrary', 'difference', 'between', 'paid', 'act', 'uncomfortable', 'infliction', 'orchard', 'thieves', 'entailed', 'BEING', 'PAID', 'urbane', 'activity', 'receives', 'really', 'marvellous', 'considering', 'earnestly', 'believe', 'earthly', 'ills', 'monied', 'Ah', 'cheerfully', 'consign', 'perdition', 'Finally', 'wholesome', 'exercise', 'pure', 'fore', 'castle', 'deck', 'prevalent', 'astern', 'violate', 'Pythagorean', 'maxim', 'quarter', 'gets', 'atmosphere', 'second', 'sailors', 'breathes', 'commonalty', 'leaders', 'suspect', 'wherefore', 'repeatedly', 'smelt', 'merchant', 'whaling', 'invisible', 'police', 'Fates', 'constant', 'surveillance', 'secretly', 'dogs', 'influences', 'unaccountable', 'answer', 'formed', 'programme', 'Providence', 'drawn', 'brief', 'interlude', 'solo', 'extensive', 'performances', 'bill', 'GRAND', 'CONTESTED', 'ELECTION', 'PRESIDENCY', 'UNITED', 'STATES', 'ISHMAEL', 'BLOODY', 'AFFGHANISTAN', 'Though', 'tell', 'why', 'exactly', 'managers', 'put', 'shabby', 'magnificent', 'parts', 'tragedies', 'easy', 'genteel', 'comedies', 'jolly', 'farces', 'recall', 'circumstances', 'springs', 'motives', 'cunningly', 'presented', 'various', 'disguises', 'induced', 'performing', 'cajoling', 'delusion', 'choice', 'resulting', 'unbiased', 'freewill', 'discriminating', 'judgment', 'Chief', 'overwhelming', 'idea', 'Such', 'portentous', 'roused', 'Then', 'wild', 'rolled', 'undeliverable', 'nameless', 'perils', 'attending', 'marvels', 'Patagonian', 'sights', 'sounds', 'helped', 'sway', 'inducements', 'tormented', 'everlasting', 'itch', 'remote', 'forbidden', 'barbarous', 'coasts', 'ignoring', 'good', 'quick', 'perceive', 'horror', 'social', 'friendly', 'terms', 'inmates', 'place', 'lodges', 'reason', 'welcome', 'flood', 'gates', 'wonder', 'swung', 'conceits', 'swayed', 'purpose', 'floated', 'inmost', 'endless', 'processions', 'hooded', 'snow', '2', 'Carpet', 'Bag', 'shirt', 'carpet', 'bag', 'tucked', 'started', 'Cape', 'Horn', 'Quitting', 'Manhatto', 'duly', 'arrived', 'Bedford', 'Saturday', 'December', 'Much', 'disappointed', 'learning', 'packet', 'already', 'sailed', 'offer', 'following', 'Monday', 'young', 'candidates', 'penalties', 'stop', 'embark', 'related', 'doing', 'craft', 'fine', 'boisterous', 'connected', 'famous', 'amazingly', 'pleased', 'gradually', 'monopolising', 'business', 'original', 'Tyre', 'Carthage', 'aboriginal', 'Red', 'Men', 'sally', 'canoes', 'chase', 'adventurous', 'sloop', 'forth', 'partly', 'laden', 'imported', 'cobblestones', 'risk', 'harpoon', 'bowsprit', 'another', 'ere', 'destined', 'port', 'became', 'concernment', 'eat', 'meanwhile', 'dubious', 'nay', 'dark', 'dismal', 'bitingly', 'cold', 'cheerless', 'anxious', 'grapnels', 'sounded', 'pocket', 'pieces', 'wherever', 'stood', 'middle', 'dreary', 'shouldering', 'comparing', 'gloom', 'darkness', 'wisdom', 'conclude', 'lodge', 'dear', 'inquire', 'price', 'halting', 'steps', 'paced', 'sign', 'Crossed', 'Harpoons', '\"--', 'looked', 'expensive', 'Further', 'red', 'windows', 'Sword', 'Fish', 'Inn', 'fervent', 'rays', 'melted', 'packed', 'ice', 'house', 'everywhere', 'congealed', 'frost', 'lay', 'inches', 'thick', 'hard', 'asphaltic', 'pavement', 'weary', 'foot', 'flinty', 'projections', 'remorseless', 'service', 'soles', 'boots', 'miserable', 'plight', 'Too', 'watch', 'broad', 'glare', 'tinkling', 'last', 'door', 'patched', 'stopping', 'went', 'instinct', 'followed', 'took', 'cheapest', 'cheeriest', 'inns', 'blocks', 'blackness', 'candle', 'tomb', 'At', 'hour', 'proved', 'deserted', 'presently', 'smoky', 'light', 'proceeding', 'low', 'building', 'invitingly', 'careless', 'meant', 'uses', 'public', 'entering', 'stumble', 'ash', 'box', 'porch', 'Ha', 'ha', 'flying', 'particles', 'choked', 'ashes', 'Gomorrah', '?\"--', 'Trap', 'However', 'picked', 'hearing', 'loud', 'pushed', 'opened', 'interior', 'Black', 'Parliament', 'sitting', 'Tophet', 'black', 'faces', 'turned', 'rows', 'peer', 'beyond', 'Angel', 'Doom', 'pulpit', 'negro', 'church', 'preacher', 'text', 'weeping', 'wailing', 'gnashing', 'muttered', 'backing', 'Wretched', 'entertainment', 'Moving', 'dim', 'docks', 'forlorn', 'creaking', 'swinging', 'painting', 'faintly', 'representing', 'tall', 'jet', 'misty', 'spray', 'words', 'underneath', 'Spouter', ':--', 'Peter', 'Coffin', 'Rather', 'ominous', 'connexion', 'common', 'suppose', 'emigrant', 'quiet', 'dilapidated', 'wooden', 'carted', 'ruins', 'burnt', 'district', 'poverty', 'stricken', 'creak', 'spot', 'cheap', 'lodgings', 'pea', 'coffee', 'gable', 'ended', 'palsied', 'sharp', 'bleak', 'corner', 'tempestuous', 'Euroclydon', 'kept', 'worse', 'howling', 'Paul', 'tossed', 'nevertheless', 'pleasant', 'zephyr', 'doors', 'hob', 'toasting', 'bed', 'judging', 'says', 'writer', 'possess', 'copy', 'extant', 'lookest', 'glass', 'window', 'outside', 'observest', 'sashless', 'both', 'wight', 'Death', 'glazier', 'reasonest', 'mine', 'pity', 'didn', 'chinks', 'crannies', 'thrust', 'lint', 'improvements', 'universe', 'finished', 'copestone', 'chips', 'million', 'Poor', 'Lazarus', 'chattering', 'curbstone', 'pillow', 'shaking', 'tatters', 'shiverings', 'plug', 'ears', 'rags', 'corn', 'cob', 'keep', 'Dives', 'silken', 'wrapper', 'redder', 'afterwards', 'pooh', 'frosty', 'Orion', 'glitters', 'northern', 'lights', 'talk', 'oriental', 'summer', 'climes', 'conservatories', 'privilege', 'coals', 'Can', 'holding', 'Sumatra', 'lengthwise', 'along', 'equator', 'yea', 'gods', 'fiery', 'pit', 'wonderful', 'iceberg', 'moored', 'Moluccas', 'Czar', 'palace', 'frozen', 'president', 'temperance', 'society', 'drinks', 'tepid', 'orphans', 'blubbering', 'plenty', 'scrape', 'frosted', '3', 'Entering', 'straggling', 'entry', 'fashioned', 'wainscots', 'reminding', 'condemned', 'hung', 'oilpainting', 'thoroughly', 'besmoked', 'defaced', 'unequal', 'crosslights', 'viewed', 'diligent', 'study', 'series', 'systematic', 'visits', 'careful', 'inquiry', 'neighbors', 'arrive', 'understanding', 'masses', 'shades', 'shadows', 'ambitious', 'England', 'hags', 'endeavored', 'delineate', 'bewitched', 'dint', 'earnest', 'contemplation', 'oft', 'repeated', 'ponderings', 'throwing', 'conclusion', 'unwarranted', 'puzzled', 'confounded', 'limber', 'hovering', 'centre', 'perpendicular', 'lines', 'yeast', 'boggy', 'soggy', 'squitchy', 'truly', 'drive', 'nervous', 'distracted', 'indefinite', 'attained', 'unimaginable', 'sublimity', 'fairly', 'froze', 'oath', 'Ever', 'anon', 'alas', 'deceptive', '.--', 'midnight', 'unnatural', 'combat', 'primal', 'elements', 'blasted', 'heath', 'Hyperborean', 'winter', 'scene', 'breaking', 'icebound', 'Time', 'fancies', 'yielded', 'midst', 'THAT', 'rest', 'plain', 'faint', 'resemblance', 'gigantic', 'leviathan', 'fact', 'design', 'final', 'theory', 'based', 'aggregated', 'opinions', 'aged', 'conversed', 'subject', 'represents', 'Horner', 'hurricane', 'foundered', 'weltering', 'dismantled', 'visible', 'exasperated', 'purposing', 'spring', 'clean', 'impaling', 'opposite', 'wall', 'heathenish', 'array', 'clubs', 'spears', 'thickly', 'glittering', 'resembling', 'ivory', 'tufted', 'knots', 'human', 'hair', 'sickle', 'shaped', 'handle', 'sweeping', 'segment', 'mown', 'grass', 'mower', 'You', 'shuddered', 'gazed', 'wondered', 'cannibal', 'savage', 'harvesting', 'hacking', 'horrifying', 'implement', 'Mixed', 'rusty', 'lances', 'harpoons', 'broken', 'deformed', 'wildly', 'elbowed', 'Nathan', 'Swain', 'sunset', 'corkscrew', 'flung', 'Javan', 'slain', 'Blanco', 'iron', 'entered', 'needle', 'sojourning', 'travelled', 'imbedded', 'hump', 'Crossing', 'dusky', 'yon', 'times', 'central', 'chimney', 'fireplaces', 'room', 'duskier', 'beams', 'wrinkled', 'planks', 'fancy', 'trod', 'cockpits', 'anchored', 'ark', 'rocked', 'furiously', 'shelf', 'table', 'cracked', 'cases', 'filled', 'dusty', 'rarities', 'gathered', 'remotest', 'nooks', 'Projecting', 'further', 'angle', 'stands', 'den', 'bar', 'rude', 'attempt', 'Be', 'coach', 'Within', 'shelves', 'ranged', 'decanters', 'bottles', 'flasks', 'swift', 'cursed', 'indeed', 'bustles', 'withered', 'dearly', 'sells', 'deliriums', 'Abominable', 'tumblers', 'pours', 'poison', 'cylinders', 'villanous', 'goggling', 'deceitfully', 'tapered', 'downwards', 'cheating', 'bottom', 'Parallel', 'meridians', 'rudely', 'pecked', 'surround', 'footpads', 'goblets', 'Fill', 'THIS', 'mark', 'measure', 'shilling', 'Upon', 'number', 'seamen', 'examining', 'divers', 'specimens', 'SKRIMSHANDER', 'sought', 'landlord', 'telling', 'desired', 'accommodated', 'unoccupied', 'avast', 'added', 'tapping', 'forehead', 'haint', 'objections', 'sharing', 'blanket', 'pose', 'goin', 'whalin', \"',\", 'used', 'liked', 'depend', 'decidedly', 'objectionable', 'wander', 'strange', 'bitter', 'decent', 'All', 'seat', 'Supper', 'want', 'supper', 'll', 'ready', 'settle', 'carved', 'bench', 'Battery', 'end', 'ruminating', 'adorning', 'jack', 'knife', 'stooping', 'diligently', 'working', 'space', 'trying', 'headway', 'five', 'summoned', 'meal', 'adjoining', 'Iceland', 'couldn', 'tallow', 'candles', 'winding', 'sheet', 'fain', 'button', 'monkey', 'jackets', 'lips', 'cups', 'scalding', 'tea', 'fingers', 'substantial', 'meat', 'potatoes', 'dumplings', 'addressed', 'direful', 'nightmare', 'sartainty', 'Landlord', 'whispered', 'aint', 'diabolically', 'funny', 'complexioned', 'chap', 'eats', 'steaks', 'likes', 'em', 'Is', 'afore', 'help', 'began', 'suspicious', 'rate', 'undress', 'company', 'resolved', 'spend', 'evening', 'looker', 'Presently', 'rioting', 'Starting', 'cried', 'Grampus', 'seed', 'reported', 'offing', 'morning', 'Hurrah', 'latest', 'news', 'Feegees', 'tramping', 'mariners', 'Enveloped', 'shaggy', 'coats', 'muffled', 'woollen', 'comforters', 'bedarned', 'ragged', 'beards', 'stiff', 'icicles', 'eruption', 'bears', 'Labrador', 'landed', 'officiating', 'poured', 'brimmers', 'complained', 'bad', 'mixed', 'pitch', 'potion', 'gin', 'molasses', 'swore', 'sovereign', 'cure', 'colds', 'catarrhs', 'standing', 'weather', 'liquor', 'mounted', 'arrantest', 'topers', 'newly', 'capering', 'obstreperously', 'held', 'somewhat', 'aloof', 'desirous', 'spoil', 'hilarity', 'shipmates', 'sober', 'face', 'whole', 'refrained', 'interested', 'ordained', 'become', 'shipmate', 'sleeping', 'partner', 'narrative', 'concerned', 'description', 'height', 'chest', 'coffer', 'dam', 'brawn', 'His', 'deeply', 'brown', 'dazzling', 'contrast', 'reminiscences', 'announced', 'Southerner', 'stature', 'mountaineers', 'Alleghanian', 'Ridge', 'Virginia', 'When', 'revelry', 'companions', 'slipped', 'unobserved', 'comrade', 'minutes', 'missed', 'favourite', 'raised', 'cry', 'Bulkington', 'darted', 'clock', 'seeming', 'supernaturally', 'orgies', 'congratulate', 'plan', 'entrance', 'prefers', 'know', 'private', 'comes', 'unknown', 'stranger', 'inn', 'indefinitely', 'multiply', 'Nor', 'anybody', 'bachelor', 'Kings', 'apartment', 'hammock', 'cover', 'skin', 'pondered', 'abominated', 'fair', 'presume', 'linen', 'tidiest', 'certainly', 'none', 'finest', 'twitch', 'getting', 'ought', 'bedwards', 'Suppose', 'tumble', 'vile', 'hole', 've', 'changed', 'shan', 'Just', 'm', 'sorry', 'cant', 'spare', 'tablecloth', 'mattress', 'plaguy', 'rough', 'feeling', 'notches', 'wait', 'Skrimshander', 'got', 'carpenter', 'plane', 'snug', 'saying', 'procured', 'silk', 'vigorously', 'planing', 'grinning', 'ape', 'shavings', 'flew', 'bump', 'indestructible', 'knot', 'spraining', 'wrist', 'sake', 'quit', 'soft', 'suit', 'eider', 'plank', 'gathering', 'mended', 'chair', 'narrow', 'higher', 'planed', 'yoking', 'interval', 'draught', 'sill', 'current', 'rickety', 'met', 'small', 'whirlwinds', 'immediate', 'fetch', 'steal', 'march', 'bolt', 'inside', 'wakened', 'violent', 'knockings', 'thoughts', 'dismissed', 'next', 'popped', 'knock', 'Still', 'seeing', 'spending', 'sufferable', 'person', 'cherishing', 'unwarrantable', 'prejudices', 'Thinks', 'awhile', 'dropping', 'bedfellows', 'boarders', 'ones', 'twos', 'threes', 'chuckled', 'lean', 'chuckle', 'mightily', 'tickled', 'comprehension', 'early', 'airley', 'rise', 'yes', 'catches', 'peddling', 'airth', 'keeps', 'sell', 'bamboozingly', 'towering', 'rage', 'pretend', 'actually', 'blessed', 'Sunday', 'market', 'overstocked', 'shouted', 'calmly', 'spinning', 'yarn', 'stick', 'whittling', 'toothpick', 'rayther', 'guess', 'done', 'BROWN', 'hears', 'slanderin', 'break', 'passion', 'farrago', 'broke', 'Broke', 'BROKE', 'Sartain', 'cool', 'Mt', 'Hecla', 'understand', 'delay', 'belongs', 'persist', 'mystifying', 'exasperating', 'stories', 'tending', 'beget', 'bedfellow', 'intimate', 'confidential', 'highest', 'demand', 'respects', 'safe', 'unsay', 'selling', 'evidence', 'stark', 'mad', 'madman', 'YOU', 'induce', 'knowingly', 'thereby', 'render', 'liable', 'criminal', 'prosecution', 'Wall', 'fetching', 'purty', 'sarmon', 'rips', 'tellin', 'bought', 'lot', 'balmed', 'Zealand', 'curios', 'sold', 'cause', 'morrow', 'sellin', 'folks', 'churches', 'wanted', 'stopped', 'strung', 'string', 'inions', 'cleared', 'otherwise', 'mystery', 'showed', 'fooling', 'stayed', 'idolators', 'Depend', 'pays', 'reg', 'lar', 'rejoinder', 'flukes', 'nice', 'Sal', 'slept', 'spliced', 'kick', 'almighty', 'big', 'Sam', 'Johnny', 'dreaming', 'sprawling', 'pitched', 'floor', 'Arter', 'wouldn', 'Come', 'glim', 'jiffy', ';\"', 'lighted', 'offering', 'irresolute', 'vum', 'won', 'anchor', 'somewhere', 'DO', 'WON', 'considered', 'stairs', 'ushered', 'clam', 'furnished', 'prodigious', 'abreast', 'placing', 'double', 'duty', 'wash', 'comfortable', 'eyeing', 'disappeared', 'Folding', 'counterpane', 'stooped', 'elegant', 'scrutiny', 'tolerably', 'glanced', 'bedstead', 'furniture', 'belonging', 'walls', 'papered', 'fireboard', 'Of', 'properly', 'lashed', 'seaman', 'containing', 'wardrobe', 'lieu', 'Likewise', 'parcel', 'outlandish', 'hooks', 'felt', 'tried', 'satisfactory', 'concerning', 'mat', 'ornamented', 'edges', 'tags', 'stained', 'porcupine', 'quills', 'moccasin', 'slit', 'South', 'ponchos', 'parade', 'guise', 'hamper', 'uncommonly', 'wearing', 'rainy', 'stuck', 'tore', 'hurry', 'gave', 'kink', 'neck', 'commenced', 'thinking', 'After', 'jacket', 'sleeves', 'beginning', 'undressed', 'remembering', 'ado', 'jumped', 'pantaloons', 'blowing', 'tumbled', 'commended', 'Whether', 'cobs', 'crockery', 'slid', 'doze', 'Nod', 'heavy', 'footfall', 'glimmer', 'save', 'infernal', 'peddler', 'perfectly', 'spoken', 'Holding', 'identical', 'knotted', 'cords', 'spoke', 'eagerness', 'averted', 'employed', 'unlacing', 'accomplished', 'purplish', 'yellow', 'blackish', 'squares', 'terrible', 'fight', 'dreadfully', 'surgeon', 'chanced', 'sticking', 'plasters', 'cheeks', 'stains', 'inkling', 'truth', 'remembered', 'whaleman', 'cannibals', 'tattooed', 'concluded', 'course', 'similar', 'adventure', 'honest', 'unearthly', 'complexion', 'lying', 'completely', 'independent', 'tattooing', 'tropical', 'tanning', 'hot', 'sun', 'Seas', 'produced', 'extraordinary', 'effects', 'ideas', 'passing', 'noticed', 'difficulty', 'fumbling', 'pulled', 'tomahawk', 'seal', 'wallet', 'Placing', 'ghastly', 'crammed', 'hat', 'beaver', 'singing', 'surprise', 'scalp', 'twisted', 'bald', 'mildewed', 'skull', 'bolted', 'quicker', 'dinner', 'Even', 'slipping', 'coward', 'purple', 'rascal', 'Ignorance', 'parent', 'nonplussed', 'game', 'inexplicable', 'Meanwhile', 'continued', 'undressing', 'arms', 'live', 'checkered', 'Thirty', 'Years', 'War', 'escaped', 'marked', 'frogs', 'running', 'trunks', 'palms', 'abominable', 'shipped', 'aboard', 'quaked', 'brothers', 'shuddering', 'fascinated', 'attention', 'convinced', 'heathen', 'Going', 'grego', 'wrapall', 'dreadnaught', 'previously', 'fumbled', 'pockets', 'curious', 'hunch', 'Congo', 'baby', 'Remembering', 'embalmed', 'manikin', 'real', 'glistened', 'polished', 'ebony', 'idol', 'removing', 'sets', 'backed', 'tenpin', 'andirons', 'jambs', 'bricks', 'sooty', 'appropriate', 'shrine', 'chapel', 'screwed', 'hidden', 'ill', 'ease', 'meantime', 'follow', 'First', 'takes', 'handful', 'places', 'carefully', 'biscuit', 'top', 'applying', 'flame', 'lamp', 'kindled', 'sacrificial', 'blaze', 'hasty', 'snatches', 'hastier', 'withdrawals', 'whereby', 'scorching', 'badly', 'succeeded', 'drawing', 'heat', 'polite', 'dry', 'moved', 'antics', 'accompanied', 'guttural', 'noises', 'devotee', 'praying', 'song', 'pagan', 'psalmody', 'during', 'twitched', 'extinguishing', 'unceremoniously', 'bagged', 'carelessly', 'sportsman', 'bagging', 'woodcock', 'proceedings', 'increased', 'uncomfortableness', 'exhibiting', 'symptoms', 'concluding', 'operations', 'jumping', 'spell', 'spent', 'deliberating', 'fatal', 'Taking', 'examined', 'puffed', 'clouds', 'tobacco', 'extinguished', 'sprang', 'sang', 'giving', 'sudden', 'grunt', 'Stammering', 'conjured', 'whoever', 'responses', 'satisfied', 'comprehended', 'e', 'debel', 'flourishing', 'Watch', 'Angels', 'Speak', 'ee', 'growled', 'flourishings', 'scattered', 'thank', 'ran', 'Don', 'Queequeg', 'harm', 'Stop', 'peddlin', 'sabbee', 'sleepe', 'Me', 'grunted', 'puffing', 'gettee', 'motioning', 'clothes', 'civil', 'charitable', 'tattooings', 'comely', 'fuss', 'Better', 'drunken', 'stash', 'call', 'smoking', 'insured', 'complied', 'politely', 'motioned', 'touch', 'leg', 'Good', '4', 'Counterpane', 'waking', 'daylight', 'loving', 'affectionate', 'wife', 'patchwork', 'odd', 'parti', 'coloured', 'triangles', 'interminable', 'Cretan', 'labyrinth', 'figure', 'precise', 'shade', 'owing', 'keeping', 'unmethodically', 'irregularly', 'strip', 'quilt', 'Indeed', 'awoke', 'hardly', 'blended', 'hues', 'pressure', 'hugging', 'sensations', 'explain', 'child', 'remember', 'circumstance', 'befell', 'reality', 'dream', 'cutting', 'caper', 'crawl', 'stepmother', 'whipping', 'sending', 'supperless', 'mother', 'dragged', '21st', 'longest', 'hemisphere', 'third', 'sigh', 'sheets', 'dismally', 'calculating', 'sixteen', 'entire', 'elapse', 'hope', 'resurrection', 'Sixteen', 'ached', 'shining', 'rattling', 'coaches', 'sound', 'voices', 'dressed', 'softly', 'stockinged', 'beseeching', 'favour', 'slippering', 'misbehaviour', 'condemning', 'abed', 'unendurable', 'conscientious', 'stepmothers', 'several', 'awake', 'greatest', 'subsequent', 'misfortunes', 'fallen', 'troubled', 'steeped', 'dreams', 'lit', 'wrapped', 'outer', 'Instantly', 'shock', 'frame', 'supernatural', 'closely', 'ages', 'piled', 'awful', 'fears', 'daring', 'drag', 'stir', 'inch', 'consciousness', 'glided', 'shudderingly', 'weeks', 'months', 'confounding', 'attempts', 'Nay', 'often', 'puzzle', 'strangeness', 'experienced', 'past', 'events', 'soberly', 'recurred', 'alive', 'comical', 'predicament', 'move', 'unlock', 'bridegroom', 'clasp', 'hugged', 'tightly', 'naught', 'twain', 'strove', 'rouse', '!\"--', 'snore', 'collar', 'slight', 'scratch', 'Throwing', 'aside', 'hatchet', 'faced', 'pickle', '!--', 'goodness', 'wriggling', 'incessant', 'expostulations', 'unbecomingness', 'matrimonial', 'style', 'extracting', 'drew', 'shook', 'Newfoundland', 'dog', 'pike', 'staff', 'rubbing', 'dawning', 'serious', 'misgivings', 'bent', 'narrowly', 'creature', 'character', 'reconciled', 'signs', 'dress', 'leave', 'civilized', 'overture', 'innate', 'delicacy', 'essentially', 'compliment', 'treated', 'civility', 'guilty', 'rudeness', 'staring', 'watching', 'toilette', 'motions', 'breeding', 'Nevertheless', 'ways', 'worth', 'unusual', 'regarding', 'dressing', 'donning', 'minus', 'trowsers', 'hunted', 'movement', 'crush', 'sundry', 'gaspings', 'strainings', 'booting', 'law', 'propriety', 'required', 'neither', 'caterpillar', 'butterfly', 'show', 'outlandishness', 'strangest', 'manners', 'education', 'completed', 'undergraduate', 'dreamt', 'dented', 'crushed', 'limping', 'accustomed', 'cowhide', 'pinched', 'Seeing', 'curtains', 'commanded', 'indecorous', 'staving', 'begged', 'accelerate', 'toilet', 'amazement', 'contented', 'restricting', 'ablutions', 'donned', 'waistcoat', 'piece', 'soap', 'dipped', 'lathering', 'razor', 'lo', 'behold', 'slips', 'stock', 'unsheathes', 'whets', 'boot', 'striding', 'mirror', 'begins', 'vigorous', 'scraping', 'harpooning', 'using', 'Rogers', 'cutlery', 'vengeance', 'Afterwards', 'operation', 'exceedingly', 'achieved', 'proudly', 'marched', 'pilot', 'marshal', 'baton', '5', 'Breakfast', 'quickly', 'descending', 'accosted', 'pleasantly', 'cherished', 'malice', 'skylarking', 'laugh', 'scarce', 'proper', 'stuff', 'joke', 'backward', 'allow', 'bountifully', 'laughable', 'mates', 'carpenters', 'coopers', 'blacksmiths', 'keepers', 'brawny', 'bosky', 'unshorn', 'gowns', 'cheek', 'toasted', 'pear', 'hue', 'musky', 'looks', 'lighter', 'satin', 'lingers', 'tropic', 'tawn', 'slightly', 'bleached', 'withal', 'HE', 'tarried', 'barred', 'tints', 'Andes', 'western', 'slope', 'contrasting', 'climates', 'zone', 'Grub', 'ho', 'flinging', 'breakfast', 'Ledyard', 'traveller', 'Mungo', 'Park', 'Scotch', 'assurance', 'parlor', 'crossing', 'Siberia', 'sledge', 'solitary', 'walk', 'stomach', 'Africa', 'sum', 'mode', 'attaining', 'polish', 'anywhere', 'reflections', 'occasioned', 'preparing', 'maintained', 'profound', 'silence', 'embarrassed', 'slightest', 'bashfulness', 'boarded', 'strangers', 'duelled', 'winking', 'calling', 'kindred', 'tastes', 'sheepishly', 'sheepfold', 'Green', 'Mountains', 'bashful', 'timid', 'warrior', 'icicle', 'admirer', 'cordially', 'justified', 'ceremony', 'imminent', 'jeopardy', 'grappling', 'beefsteaks', 'coolly', 'estimation', 'genteelly', 'peculiarities', 'eschewed', 'applied', 'undivided', 'Enough', 'withdrew', 'digesting', 'inseparable', 'sallied', 'stroll', '6', 'Street', 'astonished', 'glimpse', 'individual', 'circulating', 'thoroughfares', 'seaport', 'queerest', 'nondescripts', 'foreign', 'Broadway', 'Chestnut', 'Mediterranean', 'jostle', 'affrighted', 'ladies', 'Regent', 'Lascars', 'Malays', 'Bombay', 'Apollo', 'Yankees', 'scared', 'natives', 'beats', 'Wapping', 'mentioned', 'actual', 'chatting', 'corners', 'outright', 'unholy', 'flesh', 'makes', 'stare', 'Feegeeans', 'Tongatobooarrs', 'Erromanggoans', 'Pannangians', 'Brighggians', 'unheeded', 'reel', 'weekly', 'Vermonters', 'Hampshire', 'gain', 'fishery', 'mostly', 'stalwart', 'frames', 'fellows', 'felled', 'forests', 'seek', 'axe', 'snatch', 'Many', 'whence', 'strutting', 'tailed', 'girdled', 'belt', 'sheath', 'sou', \"'-\", 'wester', 'bombazine', 'cloak', 'dandy', 'downright', 'bumpkin', 'mow', 'buckskin', 'gloves', 'distinguished', 'reputation', 'joins', 'bespeaking', 'outfit', 'bell', 'buttons', 'waistcoats', 'straps', 'canvas', 'Hay', 'Seed', 'bitterly', 'burst', 'throat', 'tempest', 'bumpkins', 'visitors', 'tract', 'condition', 'frighten', 'bony', 'dearest', 'Canaan', 'milk', 'pave', 'eggs', 'spite', 'nowhere', 'America', 'patrician', 'parks', 'gardens', 'opulent', 'Whence', 'planted', 'scraggy', 'scoria', 'gaze', 'emblematical', 'lofty', 'mansion', 'question', 'brave', 'flowery', 'hither', 'Herr', 'Alexander', 'perform', 'feat', 'fathers', 'dowers', 'daughters', 'nieces', 'porpoises', 'brilliant', 'wedding', 'reservoirs', 'recklessly', 'burn', 'lengths', 'spermaceti', 'sweet', 'maples', 'gold', 'August', 'beautiful', 'bountiful', 'chestnuts', 'candelabra', 'wise', 'proffer', 'passer', 'tapering', 'cones', 'congregated', 'blossoms', 'omnipotent', 'superinduced', 'terraces', 'flowers', 'barren', 'refuse', 'rocks', 'women', 'bloom', 'roses', 'carnation', 'perennial', 'sunlight', 'seventh', 'Elsewhere', 'match', 'theirs', 'Salem', 'girls', 'breathe', 'musk', 'sweethearts', 'odorous', 'instead', 'Puritanic', 'sands', '7', 'Chapel', 'Whaleman', 'moody', 'shortly', 'Returning', 'errand', 'sky', 'sunny', 'sleet', 'mist', 'Wrapping', 'cloth', 'bearskin', 'fought', 'stubborn', 'congregation', 'wives', 'widows', 'reigned', 'shrieks', 'Each', 'worshipper', 'purposely', 'apart', 'grief', 'incommunicable', 'chaplain', 'steadfastly', 'marble', 'tablets', 'borders', 'masoned', 'quote', 'SACRED', 'MEMORY', 'TALBOT', 'age', 'eighteen', 'overboard', 'Near', 'Isle', 'Desolation', 'Patagonia', '1st', '1836', 'TABLET', 'erected', 'Memory', 'SISTER', '_____________', 'ROBERT', 'LONG', 'WILLIS', 'ELLERY', 'NATHAN', 'COLEMAN', 'WALTER', 'CANNY', 'SETH', 'GLEIG', 'Forming', 'ELIZA', 'towed', 'Off', 'Ground', '31st', 'MARBLE', 'surviving', 'SHIPMATES', 'EZEKIEL', 'HARDY', 'bows', 'Japan', 'AUGUST', '3d', '1833', 'WIDOW', 'Shaking', 'glazed', 'sideways', 'surprised', 'Affected', 'solemnity', 'wondering', 'incredulous', 'countenance', 'present', 'notice', 'read', 'therefore', 'reading', 'frigid', 'inscriptions', 'relatives', 'unrecorded', 'accidents', 'wear', 'trappings', 'unceasing', 'assembled', 'unhealing', 'sympathetically', 'caused', 'wounds', 'bleed', 'afresh', 'buried', 'HERE', 'beloved', 'desolation', 'broods', 'bosoms', 'blanks', 'bordered', 'marbles', 'despair', 'immovable', 'deadly', 'voids', 'unbidden', 'infidelities', 'gnaw', 'Faith', 'resurrections', 'beings', 'placelessly', 'perished', 'grave', 'cave', 'Elephanta', 'census', 'mankind', 'included', 'proverb', 'tales', 'secrets', 'Goodwin', 'Sands', 'yesterday', 'prefix', 'significant', 'infidel', 'entitle', 'embarks', 'Indies', 'Life', 'Insurance', 'Companies', 'forfeitures', 'immortals', 'eternal', 'unstirring', 'paralysis', 'trance', 'antique', 'Adam', 'died', 'centuries', 'comforted', 'maintain', 'dwelling', 'unspeakable', 'bliss', 'strive', 'hush', 'rumor', 'meanings', 'jackal', 'feeds', 'tombs', 'doubts', 'gathers', 'vital', 'scarcely', 'eve', 'murky', 'darkened', 'doleful', 'fate', 'thine', 'grew', 'merry', 'Delightful', 'promotion', 'aye', 'immortal', 'brevet', 'speechlessly', 'chaotic', 'bundling', 'Eternity', 'Methinks', 'hugely', 'mistaken', 'shadow', 'substance', 'spiritual', 'oysters', 'thinnest', 'lees', 'cheers', 'stave', '8', 'Pulpit', 'venerable', 'robustness', 'pelted', 'admitting', 'regardful', 'sufficiently', 'attested', 'Father', 'Mapple', 'youth', 'dedicated', 'ministry', 'hardy', 'merging', 'flowering', 'fissures', 'wrinkles', 'gleams', 'developing', 'verdure', 'peeping', 'February', 'history', 'utmost', 'engrafted', 'clerical', 'imputable', 'maritime', 'led', 'carried', 'umbrella', 'carriage', 'tarpaulin', 'melting', 'absorbed', 'overshoes', 'removed', 'adjacent', 'arrayed', 'approached', 'pulpits', 'seriously', 'contract', 'area', 'architect', 'acted', 'hint', 'substituting', 'ladder', 'mounting', 'provided', 'handsome', 'worsted', 'ropes', 'nicely', 'headed', 'mahogany', 'contrivance', 'means', 'taste', 'Halting', 'grasping', 'ornamental', 'knobs', 'cast', 'upwards', 'reverential', 'dexterity', 'ascending', 'usually', 'rounds', 'step', 'joint', 'joints', 'unnecessary', 'gaining', 'deposited', 'impregnable', 'Quebec', 'fully', 'comprehending', 'enjoyed', 'sincerity', 'sanctity', 'courting', 'notoriety', 'tricks', 'furthermore', 'symbolize', 'unseen', 'isolation', 'signifies', 'withdrawal', 'outward', 'worldly', 'ties', 'connexions', 'replenished', 'faithful', 'stronghold', 'Ehrenbreitstein', 'feature', 'borrowed', 'farings', 'Between', 'cenotaphs', 'adorned', 'gallant', 'snowy', 'breakers', 'scud', 'isle', 'beamed', 'angel', 'shed', 'distinct', 'radiance', 'plate', 'inserted', 'Victory', 'Nelson', 'beat', 'helm', 'serenest', 'azure', 'trace', 'panelled', 'likeness', 'bluff', 'Holy', 'Bible', 'rested', 'projecting', 'scroll', 'fiddle', 'beak', 'foremost', 'leads', 'From', 'wrath', 'descried', 'earliest', 'brunt', 'invoked', 'favourable', 'complete', 'prow', '9', 'Sermon', 'rose', 'unassuming', 'authority', 'ordered', 'condense', 'Starboard', 'gangway', 'larboard', 'starboard', 'Midships', 'midships', 'rumbling', 'slighter', 'shuffling', 'shoes', 'paused', 'kneeling', 'folded', 'across', 'uplifted', 'closed', 'offered', 'prayer', 'devout', 'prolonged', 'solemn', 'tones', 'continual', 'tolling', 'foundering', 'fog', 'hymn', 'changing', 'stanzas', 'pealing', 'exultation', 'terrors', 'Arched', 'lift', 'deepening', 'doom', 'opening', 'maw', 'sorrows', 'plunging', 'distress', 'bowed', 'ear', 'complaints', 'confine', 'speed', 'relief', 'radiant', 'dolphin', 'borne', 'Awful', 'Deliverer', 'record', 'joyful', 'mercy', 'power', 'Nearly', 'joined', 'swelled', 'pause', 'ensued', 'folding', 'page', 'Beloved', 'clinch', 'verse', 'chapter', \"--'\", '.\\'\"', 'Shipmates', 'chapters', 'yarns', 'smallest', 'strands', 'cable', 'Scriptures', 'depths', 'sealine', 'pregnant', 'lesson', 'canticle', 'billow', 'boisterously', 'floods', 'surging', 'kelpy', 'waters', 'weed', 'slime', 'WHAT', 'teaches', 'sinful', 'sin', 'heartedness', 'awakened', 'punishment', 'repentance', 'prayers', 'finally', 'deliverance', 'sinners', 'son', 'Amittai', 'wilful', 'disobedience', 'command', 'conveyed', 'hence', 'oftener', 'commands', 'endeavors', 'persuade', 'disobey', 'disobeying', 'wherein', 'hardness', 'obeying', 'consists', 'flouts', 'seeking', 'flee', 'Him', 'countries', 'reign', 'Captains', 'skulks', 'Joppa', 'seeks', 'Tarshish', 'lurks', 'hitherto', 'accounts', 'Cadiz', 'opinion', 'Because', 'Jaffa', 'easterly', 'Syrian', 'westward', 'Straits', 'Gibraltar', 'See', 'Miserable', 'worthy', 'scorn', 'slouched', 'skulking', 'prowling', 'shipping', 'burglar', 'hastening', 'cross', 'disordered', 'policemen', 'suspicion', 'wrong', 'arrested', 'touched', 'fugitive', 'baggage', 'valise', 'accompany', 'wharf', 'adieux', 'dodging', 'search', 'finds', 'items', 'cargo', 'cabin', 'desist', 'hoisting', 'goods', 'evil', 'sees', 'tries', 'confidence', 'essays', 'wretched', 'smile', 'Strong', 'intuitions', 'innocent', 'gamesome', 'whispers', 'Jack', 'robbed', 'widow', 'Joe', 'bigamist', 'Harry', 'lad', 'adulterer', 'jail', 'belike', 'missing', 'murderers', 'Sodom', 'Another', 'runs', 'spile', 'coins', 'apprehension', 'parricide', 'reads', 'sympathetic', 'crowd', 'Frighted', 'trembles', 'summoning', 'suspected', 'advertised', 'pass', 'descends', \"?'\", 'cries', 'busy', 'desk', 'hurriedly', 'Customs', 'harmless', 'mangles', 'turns', 'rallies', 'Thus', 'sooner', 'darts', 'scrutinizing', 'glance', 'tide', \",'\", 'intently', \"?'--'\", \".'\", 'stab', 'swiftly', 'calls', 'scent', \",'--\", \",--'\", 'written', 'overlooked', 'thereof', 'context', 'discernment', 'detects', 'crime', 'cupidity', 'exposes', 'penniless', 'freely', 'passport', 'Virtue', 'pauper', 'frontiers', 'prepares', 'test', 'judge', 'openly', 'charges', 'thrice', 'usual', 'assented', 'resolves', 'flight', 'paves', 'prudent', 'suspicions', 'molest', 'rings', 'coin', 'counterfeit', 'forger', 'mutters', 'Point', 'state', 'need', 'thy', 'enters', 'lock', 'contains', 'Hearing', 'foolishly', 'laughs', 'convicts', 'cells', 'allowed', 'locked', 'berth', 'ceiling', 'resting', 'gasps', 'contracted', 'sunk', 'feels', 'heralding', 'presentiment', 'stifling', 'bowels', 'wards', 'Screwed', 'axis', 'oscillates', 'heeling', 'bales', 'maintains', 'permanent', 'obliquity', 'reference', 'obvious', 'false', 'levels', 'alarms', 'frightens', 'successful', 'refuge', 'contradiction', 'appals', 'awry', 'conscience', 'hangs', 'groans', 'burns', 'chambers', 'crookedness', 'hies', 'reeling', 'pricking', 'plungings', 'Roman', 'race', 'giddy', 'anguish', 'annihilation', 'until', 'fit', 'amid', 'whirl', 'woe', 'stupor', 'steals', 'bleeds', 'staunch', 'wrestlings', 'prodigy', 'misery', 'drags', 'drowning', 'casts', 'cables', 'uncheered', 'careening', 'glides', 'recorded', 'smugglers', 'contraband', 'rebels', 'wicked', 'burden', 'boatswain', 'lighten', 'boxes', 'jars', 'clattering', 'shrieking', 'yelling', 'thunders', 'trampling', 'raging', 'tumult', 'hideous', 'timbers', 'heeds', 'rush', 'cleaving', 'Aye', 'fast', 'asleep', 'frightened', 'meanest', 'O', 'sleeper', 'arise', 'Startled', 'lethargy', 'staggers', 'stumbling', 'grasps', 'shroud', 'sprung', 'panther', 'Wave', 'leaps', 'finding', 'speedy', 'vent', 'aft', 'afloat', 'moon', 'shows', 'steep', 'gullies', 'overhead', 'aghast', 'rearing', 'upward', 'downward', 'Terrors', 'shouting', 'cringing', 'attitudes', 'referring', 'Heaven', 'fall', 'casting', 'lots', 'discovered', 'mob', 'questions', 'occupation', 'comest', 'Thy', 'behavior', 'eager', 'ask', 'receive', 'likewise', 'unsolicited', 'Hebrew', 'hath', 'Fear', 'mightest', 'THEN', 'Straightway', 'confession', 'whereupon', 'appalled', 'pitiful', 'supplicating', 'deserts', 'mercifully', 'indignant', 'howls', 'louder', 'invokingly', 'unreluctantly', 'dropped', 'instantly', 'oily', 'calmness', 'floats', 'smooth', 'whirling', 'masterless', 'commotion', 'drops', 'seething', 'yawning', 'awaiting', 'shoots', 'bolts', 'prison', 'prayed', 'unto', 'observe', 'learn', 'weighty', 'weep', 'wail', 'direct', 'contenting', 'pangs', 'temple', 'clamorous', 'pardon', 'grateful', 'pleasing', 'conduct', 'shown', 'eventual', 'copied', 'model', 'Sin', 'heed', 'repent', 'speaking', 'slanting', 'add', 'describing', 'heaved', 'ground', 'swell', 'warring', 'swarthy', 'brow', 'hearers', 'lull', 'silently', 'Book', 'motionless', 'communing', 'leaned', 'bowing', 'aspect', 'manliest', 'humility', 'spake', 'press', 'greater', 'sinner', 'gladly', 'hatches', 'listen', 'ME', 'anointed', 'speaker', 'bidden', 'unwelcome', 'truths', 'Nineveh', 'hostility', 'raise', 'fled', 'mission', 'escape', 'reached', 'gulfs', 'slantings', 'eddying', 'sucked', 'fathoms', 'weeds', 'bowled', 'reach', 'plummet', \"'--\", 'engulphed', 'repenting', 'breeching', 'delights', 'vomited', \";'\", 'bruised', 'beaten', 'shells', 'multitudinously', 'murmuring', 'Almighty', 'bidding', 'preach', 'Truth', 'Falsehood', 'slights', 'Woe', 'charms', 'Gospel', 'pour', 'brewed', 'appal', 'courts', 'dishonour', 'salvation', 'Yea', 'Pilot', 'preaching', 'castaway', 'lifting', 'heavenly', 'enthusiasm', ',--\"', 'oh', 'delight', 'truck', 'kelson', 'Delight', 'proud', 'commodores', 'inexorable', 'support', 'base', 'treacherous', 'gives', 'kills', 'destroys', 'pluck', 'robes', 'Senators', 'Judges', 'acknowledges', 'lord', 'patriot', 'billows', 'shake', 'Keel', 'Ages', 'deliciousness', 'chiefly', 'rod', 'die', 'striven', 'Thine', 'eternity', 'Thee', 'lifetime', 'waving', 'benediction', 'remained', 'Bosom', 'Friend', 'hearth', 'peering', 'gently', 'nose', 'humming', 'interrupted', 'lap', 'counting', 'pages', 'regularity', 'fiftieth', 'vacantly', 'utterance', 'gurgling', 'whistle', 'commence', 'count', 'fifties', 'multitude', 'Savage', 'hideously', 'marred', 'disagreeable', 'hide', 'Through', 'traces', 'tokens', 'spirit', 'dare', 'devils', 'bearing', 'Pagan', 'uncouthness', 'maim', 'cringed', 'creditor', 'shaved', 'freer', 'brighter', 'expansive', 'decide', 'phrenologically', 'excellent', 'ridiculous', 'General', 'Washington', 'popular', 'busts', 'regularly', 'graded', 'retreating', 'brows', 'promontories', 'wooded', 'George', 'cannibalistically', 'developed', 'Whilst', 'pretending', 'casement', 'heeded', 'presence', 'wholly', 'occupied', 'Considering', 'sociably', 'indifference', 'overawing', 'collectedness', 'simplicity', 'Socratic', 'consorted', 'advances', 'desire', 'enlarge', 'circle', 'acquaintances', 'singular', 'sublime', 'twenty', 'planet', 'Jupiter', 'preserving', 'serenity', 'companionship', 'philosophy', 'philosophers', 'mortals', 'philosopher', 'dyspeptic', 'woman', 'digester', 'lonely', 'burning', 'intensity', 'warmed', 'glows', 'phantoms', 'casements', 'booming', 'swells', 'sensible', 'maddened', 'wolfish', 'soothing', 'redeemed', 'lurked', 'hypocrisies', 'bland', 'deceits', 'Wild', 'mysteriously', 'repelled', 'magnets', 'friend', 'kindness', 'courtesy', 'hints', 'hospitalities', 'whereat', 'complimented', 'printing', 'pictures', 'jabbering', 'proposed', 'producing', 'pouch', 'puff', 'exchanging', 'puffs', 'genial', 'thawed', 'cronies', 'naturally', 'unbiddenly', 'pressed', 'clasped', 'waist', 'henceforth', 'married', 'phrase', 'bosom', 'countryman', 'friendship', 'premature', 'distrusted', 'rules', 'apply', 'chat', 'groping', 'dollars', 'spreading', 'mechanically', 'dividing', 'portions', 'remonstrate', 'silenced', 'pouring', 'stay', 'paper', 'join', 'deliberated', 'invited', 'comply', 'born', 'infallible', 'Presbyterian', 'Church', 'idolator', 'worshipping', 'worship', 'magnanimous', 'pagans', 'jealous', 'insignificant', 'Impossible', 'Consequently', 'ergo', 'prop', 'salamed', 'twice', 'kissed', 'peace', 'consciences', 'disclosures', 'Man', 'souls', 'couples', 'honeymoon', 'cosy', '11', 'Nightgown', 'lain', 'napping', 'intervals', 'affectionately', 'sociable', 'confabulations', 'nappishness', 'future', 'wakeful', 'recumbent', 'position', 'wearisome', 'knees', 'noses', 'bending', 'kneepans', 'warming', 'pans', 'chilly', 'bodily', 'warmth', 'quality', 'merely', 'exists', 'flatter', 'tip', 'crown', 'chilled', 'delightfully', 'unmistakably', 'luxurious', 'discomforts', 'rich', 'snugness', 'spark', 'arctic', 'crystal', 'crouching', 'shut', 'concentrate', 'identity', 'aright', 'except', 'essences', 'congenial', 'clayey', 'imposed', 'coarse', 'unilluminated', 'revulsion', 'Tomahawk', 'repugnance', 'elastic', 'bend', 'serene', 'household', 'unduly', 'policy', 'insurance', 'condensed', 'comfortableness', 'hanging', 'tester', 'illuminated', 'undulating', 'scenes', 'native', 'familiar', 'phraseology', 'prove', 'skeleton', '12', 'Biographical', 'Rokovoko', 'map', 'hatched', 'clout', 'nibbling', 'goats', 'sapling', 'Christendom', 'specimen', 'whaler', 'father', 'High', 'uncle', 'Priest', 'maternal', 'boasted', 'aunts', 'unconquerable', 'warriors', 'veins', 'vitiated', 'propensity', 'nourished', 'untutored', 'Sag', 'Harbor', 'bay', 'lands', 'complement', 'spurned', 'influence', 'prevail', 'vowed', 'vow', 'Alone', 'canoe', 'paddled', 'strait', 'quitted', 'reef', 'mangrove', 'thickets', 'Hiding', 'paddle', 'gliding', 'flash', 'gained', 'dash', 'capsized', 'sank', 'climbed', 'chains', 'grappled', 'ring', 'hacked', 'threatened', 'suspended', 'cutlass', 'naked', 'wrists', 'budged', 'Struck', 'desperate', 'dauntlessness', 'relented', 'Prince', 'Wales', 'toil', 'shipyards', 'cities', 'disdained', 'ignominy', 'happily', 'enlightening', 'countrymen', 'actuated', 'Christians', 'arts', 'happier', 'practices', 'infinitely', 'heathens', 'Arrived', 'wages', 'Thought', 'lived', 'wore', 'gibberish', 'Hence', 'asked', 'propose', 'coronation', 'consider', 'feeble', 'fearful', 'Christianity', 'unfitted', 'undefiled', 'throne', 'baptized', 'nonce', 'sow', 'oats', 'sceptre', 'movements', 'vocation', 'intention', 'promising', 'mess', 'share', 'hap', 'boldly', 'dip', 'Potluck', 'worlds', 'joyously', 'affection', 'usefulness', 'ignorant', 'mysteries', 'acquainted', 'dying', 'embraced', 'Wheelbarrow', 'Next', 'disposing', 'barber', 'block', 'settled', 'cock', 'bull', 'alarmed', 'companied', 'wheelbarrow', 'embarking', 'sack', 'Moss', 'schooner', 'stared', 'wheeling', 'barrow', 'adjust', 'barbs', 'troublesome', 'hinted', 'assured', 'inland', 'reapers', 'mowers', 'farmers', 'meadows', 'scythes', 'obliged', 'furnish', 'reasons', 'preferred', 'Shifting', 'owners', 'lent', 'boarding', 'puts', 'lashes', 'marches', 'Didn', 'feasts', 'fragrant', 'cocoanuts', 'calabash', 'punchbowl', 'forms', 'ornament', 'braided', 'feast', 'commander', 'stately', 'punctilious', 'gentleman', 'sister', 'princess', 'guests', 'bride', 'bamboo', 'assigned', 'post', 'majesty', 'Grace', 'grace', 'unlike', 'platters', 'copying', 'ducks', 'Giver', 'opens', 'banquet', 'immemorial', 'dipping', 'consecrated', 'consecrating', 'bowl', 'beverage', 'circulates', 'noting', 'precedence', 'proceeds', 'finger', 'tink', 'luggage', 'Hoisting', 'Acushnet', 'Huge', 'hills', 'casks', 'wandering', 'safely', 'fires', 'forges', 'melt', 'betokening', 'cruises', 'start', 'perilous', 'endlessness', 'intolerableness', 'effort', 'Gaining', 'bracing', 'breeze', 'waxed', 'snortings', 'snuffed', 'Tartar', 'turnpike', 'highway', 'marks', 'slavish', 'heels', 'hoofs', 'admire', 'magnanimity', 'permit', 'records', 'drink', 'nostrils', 'filed', 'pointed', 'homage', 'blast', 'ducked', 'Sultan', 'Sideways', 'ropeyarn', 'tingling', 'wire', 'buckling', 'canes', 'tornadoes', 'jeering', 'glances', 'lubber', 'assembly', 'marvelled', 'companionable', 'dignified', 'whitewashed', 'boobies', 'intense', 'greenness', 'saplings', 'mimicking', 'Dropping', 'miraculous', 'strength', 'sent', 'somerset', 'bursting', 'Capting', 'yelled', 'Hallo', 'gaunt', 'rib', 'stalking', 'thunder', 'shivering', 'greenhorn', 'Kill', 'twisting', 'expression', 'disdain', 'ah', 'bevy', 'roared', 'happened', 'strain', 'parted', 'boom', 'handled', 'roughly', 'swept', 'panic', 'snatching', 'madness', 'ticking', 'snapping', 'splinters', 'capable', 'lower', 'consternation', 'deftly', 'crawling', 'whipped', 'secured', 'lasso', 'jerk', 'trapped', 'stripped', 'arc', 'leap', 'revealing', 'freezing', 'glorious', 'saved', 'Shooting', 'matters', 'dragging', 'lifeless', 'restored', 'voted', 'trump', 'clove', 'barnacle', 'Was', 'unconsciousness', 'deserved', 'medal', 'Humane', 'Magnanimous', 'Societies', 'wipe', 'brine', 'mutual', '14', 'mentioning', 'occupies', 'Eddystone', 'lighthouse', 'hillock', 'elbow', 'beach', 'background', 'use', 'blotting', 'wights', 'plant', 'import', 'Canada', 'thistles', 'leak', 'cask', 'bits', 'Rome', 'toadstools', 'blade', 'oasis', 'prairie', 'quicksand', 'Laplander', 'inclosed', 'surrounded', 'utter', 'chairs', 'tables', 'clams', 'adhering', 'backs', 'turtles', 'extravaganzas', 'Illinois', 'wondrous', 'traditional', 'legend', 'olden', 'eagle', 'swooped', 'infant', 'talons', 'lament', 'parents', 'direction', 'Setting', 'casket', 'Nantucketers', 'livelihood', 'crabs', 'quohogs', 'grown', 'bolder', 'waded', 'nets', 'mackerel', 'captured', 'cod', 'launching', 'navy', 'explored', 'circumnavigations', 'peeped', 'Behring', 'seasons', 'declared', 'war', 'mightiest', 'animated', 'survived', 'mountainous', 'Himmalehan', 'Mastodon', 'clothed', 'portentousness', 'unconscious', 'panics', 'dreaded', 'fearless', 'malicious', 'assaults', 'hermits', 'issuing', 'ant', 'overrun', 'conquered', 'Alexanders', 'parcelling', 'pirate', 'powers', 'Poland', 'Mexico', 'Texas', 'pile', 'Cuba', 'overswarm', 'blazing', 'banner', 'thirds', 'terraqueous', 'globe', 'Nantucketer', 'owns', 'Emperors', 'empires', 'Merchant', 'extension', 'bridges', 'forts', 'privateers', 'highwaymen', 'road', 'plunder', 'fragments', 'draw', 'resides', 'riots', 'fro', 'ploughing', 'plantation', 'THERE', 'Noah', 'interrupt', 'overwhelmed', 'cocks', 'hides', 'climbs', 'chamois', 'hunters', 'Alps', 'smells', 'strangely', 'Earthsman', 'landless', 'gull', 'folds', 'wings', 'nightfall', 'furls', 'sails', 'lays', 'herds', 'walruses', '15', 'Chowder', 'snugly', 'recommended', 'cousin', 'Hosea', 'Hussey', 'Try', 'Pots', 'asserted', 'proprietor', 'hotels', 'moreover', 'Cousin', 'chowders', 'luck', 'directions', 'given', 'warehouse', 'outset', 'insisted', 'departure', 'understood', 'peaceable', 'inhabitant', 'mistaking', 'pots', 'painted', 'asses', 'doorway', 'sawed', 'gallows', 'Perhaps', 'sensitive', 'impressions', 'vague', 'misgiving', 'crick', 'remaining', 'TWO', 'Innkeeper', 'landing', 'tombstones', 'oblique', 'freckled', 'gown', 'dull', 'injured', 'carrying', 'brisk', 'scolding', 'Get', 'combing', 'Mrs', 'affairs', 'postponing', 'seating', 'spread', 'relics', 'recently', 'repast', 'Clam', 'Cod', 'Cods', 'ma', 'politeness', 'clammy', 'reception', 'resume', 'Shirt', 'waiting', 'hurried', 'leading', 'kitchen', 'bawling', 'savory', 'steam', 'belie', 'apparently', 'prospect', 'chowder', 'explained', 'hearken', 'juicy', 'bigger', 'hazel', 'nuts', 'pounded', 'pork', 'flakes', 'enriched', 'butter', 'plentifully', 'seasoned', 'pepper', 'Our', 'appetites', 'sharpened', 'fishing', 'food', 'surpassingly', 'despatched', 'expedition', 'bethinking', 'announcement', 'Stepping', 'uttered', 'emphasis', 'resumed', 'moments', 'savoury', 'flavor', 'plying', 'spoons', 'effect', 'stultifying', 'eel', 'Fishiest', 'fishy', 'paved', 'necklace', 'codfish', 'vertebra', 'books', 'superior', 'shark', 'happening', 'brindled', 'cow', 'feeding', 'remnants', 'marching', 'decapitated', 'slip', 'shod', 'nearest', 'precede', 'lady', 'Stiggs', 'unfort', 'nt', 'v', 'y', 'ge', 'barrels', 'ILE', 'sich', 'weepons', 'rooms', 'Both', 'couple', 'smoked', 'herring', 'variety', '16', 'Ship', 'concocted', 'plans', 'concern', 'consulting', 'Yojo', 'god', 'strongly', 'everyway', 'fleet', 'harbor', 'concert', 'selecting', 'enjoined', 'selection', 'inasmuch', 'purposed', 'befriending', 'irrespective', 'forgotten', 'excellence', 'forecast', 'esteem', 'succeed', 'benevolent', 'designs', 'relied', 'sagacity', 'fitted', 'fortunes', 'securely', 'remonstrances', 'acquiesce', 'accordingly', 'determined', 'rushing', 'energy', 'vigor', 'trifling', 'affair', 'bedroom', 'Lent', 'Ramadan', 'fasting', 'humiliation', 'HOW', 'liturgies', 'XXXIX', 'Articles', 'sauntering', 'inquiries', 'learnt', 'Devil', 'Tit', 'Pequod', 'DEVIL', 'DAM', 'origin', 'TIT', 'BIT', 'PEQUOD', 'celebrated', 'Massachusetts', 'Indians', 'extinct', 'Medes', 'peered', 'pryed', 'hopped', 'decided', 'quaint', 'aught', 'square', 'toed', 'luggers', 'Japanese', 'junks', 'galliots', 'claw', 'footed', 'Long', 'typhoons', 'calms', 'hull', 'French', 'grenadier', 'alike', 'Egypt', 'Her', 'bearded', 'stiffly', 'spines', 'kings', 'Cologne', 'worn', 'pilgrim', 'worshipped', 'flag', 'Canterbury', 'Cathedral', 'Becket', 'bled', 'antiquities', 'features', 'pertaining', 'century', 'Peleg', 'retired', 'principal', 'term', 'mateship', 'grotesqueness', 'inlaid', 'quaintness', 'material', 'device', 'unmatched', 'Thorkill', 'Hake', 'buckler', 'apparelled', 'barbaric', 'Ethiopian', 'emperor', 'pendants', 'trophies', 'tricking', 'herself', 'chased', 'unpanelled', 'garnished', 'continuous', 'sperm', 'pins', 'fasten', 'hempen', 'thews', 'tendons', 'Those', 'sheaves', 'Scorning', 'turnstile', 'reverend', 'sported', 'tiller', 'curiously', 'hereditary', 'foe', 'helmsman', 'steered', 'holds', 'steed', 'clutching', 'melancholy', 'candidate', 'nobody', 'overlook', 'tent', 'wigwam', 'temporary', 'erection', 'conical', 'shape', 'consisting', 'slabs', 'Planted', 'ends', 'laced', 'mutually', 'sloped', 'apex', 'united', 'loose', 'hairy', 'fibres', 'waved', 'Pottowottamie', 'Sachem', 'triangular', 'insider', 'concealed', 'tenement', 'noon', 'enjoying', 'respite', 'oaken', 'carving', 'stout', 'interlacing', 'constructed', 'elderly', 'heavily', 'Quaker', 'microscopic', 'net', 'minutest', 'arisen', 'sailings', 'gales', 'windward', 'causes', 'muscles', 'pursed', 'effectual', 'scowl', 'advancing', 'Supposing', 'dost', 'wast', 'Dost', 'eh', 'damned', 'Talk', 'lingo', 'talkest', 'marchant', 'Marchant', 'Hast', 'Didst', 'rob', 'didst', 'murdering', 'officers', 'gettest', 'protested', 'innocence', 'mask', 'humorous', 'innuendoes', 'insulated', 'Quakerish', 'distrustful', 'aliens', 'hailed', 'Vineyard', 'Want', 'Have', 'clapped', 'Ahab', 'Bildad', 'agents', 'wantest', 'tellest', 'bind', 'Clap', 'wilt', 'Lost', 'Young', 'nearer', 'devoured', 'chewed', 'crunched', 'monstrousest', 'parmacetty', 'chipped', 'hearty', 'exclamation', 'ferocity', 'accident', 'SURE', 'Hard', 'Mind', 'aggravate', 'inclined', 'Answer', 'positively', 'indispensable', 'rid', 'experience', 'request', 'humorously', 'concentrating', 'crow', 'perceived', 'obliquely', 'unlimited', 'monotonous', 'forbidding', 'report', 'horizon', 'squall', 'staggered', 'expressed', 'willingness', 'mayest', 'below', 'Seated', 'transom', 'uncommon', 'shares', 'ports', 'annuitants', 'fatherless', 'chancery', 'owning', 'timber', 'nail', 'People', 'yours', 'approved', 'stocks', 'originally', 'sect', 'inhabitants', 'retain', 'variously', 'anomalously', 'modified', 'alien', 'heterogeneous', 'Quakers', 'sanguinary', 'fighting', 'instances', 'Scripture', 'singularly', 'fashion', 'childhood', 'imbibing', 'dramatic', 'idiom', 'audacious', 'blend', 'unoutgrown', 'dashes', 'unworthy', 'Scandinavian', 'poetical', 'greatly', 'natural', 'force', 'globular', 'stillness', 'seclusion', 'watches', 'constellations', 'untraditionally', 'independently', 'virgin', 'voluntary', 'confiding', 'accidental', 'advantages', 'nation', 'pageant', 'detract', 'dramatically', 'birth', 'overruling', 'morbidness', 'tragically', 'ambition', 'greatness', 'disease', 'results', 'phase', 'cared', 'deemed', 'veriest', 'trifles', 'educated', 'according', 'strictest', 'Quakerism', 'unclad', 'lovely', 'jot', 'altered', 'vest', 'immutableness', 'lack', 'consistency', 'refusing', 'scruples', 'invaders', 'illimitably', 'invaded', 'sworn', 'bloodshed', 'bodied', 'spilled', 'tuns', 'gore', 'contemplative', 'pious', 'reminiscence', 'sage', 'religion', 'practical', 'dividends', 'Rising', 'drabbest', 'drab', 'shad', 'bellied', 'becoming', 'header', 'owner', 'career', 'retiring', 'goodly', 'dedicating', 'earned', 'income', 'incorrigible', 'task', 'Categut', 'arriving', 'hospital', 'exhausted', 'hearted', 'swear', 'inordinate', 'cruel', 'unmitigated', 'clutch', 'hammer', 'marling', 'spike', 'Indolence', 'idleness', 'exact', 'embodiment', 'utilitarian', 'superfluous', 'beard', 'chin', 'economical', 'nap', 'brimmed', 'tails', 'brim', 'beside', 'crossed', 'vesture', 'buttoned', 'spectacles', 'volume', 'Ye', 'studying', 'knowledge', 'habituated', 'noticing', 'irreverence', 'inquiringly', 'wants', 'tone', 'unconsciously', 'spelling', 'mumbling', 'audible', 'blusterer', 'sharply', 'pen', 'ink', 'willing', 'engage', 'aware', 'profits', 'proportioned', 'importance', 'respective', 'duties', 'steer', 'splice', '275th', 'eventually', 'lucky', 'clothing', 'beef', 'stiver', 'accumulate', 'princely', 'fortune', 'Cloud', '200th', 'shouldered', 'generous', 'Ashore', 'crony', 'proprietors', 'inconsiderable', 'management', 'stingy', 'fireside', 'vainly', 'mend', 'party', 'yourselves', 'treasures', 'moth', 'knowest', 'sepulchral', 'reply', 'seventy', \"?--'\", 'rust', 'corrupt', '--\\'\"', 'LAYS', 'deceive', 'landsman', 'TEENTH', 'farthing', 'doubloons', 'swindle', 'Seven', 'treasure', 'hundredth', 'solemnly', 'owest', 'abundantly', 'reward', 'labors', 'starting', 'Blast', 'advice', 'lug', 'founder', 'steadily', 'impenitent', 'lest', 'leaky', 'sink', 'Fiery', 'insult', 'fired', 'outrage', 'Flukes', 'flames', 'goat', 'Out', 'canting', 'gun', 'thundered', 'sliding', 'celerity', 'eluded', 'Alarmed', 'outburst', 'responsible', 'sailing', 'questionably', 'owned', 'temporarily', 'stepped', 'egress', 'vanish', 'withdrawing', 'letting', 'lamb', 'nervously', 'agitated', 'Whew', 'whistled', 'leeward', 'sharpening', 'grindstone', 'Fetch', 'groaned', 'burying', 'Has', 'whaled', 'Killed', 'signing', 'doubting', 'absorbing', 'irrevocably', 'committing', 'Turning', 'inquiring', 'able', 'isn', 'Any', 'lt', 'ungodly', 'doesn', 'Mark', 'forewarned', 'colleges', 'mong', 'wonders', 'foes', 'keenest', 'surest', 'AHAB', 'crowned', 'lick', 'significance', 'startled', 'Never', 'Twas', 'foolish', 'whim', 'widowed', 'twelvemonth', 'squaw', 'Tistig', 'Gayhead', 'prophetic', 'fools', 'warn', 'swearing', 'shooting', 'bleeding', 'stump', 'accursed', 'laughing', 'bye', 'happens', 'resigned', 'girl', 'Think', 'humanities', 'walked', 'thoughtfulness', 'incidentally', 'revealed', 'vagueness', 'painfulness', 'sympathy', 'sorrow', 'loss', 'describe', 'disincline', 'impatience', 'imperfectly', '17', 'Fasting', 'Humiliation', 'continue', 'choose', 'disturb', 'religious', 'obligations', 'undervalue', 'ants', 'toad', 'stool', 'footmanism', 'unprecedented', 'planets', 'torso', 'deceased', 'possessions', 'rented', 'vastly', 'subjects', 'absurd', 'notions', 'arguing', 'avail', 'Presbyterians', 'Pagans', 'mending', 'Towards', 'rituals', 'knocked', 'fastened', 'apoplectic', 'sinister', 'shaft', 'landlady', 'chamber', 'abroad', 'Something', 'Apoplexy', 'stubbornly', 'resisted', 'Running', 'stated', 'maid', 'La', 'la', 'mouse', 'Mistress', 'murder', 'apoplexy', 'mustard', 'vinegar', 'cruet', 'castors', 'Wood', 'Run', 'pry', 'handed', 'interposed', 'castor', 'doctor', 'talking', 'prying', 'seized', 'rapid', 'Unconsciously', 'clapping', 'ruminated', 'haven', 'closet', 'returning', 'nate', 'Betty', 'Snarles', 'Painter', 'suicides', 'permitted', ';\"--', 'birds', 'merciful', 'ghost', 'premises', 'spoiled', 'locksmith', 'mile', 'supplemental', 'unwithdrawn', 'vowing', 'dashed', 'knob', 'slamming', 'collected', 'squatting', 'hams', 'hain', 'sittin', 'pushing', 'change', 'intolerable', 'painfully', 'unnaturally', 'constrained', 'probability', 'meals', 'ALIVE', 'Closing', 'blandishments', 'peg', 'creed', 'later', 'punctual', 'listening', 'plum', 'pudding', 'brig', 'confined', ');', 'puddingers', 'eleven', 'termination', 'stirred', 'vexed', 'senseless', 'insane', 'starve', 'Despairing', 'promised', 'faintest', 'blown', 'uneasy', 'bedside', 'squatted', 'grating', 'cheerful', 'limped', 'objection', 'becomes', 'frantic', 'positive', 'torment', 'ours', 'argue', 'progress', 'primitive', 'religions', 'labored', 'Lents', 'Ramadans', 'ham', 'squattings', 'nonsense', 'health', 'useless', 'opposed', 'laws', 'Hygiene', 'extremely', 'sagacious', 'pained', 'deplorably', 'argued', 'caves', 'necessarily', 'starved', 'religionists', 'hereafters', 'digressively', 'undigested', 'apple', 'dumpling', 'perpetuated', 'dyspepsias', 'nurtured', 'dyspepsia', 'expressing', 'memorable', 'enemy', 'cooked', 'eaten', 'inferences', 'hinting', 'custom', 'barbecue', 'yard', 'victor', 'trenchers', 'pilau', 'breadfruit', 'parsley', 'mouths', 'compliments', 'presents', 'Christmas', 'turkeys', 'remarks', 'impression', 'couch', 'simply', 'condescending', 'compassion', 'hopelessly', 'evangelical', 'piety', 'prodigiously', 'sorts', 'profit', 'halibut', '18', 'walking', 'gruff', 'loudly', 'announcing', 'converted', 'Son', 'communion', 'member', 'Congregational', 'worships', 'Deacon', 'Deuteronomy', 'Coleman', 'meeting', 'rubbed', 'bandana', 'hasn', 'Philistine', 'deacon', 'sternly', 'thyself', 'Hittite', 'Finding', 'Catholic', 'belong', 'Congregation', 'crotchets', 'belief', 'Splice', 'st', 'SPLICE', 'missionary', 'sermon', 'reckoned', 'Quohog', 'handles', 'Without', 'poising', 'Cap', 'dere', 'spose', 'aim', 'glistening', 'hauling', 'spos', 'dad', 'Quick', 'retreated', 'Hedgehog', 'ninetieth', 'preliminaries', 'ceremonies', 'abashed', 'counterpart', 'obstinate', 'appellative', 'X', 'rising', 'skirted', 'bundle', 'tracts', 'entitled', 'Latter', 'Day', 'Coming', 'Lose', 'clingest', 'beseech', 'remain', 'Belial', 'bondsman', 'Spurn', 'Bell', 'gracious', 'lingered', 'heterogeneously', 'Scriptural', 'domestic', 'phrases', 'Avast', 'spoiling', 'Pious', 'voyagers', 'straw', 'sharkish', 'Nat', 'Swaine', 'bravest', 'shrinked', 'sheered', 'claps', 'Davy', 'Jones', 'prate', 'beliest', 'typhoon', 'Judgment', 'Hear', 'thrusting', 'thundering', 'rig', 'jury', 'buttoning', 'stalked', 'overlooking', 'sailmakers', 'pick', 'patch', 'tarred', 'twine', 'wasted', '19', 'Prophet', 'levelled', 'massive', 'forefinger', 'shabbily', 'faded', 'investing', 'confluent', 'pox', 'flowed', 'complicated', 'ribbed', 'torrent', 'dried', 'uninterrupted', 'rapidly', 'shoving', 'bayonet', 'signed', 'Anything', 'About', 'hav', 'n', 'chaps', 'fifth', 'wagon', 'deficiencies', 'abruptly', 'somebody', 'riveted', 'earnestness', 'laughed', 'derisive', 'TELL', 'hunter', 'Step', 'growl', 'skrimmage', 'Spaniard', 'altar', 'Santa', 'spat', 'losing', 'prophecy', 'hows', 'mayhap', 'damaged', 'ALL', 'Pretty', 'beggar', 'reverie', ':--\"', 'Names', 'Anyhow', 'arranged', 'Morning', 'ineffable', 'bless', 'bamboozle', 'fool', 'easiest', 'secret', 'Elijah', 'commenting', 'humbug', 'bugbear', 'chancing', 'Somehow', 'dogging', 'intent', 'imagine', 'coupled', 'ambiguous', 'shrouded', 'begat', 'kinds', 'wonderments', 'apprehensions', 'prediction', 'shadowy', 'satisfy', 'retraced', 'relieved', 'pronounced', '20', 'Astir', 'coils', 'betokened', 'preparations', 'hurrying', 'purchasing', 'providing', 'stores', 'chests', 'traps', 'resolving', 'equipped', 'Every', 'beds', 'sauce', 'knives', 'forks', 'shovels', 'tongs', 'napkins', 'nut', 'crackers', 'housekeeping', 'necessitates', 'grocers', 'costermongers', 'doctors', 'bakers', 'bankers', 'extent', 'impossibility', 'replacing', 'harbors', 'frequented', 'exposed', 'success', 'depends', 'spars', 'everythings', 'duplicate', 'period', 'arrival', 'Island', 'heaviest', 'storage', 'comprising', 'fuel', 'staves', 'odds', 'indefatigable', 'kindhearted', 'SHE', 'jar', 'pickles', 'steward', 'pantry', 'bunch', 'log', 'flannel', 'rheumatic', 'deserve', 'Charity', 'Aunt', 'charity', 'bustle', 'yield', 'safety', 'comfort', 'consolation', 'score', 'startling', 'Quakeress', 'ladle', 'longer', 'list', 'article', 'hobbling', 'whalebone', 'hatchways', 'riggers', 'During', 'preparation', 'expected', 'necessary', 'committed', 'absolute', 'dictator', 'suspects', 'involved', 'insensibly', 'strives', '21', 'Aboard', 'grey', 'imperfect', 'dawn', 'ahead', 'insinuating', 'uncertain', 'twilight', 'Hands', 'Lookee', 'Ain', 'impertinent', 'wasn', 'wonderingly', 'oblige', 'Oceans', 'prefer', 'detained', 'Holloa', 'stationary', 'hailing', 'paces', 'stole', 'Did', 'Find', 'rejoined', 'Shan', 'Grand', 'Jury', 'wonderment', 'impudence', 'lumbered', 'slide', 'scuttle', 'rigger', 'tattered', 'profoundest', 'slumber', 'dubiously', 'alluded', 'optically', 'deceived', 'marking', 'jocularly', 'establish', 'Gracious', 'perry', 'dood', 'hurt', 'Face', 'heaving', 'grinding', 'questioning', 'absence', 'settees', 'sofas', 'chiefs', 'fattening', 'ottomans', 'comfortably', 'lazy', 'piers', 'excursion', 'convertible', 'sticks', 'attendant', 'desiring', 'settee', 'marshy', 'narrating', 'flourished', 'Perry', 'brained', 'soothed', 'attracted', 'vapour', 'filling', 'breathed', 'muffledness', 'revolved', 'smokers', 'Shipped', 'Starbuck', 'astir', 'lively', 'bestirred', 'actively', 'invisibly', 'enshrined', '22', 'Merry', 'dismissal', 'hauled', 'thoughtful', 'gift', 'cap', 'Stubb', 'issued', 'Muster', 'commanders', 'appearances', 'weigh', 'steering', 'recovered', 'farewell', 'commanding', 'Aft', 'sons', 'bachelors', 'Strike', 'marquee', 'capstan', 'Blood', 'handspikes', 'station', 'addition', 'licensed', 'pilots', 'fee', 'piloted', 'approaching', 'cheer', 'windlass', 'chorus', 'Booble', 'Alley', 'songs', 'Watts', 'Meantime', 'overseeing', 'ripped', 'frightful', 'handspike', 'comforting', 'poke', 'horrified', 'apparition', 'heave', 'Spring', 'sheep', 'backbone', 'whiskers', 'pants', 'imperturbable', 'drinking', 'merged', 'wintry', 'cased', 'armor', 'tusks', 'elephant', 'curving', 'depended', 'Lank', 'howled', 'cordage', 'rang', 'steady', 'notes', 'Sweet', 'swelling', 'Stand', 'Jews', 'Jordan', 'sweetly', 'fruition', 'Spite', 'wet', 'wetter', 'store', 'meads', 'glades', 'eternally', 'vernal', 'untrodden', 'unwilted', 'remains', 'midsummer', 'ranging', 'alongside', 'unpleasing', 'affected', 'juncture', 'loath', 'depart', 'stormy', 'Capes', 'invested', 'encounter', 'pitiless', 'brimful', 'strides', 'bounded', 'Eastern', 'Continents', 'coiling', 'pin', 'convulsively', 'grasped', 'lantern', 'gazing', 'heroically', 'tear', 'twinkling', 'Back', 'Boat', 'Careful', 'Luck', 'Flask', 'murmured', 'incoherently', 'hunt', 'needlessly', 'cedar', 'per', 'cent', 'forget', 'cooper', 'locker', 'miss', 'rejecting', 'gifts', 'tierce', 'beware', 'fornication', 'cheese', 'cents', 'pound', 'palavering', 'dropt', 'diverged', 'screaming', 'hulls', 'blindly', 'lone', '23', 'Lee', 'Shore', 'newlanded', 'encountered', 'vindictive', 'fearfulness', 'unrestingly', 'push', 'Wonderfullest', 'unmentionable', 'memories', 'epitaphs', 'stoneless', 'fared', 'miserably', 'drives', 'succor', 'hearthstone', 'blankets', 'mortalities', 'direst', 'hospitality', 'graze', 'keel', 'shudder', 'fights', 'gainst', 'blow', 'homeward', 'landlessness', 'forlornly', 'peril', 'bitterest', 'Know', 'Glimpses', 'mortally', 'intrepid', 'independence', 'wildest', 'conspire', 'shoreless', 'perish', 'infinite', 'ingloriously', 'craven', 'agony', 'Bear', 'grimly', 'demigod', 'perishing', 'apotheosis', '24', 'Advocate', 'embarked', 'unpoetical', 'disreputable', 'anxiety', 'convince', 'injustice', 'hereby', 'accounted', 'level', 'liberal', 'professions', 'miscellaneous', 'metropolitan', 'advance', 'merits', 'emulation', 'naval', 'append', 'initials', 'W', 'F', 'Fishery', 'visiting', 'card', 'procedure', 'pre', 'eminently', 'presuming', 'Doubtless', 'declines', 'honouring', 'amounts', 'butchering', 'defilements', 'Butchers', 'butchers', 'bloodiest', 'badge', 'Martial', 'Commanders', 'invariably', 'alleged', 'uncleanliness', 'initiated', 'facts', 'triumphantly', 'cleanliest', 'tidy', 'granting', 'slippery', 'comparable', 'carrion', 'soldiers', 'plaudits', 'enhances', 'conceit', 'soldier', 'profession', 'veteran', 'recoil', 'fanning', 'eddies', 'comprehensible', 'compared', 'interlinked', 'scouts', 'unwittingly', 'abounding', 'adoration', 'tapers', 'lamps', 'shrines', 'De', 'Witt', 'admirals', 'fleets', 'Louis', 'XVI', 'France', 'personal', 'expense', 'Dunkirk', 'invite', 'families', 'Britain', '1750', '1788', 'bounties', 'L1', '000', 'lastly', 'outnumber', 'banded', 'manned', 'yearly', 'consuming', '$', 'importing', 'reaped', 'harvest', 'puissant', 'assert', 'cosmopolite', 'operated', 'potentially', 'aggregate', 'begotten', 'remarkable', 'continuously', 'momentous', 'sequential', 'issues', 'Egyptian', 'offspring', 'womb', 'catalogue', 'pioneer', 'ferreting', 'archipelagoes', 'chart', 'Vancouver', 'European', 'peacefully', 'ride', 'salutes', 'interpreted', 'celebrate', 'heroes', 'Exploring', 'Expeditions', 'Cooks', 'Krusensterns', 'anonymous', 'Krusenstern', 'succourless', 'handedness', 'sharked', 'beaches', 'javelin', 'battled', 'marines', 'muskets', 'willingly', 'dared', 'Voyages', 'commonplaces', 'heroic', 'Often', 'adventures', 'dedicates', 'Until', 'rounded', 'colonial', 'intercourse', 'Spanish', 'provinces', 'colonies', 'distinctly', 'eventuated', 'liberation', 'Peru', 'Chili', 'Bolivia', 'yoke', 'establishment', 'democracy', 'sphere', 'Australia', 'enlightened', 'blunder', 'discovery', 'Dutchman', 'shunned', 'pestiferously', 'colony', 'Moreover', 'infancy', 'Australian', 'settlement', 'emigrants', 'starvation', 'luckily', 'uncounted', 'Polynesia', 'missionaries', 'destinations', 'hospitable', 'credit', 'due', 'threshold', 'declare', 'aesthetically', 'associations', 'shiver', 'unhorse', 'split', 'helmet', 'author', 'chronicler', 'NO', 'FAMOUS', 'AUTHOR', 'CHRONICLER', 'wrote', 'composed', 'prince', 'Alfred', 'Great', 'Other', 'Norwegian', 'glowing', 'eulogy', 'Edmund', 'Burke', 'GOOD', 'BLOOD', 'THEIR', 'VEINS', 'grandmother', 'Benjamin', 'Franklin', 'Mary', 'Morrel', 'marriage', 'Folger', 'settlers', 'ancestress', 'Folgers', 'kith', 'kin', 'darting', 'NOT', 'RESPECTABLE', 'imperial', 'statutory', '.\"*', 'nominal', 'figured', 'imposing', 'NEVER', 'FIGURED', 'ANY', 'IMPOSING', 'WAY', 'triumphs', 'capital', 'conspicuous', 'cymballed', 'procession', '.*', '*', 'Grant', 'cite', 'dignity', 'DIGNITY', 'attest', 'Cetus', 'constellation', 'Drive', 'antiquity', 'walled', 'towns', 'possibility', 'undiscovered', 'prime', 'repute', 'hushed', 'unreasonably', 'hereafter', 'undone', 'executors', 'creditors', 'precious', 'MSS', 'prospectively', 'ascribe', 'Yale', 'College', 'Harvard', '25', 'Postscript', 'behalf', 'substantiated', 'embattling', 'advocate', 'suppress', 'unreasonable', 'surmise', 'eloquently', 'blameworthy', 'queens', 'process', 'seasoning', 'functions', 'saltcellar', 'Certain', 'oiled', 'salad', 'anoint', 'machinery', 'essential', 'regal', 'meanly', 'contemptibly', 'anoints', 'palpably', 'anointing', 'mature', 'medicinally', 'quoggy', 'rule', 'totality', 'coronations', 'Certainly', 'olive', 'macassar', 'train', 'unmanufactured', 'unpolluted', 'sweetest', 'oils', 'loyal', 'Britons', 'supply', '26', 'Knights', 'Squires', 'descent', 'icy', 'adapted', 'endure', 'latitudes', 'baked', 'Transported', 'bottled', 'ale', 'drought', 'famine', 'Only', 'arid', 'summers', 'superfluousness', 'thinness', 'token', 'wasting', 'anxieties', 'cares', 'indication', 'blight', 'condensation', 'tight', 'inner', 'revivified', 'torrid', 'patent', 'chronometer', 'vitality', 'warranted', 'Looking', 'lingering', 'images', 'confronted', 'staid', 'steadfast', 'pantomime', 'action', 'tame', 'sobriety', 'fortitude', 'qualities', 'overbalance', 'Uncommonly', 'endued', 'reverence', 'loneliness', 'incline', 'superstition', 'organizations', 'intelligence', 'Outward', 'portents', 'presentiments', 'welded', 'tend', 'ruggedness', 'latent', 'restrain', 'gush', 'evinced', 'vicissitudes', 'reliable', 'useful', 'courage', 'arises', 'crusader', 'sentiment', 'occasions', 'staple', 'outfits', 'Wherefore', 'lowering', 'persisting', 'persisted', 'critical', 'hundreds', 'deeps', 'torn', 'limbs', 'superstitiousness', 'reasonable', 'organized', 'experiences', 'remembrances', 'latently', 'engendering', 'suitable', 'confinement', 'bravery', 'abiding', 'firm', 'conflict', 'irrational', 'horrors', 'withstand', 'terrific', 'menace', 'enraged', 'reveal', 'abasement', 'sorrowful', 'shocking', 'expose', 'valour', 'detestable', 'companies', 'knaves', 'meagre', 'ideal', 'sparkling', 'ignominious', 'blemish', 'costliest', 'immaculate', 'manliness', 'intact', 'undraped', 'spectacle', 'valor', 'ruined', 'shameful', 'stifle', 'upbraidings', 'permitting', 'stars', 'august', 'treat', 'robed', 'investiture', 'shalt', 'wields', 'democratic', 'radiates', 'Himself', 'circumference', 'omnipresence', 'divine', 'equality', 'renegades', 'castaways', 'weave', 'tragic', 'graces', 'mournful', 'perchance', 'abased', 'exalted', 'mounts', 'workman', 'ethereal', 'rainbow', 'disastrous', 'critics', 'Spirit', 'Equality', 'mantle', 'humanity', 'swart', 'convict', 'Bunyan', 'poetic', 'pearl', 'clothe', 'doubly', 'hammered', 'stumped', 'paupered', 'Cervantes', 'Andrew', 'Jackson', 'pebbles', 'hurl', 'marchings', 'cullest', 'selectest', 'champions', 'kingly', 'commons', '27', 'local', 'usage', 'happy', 'valiant', 'indifferent', 'crisis', 'toiling', 'journeyman', 'joiner', 'humored', 'presided', 'arrangement', 'driver', 'unpitying', 'handedly', 'whistling', 'tinker', 'hum', 'rigadig', 'tunes', 'flank', 'bestir', 'obeyed', 'unfearing', 'cheerily', 'trudging', 'pedlars', 'packs', 'impious', 'humor', 'bunk', 'row', 'loaded', 'rack', 'succession', 'lighting', 'loading', 'readiness', 'anew', 'terribly', 'infected', 'miseries', 'numberless', 'exhaling', 'cholera', 'camphorated', 'disinfecting', 'agent', 'Tisbury', 'Martha', 'ruddy', 'pugnacious', 'leviathans', 'personally', 'hereditarily', 'affronted', 'destroy', 'majestic', 'danger', 'encountering', 'magnified', 'rat', 'requiring', 'circumvention', 'application', 'fearlessness', 'waggish', 'fun', 'lasted', 'nails', 'divided', 'wrought', 'similarly', 'Little', 'Post', 'likened', 'Arctic', 'whalers', 'radiating', 'brace', 'concussions', 'battering', 'prescription', 'headsmen', 'forces', 'descend', 'Or', 'trio', 'lancers', 'flingers', 'javelins', 'headsman', 'Knight', 'steerer', 'conjunctures', 'provides', 'subsists', 'intimacy', 'friendliness', 'selected', 'squire', 'Tashtego', 'unmixed', 'Gay', 'Head', 'westerly', 'remnant', 'village', 'neighboring', 'generic', 'Headers', 'sable', 'rounding', 'Oriental', 'largeness', 'Antarctic', 'proclaimed', 'inheritor', 'unvitiated', 'quest', 'moose', 'scoured', 'snuffing', 'trail', 'beasts', 'woodland', 'fitly', 'arrow', 'sires', 'tawny', 'lithe', 'snaky', 'credited', 'superstitions', 'earlier', 'Puritans', 'believed', 'Powers', 'Air', 'Third', 'Daggoo', 'coal', 'lion', 'tread', 'Ahasuerus', 'Suspended', 'golden', 'securing', 'halyards', 'voluntarily', 'heedful', 'retained', 'virtues', 'erect', 'giraffe', 'pomp', 'socks', 'corporeal', 'beg', 'truce', 'fortress', 'Curious', 'Squire', 'chess', 'residue', 'Americans', 'Herein', 'army', 'military', 'navies', 'engineering', 'construction', 'Canals', 'Railroads', 'liberally', 'brains', 'generously', 'supplying', 'Azores', 'augment', 'peasants', 'rocky', 'Hull', 'Islands', 'homewards', 'Islanders', 'ISOLATOES', 'acknowledging', 'continent', 'ISOLATO', 'federated', 'Isolatoes', 'An', 'Anacharsis', 'Clootz', 'deputation', 'accompanying', 'grievances', 'Pip', 'Alabama', 'tambourine', 'prelusive', 'bid', 'angels', 'hero', '28', 'peremptory', 'vicariously', 'supreme', 'penetrate', 'retreat', 'ascended', 'disquietude', 'perturbation', 'heightened', 'diabolical', 'incoherences', 'uninvitedly', 'recurring', 'subtle', 'conceived', 'poorly', 'moods', 'whimsicalities', 'apprehensiveness', 'uneasiness', 'warrantry', 'emotions', 'motley', 'ascribed', 'rightly', 'uniqueness', 'abandonedly', 'forcibly', 'calculated', 'allay', 'colourless', 'cheerfulness', 'presentment', 'likely', 'readily', 'Vineyarder', 'biting', 'southward', 'minute', 'latitude', 'merciless', 'gloomy', 'mornings', 'rapidity', 'forenoon', 'taffrail', 'foreboding', 'shivers', 'Reality', 'outran', 'illness', 'recovery', 'stake', 'overrunningly', 'particle', 'compacted', 'solid', 'bronze', 'unalterable', 'mould', 'Cellini', 'Perseus', 'Threading', 'hairs', 'continuing', 'scorched', 'slender', 'lividly', 'whitish', 'resembled', 'seam', 'tearingly', 'wrenching', 'twig', 'peels', 'grooves', 'bark', 'soil', 'greenly', 'branded', 'scar', 'tacit', 'consent', 'throughout', 'allusion', 'senior', 'superstitiously', 'fury', 'fray', 'elemental', 'strife', 'inferentially', 'negatived', 'Manxman', 'insinuated', 'traditions', 'credulities', 'popularly', 'preternatural', 'contradicted', 'tranquilly', 'office', 'sole', 'powerfully', 'affect', 'livid', 'brand', 'streaked', 'noted', 'overbearing', 'grimness', 'dismasted', 'quiver', 'posture', 'mizzen', 'auger', 'bored', 'steadied', 'elevated', 'pitching', 'infinity', 'firmest', 'determinate', 'unsurrenderable', 'wilfulness', 'dedication', 'gestures', 'expressions', 'painful', 'crucifixion', 'Ere', 'pivot', 'recluse', 'bleakness', 'secluded', 'continually', 'perceptibly', 'cruising', 'preparatives', 'needing', 'supervision', 'excite', 'layer', 'loftiest', 'peaks', 'warbling', 'persuasiveness', 'holiday', 'mood', 'cheeked', 'dancing', 'April', 'misanthropic', 'woods', 'barest', 'ruggedest', 'cloven', 'oak', 'sprouts', 'glad', 'visitants', 'respond', 'playful', 'allurings', 'girlish', 'More', 'blossom', 'flowered', '29', 'Enter', 'elapsed', 'icebergs', 'Quito', 'perpetually', 'reigns', 'Tropic', 'warmly', 'ringing', 'perfumed', 'overflowing', 'redundant', 'Persian', 'sherbet', 'heaped', 'flaked', 'starred', 'haughty', 'dames', 'jewelled', 'velvets', 'nursing', 'pride', 'memory', 'conquering', 'Earls', 'helmeted', 'suns', 'twas', 'winsome', 'seducing', 'witcheries', 'unwaning', 'lend', 'spells', 'potencies', 'Inward', 'crystals', 'noiseless', 'twilights', 'agencies', 'texture', 'linked', 'greybeards', 'oftenest', 'berths', 'cloaked', ',\"--', 'mutter', 'dug', 'band', 'sentinelled', 'slumbers', 'cautiousness', 'disturbing', 'slumbering', 'quietude', 'habitually', 'steersman', 'emerge', 'gripping', 'banister', 'crippled', 'abstained', 'patrolling', 'wearied', 'repose', 'heel', 'reverberating', 'crack', 'din', 'crunching', 'regardings', 'lumber', 'pace', 'measuring', 'mainmast', 'unassured', 'deprecating', 'humorousness', 'muffling', 'indistinctly', 'hesitatingly', 'insertion', 'Am', 'cannon', 'wouldst', 'wad', 'forgot', 'Below', 'nightly', 'Down', 'kennel', 'unforseen', 'scornful', 'speechless', 'excitedly', 'gritted', 'violently', 'passionate', 'temptation', 'emboldened', 'tamely', 'donkey', 'mule', 'ass', 'begone', 'advanced', 'DID', 'flashed', 'powder', 'Anyway', 'cracks', 'Dough', 'Boy', 'rumpled', 'coverlid', 'brick', 'Tic', 'Dolly', 'toothache', 'riddles', 'tells', 'appointments', 'snooze', 'Damn', 'babies', 'principles', 'eleventh', 'commandment', 'twelfth', 'blazes', 'jackasses', 'kicked', 'Maybe', 'aback', 'afoul', 'plaguey', 'juggling', '30', 'Pipe', 'Lighting', 'binnacle', 'planting', 'Norse', 'thrones', 'Danish', 'fabricated', 'tradition', 'narwhale', 'tripod', 'royalty', 'symbolized', 'Khan', 'Leviathans', 'soliloquized', 'tube', 'soothes', 'pleasuring', 'ignorantly', 'whiffs', 'jets', 'strongest', 'fullest', 'sereneness', 'vapours', 'locks', 'hissed', 'bubble', 'sinking', 'lurchingly', '31', 'Queen', 'Mab', 'dreamed', 'presto', 'pyramid', 'kicking', 'cane', 'stubbing', 'silly', 'toes', 'confoundedly', 'contradictory', 'cudgelling', 'whaleboning', 'farmer', 'whittled', 'badger', 'haired', 'merman', 'slews', 'bout', 'Slid', 'phiz', 'fright', 'Humpback', 'seaweed', 'marlinspikes', 'Says', 'Wise', 'muttering', 'eating', 'gums', 'hag', 'lifted', 'Halloa', 'complain', 'Listen', 'lords', 'slapped', 'queen', 'garter', 'knights', 'YOUR', 'boast', 'Remember', 'BE', 'kicks', 'honours', 'snored', 'tho', 'shouts', 'Hark', 'hereabouts', 'mum', '32', 'Cetology', 'Already', 'launched', 'unshored', 'harbourless', 'immensities', 'weedy', 'barnacled', 'thorough', 'appreciative', 'leviathanic', 'revelations', 'systematized', 'exhibition', 'genera', 'classification', 'constituents', 'essayed', 'authorities', 'Zoology', 'Scoresby', '1820', 'method', 'cetacea', 'groups', '....', 'Utter', 'confusion', 'historians', 'Surgeon', 'Beale', 'Unfitness', 'pursue', 'research', 'unfathomable', 'Impenetrable', 'veil', 'covering', 'field', 'strewn', 'thorns', 'incomplete', 'indications', 'serve', 'torture', 'naturalists', 'Cuvier', 'John', 'Hunter', 'Lesson', 'zoology', 'anatomy', 'science', 'Authors', 'Aristotle', 'Pliny', 'Aldrovandi', 'Thomas', 'Browne', 'Gesner', 'Ray', 'Linnaeus', 'Rondeletius', 'Willoughby', 'Artedi', 'Sibbald', 'Brisson', 'Marten', 'Lacepede', 'Bonneterre', 'Desmarest', 'Baron', 'Frederick', 'Owen', 'Bennett', 'Ross', 'Author', 'Miriam', 'Olmstead', 'Rev', 'Cheever', 'ultimate', 'generalizing', 'cited', 'professional', 'existing', 'usurper', 'priority', 'claims', 'fabulous', 'scientific', 'retreats', 'usurpation', 'Reference', 'rival', 'monarch', 'proclamation', 'Charing', 'Cross', 'deposed', 'reigneth', 'surgeons', 'volumes', 'literature', 'unwritten', 'comprehensive', 'outline', 'departments', 'laborers', 'hereupon', 'promise', 'faulty', 'anatomical', 'project', 'systematization', 'builder', 'sorter', 'Office', 'grope', 'foundations', 'pelvis', 'essay', 'hook', 'tauntings', 'Will', 'covenant', 'Behold', 'libraries', 'unsettled', 'vestibule', 'quarters', 'moot', 'System', 'Nature', '1776', 'declares', '1850', 'alewives', 'edict', 'grounds', 'banished', 'states', 'follows', 'bilocular', 'movable', 'eyelids', 'penem', 'intrantem', 'feminam', 'mammis', 'lactantem', 'ex', 'lege', 'naturae', 'jure', 'meritoque', 'submitted', 'Simeon', 'Macey', 'Charley', 'messmates', 'insufficient', 'profanely', 'waiving', 'argument', 'fundamental', 'internal', 'differ', 'Above', 'lungless', 'blooded', 'define', 'externals', 'conspicuously', 'label', 'SPOUTING', 'FISH', 'HORIZONTAL', 'TAIL', 'definition', 'result', 'walrus', 'amphibious', 'cogent', 'Almost', 'flat', 'vertical', 'Whereas', 'assumes', 'horizontal', 'exclude', 'brotherhood', 'identified', 'link', 'authoritatively', 'smaller', 'divisions', 'host', 'styled', 'Lamatins', 'Dugongs', 'Pig', 'Sow', 'Coffins', 'pig', 'noisy', 'lurking', 'hay', 'spout', 'deny', 'credentials', 'passports', 'Kingdom', 'According', 'divide', 'primary', 'BOOKS', 'subdivisible', 'CHAPTERS', 'comprehend', 'FOLIO', 'II', 'OCTAVO', 'III', 'DUODECIMO', 'type', 'GRAMPUS', 'PORPOISE', 'FOLIOS', 'include', 'RIGHT', 'FIN', 'BACK', 'IV', 'HUMP', 'BACKED', 'RAZOR', 'VI', 'SULPHUR', 'BOTTOM', 'BOOK', ').--', 'vaguely', 'Trumpa', 'Physeter', 'Anvil', 'Headed', 'Pottsfich', 'Germans', 'Macrocephalus', 'Words', 'obtained', 'enlarged', 'Philologically', 'individuality', 'accidentally', 'derived', 'quickening', 'syllable', 'literally', 'expresses', 'ointment', 'medicament', 'druggists', 'nowadays', 'ounce', 'rhubarb', 'opine', 'dealers', 'enhance', 'notion', 'scarcity', 'appellation', 'bestowed', 'yields', 'commonly', 'specially', 'indiscriminately', 'designated', 'titles', 'obscurity', 'baptised', 'Folios', 'Mysticetus', 'Baliene', 'Ordinaire', 'Growlands', 'Walfish', 'Swedes', 'Brazil', 'Banks', 'Coast', 'Cruising', 'Grounds', 'agree', 'radical', 'subdivisions', 'inconclusive', 'differences', 'repellingly', 'intricate', 'elucidating', 'Under', 'reckon', 'Fin', 'Tall', 'Spout', 'York', 'tracks', 'attains', 'resembles', 'portly', 'girth', 'intertwisting', 'distinguishing', 'fin', 'derives', 'vertically', 'hinder', 'angular', 'isolated', 'surface', 'moderately', 'spherical', 'ripples', 'gnomon', 'surrounding', 'dial', 'wavy', 'graved', 'Ahaz', 'gregarious', 'hater', 'haters', 'shy', 'unexpectedly', 'sullen', 'spear', 'gifted', 'defy', 'Cain', 'theoretic', 'denominated', 'WHALEBONE', 'WHALES', 'Whalebone', 'varieties', 'Broad', 'nosed', 'beaked', 'bunched', 'jawed', 'rostrated', 'connection', 'nomenclature', 'facilitating', 'founded', 'notwithstanding', 'obviously', 'basis', 'system', 'detached', 'distinctions', 'dispersed', 'regard', 'structure', 'particulars', 'humpbacked', 'similitude', 'ceases', 'irregular', 'combinations', 'methodization', 'example', 'correctly', 'classify', 'available', 'systematizer', 'external', 'enumerated', 'Bibliographical', 'adopted', 'practicable', 'pack', 'Elephant', 'Castle', 'distinguish', 'eludes', 'rises', 'ridge', 'brimstone', 'Tartarian', 'tiles', 'profounder', 'divings', 'remoter', 'walks', 'Prodigies', 'Adieu', 'Sulphur', 'Bottom', 'oldest', 'OCTAVOES', '.*--', 'embrace', 'middling', 'numbered', '.,', 'BLACK', 'NARWHALE', 'THRASHER', 'Quarto', 'proportionate', 'bookbinder', 'dimensioned', 'preserve', 'Folio', 'Octavo', 'sonorous', 'breathing', 'denizen', 'classed', 'distinctive', 'recognised', 'moderate', 'octavo', 'varying', 'corresponding', 'dimensions', 'premonitory', 'inexpressive', 'suggest', 'Hyena', 'voracity', 'angles', 'Mephistophelean', 'averages', 'showing', 'dorsal', 'profitably', 'employment', 'frugal', 'housekeepers', 'unsavory', 'wax', 'blubber', 'thin', 'NOSTRIL', 'horn', 'peaked', 'exceed', 'attain', 'Strictly', 'lengthened', 'tusk', 'depressed', 'analogous', 'clumsy', 'answers', 'Narwhale', 'rake', 'piercer', 'sheeted', 'thrusts', 'breaks', 'surmises', 'correct', 'sided', 'folder', 'pamphlets', 'Tusked', 'Horned', 'Unicorn', 'Unicornism', 'kingdom', 'cloistered', 'unicorn', 'antidote', 'prices', 'distilled', 'volatile', 'salts', 'fainting', 'deer', 'manufactured', 'hartshorn', 'Originally', 'Letter', 'Martin', 'Frobisher', 'Bess', 'gallantly', 'Greenwich', 'Palace', 'Thames', 'bended', 'highness', 'Windsor', 'Irish', 'avers', 'Earl', 'Leicester', 'picturesque', 'leopard', 'dotted', 'oblong', 'spots', 'circumpolar', 'professed', 'naturalist', 'bigness', 'grampus', 'Feegee', 'lip', 'leech', 'brute', 'worried', 'Killer', 'Exception', 'indistinctness', 'killers', 'Bonapartes', 'Sharks', 'ferule', 'thrashing', 'flogging', 'schoolmasters', 'Thrasher', 'outlaws', 'lawless', 'DUODECIMOES', 'Huzza', 'Porpoise', 'Algerine', 'Mealy', 'marshalled', 'conveys', 'hugeness', 'Duodecimoes', 'i', 'HUZZA', 'porpoise', 'bestowal', 'hilarious', 'tossing', 'caps', 'Fourth', 'July', 'Full', 'spirits', 'breezy', 'omen', 'beholding', 'vivacious', 'godly', 'gamesomeness', 'fed', 'plump', 'gallon', 'delicate', 'fluid', 'jewellers', 'watchmakers', 'Sailors', 'hones', 'discernible', 'miniature', 'ALGERINE', 'Provoke', 'buckle', 'lowered', 'MEALY', 'MOUTHED', 'fishers', 'differs', 'rotund', 'neat', 'fins', 'sentimental', 'mealy', 'spoils', 'boundary', 'streaks', 'stem', 'colours', 'comprises', 'felonious', 'Beyond', 'rabble', 'enumerate', 'appellations', 'investigators', 'begun', 'incorporated', 'Duodecimo', 'Bottle', 'Nose', 'Junk', 'Pudding', 'Leading', 'Cannon', 'Scragg', 'Coppered', 'Iceberg', 'Quog', 'Blue', 'etc', 'Icelandic', 'quoted', 'lists', 'uncouth', 'omit', 'obsolete', 'suspecting', 'Leviathanism', 'signifying', 'perfected', 'cetological', 'unfinished', 'crane', 'uncompleted', 'tower', 'erections', 'architects', 'posterity', 'completing', 'Strength', 'Cash', 'Patience', '33', 'Specksynder', 'Concerning', 'peculiarity', 'arising', 'existence', 'class', 'marine', 'attached', 'lodged', 'Literally', 'Fat', 'Cutter', 'equivalent', 'Harpooneer', 'restricted', 'navigation', 'hunting', 'department', 'concerns', 'British', 'corrupted', 'title', 'Specksioneer', 'official', 'abridged', 'ranks', 'subalterns', 'political', 'demands', 'nominally', 'familiarly', 'merchantmen', 'communicating', 'Southern', 'community', 'prevailing', 'vigilance', 'intrepidity', 'rigorous', 'discipline', 'Mesopotamian', 'materially', 'relaxed', 'skipper', 'parading', 'elated', 'grandeur', 'surpassed', 'extorting', 'shabbiest', 'shallowest', 'assumption', 'exacted', 'implicit', 'instantaneous', 'obedience', 'remove', 'detailed', 'condescension', 'TERROREM', 'unobservant', 'paramount', 'usages', 'masked', 'legitimately', 'intended', 'subserve', 'sultanism', 'unmanifested', 'incarnate', 'irresistible', 'dictatorship', 'intellectual', 'superiority', 'assume', 'supremacy', 'aid', 'entrenchments', 'paltry', 'princes', 'Empire', 'hustings', 'inferiority', 'Divine', 'Inert', 'undoubted', 'idiot', 'imbecility', 'imparted', 'potency', 'Nicholas', 'ringed', 'geographical', 'empire', 'encircles', 'plebeian', 'crouch', 'centralization', 'dramatist', 'depict', 'indomitableness', 'swing', 'moves', 'shagginess', 'episode', 'majestical', 'housings', 'denied', 'plucked', 'skies', 'featured', 'unbodied', '34', 'Cabin', 'Table', 'loaf', 'announces', 'observation', 'mutely', 'reckoning', 'medallion', 'tablet', 'reserved', 'daily', 'inattention', 'tidings', 'menial', 'mizen', 'swings', 'unexhilarated', 'Dinner', 'disappears', 'echo', 'sultan', 'Emir', 'rouses', 'pleasantness', 'lounges', 'predecessors', 'restraint', 'tipping', 'winks', 'strikes', 'hornpipe', 'Turk', 'dexterous', 'sleight', 'mizentop', 'rollicking', 'reversing', 'music', 'pauses', 'Abjectus', 'Slave', 'artificialness', 'provocation', 'defyingly', 'customary', 'straightway', 'inoffensive', 'deprecatory', 'humble', 'sits', 'problem', 'Belshazzar', 'Babylon', 'haughtily', 'courteously', 'mundane', 'intelligent', 'presides', 'unchallenged', 'dominion', 'transcends', 'dined', 'tasted', 'Caesar', 'witchery', 'czarship', 'withstanding', 'superadd', 'inference', 'derive', 'Over', 'mute', 'maned', 'warlike', 'deferential', 'cubs', 'waited', 'lurk', 'arrogance', 'dish', 'profaned', 'neutral', 'topic', 'fork', 'slice', 'alms', 'tenderly', 'grazed', 'noiselessly', 'circumspection', 'Coronation', 'Frankfort', 'German', 'Emperor', 'profoundly', 'dines', 'Imperial', 'Electors', 'forbade', 'conversation', 'dumb', 'choking', 'racket', 'youngest', 'shinbones', 'saline', 'drumsticks', 'presumed', 'tantamount', 'larceny', 'chances', 'Least', 'clotting', 'marketless', 'premium', 'subaltern', 'butterless', 'Consider', 'jammed', 'lounging', 'appetite', 'mouthfuls', 'admitted', 'hungry', 'ate', 'relieve', 'hunger', 'Peace', 'fruits', 'vanity', 'insanity', 'grudge', 'capacity', 'obtain', 'ample', 'dumfoundered', 'inverted', 'pallid', 'residuary', 'legatees', 'servants', 'hall', 'tolerable', 'constraint', 'domineerings', 'license', 'masters', 'hinges', 'relish', 'bellies', 'spices', 'fill', 'vacancies', 'baron', 'junk', 'quarried', 'ox', 'nimble', 'hop', 'skip', 'ungentlemanly', 'accelerating', 'assisted', 'trencher', 'preliminary', 'scalping', 'progeny', 'bankrupt', 'baker', 'nurse', 'periodical', 'tumultuous', 'visitations', 'Commonly', 'clutches', 'fearfully', 'blinds', 'opposing', 'crosswise', 'hearse', 'plumed', 'carlines', 'colossal', 'framework', 'African', 'wonderfully', 'abstemious', 'dainty', 'comparatively', 'diffused', 'baronial', 'superb', 'drank', 'dilated', 'giants', 'smack', 'ugly', 'trembling', 'produce', 'witted', 'shattered', 'fits', 'palsy', 'whetstone', 'whetstones', 'ostentatiously', 'sharpen', 'tranquillize', 'murderous', 'indiscretions', 'Alas', 'fares', 'waiter', 'waits', 'napkin', 'credulous', 'mongering', 'martial', 'jingling', 'Moorish', 'scimetars', 'scabbards', 'barbarians', 'sedentary', 'mealtimes', 'exception', 'rights', 'inwards', 'residing', 'lose', 'socially', 'inaccessible', 'Grisly', 'Bears', 'Missouri', 'Summer', 'Logan', 'sucking', 'paws', 'inclement', 'caved', '35', 'rotation', 'simultaneously', 'vial', 'skysail', 'poles', 'relinquish', 'capturing', 'expatiate', 'standers', 'researches', 'prior', 'progenitors', 'builders', 'Babel', 'Asia', 'assertion', 'archaeologists', 'astronomical', 'purposes', 'supported', 'stair', 'formation', 'edifices', 'upliftings', 'astronomers', 'wont', 'mount', 'Saint', 'Stylites', 'pillar', 'latter', 'summit', 'tackle', 'dauntless', 'stander', 'fogs', 'frosts', 'rain', 'hail', 'valiantly', 'facing', 'incompetent', 'discovering', 'Napoleon', 'column', 'Vendome', 'Philippe', 'Blanc', 'Baltimore', 'Hercules', 'pillars', 'Admiral', 'metal', 'Trafalgar', 'Square', 'obscured', 'madly', 'befriend', 'counsels', 'surmised', 'haze', 'descry', 'item', 'Obed', 'Macy', 'historian', 'accountable', 'cleats', 'upstairs', 'hen', 'Bay', 'descrying', 'relieving', 'tropics', 'meditative', 'delightful', 'stilts', 'Colossus', 'Rhodes', 'ruffled', 'indolently', 'drowsy', 'trade', 'languor', 'uneventfulness', 'invests', 'gazettes', 'extras', 'delude', 'excitements', 'afflictions', 'securities', 'stowed', 'immutable', 'whalesmen', 'deplored', 'devote', 'destitute', 'inhabitiveness', 'breed', 'localness', 'pertains', 'sentry', 'contrivances', 'isolate', 'Your', 'perch', 'parallel', 'beginner', 'thickest', 'glued', 'fleshy', 'tabernacle', 'envelope', 'additional', 'encasing', 'drawers', 'unprovided', 'enviable', 'tents', 'CROW', 'NESTS', 'protected', 'Sleet', 'Voyage', 'Icebergs', 're', 'Colonies', 'admirable', 'charmingly', 'circumstantial', 'invented', 'NEST', 'Glacier', 'SLEET', 'inventor', 'patentee', 'inventors', 'patentees', 'denominate', 'apparatus', 'nest', 'screen', 'ascend', 'trap', 'hatch', 'umbrellas', 'leather', 'trumpet', 'telescope', 'nautical', 'conveniences', 'rifle', 'flask', 'popping', 'stray', 'narwhales', 'vagrant', 'unicorns', 'infesting', 'successfully', 'shoot', 'resistance', 'labor', 'enlarges', 'treats', 'experiments', 'compass', 'counteracting', 'errors', 'attraction', 'error', 'ascribable', 'discreet', 'deviations', 'azimuth', 'observations', 'approximate', 'immersed', 'meditations', 'occasionally', 'bottle', 'ignore', 'comforter', 'mittened', 'mathematics', 'perches', 'pole', 'housed', 'Greenlandmen', 'disadvantage', 'counter', 'balanced', 'widely', 'seductive', 'float', 'lounge', 'leisurely', 'pastures', 'destination', 'frankly', 'admit', 'guard', 'revolving', 'altitude', 'lightly', 'Keep', 'movingly', 'admonish', 'Beware', 'enlisting', 'vigilant', 'fisheries', 'unseasonable', 'meditativeness', 'offers', 'Phaedon', 'Bowditch', 'sunken', 'eyed', 'Platonist', 'wakes', 'pint', 'richer', 'monitions', 'unneeded', 'furnishes', 'asylum', 'disgusted', 'carking', 'Childe', 'Harold', 'unfrequently', 'luckless', 'ejaculates', 'Roll', 'upbraiding', 'sufficient', 'Platonists', 'vision', 'sighted', 'visual', 'nerve', 'opera', 'lulled', 'opium', 'listlessness', 'vacant', 'blending', 'cadence', 'loses', 'pervading', 'dimly', 'uprising', 'undiscernible', 'elusive', 'flitting', 'enchanted', 'ebbs', 'Crammer', 'sprinkled', 'Pantheistic', 'forming', 'rocking', 'inscrutable', 'tides', 'Descartian', 'vortices', 'hover', 'fairest', 'throttled', 'shriek', 'transparent', 'Heed', 'Pantheists', '36', 'Quarter', 'Deck', 'ENTER', 'gentlemen', 'stride', 'geological', 'stones', 'fixedly', 'prints', 'unsleeping', 'dents', 'uniform', 'chick', 'pecks', 'shell', 'Twill', 'bigotry', 'halt', 'inserting', 'Send', 'unapprehensive', 'standpoint', 'unmindful', 'whispering', 'cautiously', 'Vehemently', 'impulsive', 'clubbed', 'approval', 'animation', 'unexpected', 'magnetically', 'Lower', 'tune', 'pull', 'fiercely', 'approving', 'shout', 'marvelling', 'purposeless', 'headers', 'dollar', 'maul', 'skirts', 'heighten', 'lustre', 'inarticulate', 'mechanical', 'wheels', 'Receiving', 'exclaiming', 'Whosoever', 'raises', 'whosoever', 'holes', 'punctured', 'fluke', 'huzza', 'tarpaulins', 'nailing', 'topmaul', 'Skin', 'separately', 'specific', 'recollection', 'Tash', 'Does', 'fan', 'Header', 'bushy', 'disjointedly', 'twiske', 'tee', 'twisk', 'faltering', 'screwing', 'uncorking', 'Corkscrew', 'wrenched', 'wheat', 'wool', 'annual', 'shearing', 'jib', 'increasing', 'hearties', 'sob', 'razeed', 'pegging', 'measureless', 'imprecations', 'Hope', 'Norway', 'Maelstrom', 'closer', 'Steward', 'grog', 'Hoot', 'requirest', 'measurer', 'accountants', 'computed', 'girdling', 'guineas', 'smites', 'methinks', 'Vengeance', 'smote', 'blindest', 'Madness', 'blasphemous', 'objects', 'pasteboard', 'masks', 'event', 'deed', 'reasoning', 'mouldings', 'unreasoning', 'prisoner', 'shoved', 'tasks', 'heaps', 'outrageous', 'sinewing', 'hate', 'wreak', 'blasphemy', 'insulted', 'herein', 'jealousy', 'presiding', 'creations', 'confines', 'fiends', 'glarings', 'doltish', 'reddenest', 'palest', 'anger', 'glow', 'unsays', 'incense', 'Turkish', 'spotted', 'leopards', 'unrecking', 'unworshipping', 'Chilian', 'snorts', 'tost', 'Reckon', 'Tis', 'surely', 'foremast', 'clutched', 'constrainings', 'seize', 'lifts', 'ASIDE', 'inhaled', 'oppose', 'rebellion', 'acquiescence', 'invocation', 'presaging', 'vibrations', 'flap', 'downcast', 'stubbornness', 'subterranean', 'admonitions', 'warnings', 'predictions', 'verifications', 'foregoing', 'constrain', 'innermost', 'necessities', 'brimming', 'pewter', 'group', 'searchingly', 'bloodshot', 'wolves', 'leader', 'bison', 'snare', 'Drink', 'handing', 'charged', 'flagon', 'Round', 'Short', 'draughts', 'swallows', 'Satan', 'hoof', 'excellently', 'spiralizes', 'drained', 'Hand', 'gulped', 'refill', 'Attend', 'braves', 'mustered', 'irons', 'revive', 'fisherman', 'pennies', 'St', 'Vitus', 'imp', 'ague', 'Advance', 'volition', 'shocked', 'emotion', 'accumulated', 'Leyden', 'quailed', 'sustained', 'maybe', 'electric', 'expired', 'Perchance', 'appoint', 'cupbearers', 'kinsmen', 'noblemen', 'Disdain', 'Pope', 'washes', 'beggars', 'tiara', 'ewer', 'cardinals', 'Cut', 'seizings', 'Silently', 'Stab', 'Cant', 'goblet', 'Turn', 'socket', 'cup', 'bearers', 'Forthwith', 'sockets', 'Commend', 'chalices', 'Bestow', 'parties', 'indissoluble', 'league', 'Yon', 'ratifying', 'deathful', 'whaleboat', 'maledictions', 'quaffed', 'hiss', 'paled', 'shivered', '37', 'Sunset', 'CABIN', 'STERN', 'WINDOWS', 'SITTING', 'ALONE', 'GAZING', 'OUT', 'turbid', 'paler', 'envious', 'sidelong', 'whelm', 'track', 'Yonder', 'rim', 'blush', 'plumbs', 'diver', 'slow', 'wearies', 'Iron', 'Crown', 'Lombardy', 'gem', 'wearer', 'flashings', 'darkly', 'dazzlingly', 'confounds', 'jagged', 'edge', 'galls', 'Dry', 'nobly', 'spurred', 'loveliness', 'ne', 'Gifted', 'perception', 'subtly', 'malignantly', 'Paradise', 'WAVING', 'HAND', 'MOVES', 'WINDOW', 'cogged', 'revolve', 'willed', 'demoniac', 'dismembered', 'prophesy', 'dismember', 'dismemberer', 'fulfiller', 'hoot', 'cricket', 'players', 'pugilists', 'deaf', 'Burkes', 'blinded', 'Bendigoes', 'schoolboys', 'bullies', 'pommel', 'YE', 'cotton', 'bags', 'swerve', 'Swerve', 'rails', 'whereon', 'grooved', 'unsounded', 'gorges', 'rifled', 'torrents', 'unerringly', 'Naught', 'obstacle', '38', 'Dusk', 'MAINMAST', 'STARBUCK', 'LEANING', 'AGAINST', 'IT', 'matched', 'overmanned', 'Insufferable', 'sting', 'sanity', 'drilled', 'nill', 'tows', 'Horrible', 'democrat', 'rebelling', 'lurid', 'shrivel', 'flow', 'hated', 'glassy', 'insulting', 'wedge', 'controlling', 'BURST', 'REVELRY', 'FORECASTLE', '.]', 'mothers', 'Whelped', 'demigorgon', 'unfaltering', 'Foremost', 'embattled', 'bantering', 'sternward', 'builded', 'gurglings', 'howl', 'thrills', 'revellers', 'feed', 'futures', '39', 'Night', 'Fore', 'Top', 'STUBB', 'SOLUS', 'MENDING', 'BRACE', 'hem', 'consequence', 'wisest', 'unfailing', 'predestinated', 'Mogul', 'twigged', 'prophesied', 'WISE', 'carcase', 'leering', 'horribles', 'Fa', 'lirra', 'skirra', 'Crying', 'Giving', 'frigate', 'pennant', 'fa', 'fleeting', 'bubbles', 'beaker', 'job', 'Midnight', 'Forecastle', 'HARPOONEERS', 'SAILORS', 'FORESAIL', 'RISES', 'DISCOVERS', 'WATCH', 'STANDING', 'LOUNGING', 'LYING', 'VARIOUS', 'ATTITUDES', 'SINGING', 'CHORUS', 'Farewell', 'adieu', '1ST', 'SAILOR', 'digestion', 'tonic', 'SINGS', 'FOLLOW', 'spy', 'viewing', 'strand', 'tubs', 'braces', 'harpooner', 'VOICE', 'QUARTER', 'DECK', 'Eight', 'bells', '2ND', 'blackling', 'hogshead', 'THRUSTS', 'HEAD', 'SCUTTLE', ',)', 'Star', 'l', 'h', 'Tumble', 'snoozing', 'maty', 'deadening', 'filliping', 'tier', 'butts', 'copper', 'pump', 'lasses', 'kiss', 'Amsterdam', 'Hist', 'jig', 'Blanket', 'hurrah', 'PIP', 'SULKY', 'SLEEPY', 'Beat', 'wag', 'Jig', 'dance', 'Form', 'file', 'gallop', 'shuffle', 'Throw', 'Legs', 'springy', 'floors', 'excuse', 'MALTESE', 'Partners', 'partners', 'SICILIAN', 'ISLAND', 'sulkies', 'Hoe', 'AZORE', 'ASCENDING', 'PITCHING', 'TAMBOURINE', 'UP', 'bitts', 'HALF', 'THEM', 'DANCE', 'SOME', 'GO', 'BELOW', 'SLEEP', 'LIE', 'AMONG', 'COILS', 'RIGGING', 'OATHS', 'PLENTY', 'DANCING', 'Bang', 'Rig', 'dig', 'stig', 'quig', 'Make', 'jinglers', 'Jinglers', 'CHINA', 'Rattle', 'pagoda', 'Hold', 'hoop', 'Split', 'jibs', 'TASHTEGO', 'QUIETLY', 'SMOKING', 'humph', 'sweat', 'OLD', 'MANX', 'threat', 'Christ', 'skulled', 'scholars', 'ballroom', 'Dance', '3D', 'Spell', 'whew', 'pulling', 'whiff', 'THEY', 'CEASE', 'GATHER', 'CLUSTERS', 'MEANTIME', 'SKY', 'DARKENS', 'WIND', 'LASCAR', 'Brahma', 'douse', 'Ganges', 'showest', 'Seeva', 'RECLINING', 'SHAKING', 'CAP', 'tassels', 'drown', 'chassee', 'evermore', 'arboring', 'ripe', 'grapes', 'interlacings', 'swayings', 'coyings', 'flutterings', 'hip', 'satiety', 'Eh', 'NUDGING', 'TAHITAN', 'MAT', 'Hail', 'nakedness', 'Heeva', 'veiled', 'palmed', 'Tahiti', 'woven', 'wilted', 'transplanted', 'streams', 'Pirohitee', 'peak', 'crags', 'villages', 'spine', 'LEAPS', 'FEET', 'PORTUGUESE', 'swashing', 'reefing', 'pell', 'mell', 'lunging', 'Crack', 'crackest', 'holdest', 'fort', 'Cattegat', 'Baltic', 'guns', 'cakes', '4TH', 'waterspout', 'cove', 'pines', 'Pines', 'hardest', 'shifted', 'clay', 'snap', 'keeled', 'birthmark', 'DAGGOO', 'bully', 'touchy', 'ADVANCING', 'undeniable', 'offence', 'GRIMLY', 'None', 'ST', 'JAGO', 'drunk', '5TH', 'SPRINGING', 'Swallow', 'mannikin', 'White', 'MEETING', 'HIM', 'Knife', 'heartily', 'WHIFF', 'Gods', 'brawlers', 'Humph', 'BELFAST', 'arrah', 'Virgin', 'Plunge', 'Fair', 'Snatch', 'Ready', 'Abel', 'topsails', 'jollies', 'SCATTER', 'SHRINKING', 'UNDER', 'WINDLASS', 'Jollies', 'Crish', 'crash', 'Blang', 'whang', 'Duck', 'whirled', 'climbing', 'cursing', 'Fine', 'prospects', 'Jimmini', 'squalls', 'shirr', 'jingle', 'anaconda', '41', 'stronger', 'sympathetical', 'quenchless', 'feud', 'greedy', 'oaths', 'violence', 'revenge', 'unaccompanied', 'haunted', 'uncivilized', 'cruisers', 'disorderly', 'adventurously', 'stretch', 'irregularity', 'indirect', 'obstructed', 'individualizing', 'doubted', 'meridian', 'malignity', 'mischief', 'assailants', 'minds', 'unfair', 'presumption', 'unfrequent', 'cunning', 'attacked', 'terror', 'fearlessly', 'calamities', 'ensue', 'sprained', 'ankles', 'devouring', 'amputations', 'fatality', 'repulses', 'accumulating', 'piling', 'rumors', 'exaggerate', 'horrify', 'histories', 'encounters', 'smitten', 'fungi', 'terra', 'firma', 'abound', 'adequate', 'cling', 'surpasses', 'wonderfulness', 'circulate', 'unexempt', 'contact', 'appallingly', 'astonishing', 'chiseled', 'longitudes', 'pursuing', 'transit', 'widest', 'spaces', 'outblown', 'incorporate', 'morbid', 'foetal', 'suggestions', 'unborrowed', 'visibly', 'prestige', 'courageous', 'inexperience', 'incompetency', 'timidity', 'decline', 'contest', 'hostilely', 'ignoble', 'primitively', 'childish', 'eminent', 'tremendousness', 'feelingly', 'prows', 'tested', 'legendary', 'Olassen', 'Povelson', 'declaring', 'incredibly', 'ferocious', 'effaced', 'Natural', 'History', 'affirms', 'precipitancy', 'amend', 'reports', 'terribleness', 'bloodthirsty', 'superstitious', 'revived', 'overawed', 'recalled', 'oftentimes', 'practised', 'warfare', 'protesting', 'although', 'hopefully', 'inevitably', 'documents', 'consulted', 'distantly', 'details', 'calamity', 'accompaniments', 'referred', 'ubiquitous', 'currents', 'divulged', 'erudite', 'pursuers', 'originated', 'speculations', 'modes', 'sounding', 'depth', 'transports', 'authoritative', 'gainsaid', 'exceeded', 'prodigies', 'Strello', 'mountain', 'Portugal', 'lake', 'wrecks', 'Arethusa', 'Syracuse', 'Land', 'underground', 'narrations', 'equalled', 'realities', 'Forced', 'familiarity', 'immortality', 'ubiquity', 'groves', 'flanks', 'unharmed', 'deception', 'unensanguined', 'unsullied', 'surmisings', 'incontestable', 'imagination', 'unwonted', 'pyramidical', 'prominent', 'limitless', 'uncharted', 'marbled', 'vivid', 'milky', 'creamy', 'spangled', 'gleamings', 'unexampled', 'dismay', 'exulting', 'apparent', 'symptom', 'alarm', 'fatalities', 'disasters', 'bruited', 'aforethought', 'dismembering', 'inflicted', 'unintelligent', 'Judge', 'pitches', 'inflamed', 'impelled', 'curds', 'smiled', 'bridal', 'oars', 'seizing', 'Arkansas', 'duellist', 'fathom', 'turbaned', 'hired', 'Venetian', 'Malay', 'Small', 'vindictiveness', 'identify', 'woes', 'exasperations', 'monomaniac', 'incarnation', 'lung', 'intangible', 'Ophites', 'reverenced', 'statue', 'deliriously', 'transferring', 'abhorred', 'pitted', 'mutilated', 'maddens', 'torments', 'stirs', 'sinews', 'demonisms', 'personified', 'practically', 'assailable', 'mortar', 'probable', 'monomania', 'dismemberment', 'corporal', 'animosity', 'agonizing', 'laceration', 'collision', 'stretched', 'gashed', 'interfusing', 'raving', 'lunatic', 'unlimbed', 'intensified', 'delirium', 'lace', 'rockings', 'stun', 'tranquil', 'thanked', 'raved', 'Human', 'feline', 'transfigured', 'subtler', 'lunacy', 'subsided', 'deepeningly', 'unabated', 'Hudson', 'Northman', 'flows', 'unfathomably', 'Highland', 'gorge', 'flowing', 'intellect', 'instrument', 'trope', 'stormed', 'concentred', 'sanely', 'darker', 'unhinted', 'popularize', 'profundities', 'Winding', 'spiked', 'Hotel', 'de', 'Cluny', 'nobler', 'sadder', 'halls', 'Thermes', 'fantastic', 'towers', 'essence', 'throned', 'torsoes', 'mock', 'captive', 'Caryatid', 'upholding', 'entablatures', 'Wind', 'prouder', 'sad', 'exiled', 'royalties', 'sire', 'namely', 'sane', 'motive', 'shun', 'dissemble', 'dissembling', 'perceptibility', 'grieved', 'casualty', 'overtaken', 'moodiness', 'brooding', 'unlikely', 'distrusting', 'fitness', 'qualified', 'wildness', 'Gnawed', 'infixed', 'unrelenting', 'incurable', 'appalling', 'brutes', 'corporeally', 'incapacitated', 'superlatively', 'underlings', 'keyed', 'engrossing', 'righteous', 'fiendish', 'profitable', 'counted', 'mint', 'immitigable', 'chasing', 'curses', 'mongrel', 'morally', 'enfeebled', 'incompetence', 'unaided', 'mindedness', 'invunerable', 'jollity', 'recklessness', 'mediocrity', 'officered', 'aboundingly', 'responded', 'ire', 'insufferable', 'understandings', 'unsuspected', 'demon', 'miner', 'whither', 'shifting', 'skiff', 'abandonment', 'deadliest', '42', 'Whiteness', 'unsaid', 'Aside', 'considerations', 'awaken', 'overpowered', 'whiteness', 'refiningly', 'beauty', 'imparting', 'japonicas', 'pearls', 'preeminence', 'Pegu', 'Elephants', 'magniloquent', 'ascriptions', 'Siam', 'unfurling', 'quadruped', 'standard', 'Hanoverian', 'charger', 'Austrian', 'Caesarian', 'heir', 'overlording', 'eminence', 'applies', 'mastership', 'gladness', 'Romans', 'sympathies', 'symbolizings', 'emblem', 'brides', 'benignity', 'wampum', 'pledge', 'typifies', 'Justice', 'ermine', 'contributes', 'steeds', 'symbol', 'spotlessness', 'worshippers', 'forked', 'holiest', 'Greek', 'mythologies', 'Iroquois', 'midwinter', 'sacrifice', 'Dog', 'festival', 'theology', 'spotless', 'purest', 'envoy', 'fidelity', 'priests', 'alb', 'tunic', 'cassock', 'pomps', 'Romish', 'faith', 'celebration', 'Passion', 'Vision', 'elders', 'sitteth', 'redness', 'affrights', 'divorced', 'kindly', 'furthest', 'bounds', 'Witness', 'flaky', 'transcendent', 'imparts', 'abhorrent', 'mildness', 'loathsome', 'gloating', 'fanged', 'tiger', 'heraldic', 'stagger', 'urged', 'heightens', 'hideousness', 'analysed', 'irresponsible', 'ferociousness', 'fleece', 'celestial', 'assuming', 'ghostliness', 'beheld', 'tallies', 'vividly', 'bestow', 'Requiem', 'eternam', 'REQUIEM', 'denominating', 'deadliness', 'REQUIN', 'Bethink', 'albatross', 'imaginations', 'Coleridge', 'unflattering', 'laureate', 'overclouded', 'feathery', 'unspotted', 'Wondrous', 'throbbings', 'inexpressible', 'methought', 'Abraham', 'warping', 'plumage', 'goney', 'Goney', 'conceivable', 'Rhyme', 'burnish', 'merit', 'poem', 'solecism', 'albatrosses', 'Whisper', 'postman', 'tying', 'lettered', 'leathern', 'tally', 'wing', 'invoking', 'adoring', 'cherubim', 'Most', 'Western', 'annals', 'Steed', 'chested', 'monarchs', 'overscorning', 'elected', 'Xerxes', 'horses', 'fenced', 'Rocky', 'Alleghanies', 'flaming', 'trooped', 'star', 'hosts', 'flashing', 'cascade', 'mane', 'comet', 'resplendent', 'beaters', 'archangelical', 'unfallen', 'trappers', 'glories', 'primeval', 'browed', 'aides', 'marshals', 'van', 'countless', 'cohorts', 'endlessly', 'streamed', 'plains', 'Ohio', 'circumambient', 'browsing', 'gallopingly', 'reviewed', 'reddening', 'milkiness', 'questioned', 'divineness', 'enforced', 'accessory', 'Albatross', 'Albino', 'peculiarly', 'repels', 'shocks', 'loathed', 'substantive', 'deformity', 'ugliest', 'abortion', 'aspects', 'palpable', 'enlist', 'crowning', 'attribute', 'gauntleted', 'Squall', 'historic', 'omitted', 'potent', 'auxiliary', 'Froissart', 'faction', 'Hoods', 'Ghent', 'bailiff', 'witness', 'supernaturalism', 'gazer', 'pallor', 'trepidation', 'borrow', 'expressive', 'wrap', 'ghosts', 'evangelist', 'rides', 'idealized', 'dissent', 'analyse', 'citation', 'impart', 'exert', 'sorcery', 'clue', 'subtlety', 'appeals', 'imaginative', 'shared', 'ideality', 'loosely', 'bare', 'Whitsuntide', 'pilgrims', 'unread', 'unsophisticated', 'Protestant', 'Middle', 'States', 'Friar', 'Nun', 'evoke', 'eyeless', 'dungeoned', 'Tower', 'untravelled', 'structures', 'Byward', 'Bloody', 'sublimer', 'dewy', 'dreaminess', 'spectralness', 'Yellow', 'lulls', 'lacquered', 'afternoons', 'gaudiest', 'sleepiest', 'sunsets', 'unsubstantial', 'purely', 'fairy', 'Central', 'Hartz', 'changeless', 'unrustlingly', 'whooping', 'imps', 'Blocksburg', 'remembrance', 'cathedral', 'toppling', 'earthquakes', 'stampedoes', 'tearlessness', 'cope', 'crosses', 'adroop', 'canted', 'suburban', 'cards', 'tearless', 'Lima', 'saddest', 'Pizarro', 'admits', 'decay', 'spreads', 'ramparts', 'rigid', 'fixes', 'distortions', 'phenomenon', 'confessed', 'exaggerating', 'unimaginative', 'awfulness', 'exhibited', 'muteness', 'universality', 'respectively', 'elucidated', 'examples', 'roar', 'starts', 'faculties', 'encircling', 'headlands', 'combed', 'whitened', 'horrible', 'assures', 'soundings', 'rests', 'Second', 'snowhowdahed', 'fancying', 'desolateness', 'reigning', 'altitudes', 'oneself', 'inhuman', 'solitudes', 'backwoodsman', 'comparative', 'views', 'unbounded', 'scenery', 'trick', 'legerdemain', 'shipwrecked', 'solace', 'churchyard', 'monuments', 'sayest', 'surrenderest', 'hypo', 'foaled', 'Vermont', 'sunniest', 'buffalo', 'robe', 'muskiness', 'snort', 'paw', 'phrensies', 'affright', 'gorings', 'associated', 'bisons', 'Oregon', 'beholdest', 'demonism', 'rending', 'goring', 'foal', 'prairies', 'rollings', 'rustlings', 'festooned', 'desolate', 'shiftings', 'windrowed', 'snows', 'exist', 'spheres', 'solved', 'incantation', 'Deity', 'intensifying', 'indefiniteness', 'heartless', 'stabs', 'concrete', 'blankness', 'atheism', 'shrink', 'emblazoning', 'tinges', 'gilded', 'butterflies', 'subtile', 'inherent', 'substances', 'deified', 'absolutely', 'paints', 'harlot', 'allurements', 'charnel', 'cosmetic', 'produces', 'operating', 'medium', 'tulips', 'blank', 'tinge', 'pondering', 'leper', 'travellers', 'Lapland', 'colouring', 'gazes', 'blind', 'monumental', 'wraps', 'Wonder', '43', 'Cabaco', 'cordon', 'extending', 'buckets', 'Standing', 'hallowed', 'precincts', 'rustle', 'occasional', 'unceasingly', 'Archy', 'neighbor', 'Cholo', 'bucket', 'cough', 'Cough', 'Pass', 'sleepers', 'Caramba', 'soaked', 'biscuits', 'knitting', 'Grin', 'Tish', '44', 'Chart', 'succeeding', 'ratification', 'yellowish', 'charts', 'shadings', 'pencil', 'courses', 'refer', 'piles', 'tracing', 'solitude', 'substituted', 'threading', 'maze', 'accomplishment', 'absurdly', 'unhooped', 'driftings', 'ascertained', 'certainties', 'timeliest', 'periodicalness', 'resorting', 'studied', 'logs', 'collated', 'migrations', 'correspond', 'invariability', 'flights', 'construct', 'elaborate', 'migratory', 'Since', 'statement', 'circular', 'Lieutenant', 'Maury', 'Observatory', '16th', 'completion', 'divides', 'districts', 'longitude', 'columns', 'horizontally', 'month', 'guided', 'undeviating', 'exactitude', 'tithe', 'precision', 'surveyor', 'strictly', 'unavoidable', 'arbitrary', 'VEIN', 'embraces', 'width', 'vein', 'expand', 'exceeds', 'circumspectly', 'breadth', 'migrating', 'expanses', 'entangle', 'delirious', 'methodical', 'scheme', 'identically', 'preceding', 'season', 'unquestionable', 'remark', 'solitaries', 'matured', 'Seychelle', 'Volcano', 'casual', 'accomplishing', 'antecedent', 'extra', 'possibilities', 'probabilities', 'fondly', 'certainty', 'conjoined', 'technical', 'Season', 'Line', 'consecutive', 'periodically', 'loiters', 'predicted', 'Zodiac', 'deeds', 'cautious', 'comprehensiveness', 'unloitering', 'hopes', 'flattering', 'sleeplessness', 'unquiet', 'postpone', 'intervening', 'southwards', 'equatorial', 'cruise', 'ensuing', 'impatiently', 'enduring', 'vacation', 'Gulf', 'Bengal', 'Monsoons', 'Pampas', 'Westers', 'Harmattans', 'Trades', 'Levanter', 'Simoon', 'devious', 'zig', 'zag', 'circumnavigating', 'discreetly', 'recognition', 'Mufti', 'thronged', 'Constantinople', 'unmistakable', 'tallied', 'poring', 'scalloped', 'breathless', 'weariness', 'faintness', 'recover', 'trances', 'consumed', 'unachieved', 'revengeful', 'clenched', 'exhausting', 'intolerably', 'resuming', 'clashing', 'throbbing', 'throes', 'chasm', 'lightnings', 'beckoned', 'yawned', 'glaring', 'escaping', 'unsuppressable', 'weakness', 'resolve', 'plainest', 'scheming', 'unappeasedly', 'dissociated', 'characterizing', 'vehicle', 'spontaneously', 'contiguity', 'integral', 'leagued', 'yielding', 'sheer', 'inveteracy', 'assumed', 'unfathered', 'glared', 'vacated', 'formless', 'somnambulistic', 'ray', 'Prometheus', 'vulture', 'creates', '45', 'Affidavit', 'adequately', 'incredulity', 'verity', 'citations', 'reliably', 'aimed', 'effected', 'cypher', 'intervened', 'trading', 'penetrated', 'endangered', 'serpents', 'tigers', 'poisonous', 'miasmas', 'incident', 'regions', 'travels', 'circumnavigated', 'brushing', 'vanquished', 'veracity', 'impeach', 'Secondly', 'historical', 'cognisable', 'killing', 'perilousness', 'Rinaldo', 'Rinaldini', 'recognise', 'cultivate', 'acquaintance', 'irascible', 'unobtrusive', 'salutations', 'summary', 'celebrity', 'renown', 'privileges', 'Cambyses', 'Timor', 'famed', 'scarred', 'straits', 'palmy', 'Ombay', 'Tattoo', 'Morquan', 'semblance', 'Miguel', 'tortoise', 'hieroglyphics', 'prose', 'students', 'Cetacean', 'Marius', 'Sylla', 'classic', 'scholar', 'creating', 'havoc', 'systematically', 'anchors', 'Narragansett', 'Woods', 'Butler', 'notorious', 'Annawon', 'headmost', 'Philip', 'printed', 'establishing', 'reasonableness', 'catastrophe', 'disheartening', 'bolstering', 'scout', 'allegory', 'conception', 'frequency', 'recur', 'deaths', 'casualties', 'transient', 'Guinea', 'newspaper', 'obituary', 'mails', 'enormousness', 'significantly', 'facetiousness', 'facetious', 'plagues', 'fortunately', 'testimony', 'HAS', 'Essex', 'Pollard', 'Dashing', 'severest', 'exposure', 'forthwith', 'forswearing', 'tempted', 'resident', 'tragedy', 'warrant', 'directed', 'injury', 'combining', 'manoeuvres', 'indicated', 'resentment', 'sufferings', 'quitting', 'despairing', 'wreck', 'HORRID', 'ASPECT', 'REVENGE', 'engrossed', 'p', 'speaks', 'MYSTERIOUS', 'MORTAL', 'ATTACK', 'ANIMAL', 'Union', '1807', 'Thirdly', '---,', 'dining', 'Oahu', 'Sandwich', 'Conversation', 'sceptical', 'amazing', 'peremptorily', 'smite', 'thimbleful', 'Valparaiso', 'consisted', 'thwack', 'pumps', 'interview', 'providential', 'Saul', 'Tarsus', 'unbelief', 'Langsdorff', 'hereof', 'Russian', 'Discovery', 'Expedition', 'seventeenth', 'thirteenth', 'Ochotsh', 'fur', 'nineteenth', 'northwest', 'reeled', 'gravity', 'Wolf', 'examine', 'damage', 'uninjured', 'Englander', 'Dorchester', 'Boston', 'nephew', 'substantiates', 'Siberian', 'purchased', 'bartering', 'manly', 'Lionel', 'Wafer', 'Dampier', 'chums', 'forbear', 'corroborative', 'Ferdinando', 'Juan', 'Fernandes', 'Main', 'prepare', 'granted', 'suddenness', 'carriages', 'shaken', 'hammocks', 'Davis', 'impute', 'earthquake', 'substantiate', 'imputation', 'stating', 'bumping', 'assailing', 'hurled', 'Pusie', 'Hall', 'transferred', 'cart', 'rally', 'acts', 'conveying', 'eloquent', 'expansion', 'illustration', 'corroborated', 'repetitions', 'millionth', 'amen', 'Solomon', 'Verily', 'sixth', 'Procopius', 'magistrate', 'Justinian', 'Belisarius', 'trustworthy', 'unexaggerating', 'affecting', 'mentions', 'prefecture', 'Propontis', 'Marmora', 'easily', 'connecting', 'constitution', 'habitual', 'resort', 'investigations', 'Barbary', 'passes', 'Dardanelles', 'route', 'BRIT', 'aliment', 'squid', 'cuttle', 'clearly', '46', 'Surmises', 'actions', 'interests', 'habituation', 'collateral', 'influential', 'refining', 'slew', 'multiplied', 'subsequently', 'hypothesis', 'exceptionable', 'ruling', 'incapable', 'swaying', 'accomplish', 'tools', 'apt', 'ascendency', 'involves', 'relation', 'coerced', 'magnet', 'joyfully', 'disintegrate', 'frustrate', 'relapses', 'leadership', 'prudential', 'respecting', 'noways', 'manifested', 'superlative', 'shrewdness', 'foreseeing', 'impiousness', 'obscure', 'proof', 'protracted', 'unrelieved', 'impetuously', 'capricious', 'unreliable', 'inhale', 'fickleness', 'promissory', 'requisite', 'employments', 'intervene', 'healthily', 'evanescent', 'constitutional', 'sordidness', 'Granting', 'incites', 'playing', 'savageness', 'breeds', 'knight', 'errantism', 'chivalric', 'Crusaders', 'traverse', 'sepulchre', 'burglaries', 'perquisites', 'disgust', 'cash', 'perspective', 'quiescent', 'mutinying', 'cashier', 'precautionary', 'Having', 'impulsively', 'prematurely', 'unanswerable', 'perfect', 'impunity', 'legal', 'disposed', 'wrest', 'barely', 'consequences', 'suppressed', 'protect', 'protection', 'consist', 'predominating', 'atmospheric', 'subjected', 'analytic', 'verbally', 'evince', 'admonishing', 'reporting', '47', 'Mat', 'Maker', 'cloudy', 'sultry', 'lazily', 'weaving', 'lashing', 'subdued', 'preluding', 'repassing', 'woof', 'marline', 'warp', 'shuttle', 'threads', 'idly', 'unthinkingly', 'drove', 'intermitting', 'Loom', 'unchanging', 'interblending', 'necessity', 'ply', 'destiny', 'hitting', 'slantingly', 'crookedly', 'weakly', 'fabric', 'shapes', 'fashions', 'nowise', 'incompatible', 'interweavingly', 'swerved', 'alternating', 'restrained', 'prescribed', 'featuring', 'musically', 'wand', 'perched', 'seer', 'Fate', 'beam', 'ticks', 'uniformity', 'tribes', 'genus', 'heading', 'confidently', 'mills', 'deceitfulness', 'shipkeepers', 'appointed', 'cranes', 'mainyard', 'samphire', 'baskets', 'cliffs', 'Outside', 'clung', 'rail', 'expectantly', 'poised', 'gunwale', '48', 'Lowering', 'tackles', 'bands', 'technically', 'tooth', 'evilly', 'protruding', 'Chinese', 'funereally', 'ebonness', 'plaited', 'turban', 'coiled', 'Less', 'Manillas', 'diabolism', 'subtilty', 'spies', 'Fedallah', 'leaped', 'Hardly', 'fourth', 'rowing', '?--\"', 'Spread', 'oar', 'Lay', 'addressing', 'stowaways', 'Pull', 'drawlingly', 'soothingly', 'sighed', 'backbones', 'Tut', 'merrier', 'pounds', 'stakes', 'Easy', 'rascals', 'Bite', 'ragamuffin', 'rapscallions', 'snoring', 'gudgeons', 'ginger', 'girdle', 'Start', 'spikes', 'exordium', 'inculcating', 'sermonizings', 'passions', 'compounded', 'spice', 'oarsman', 'invocations', 'indolent', 'loungingly', 'managed', 'broadly', 'gaped', 'humorists', 'inferiors', 'whisperingly', 'urging', 'flint', 'Smuggled', '!)\"', 'whisper', '!)', 'hogsheads', 'clapt', 'advent', 'confident', 'accounting', 'freed', 'conjectures', 'agency', 'creeping', 'enigmatical', 'hintings', 'hammers', 'strokes', 'boiler', 'Mississippi', 'steamer', 'displayed', 'depressions', 'fencer', 'counterbalance', 'tendency', 'managing', 'lowerings', 'outstretched', 'Nimbly', 'springing', 'intensely', 'triangularly', 'platformed', 'adroitly', 'balancing', 'jerking', 'tossings', 'chip', 'breathlessly', 'loggerhead', 'rooted', 'platform', 'spacious', 'palm', 'trucks', 'erecting', 'volunteered', 'pedestal', 'taller', 'Whereupon', 'firmly', 'toss', 'fling', 'furnishing', 'breastband', 'tyro', 'habitude', 'riotously', 'perverse', 'giddily', 'sustaining', 'unthought', 'harmoniously', 'flaxen', 'flake', 'bearer', 'rider', 'ostentatious', 'stamp', 'lordly', 'Vanity', 'stamping', 'alter', 'betrayed', 'solicitudes', 'languishing', 'hatband', 'aslant', 'feather', 'rammed', 'thumb', 'ignited', 'sandpaper', 'attitude', 'crying', 'phrensy', 'greenish', 'suffusingly', 'confused', 'vibrated', 'tingled', 'heated', 'plates', 'Beneath', 'curling', 'partially', 'Seen', 'forerunning', 'couriers', 'outriders', 'bade', 'outstrip', 'lowest', 'intensest', 'concentrated', 'startlingly', 'pierced', 'harsh', 'entreaty', 'Roar', 'thunderbolts', 'stamped', 'flirted', 'crazed', 'philosophically', 'drawled', 'unlighted', 'Fits', 'Merrily', 'merrily', 'babes', 'sucklings', 'Softly', 'bite', 'livers', 'tornado', 'fictitious', 'incessantly', 'tantalizing', 'oarsmen', 'ram', 'skewer', 'necks', 'pronouncing', 'organs', 'gunwales', 'bowls', 'bowling', 'sharper', 'glens', 'hollows', 'spurrings', 'goadings', 'headlong', 'sled', 'brood', 'thrilling', 'raw', 'recruit', 'fever', 'charmed', 'churned', 'dun', 'cloud', 'tilted', 'separating', 'worked', 'suffusing', 'denoted', 'overheard', 'hurtling', 'wallowing', 'elephants', 'stirring', 'litter', 'hissing', 'crests', 'ledge', 'collapsed', 'exploded', 'suffocated', 'helter', 'skelter', 'curdling', 'cream', 'swamped', 'Swimming', 'bucklers', 'crackled', 'unconsumed', 'furnace', 'bale', 'propellers', 'preservers', 'waterproof', 'keg', 'failures', 'contrived', 'ignite', 'stretching', 'waif', 'imbecile', 'forlornness', 'Wet', 'drenched', 'hollowing', 'mists', 'Affrighted', 'loomed', 'Floating', 'abandoned', 'haply', '49', 'wit', 'discerns', 'dispirits', 'disputing', 'creeds', 'beliefs', 'persuasions', 'knobby', 'ostrich', 'gobbles', 'bullets', 'flints', 'difficulties', 'worryings', 'disaster', 'limb', 'sly', 'natured', 'hits', 'punches', 'joker', 'wayward', 'tribulation', 'desperado', 'foggy', 'discretion', 'leaking', 'twist', 'squint', 'impartial', 'witnesses', 'capsizings', 'consequent', 'bivouacks', 'occurrence', 'resign', 'impetuousness', 'scuttling', 'stampings', 'imputed', 'heedfulness', 'implicated', 'draft', 'lawyer', 'executor', 'legatee', 'tinkering', 'wills', 'testaments', 'fond', 'diversion', 'easier', 'supplementary', 'burial', 'contentedly', 'bars', 'frock', 'hindmost', '50', 'Crew', 'catch', 'toe', 'disable', 'kneel', 'jeopardize', 'Tamerlane', 'invaluable', 'maimed', 'apportioned', 'solicited', 'measures', 'published', 'foreseen', 'fitting', 'whaleboats', 'bestirring', 'thole', 'solicitously', 'skewers', 'pinned', 'groove', 'solicitude', 'sheathing', 'shaping', 'thigh', 'cleat', 'stabbing', 'semi', 'depression', 'chisel', 'gouged', 'straightened', 'preparative', 'supposition', 'involve', 'subordinate', 'waned', 'wane', 'Beelzebub', 'create', 'unsubduable', 'excitement', 'mannerly', 'tie', 'sustain', 'temperate', 'glide', 'Asiatic', 'communities', 'ghostly', 'aboriginalness', 'descendants', 'unknowing', 'Genesis', 'uncanonical', 'Rabbins', 'indulged', 'amours', '51', 'Days', 'Verdes', 'Plate', 'Rio', 'Plata', 'Carrol', 'unstaked', 'locality', 'southerly', 'Helena', 'scrolls', 'seethings', 'silvery', 'Lit', 'successive', 'uttering', 'reclining', 'winged', 'quivered', 'pleasure', 'impressive', 'exciting', 'instinctively', 'Walking', 'royals', 'stunsail', 'upheaving', 'buoyant', 'antagonistic', 'struggling', 'yawingly', 'goal', 'watched', 'echoes', 'tap', 'sped', 'arrows', 'overtake', 'Mysteriously', 'jetted', 'starlight', 'disappearing', 'repetition', 'alluring', 'accordance', 'preternaturalness', 'unnearable', 'treacherously', 'beckoning', 'rend', 'blandness', 'voyaged', 'wearily', 'lonesomely', 'vengeful', 'vacating', 'urn', 'eastward', 'tusked', 'gored', 'showers', 'vacuity', 'Close', 'ravens', 'stays', 'hootings', 'obstinately', 'hemp', 'drifting', 'uninhabited', 'roosting', 'homeless', 'selves', 'remorse', 'suffering', 'Tormentoto', 'yore', 'allured', 'perfidious', 'silences', 'transformed', 'everlastingly', 'unvarying', 'directing', 'feathers', 'gloomiest', 'reserve', 'passively', 'await', 'issue', 'fatalists', 'congeal', 'eyelashes', 'burstingly', 'bowline', 'loosened', 'Few', 'prevailed', 'bowlines', 'wordless', 'demanding', 'barometer', 'dripping', 'unremoved', 'unrolled', 'tale', 'inform', 'Terrible', 'eyest', '52', 'Crozetts', 'Whalemen', 'fullers', 'spectral', 'traced', 'channels', 'reddened', 'furred', 'hoar', 'clad', 'skins', 'bepatched', 'raiment', 'fathomless', 'amain', 'evincing', 'observance', 'advantage', 'Ahoy', 'letters', 'placidly', 'voyagings', 'capriciously', 'Swim', 'helpless', 'diminish', 'inspire', 'whereto', 'circumnavigation', 'distances', 'Cyclades', 'mazes', 'midway', 'whelmed', '53', 'Gam', 'ostensible', 'storms', 'negative', 'consort', 'contribute', 'information', 'absorbingly', 'inadequately', 'estimated', 'Pine', 'Barrens', 'equally', 'Salisbury', 'Plain', 'casually', 'inhospitable', 'wilds', 'salutation', 'interchange', 'illimitable', 'Plains', 'Fanning', 'Mills', 'hails', 'consequently', 'bounder', 'date', 'blurred', 'files', 'transfer', 'meets', 'exchange', 'agreeable', 'congenialities', 'privations', 'meetings', 'occur', 'shyness', 'Englishman', 'Yankee', 'nondescript', 'provincialisms', 'peasant', 'collectively', 'foible', 'foibles', 'dandies', 'indulging', 'finical', 'criticism', 'bowings', 'scrapings', 'ducking', 'ensigns', 'brotherly', 'Pirates', 'skulls', 'villains', 'overmuch', 'likenesses', 'unostentatious', 'GAM', 'repeat', 'spouters', 'boilers', 'exclamations', 'elevation', 'foundation', 'boasting', 'index', 'dictionaries', 'Dr', 'Johnson', 'erudition', 'Lexicon', 'learnedly', 'NOUN', 'SOCIAL', 'MORE', 'WHALESHIPS', 'GENERALLY', 'CRUISING', 'GROUND', 'WHEN', 'AFTER', 'EXCHANGING', 'HAILS', 'EXCHANGE', 'VISITS', 'BOATS', 'CREWS', 'CAPTAINS', 'REMAINING', 'TIME', 'BOARD', 'CHIEF', 'MATES', 'Gamming', 'detail', 'rowed', 'cushioned', 'steers', 'milliner', 'decorated', 'ribbons', 'sofa', 'wheeled', 'gouty', 'aldermen', 'effeminacy', 'gamming', 'maintaining', 'reciprocating', 'rapping', 'wedged', 'settling', 'topple', 'Merely', 'straddling', 'steadying', 'ballast', 'authenticated', '54', 'Town', 'Ho', 'Story', 'AS', 'GOLDEN', 'INN', ',*', 'Polynesians', 'gam', 'obscurely', 'visitation', 'judgments', 'narrated', 'confederate', 'communicated', 'injunctions', 'secrecy', 'rambled', 'withhold', 'governed', 'transpired', 'abaft', 'Interweaving', 'thread', 'publicly', 'lasting', 'sighting', 'Gallipagos', 'terrapin', 'saint', 'gilt', 'tiled', 'piazza', 'Golden', 'cavaliers', 'Dons', 'Pedro', 'Sebastian', 'interluding', 'rehearsing', 'Whaler', 'eaves', 'handling', 'stabbed', 'believing', 'awaited', 'averse', 'searching', 'cruisings', 'sensibly', 'hove', 'repaired', 'commonest', 'favoured', 'prosperous', 'brutal', 'Radney', 'provoked', 'Steelkilt', 'Lakeman', 'Buffalo', 'Pray', 'eastern', 'Lake', 'Erie', 'crave', 'masted', 'Callao', 'Manilla', 'agrarian', 'freebooting', 'interflowing', 'Ontario', 'Huron', 'Superior', 'Michigan', 'expansiveness', 'noblest', 'traits', 'rimmed', 'races', 'contain', 'Polynesian', 'shored', 'approaches', 'territorial', 'East', 'banks', 'frowned', 'batteries', 'craggy', 'Mackinaw', 'thunderings', 'victories', 'peltry', 'wigwams', 'flanked', 'unentered', 'serried', 'genealogies', 'harboring', 'Afric', 'exported', 'furs', 'capitals', 'Cleveland', 'Winnebago', 'rigged', 'cruiser', 'Borean', 'dismasting', 'blasts', 'lash', 'shipwrecks', 'inlander', 'austere', 'quarrel', 'backwoods', 'buck', 'bowie', 'inflexible', 'firmness', 'tempered', 'decency', 'docile', 'doomed', 'require', 'skippers', 'pumping', 'subsiding', 'clanging', 'accessible', 'afforded', 'hoisted', 'unthinking', 'conveniently', 'slily', 'overflowed', 'rippling', 'bubbling', 'scupper', 'conventional', 'manhood', 'conceives', 'dislike', 'bitterness', 'pulverize', 'heap', 'tasseled', 'viceroy', 'snorting', 'Charlemagne', 'Espying', 'unawed', 'banterings', 'cannikin', 'bottling', 'Rad', 'investment', 'gang', 'posse', 'slashing', 'scatter', 'estate', 'Boys', 'Lively', 'clanged', 'engines', 'gasping', 'denotes', 'tension', 'energies', 'panting', 'wiping', 'profuse', 'cozening', 'fiend', 'meddle', 'Intolerably', 'shovel', 'offensive', 'allowing', 'inflexibility', 'instinctive', 'neatness', 'washing', 'prescriptive', 'province', 'gangs', 'athletic', 'trivial', 'malignant', 'stacks', 'forbearance', 'unwillingness', 'passionateness', 'ireful', 'aggrieved', 'exhaustion', 'alluding', 'sweepers', 'billeted', 'domineering', 'unconditionally', 'reiterating', 'club', 'snatched', 'Heated', 'irritated', 'spasmodic', 'sweating', 'brook', 'smothering', 'conflagration', 'doggedly', 'incensed', 'menacing', 'intimation', 'warned', 'infatuated', 'forborne', 'comported', 'repeating', 'Retreating', 'thousandth', 'unflinching', 'poniard', 'clenching', 'creepingly', 'persecutor', 'slaughter', 'Immediately', 'backstays', 'mastheads', 'Canallers', 'harbours', 'Pardon', 'boatmen', 'Canal', 'Senor', 'chicha', 'populous', 'thriving', 'swamps', 'affluent', 'cultivated', 'unrivalled', 'fertility', 'billiard', 'holies', 'Mohawk', 'counties', 'chapels', 'milestones', 'Venetianly', 'Ashantee', 'patronising', 'freebooters', 'encamp', 'justice', 'vicinities', 'friar', 'crowded', 'plazza', 'Dame', 'Isabella', 'Inquisition', 'wanes', 'Proceed', 'Limeese', 'Venice', 'Corrupt', 'plentiful', 'Dominic', 'purge', 'Thanks', 'Freely', 'depicted', 'Canaller', 'picturesquely', 'Antony', 'turfed', 'Nile', 'toying', 'Cleopatra', 'ripening', 'apricot', 'brigandish', 'sports', 'gaily', 'ribboned', 'betoken', 'smiling', 'visage', 'swagger', 'unshunned', 'vagabond', 'canal', 'ungrateful', 'redeeming', 'wealthy', 'emphatically', 'graduates', 'Sydney', 'curiousness', 'rural', 'probationary', 'reaping', 'spilling', 'ruffles', 'backstay', 'junior', 'baleful', 'comets', 'uproar', 'Others', 'turmoil', 'danced', 'manhandle', 'atrocious', 'scoundrel', 'border', 'prick', 'desperadoes', 'hastily', 'slewing', 'Parisians', 'entrenched', 'barricade', 'throats', 'defied', 'worst', 'pistols', 'signal', 'mutiny', 'Fearing', 'desisted', 'insurgents', 'ringleader', 'Sink', 'response', 'patrolled', 'sentences', \":--'\", 'fault', 'mincing', 'decently', 'flogged', 'promises', 'claim', 'discharge', 'Shall', 'preceded', 'growlingly', 'brass', 'padlock', 'companionway', 'hatchway', 'feared', 'bulkhead', 'clinking', 'clanking', 'resounded', 'prisoners', 'yell', 'refused', 'pocketing', 'Twice', 'wrangling', 'scuffling', 'summons', 'delivered', 'fetid', 'closeness', 'famishing', 'diet', 'retribution', 'surrender', 'Emboldened', 'reiterated', 'babbling', 'betake', 'mutineers', 'jeer', 'Shut', 'clicked', 'defection', 'associates', 'stung', 'mocking', 'entombment', 'garrison', 'crescentic', 'implements', 'amuck', 'devilishness', 'desperation', 'opposition', 'objected', 'reserving', 'miscreants', 'treachery', 'determination', 'chemistry', 'villany', 'treacheries', 'gagged', 'shrieked', 'Thinking', 'smelling', 'allies', 'claimed', 'collared', 'vultures', 'rebelled', 'flog', 'timely', 'reprimand', 'administered', 'vernacular', 'rogues', 'mince', 'traitors', 'lifelessly', 'crucified', 'bantam', 'gag', 'mutineer', 'tremulous', 'cramped', 'Best', 'inaudible', 'execute', 'bandaged', 'crept', 'pinioned', 'sullenly', 'clamor', 'besieged', 'durst', 'Entreaties', 'cuffs', 'reappeared', 'mainly', 'instigation', 'peacefulness', 'insure', 'speediest', 'adopt', 'passiveness', 'counsel', 'ventricles', 'unseamanlike', 'dozed', 'vacancy', 'leisure', 'braiding', 'lanyard', 'oddish', 'Shipmate', 'begging', 'netted', 'tucking', 'Twenty', 'ordaining', 'corpse', 'murderer', 'planned', 'avenger', 'damning', 'daybreak', 'stupid', 'Teneriffe', 'Jesu', 'christenings', 'Whom', 'Spaniards', 'crowding', 'rehearse', 'Sirs', 'perceiving', 'forgetful', 'compact', 'undeterred', 'rumours', 'dogged', 'askance', 'spangling', 'opal', 'Gentlemen', 'pervades', 'verily', 'mapped', 'charted', 'bowsman', 'haul', 'slacken', 'strained', 'topmost', 'blinding', 'blent', 'whitenesses', 'keeling', 'righted', 'maelstrom', 'swimmer', 'slackened', 'whirlpool', 'resided', 'foremastmen', 'reduced', 'assist', 'laborious', 'unresting', 'necessitated', 'underwent', 'weakened', 'stacked', 'poop', 'warning', 'procure', 'reinforcement', 'corals', 'yoked', 'assuring', 'bury', 'Adios', 'Watching', 'beached', 'roots', 'cocoa', 'befriended', 'providentially', 'Tahitians', 'Chartering', 'refuses', 'entreat', 'convictions', 'source', 'Also', 'Evangelists', 'priest', 'advised', 'Auto', 'da', 'Fe', 'archiepiscopacy', 'withdraw', 'Excuse', 'procuring', 'sized', 'brings', 'gravely', 'talked', '55', 'Monstrous', 'Pictures', 'advert', 'imaginary', 'portraits', 'challenge', 'proving', 'pictorial', 'delusions', 'Hindoo', 'Grecian', 'sculptures', 'inventive', 'unscrupulous', 'panellings', 'temples', 'pedestals', 'statues', 'shields', 'medallions', 'chain', 'Saladin', 'presentations', 'portrait', 'purporting', 'cavern', 'Brahmins', 'trades', 'pursuits', 'avocation', 'prefigured', 'shadowed', 'occurs', 'depicting', 'Vishnu', 'Matse', 'Avatar', 'sculpture', 'section', 'Galleries', 'painter', 'succeeds', 'antediluvian', 'Guido', 'rescuing', 'Andromeda', 'Hogarth', 'Descending', 'whit', 'corpulence', 'Hogarthian', 'undulates', 'howdah', 'Traitors', 'Gate', 'Prodromus', 'Bibles', 'cuts', 'primers', 'binder', 'vine', 'stalk', 'imitated', 'figures', 'vases', 'universally', 'Italian', 'publisher', '15th', 'Revival', 'Learning', 'dolphins', 'vignettes', 'embellishments', 'eau', 'Saratoga', 'Baden', 'unexhausted', 'edition', 'Advancement', 'unprofessional', 'delineations', 'Harris', 'collection', 'Peterson', 'Friesland', 'rafts', 'represented', 'quarto', 'Colnett', 'Spermaceti', 'Fisheries', 'Picture', 'scale', '1793', 'veracious', 'benefit', 'compilations', 'tender', 'heinousness', 'Goldsmith', 'Animated', 'inelegant', 'unsightly', 'amputated', 'amaze', 'hippogriff', 'genuine', '1825', 'Bernard', 'Germain', 'Count', 'systemized', 'incorrect', 'sheaf', 'blundering', 'Before', 'provide', 'squash', 'predecessor', 'abortions', 'saucers', 'painters', 'shops', 'Richard', 'dromedary', 'humps', 'breakfasting', 'tarts', 'deformities', 'floundering', 'manifold', 'mistakes', 'drawings', 'wrecked', 'represent', 'undashed', 'hoist', 'undulations', 'highly', 'presumable', 'contour', 'Platonian', 'limbered', 'accurate', 'Jeremy', 'Bentham', 'library', 'burly', 'characteristics', 'articulated', 'padded', 'chrysalis', 'roundingly', 'envelopes', 'strikingly', 'permanently', 'mittens', 'unpainted', 'exactness', 'fastidious', '56', 'Erroneous', 'Scenes', 'Purchas', 'Hackluyt', 'outlines', 'Huggins', 'excepting', 'capping', 'frontispiece', 'attacking', 'scepticism', 'admirably', 'wretchedly', 'engraved', 'convey', 'desirable', 'deficiency', 'truthful', 'engravings', 'executed', 'paintings', 'Garnery', 'Respectively', 'engraving', 'risen', 'stoven', 'incomputable', 'precipice', 'emptied', 'tub', 'bob', 'Serious', 'mossy', 'soot', 'cooking', 'pecking', 'candies', 'maccaroni', 'pestilent', 'lipped', 'tons', 'causing', 'foreground', 'artistic', 'becalmed', 'drooping', 'unstarched', 'powerless', 'inert', 'conversant', 'marvellously', 'tutored', 'gallery', 'triumphal', 'Versailles', 'beholder', 'battles', 'Lights', 'centaurs', 'aptitude', 'picturesqueness', 'sketches', 'draughtsmen', 'presenting', 'profile', 'sketching', 'renowned', 'miniatures', 'classical', 'chopping', 'diligence', 'Leuwenhoeck', 'submits', 'inspection', 'ninety', 'fac', 'similes', 'disparagement', 'voyager', 'oversight', 'affidavit', 'subscribes', 'Durand', 'deserves', 'inshore', 'breezeless', 'Leviathanic', 'quay', 'smithies', 'rains', 'quicken', '57', 'Paint', 'Teeth', 'Sheet', 'Stone', 'Stars', 'KEDGER', 'integrity', 'justification', 'clearings', 'speech', 'ruefully', 'contemplating', 'amputation', 'Throughout', 'graven', 'busks', 'skrimshander', 'ingenious', 'elaborately', 'carve', 'dentistical', 'skrimshandering', 'tool', 'exile', 'civilization', 'restores', 'savagery', 'allegiance', 'Cannibals', 'rebel', 'patience', 'Hawaiian', 'multiplicity', 'elaboration', 'trophy', 'perseverance', 'lexicon', 'intricacy', 'cost', 'workmanlike', 'maziness', 'Achilles', 'shield', 'suggestiveness', 'Albert', 'Durer', 'Wooden', 'forecastles', 'accuracy', 'roofed', 'knockers', 'porter', 'anvil', 'intents', 'labelled', 'HANDS', 'OFF', 'ribby', 'groupings', 'petrified', 'windy', 'surges', 'amphitheatrical', 'heights', 'glimpses', 'profiles', 'defined', 'ridges', 'intersecting', 'Soloma', 'incognita', 'ruffed', 'Mendanna', 'Figuera', 'chronicled', 'expandingly', 'starry', 'armies', 'Pole', 'revolutions', 'effulgent', 'Argo', 'Navis', 'Hydrus', 'Flying', 'bridle', 'fasces', 'fabled', 'encamped', '58', 'Brit', 'Steering', 'brit', 'undulated', 'numbers', 'sluggishly', 'fringing', 'separated', 'seethingly', 'grassy', 'swaths', 'shallows', 'drifts', 'blackened', 'elevations', 'beholds', 'renders', 'bulky', 'overgrowth', 'specialties', 'analogy', 'unspeakably', 'unsocial', 'repelling', 'Columbus', 'superficial', 'immemorially', 'befallen', 'tens', 'brag', 'stateliest', 'stiffest', 'aboriginally', 'Portuguese', 'covers', 'Wherein', 'miracle', 'Preternatural', 'Hebrews', 'Korah', 'murdered', 'sparing', 'spawned', 'tigress', 'jungle', 'overlays', 'controls', 'Panting', 'overruns', 'subtleness', 'unapparent', 'loveliest', 'brilliance', 'cannibalism', 'gentle', 'verdant', 'encompassed', 'Push', 'canst', '59', 'Squid', 'Slowly', 'wading', 'Java', 'impelling', 'languid', 'unattended', 'stagnant', 'burnished', 'glade', 'enjoining', 'slippered', 'spectre', 'disentangling', 'arose', 'stiletto', 'nod', 'swarming', 'bees', 'boughs', 'Bare', 'attendance', 'connect', 'whichever', 'reappearance', 'forgetting', 'pulpy', 'furlongs', 'innumerable', 'anacondas', 'hapless', 'perceptible', 'sensation', 'Whatever', 'rarely', 'obtains', 'zones', 'disgorge', 'ordinarily', 'clings', 'Kraken', 'Bishop', 'Pontoppodan', 'ultimately', 'describes', 'alternately', 'narrates', 'abatement', 'assigns', 'Anak', '60', 'magical', 'vapoured', 'impregnated', 'pliable', 'maker', 'stiffen', 'adds', 'durability', 'compactness', 'gloss', 'superseded', 'durable', 'aesthetics', 'Hemp', 'Circassian', 'thickness', 'suspend', 'spirally', 'densely', 'bedded', 'layers', 'concentric', 'spiralizations', 'tangle', 'precaution', 'stowing', 'consume', 'reeving', 'twists', 'twin', 'diameter', 'freight', 'distributed', 'cake', 'terminating', 'loop', 'disengaged', 'facilitate', 'fastening', 'threaten', 'mug', 'hovers', 'profundity', 'crier', 'loom', 'jogs', 'leaded', 'chocks', 'quill', 'prevents', 'festoon', 'continues', 'mystifications', 'tedious', 'writhing', 'contortions', 'jugglers', 'snakes', 'sportively', 'festooning', 'intricacies', 'straining', 'circumstanced', 'marrow', 'jelly', 'Gayer', 'sallies', 'mirth', 'jokes', 'repartees', 'hangman', 'nooses', 'burghers', 'Calais', 'Edward', 'composing', 'halter', 'whizzings', 'engine', 'grazing', 'cradle', 'adjusting', 'buoyancy', 'simultaneousness', 'Mazeppa', 'pierce', 'precedes', 'prophesies', 'explosion', 'graceful', 'serpentines', 'enveloped', 'halters', 'realize', 'poker', '61', 'Kills', 'honing', 'parm', 'resist', 'voyaging', 'affords', 'fewer', 'denizens', 'resolution', 'pendulum', 'forgetfulness', 'nodded', 'vices', 'glossy', 'trough', 'vapoury', 'burgher', 'enchanter', 'wakefulness', 'Clear', 'Luff', 'spokes', 'majestically', 'tranquillity', 'flitted', 'igniting', 'smoker', 'Paddles', 'cheered', '\";', 'elevates', 'elevating', 'transform', 'sluggish', 'galliot', 'sharppointed', 'spluttering', 'cucumbers', 'graves', 'Woo', 'hoo', 'Wa', 'hee', 'screamed', 'whoop', 'bounced', 'screams', 'Kee', 'forwards', 'backwards', 'cage', 'Ka', 'Koo', 'loo', 'smacking', 'mouthful', 'Grenadier', 'steak', 'yells', 'keels', 'retaining', 'encouraged', 'tugged', 'circlings', 'mingled', 'fumes', 'blisteringly', 'cloths', 'quilted', 'edged', 'staggering', 'Partly', 'indispensableness', 'mop', 'piggin', 'bailer', 'vibrating', 'harpstring', 'played', 'ceaseless', 'eddy', 'clinging', 'Whole', 'Atlantics', 'Pacifics', 'Haul', 'sterning', 'brooks', 'bubbled', 'seethed', 'crimson', 'pond', 'reflection', 'glowed', 'agonizingly', 'spiracle', 'vehement', 'waning', 'churning', 'flurry', 'horribly', 'wallowed', 'overwrapped', 'impenetrable', 'imperilled', 'struggle', 'phrensied', 'abating', 'spasmodically', 'dilating', 'contracting', 'agonized', 'respirations', 'clotted', 'frighted', 'thoughtfully', '62', 'Dart', 'invariable', 'pushes', 'killer', 'fastener', 'uttermost', 'superhuman', 'bawl', 'crotch', 'disrated', 'expect', 'boatheader', 'majority', 'efficiency', '63', 'Crotch', 'twigs', 'productive', 'notched', 'slopingly', 'projects', 'Thereby', 'hurler', 'reposing', 'cord', 'doubling', 'convulsive', 'anticipatingly', 'Tumbled', 'prudently', 'Furthermore', 'thenceforth', 'dangling', 'skittishly', 'curvetting', 'entangling', 'engaging', 'unusually', 'concurring', 'enterprise', 'ineffectually', 'faithfully', 'elucidate', 'passages', '64', 'tandem', 'thumbs', 'toiled', 'budge', 'Hang', 'freighted', 'argosy', 'forged', 'Darkness', 'lanterns', 'Vacantly', 'dissatisfaction', 'links', 'Tied', 'bullocks', 'whereof', 'reclines', 'density', 'relatively', 'heavier', 'flexibility', 'ingeniously', 'overcome', 'adroit', 'junction', 'lobes', 'quiescence', 'flushed', 'conquest', 'helping', 'liveliness', 'manifest', 'intemperately', 'flavorish', 'palate', 'defray', 'expenses', 'realizing', 'stoutly', 'sideboard', 'banqueter', 'Mingling', 'mumblings', 'mastications', 'smackingly', 'feasted', 'fatness', 'bunks', 'slapping', 'Peering', 'scooped', 'unassailable', 'contrive', 'gouge', 'symmetrical', 'countersinking', 'screw', 'longingly', 'cannibally', 'tasselled', 'jewel', 'hilted', 'quarrelsomely', 'upside', 'trotting', 'handy', 'congregate', 'hilariously', 'gayer', 'jovial', 'whaleship', 'decision', 'expediency', 'conciliating', 'epicurean', 'Fleece', 'widening', 'glee', 'shambling', 'galley', 'blacks', 'assisting', 'Ebony', 'legged', 'inclining', 'reddish', 'morsel', 'overdone', 'tough', 'shindy', 'civilly', 'moderation', 'Away', 'message', 'Sullenly', 'Fellow', 'critters', 'se', 'dat', 'smackin', 'ob', 'Massa', 'hatchings', 'Gor', 'slap', 'mustn', 'convert', 'Den', 'Belubed', ':\"-', 'approvingly', 'coax', 'natur', 'wery', 'woracious', 'zay', 'woraciousness', 'slappin', 'bitin', 'collaring', 'gentlemanly', 'blame', 'gobern', 'sartin', 'ing', 'dan', 'goberned', 'ren', 'wonst', 'cibil', 'yourselbs', 'tearin', 'neighbour', 'mout', 'toder', 'berry', 'brigger', 'oders', 'mouts', 'brigness', 'swaller', 'wid', 'scrouge', 'demselves', 'willains', 'scougin', 'oder', 'dey', 'g', 'uttons', 'eber', 'shrill', 'Cussed', 'Kick', 'damndest', 'bust', 'dention', 'teak', 'testily', 'Silence', 'Bout', 'gloomily', 'bolting', 'continuation', 'Hind', 'ferry', 'ober', 'Roanoke', 'Born', 'Bress', 'noder', 'angrily', 'Faintly', 'joosy', 'squaring', 'Passed', 'parson', 'mumbled', 'dis', 'brack', 'dies', 'demeanor', 'hisself', 'bressed', 'fetched', 'colder', 'sulks', 'ticklish', 'Drop', 'clap', 'gizzard', 'Aloft', 'grizzled', 'overdoing', 'tips', 'soused', 'cutlets', 'balls', 'Wish', 'gor', 'stead', 'Shark', 'ejaculation', '65', 'Dish', 'esteemed', 'Henry', 'VIIIth', 'court', 'inventing', 'barbacued', 'Porpoises', 'spiced', 'turtle', 'veal', 'monks', 'Dunfermline', 'grant', 'pie', 'unprejudiced', 'partake', 'Esquimaux', 'vintages', 'Zogranda', 'recommends', 'strips', 'infants', 'nourishing', 'reminds', 'Englishmen', 'mouldy', 'scraps', 'fritters', 'resemble', 'crisp', 'housewives', 'dough', 'oly', 'cooks', 'eatable', 'denying', 'depreciates', 'richness', 'prize', 'delicately', 'jellied', 'cocoanut', 'growth', 'partaking', 'puddings', 'flour', 'delectable', 'calves', 'epicures', 'bucks', 'calf', 'discrimination', 'reproachfully', 'Et', 'tu', 'Brute', 'excessively', 'unctuous', 'abhorrence', 'trial', 'oxen', 'bipeds', 'quadrupeds', 'Fejee', 'cellar', 'provident', 'gourmand', 'nailest', 'geese', 'feastest', 'bloated', 'pate', 'foie', 'gras', 'roast', 'goose', 'Secretary', 'Society', 'Suppression', 'Cruelty', 'Ganders', 'formally', 'indite', 'circulars', 'patronise', 'pens', '66', 'Massacre', 'reservation', 'incalculable', 'gather', 'considerably', 'diminished', 'spades', 'tickle', 'unaccustomed', 'maggots', 'suspending', 'stages', 'foamy', 'marksmen', 'viciously', 'snapped', 'disembowelments', 'flexible', 'entrails', 'oppositely', 'voided', 'unsafe', 'corpses', 'lid', 'spade', 'corresponds', 'narrower', 'honed', 'wedder', 'wat', 'Ingin', '67', 'Cutting', 'Ex', 'officio', 'professors', 'shamble', 'butcher', 'cluster', 'hawser', 'conducted', 'weighing', 'semicircular', 'dense', 'careens', 'quivers', 'nods', 'leans', 'swash', 'triumphant', 'rind', 'orange', 'spiralizing', 'constantly', 'uniformly', 'scarf', 'peeled', 'grazes', 'cease', 'sways', 'dodge', 'dexterously', 'slices', 'Into', 'swordsman', 'slicings', 'severs', 'heavers', 'peeling', 'unfurnished', 'scarfing', 'assuaging', 'friction', '68', 'unvexed', 'controversies', 'unchanged', 'consistence', 'grained', 'tougher', 'ranges', 'preposterous', 'arguments', 'enveloping', 'outermost', 'reasonably', 'unmarred', 'shreds', 'isinglass', 'contracts', 'thickens', 'brittle', 'exerted', 'magnifying', 'thinner', 'Assuming', 'fourths', 'integument', 'liquid', 'Reckoning', 'ton', 'impressed', 'observant', 'linear', 'hieroglyphical', 'cyphers', 'retentive', 'characters', 'chiselled', 'hieroglyphic', 'palisades', 'Upper', 'undecipherable', 'phenomena', 'exterior', 'scratches', 'Agassiz', 'imagines', 'hostile', 'remarked', 'bulls', 'stript', 'wrapt', 'poncho', 'slipt', 'skirting', 'blanketing', 'enabled', 'weathers', 'unsupplied', 'surtout', 'refrigerators', 'bask', 'Freeze', 'explanation', 'amber', 'warmer', 'Borneo', 'spaciousness', 'dome', 'temperature', 'domed', '69', 'Funeral', 'beheaded', 'flashes', 'splashed', 'insatiate', 'rapacious', 'beaks', 'poniards', 'headless', 'roods', 'cubic', 'unclouded', 'wafted', 'joyous', 'perspectives', 'mourning', 'punctiliously', 'speckled', 'ween', 'peradventure', 'piously', 'pounce', 'vultureism', 'Desecrated', 'survives', 'scare', 'Espied', 'afar', 'obscuring', 'unharming', 'SHOALS', 'ROCKS', 'BREAKERS', 'HEREABOUTS', 'BEWARE', 'vacuum', 'precedents', 'utility', 'survival', 'bottomed', 'orthodoxy', 'believer', 'Cock', 'Lane', 'Doctor', '70', 'Sphynx', 'stripping', 'beheading', 'operate', 'discoloured', 'untoward', 'subterraneous', 'gash', 'skilfully', 'interdicted', 'marvel', 'behead', 'severed', 'barn', 'buoyed', 'steeply', 'Holofernes', 'Judith', 'lotus', 'unfolding', 'noiselessness', 'Decapitation', 'crutch', 'attentively', 'ungarnished', 'mosses', 'untold', 'rot', 'ballasted', 'sleepless', 'lovers', 'husband', 'longing', 'Sail', 'cheering', 'breezelessness', 'analogies', 'atom', '71', 'Jeroboam', 'faster', 'Fleet', 'signals', 'facility', 'Squaring', 'abeam', 'accommodate', 'epidemic', 'Mayhew', 'infecting', 'untainted', 'incorruptible', 'conscientiously', 'quarantine', 'communications', 'Preserving', 'topsail', 'bearings', 'Subject', 'interruptions', 'interruption', 'Pulling', 'notabilities', 'totalities', 'youngish', 'freckles', 'cabalistically', 'walnut', 'fanatic', 'togged', 'scaramouch', 'Neskyeuna', 'Shakers', 'descended', 'gunpowder', 'laudanum', 'apostolic', 'craziness', 'freshet', 'manifesto', 'deliverer', 'vicar', 'Oceanica', 'sacredness', 'apprised', 'seals', 'vials', 'devoting', 'unconditional', 'disciples', 'maltreated', 'freedom', 'plague', 'fawned', 'instructions', 'rendering', 'fanatics', 'deceiving', 'bedevilling', 'fevers', 'bilious', 'drifted', 'riotous', 'caprices', 'tumbling', 'jogged', 'frequent', 'Greedily', 'gibbering', 'Shaker', 'incarnated', 'burned', 'ardour', 'unwilling', 'opportunity', 'despite', 'denunciations', 'forewarnings', 'persuading', 'unsuccessful', 'onsets', 'hurling', 'prophecies', 'sacrilegious', 'divinity', 'reckless', 'venting', 'essaying', 'harmed', 'parenthesize', 'annihilated', 'accompanies', 'Raising', 'specifically', 'margin', 'narration', 'vehemently', 'blasphemer', 'stolidly', 'bethought', 'delivery', 'sorely', 'scrawl', 'insert', 'Har', 'pinny', 'wager', ')--', 'Curses', 'throttle', 'missive', 'mutinous', '72', 'Monkey', 'Rope', 'staying', 'retrace', 'tensing', 'submerged', 'flounders', 'revolves', 'mill', 'costume', 'scrabble', 'scramble', 'organ', 'elongated', 'Siamese', 'ligature', 'liabilities', 'bond', 'metaphysically', 'conceive', 'situation', 'misfortune', 'plunge', 'unmerited', 'interregnum', 'equity', 'gross', 'jerked', 'jam', 'plurality', 'banker', 'apothecary', 'sends', 'pills', 'multitudinous', 'heedfully', 'holder', 'improvement', 'guarantee', 'faithfulness', 'jamming', 'Unappalled', 'massacre', 'freshly', 'keenly', 'carcass', 'rabid', 'swarmed', 'beehive', 'miscellaneously', 'carnivorous', 'ravenous', 'Accordingly', 'wherewith', 'slaughtered', 'disinterested', 'happiness', 'zeal', 'muddled', 'indiscreet', 'amputating', 'slacked', 'gasp', 'consolatory', 'Cognac', 'Ginger', 'suspiciously', 'untasted', 'kindle', 'firewood', 'lucifer', 'matches', 'tinder', 'sneaking', 'Temperance', 'kannakin', 'calomel', 'jalap', 'bitters', 'drug', 'medicine', 'insurances', 'jub', 'gingerly', 'lockers', 'weazel', 'caddy', 'contained', '73', 'patches', 'commissioned', 'rods', 'diving', 'tightened', 'plied', 'contending', 'tremor', 'quivering', 'drippings', 'fagged', 'abated', 'altering', 'performed', 'circuit', 'flanking', 'multitudes', 'swum', 'thirstily', 'Israelites', 'fountains', 'vomit', 'lump', 'lard', 'Wants', 'capsize', 'gamboge', 'snake', 'disguise', 'tucks', 'oakum', 'coil', 'Striking', 'swap', 'bargain', 'Bargain', 'Pooh', 'switching', 'gentlemanlike', 'governor', 'Adventures', 'soladoes', 'Doesn', 'latch', 'admiral', 'porthole', 'oughts', 'anyhow', 'duck', 'orlop', 'sneaks', 'daresn', 'darbies', 'lets', 'kidnapping', 'kidnapped', 'kidnap', 'nape', 'grab', 'docked', 'sneak', 'Sell', 'Mean', 'necessaries', 'counterpoise', 'regained', 'Locke', 'Kant', 'trimming', 'carcases', 'overburdening', 'panniers', 'Parsee', 'lengthen', 'Laplandish', 'bandied', '74', 'Contrasted', 'View', 'folio', 'noteworthy', 'extremes', 'observable', 'mathematical', 'symmetry', 'lacks', 'dissimilar', 'lashless', 'proportion', 'sideway', 'survey', 'dagger', 'stealing', 'fronts', '):', 'imperceptibly', 'effectually', 'valleys', 'nothingness', 'sashes', 'impairing', 'reader', 'puzzling', 'involuntary', 'undiscriminating', 'excluded', 'contemporary', 'demonstrations', 'problems', 'Euclid', 'investigated', 'incongruity', 'idle', 'vacillations', 'beset', 'liability', 'frights', 'perplexity', 'diametrically', 'leaf', 'wondrously', 'evenly', 'membrane', 'imperceptible', 'hare', 'lens', 'Herschel', 'capacious', 'porches', 'cathedrals', 'Subtilize', 'levers', 'Kentucky', 'Mammoth', 'Cave', 'chaste', 'lined', 'satins', 'snuff', 'hinge', 'portcullis', 'proves', 'sulky', 'dispirited', 'hypochondriac', 'supine', 'ungainly', 'reproach', 'imprecate', 'unhinged', 'riding', 'whips', 'dentists', 'ringbolts', 'stumps', 'oaks', 'undecayed', 'sawn', 'joists', '75', 'chariot', 'shoe', 'shoemaker', 'nursery', 'spoutholes', 'bass', 'viol', 'spiracles', 'apertures', 'fix', 'crested', 'comb', 'incrustation', 'Greenlanders', 'bonnet', 'fixing', 'nestle', 'diademed', 'diadem', 'sulk', 'pout', 'measurement', 'unfortunate', 'fissure', 'Probably', 'Peruvian', 'gape', 'roof', 'scimetar', 'slats', 'depending', 'cursorily', 'fringed', 'strains', 'retains', 'openmouthed', 'curves', 'calculate', 'criterion', 'demonstrable', 'savor', 'analogical', ';*', 'hogs', 'bristles', 'CHOP', 'arch', 'whisker', 'moustache', 'tufts', 'stiffening', 'Anne', 'farthingale', 'shower', 'thoughtlessness', 'colonnades', 'Haarlem', 'rug', 'softest', 'Turkey', 'barreler', 'mandible', 'placidity', 'speculative', 'Stoic', 'Spinoza', '76', 'Battering', 'Ram', 'physiologist', 'investigate', 'unexaggerated', 'estimate', 'satisfactorily', 'slopes', 'prominence', 'sloping', 'vestige', 'cranial', 'development', 'boneless', 'contents', 'comprise', 'impregnably', 'toughness', 'inestimable', 'sharpest', 'impotently', 'Indiamen', 'cork', 'toughest', 'bravely', 'illustrates', 'hypothetically', 'bladder', 'distension', 'contraction', 'provision', 'depresses', 'unobstructed', 'elasticity', 'unique', 'celled', 'honeycombs', 'susceptible', 'irresistibleness', 'impalpable', 'destructive', 'Unerringly', 'uninjurable', 'obedient', 'specialities', 'concentrations', 'braining', 'feats', 'renounced', 'abide', 'Isthmus', 'Darien', 'elevate', 'provincial', 'sentimentalist', 'salamander', 'provincials', 'weakling', 'goddess', 'Lais', '77', 'Heidelburgh', 'Tun', 'Baling', 'Case', 'Regarding', 'quoins', 'cranium', 'subdivide', 'quoin', 'tendinous', 'Quoin', 'Euclidean', 'inclination', 'subdivided', 'honeycomb', 'recrossing', 'infiltrated', 'mystically', 'devices', 'adornment', 'tun', 'wines', 'Rhenish', 'prized', 'limpid', 'odoriferous', 'unalloyed', 'crystalline', 'leaks', 'dribbles', 'costly', 'coated', 'coating', 'lining', 'pelisse', 'decapitating', 'operator', 'magazine', 'untimely', 'invade', 'sanctuary', 'wastingly', 'wilderness', 'tapped', '78', 'Cistern', 'Buckets', 'Nimble', 'cat', 'overhanging', 'travelling', 'sheaved', 'Securing', 'vivaciously', 'Muezzin', 'searches', 'alert', 'Inserting', 'guides', 'dairy', 'pail', 'Carefully', 'remounting', 'cistern', 'harder', 'baling', 'heedless', 'cabled', 'oozy', 'Evil', 'eightieth', 'suckingly', 'senses', 'Swing', 'hoisters', 'struggles', 'ramming', 'cartridge', 'rocket', 'Rock', 'pendulous', 'splash', 'rescue', 'ripple', 'sinker', 'Drawn', 'lunges', 'averred', 'obstetrics', 'impediments', 'Midwifery', 'taught', 'fencing', 'boxing', 'slipperiness', 'curb', 'sagaciously', 'tissued', 'lightest', 'corky', 'makest', 'sinks', 'counteracted', 'undetached', 'agile', 'smothered', 'whitest', 'daintiest', 'coffined', 'hearsed', 'tombed', 'sanctum', 'sanctorum', 'sweeter', 'delicious', 'honey', 'Plato', '79', 'Prairie', 'scan', 'bumps', 'Physiognomist', 'Phrenologist', 'undertaken', 'hopeful', 'Lavater', 'scrutinized', 'Gall', 'manipulated', 'Dome', 'Pantheon', 'studies', 'dwells', 'modifications', 'disciple', 'Spurzheim', 'phrenological', 'sciences', 'achieve', 'Physiognomically', 'anomalous', 'modifies', 'combined', 'appendage', 'gardening', 'spire', 'cupola', 'physiognomically', 'belfry', 'Dash', 'Phidias', 'remainder', 'proportions', 'sculptured', 'physiognomical', 'conceptions', 'insist', 'obtruding', 'beadle', 'curled', 'Pushing', 'defiles', 'affixed', 'decrees', 'alpine', 'foreheads', 'Shakespeare', 'Melancthon', 'tideless', 'antlered', 'immensely', 'amplified', 'firmament', 'pleated', 'dumbly', 'domineer', 'genius', 'Genius', 'Orient', 'World', 'magian', 'crocodile', 'tongueless', 'protrusion', 'cultured', 'lure', 'livingly', 'enthrone', 'egotistical', 'unhaunted', 'Champollion', 'deciphered', 'granite', 'decipher', 'Physiognomy', 'William', 'languages', 'simplest', 'unlettered', 'Chaldee', 'Read', '80', 'Nut', 'Sphinx', 'phrenologist', 'geometrical', 'Unhinge', 'angularly', 'squared', 'superincumbent', 'crater', 'cavity', 'reposes', 'outworks', 'citadel', 'fortifications', 'secreted', 'Lying', 'convolutions', 'unload', 'spermy', 'reversed', 'scaled', 'confound', 'remarking', 'veneration', 'negations', 'affirmative', 'truest', 'exhilarating', 'deem', 'vertebrae', 'dwarfed', 'rudimental', 'undeveloped', 'inlaying', 'basso', 'relievo', 'phrenologists', 'cerebellum', 'spinal', 'joist', 'upheld', 'rejoice', 'Apply', 'phrenology', 'fibrous', 'communicates', 'emerging', 'undecreasing', 'smallness', 'compensated', 'convex', 'relative', 'indomitable', '81', 'Meets', 'Jungfrau', 'Derick', 'Deer', 'Bremen', 'wavingly', 'feeder', 'Yarman', 'tin', 'borrowing', 'invertedly', 'contradict', 'Newcastle', 'indubitably', 'heeding', 'CLEAN', 'deserving', 'slewed', 'feeders', 'average', 'pod', 'Aware', 'spans', 'harness', 'unrolling', 'parchment', 'humped', 'incrustations', 'overgrowing', 'afflicted', 'jaundice', 'infirmity', 'questionable', 'retarded', 'muzzle', 'commotions', 'upbubble', 'paregoric', 'ache', 'acre', 'Adverse', 'yaw', 'overladen', 'Indiaman', 'Hindostan', 'load', 'buries', 'wallows', 'cumbrous', 'sling', 'neared', 'rivals', 'deriding', 'gesture', 'ungracious', 'mocks', 'dares', 'greyhounds', 'villainous', 'brandy', 'Halloo', 'budding', 'spit', 'suds', 'jacks', 'quahogs', 'muffins', 'barreller', 'DON', 'duff', 'sog', 'sogger', 'bank', 'retarding', 'economically', 'unmannerly', 'dogger', 'loads', 'Fiercely', 'incited', 'taunts', 'momentarily', 'chivalrous', 'slides', 'gallantry', 'crab', 'midship', 'capsizing', 'diagonically', 'foaming', 'pitiable', 'maddening', 'yawed', 'clipped', 'circles', 'piratical', 'hawks', 'plaintive', 'chained', 'respiration', 'stoutest', 'pitied', 'foiled', 'chose', 'hazard', 'diagonal', 'Blinding', 'bumped', 'baffled', 'distressed', 'sunbeam', 'kettles', 'cougar', 'tilbury', 'mail', 'tumultuously', 'loggerheads', 'exhaust', 'sterns', 'ceasing', 'expending', 'hooking', '2000', 'atmospheres', 'groan', 'Seems', 'credible', 'Canst', 'layeth', 'habergeon', 'esteemeth', 'stubble', 'laugheth', 'unfulfilments', 'prophets', 'thighs', 'conducting', 'wires', 'throbs', 'bounce', 'icefield', 'herd', 'valves', 'non', 'valvular', 'drain', 'arterial', 'perilously', 'moisture', 'untouched', 'misgrown', 'prostrate', 'protruded', 'bulbs', 'bridals', 'makings', 'illuminate', 'inoffensiveness', 'disclosed', 'protuberance', 'bushel', 'humane', 'ulcerous', 'goaded', 'bespattering', 'glorying', 'marring', 'helplessly', 'flapped', 'piteous', 'expiring', 'stifled', 'lowers', 'unrifled', 'buoy', 'artificially', 'corroded', 'healed', 'denote', 'ulceration', 'rummaged', 'cabinet', 'discoveries', 'unprecedentedly', 'ordering', 'resolutely', 'locking', 'gabled', 'gasped', 'inlayings', 'cabins', 'dislocation', 'crows', 'adrift', 'timberheads', 'ponderosity', 'sparks', 'Usually', 'pads', 'aspirations', 'flush', 'incumbrance', 'lapse', 'Gases', 'generated', 'balloon', 'Bays', 'buoys', 'uncapturable', 'unskilful', 'Backs', 'Dericks', '82', 'Honour', 'Glory', 'enterprises', 'disorderliness', 'honourableness', 'demi', 'transported', 'subordinately', 'emblazoned', 'fraternity', 'sordid', 'knightly', 'daughter', 'intrepidly', 'exploit', 'Arkite', 'legends', 'Italy', 'triumph', 'suggestively', 'Akin', 'Dragon', 'chronicles', 'dragons', 'jumbled', 'Ezekiel', 'versions', 'subtract', 'reptile', 'mislead', 'griffin', 'horseback', 'artists', 'crawled', 'ridden', 'ancientest', 'strict', 'Philistines', 'Dagon', 'Israel', 'tutelary', 'guardian', 'patron', 'frocks', 'decoration', 'Crockett', 'Kit', 'Carson', 'doer', 'rejoicing', 'mooted', 'clan', 'vice', 'versa', 'saints', 'demigods', 'rehearsed', 'Shaster', 'Vishnoo', 'godhead', 'Hindoos', 'incarnations', 'sanctified', 'recreate', 'dissolutions', 'preside', 'Vedas', 'perusal', 'rescued', 'horseman', '83', 'Historically', 'Regarded', 'distrust', 'orthodox', 'Arion', 'unscientific', 'choke', 'Jebb', 'anticipative', 'whist', 'Possibly', 'ensconced', 'toothless', 'incarcerated', 'gastric', 'juices', 'falls', 'exegetist', 'supposes', 'DEAD', 'campaign', 'divined', 'continental', 'commentators', 'christened', 'Gull', 'Eagle', 'exegetists', 'opined', 'preserver', 'inflated', 'journey', 'Tigris', 'site', 'shallow', 'weathering', 'headland', 'Bartholomew', 'Diaz', 'reputed', 'liar', 'reprehensible', 'clergy', 'via', 'magnification', 'Turks', 'devoutly', 'Mosque', '84', 'Pitchpoling', 'axles', 'grease', 'unctuousness', 'crop', 'barges', 'Actium', 'exertion', 'fleetness', 'unintermitted', 'extract', 'imperative', 'dexterities', 'sleights', 'subtleties', 'manoeuvre', 'pitchpoling', 'exercises', 'boasts', 'inveterate', 'accurately', 'Steel', 'pitchpoled', 'drawbacks', 'coolness', 'equanimity', 'emergencies', 'excel', 'fleecy', 'Handling', 'whistlingly', 'waistband', 'juggler', 'impulse', 'Instead', 'spigot', 'today', 'Orleans', 'whiskey', 'Monongahela', 'canakin', 'brew', 'quaff', 'greyhound', 'skilful', 'leash', 'pitchpoler', '85', 'Fountain', 'sprinkling', 'mistifying', 'sprinklings', 'spoutings', 'P', 'M', 'sixteenth', 'contingent', 'inhaling', 'windpipe', 'function', 'withdraws', 'vivifying', 'err', 'Assume', 'aerated', 'Anomalous', 'vermicelli', 'quits', 'oxygenated', 'surplus', 'camel', 'waterless', 'stomachs', 'indisputable', 'obstinacy', 'HAVING', 'SPOUTINGS', 'unmolested', 'risings', 'respires', 'breaths', 'fetches', 'allowance', 'Remark', 'individuals', 'rates', 'replenish', 'reservoir', 'hazards', 'victory', 'serving', 'pulsations', 'truthfully', 'obliterated', 'clogged', 'Sure', 'olfactories', 'violets', 'retention', 'exclusion', 'rumbles', 'talks', 'Seldom', 'stammer', 'listener', 'conveyance', 'gas', 'returns', 'exhaled', 'discharged', 'discharging', 'rhyme', 'periods', 'pester', 'knottiest', 'undecided', 'cascading', 'superficially', 'countersunk', 'basin', 'pitcher', 'feverishly', 'smart', 'acridness', 'evade', 'investigator', 'hypothesize', 'undisputed', 'Pyrrho', 'Dante', 'treatise', 'reflected', 'worming', 'undulation', 'shingled', 'attic', 'overhung', 'canopy', 'engendered', 'contemplations', 'glorified', 'irradiate', 'enkindling', 'denials', 'Doubts', 'combination', 'regards', '86', 'Tail', 'warbled', 'praises', 'antelope', 'alights', 'expands', 'shoaling', 'overlap', 'recede', 'exquisitely', 'webbed', 'strata', 'compose', 'triune', 'student', 'undoubtedly', 'masonry', 'knit', 'muscular', 'filaments', 'loins', 'Could', 'cripple', 'flexion', 'infantileness', 'Titanism', 'Real', 'impairs', 'harmony', 'bestows', 'imposingly', 'Eckerman', 'Goethe', 'Angelo', 'hermaphroditical', 'embodied', 'brawniness', 'feminine', 'submission', 'endurance', 'conceded', 'teachings', 'wielded', 'flexions', 'Therein', 'transcend', 'Five', 'progression', 'mace', 'lobtailing', 'Fifth', 'peaking', 'wriggles', 'propulsion', 'Scroll', 'conflicts', 'contemptuously', 'eluding', 'materials', 'stitch', 'demonstrate', 'daintiness', 'maidenly', 'gentleness', 'slowness', 'tenderness', 'prehensile', 'Darmonodes', 'flower', 'nosegays', 'damsels', 'caressed', 'Stealing', 'unawares', 'unbent', 'kitten', 'plays', 'smiting', 'thunderous', 'concussion', 'wreath', 'Excepting', 'BREACH', 'grandest', 'Hell', 'Dantean', 'Isaiah', 'archangels', 'crimsoned', 'Persia', 'Ptolemy', 'Philopater', 'testified', 'Juba', 'terrier', 'lily', 'tosses', 'deplore', 'inability', 'akin', 'Free', 'Mason', 'symbols', 'methods', 'intelligently', 'assailant', 'Dissect', '87', 'Armada', 'peninsula', 'Malacca', 'territories', 'Birmah', 'Bally', 'rampart', 'studded', 'convenience', 'Sunda', 'buttressed', 'inexhaustible', 'silks', 'jewels', 'ineffectual', 'guarded', 'fortresses', 'Unlike', 'Danes', 'Orientals', 'obsequious', 'cargoes', 'waive', 'ceremonial', 'renounce', 'tribute', 'proas', 'shaded', 'coves', 'islets', 'chastisements', 'audacity', 'corsairs', 'repressed', 'remorselessly', 'pillaged', 'northwards', 'Philippine', 'haunting', 'zoned', 'circus', 'raced', 'sustenance', 'utilities', 'unusable', 'kentledge', 'brackish', 'rafted', 'grain', 'roundabout', 'admonished', 'delighted', 'cinnamon', 'renouncing', 'magnificence', 'saluted', 'premised', 'unwearied', 'embracing', 'assistance', 'aggregation', 'caravans', 'greeted', 'semicircle', 'cleft', 'willow', 'bush', 'individually', 'bluish', 'chimneys', 'metropolis', 'balmy', 'autumnal', 'unfriendly', 'defile', 'Crowding', 'deploy', 'Corresponding', 'crescent', 'hovered', 'Levelling', 'rascally', 'philanthropists', 'speeding', 'rowels', 'atheistical', 'infernally', 'gnawing', 'Cockatoo', 'grieve', 'victoriously', 'notified', 'rallied', 'battalions', 'bayonets', 'redoubled', 'Stripped', 'shirts', 'animating', 'irresolution', 'gallied', 'rout', 'Porus', 'expanding', 'aimlessly', 'distraction', 'paralysed', 'logged', 'flock', 'excessive', 'characteristic', 'herding', 'banding', 'buffaloes', 'herded', 'theatre', 'outlets', 'dashing', 'folly', 'outdone', 'outskirts', 'anticipated', 'circumspect', 'throb', 'menaced', 'mobbed', 'daunted', 'manfully', 'sheering', 'edging', 'wonted', 'dispensed', 'swamp', 'cooling', 'druggs', 'looped', 'drugg', 'requisition', 'staggeringly', 'fettered', 'malefactors', 'seats', 'drugged', 'disorders', 'vanished', 'parting', 'momentum', 'sleek', 'tumults', 'pods', 'Titanic', 'Owing', 'embayed', 'breach', 'hemmed', 'Keeping', 'cows', 'routed', 'inclusive', 'prevented', 'inexperienced', 'becharmed', 'snuffling', 'domesticated', 'patted', 'scratched', 'vaults', 'suckling', 'nourishment', 'spiritually', 'feasting', 'Gulfweed', 'measured', 'fourteen', 'frisky', 'irksome', 'lately', 'reticule', 'unborn', 'crumpled', 'ails', 'buoyantly', 'spiralling', 'umbilical', 'Madame', 'cub', 'tethered', 'entangled', 'subtlest', 'indifferently', 'gestation', 'Esau', 'Jacob', 'contingency', 'teats', 'situated', 'anus', 'breasts', 'extend', 'rivallingly', 'discolour', 'strawberries', 'salute', 'HOMINUM', 'consternations', 'indulge', 'concernments', 'serenely', 'revelled', 'dalliance', 'tornadoed', 'centrally', 'disport', 'bathe', 'entranced', 'drugging', 'frontier', 'hamstring', 'sundering', 'maiming', 'tendon', 'Arnold', 'flailing', 'wounding', 'submarine', 'nurseries', 'orbits', 'thickening', 'clusters', 'departing', 'Oars', 'gripe', 'Shove', 'bulks', 'outlet', 'escapes', 'cheaply', 'Riotous', 'clumped', 'renewed', 'onward', 'augmented', 'waifed', 'pennoned', 'illustrative', '88', 'Schools', 'Schoolmasters', 'inducing', 'aggregations', 'schools', 'females', 'mustering', 'males', 'cavalier', 'evinces', 'Ottoman', 'surroundingly', 'solaces', 'endearments', 'harem', 'concubines', 'dozen', 'EMBONPOINT', 'ramblings', 'fashionables', 'Equatorial', 'lounged', 'promenade', 'Equator', 'anticipation', 'journeys', 'wary', 'unwarrantably', 'pert', 'confidentially', 'Bashaw', 'assails', 'chases', 'unprincipled', 'rakes', 'Lothario', 'duels', 'admirers', 'elks', 'warringly', 'interweave', 'antlers', 'scars', 'furrowed', 'scolloped', 'dislocated', 'supposing', 'invader', 'diverting', 'Gently', 'insinuates', 'revels', 'lavish', 'omnivorous', 'roving', 'bower', 'exotic', 'dumps', 'increase', 'lends', 'lassitude', 'overtakes', 'sated', 'supplants', 'maidens', 'impotent', 'repentant', 'admonitory', 'forswears', 'disbands', 'exemplary', 'parallels', 'amorous', 'satirical', 'memoirs', 'Vidocq', 'Frenchman', 'younger', 'occult', 'lessons', 'inculcated', 'pupils', 'secludedness', 'betakes', 'moss', 'Daniel', 'Boone', 'characteristically', 'proverbially', 'penal', 'gout', 'Forty', 'collegians', 'wickedness', 'underwriter', 'turbulence', 'settlements', 'harems', 'sexes', '89', 'Fast', 'Loose', 'regulations', 'comprised', 'minor', 'contingencies', 'retaken', 'vexatious', 'disputes', 'applicable', 'formal', 'code', 'authorized', 'legislative', 'enactment', 'Holland', 'decreed', '1695', 'legislators', 'lawyers', 'terse', 'Pandects', 'Meddling', 'Business', 'engraven', 'forthing', 'barb', 'soonest', 'masterly', 'brevity', 'commentaries', 'expound', 'Alive', 'controllable', 'occupant', 'occupants', 'telegraph', 'cobweb', 'waifing', 'ability', 'knocks', 'Coke', 'Littleton', 'fist', 'allowances', 'scrupulous', 'trover', 'litigated', 'plaintiffs', 'forsake', 'Ultimately', 'defendants', 'appropriated', 'remonstrated', 'doxology', 'seizure', 'sued', 'Erskine', 'Ellenborough', 'defence', 'witty', 'illustrate', 'recent', 'crim', 'con', 'viciousness', 'instituted', 'stress', 'contended', 'reciprocally', 'pleadings', 'awarded', 'controverted', 'acquired', 'aforesaid', 'ploughed', 'fundamentals', 'jurisprudence', 'tracery', 'Temple', 'Law', 'props', 'Possession', 'regardless', 'serfs', 'Republican', 'slaves', 'mite', 'undetected', 'villain', 'ruinous', 'discount', 'Mordecai', 'broker', 'Woebegone', 'loan', 'Archbishop', 'Savesoul', 'L100', 'scant', 'Duke', 'Dunder', 'hamlets', 'redoubted', 'Bull', 'Ireland', 'lancer', 'Brother', 'Jonathan', 'doctrine', 'internationally', '1492', 'mistress', 'Greece', 'United', 'Rights', 'Liberties', 'smuggling', 'verbalists', 'thinkers', '90', 'Heads', 'Tails', 'balena', 'vero', 'sufficit', 'si', 'rex', 'habeat', 'caput', 'et', 'regina', 'caudam', 'BRACTON', 'L', 'C', 'Laws', 'Honourary', 'division', 'halving', 'intermediate', 'anomaly', 'courteous', 'prompts', 'railways', 'car', 'accommodation', 'Dover', 'Cinque', 'Ports', 'beaching', 'jurisdiction', 'policeman', 'Warden', 'emoluments', 'Port', 'assignment', 'writers', 'sinecure', 'busily', 'fobbing', 'eely', 'L150', 'fantasy', 'sipping', 'Blackstone', 'respectful', 'scratching', 'soften', 'Please', 'duke', 'blisters', 'Won', 'Wellington', 'clergyman', 'meddling', 'militant', 'kingdoms', 'coercing', 'delegated', 'Sovereign', 'Plowdon', 'soundest', 'Gold', 'pinmoney', 'Bench', 'Prynne', 'discourseth', 'bodices', 'mermaid', 'allegorical', 'limitations', 'symbolically', 'congeniality', '91', 'Rose', 'Bud', 'Ambergriese', 'fetor', 'recounted', 'discoverers', 'pairs', 'bet', 'furled', 'circled', 'unappropriated', 'odor', 'exhale', 'Assyrian', 'moor', 'attar', 'nosegay', 'problematical', 'indigestion', 'defunct', 'banteringly', 'Crappoes', 'Frenchmen', 'snuffers', 'wick', 'Crappo', 'leavings', 'cell', 'ambergris', 'entrapped', 'breezing', 'Issuing', 'Drawing', 'fanciful', 'bulb', 'boards', 'Bouton', 'bud', 'aromatic', 'BOUTON', 'inscription', 'ROSE', 'bulbous', 'communication', 'bawled', 'Roses', 'Guernsey', 'WHITE', 'Blanche', 'moulded', 'slung', 'YOURS', 'gardenny', 'posies', 'Guernseyman', 'joking', 'gill', 'manufacturer', 'dirty', 'upwardly', 'projected', 'booms', 'stems', 'outcries', 'anathemas', 'ajar', 'remonstrating', 'betaken', 'CABINET', 'pest', 'entreaties', 'indignations', 'Marking', 'detestation', 'conceited', 'ignoramus', 'unprofitable', 'Sounding', 'frank', 'circumventing', 'satirizing', 'interpreter', 'uppermost', 'victim', 'velvet', 'interpreting', 'babyish', 'Monsieur', 'Jago', 'baboon', 'vows', 'conjures', 'confining', 'diddled', 'inviting', 'Bordeaux', 'Thank', 'drift', 'benevolently', 'slacking', 'feigned', 'intentions', 'reap', 'fruit', 'unrighteous', 'Seizing', 'excavation', 'digging', 'pottery', 'loam', 'perfume', 'mottled', 'dent', 'guinea', 'druggist', 'unavoidably', 'impatient', '92', 'Ambergris', '1791', 'House', 'Commons', 'compound', 'soils', 'odorless', 'beads', 'ornaments', 'waxy', 'spicy', 'perfumery', 'pastiles', 'powders', 'pomatum', 'Mecca', 'frankincense', 'merchants', 'grains', 'claret', 'regale', 'inglorious', 'administering', 'Brandreth', 'blasting', 'incorruption', 'Corinthians', 'corruption', 'sown', 'Paracelsus', 'manufacturing', 'appeal', 'repel', 'biased', 'slanderous', 'aspersion', 'disproved', 'slatternly', 'untidy', 'rebut', 'odious', 'stigma', 'originate', 'traceable', 'bung', 'shortness', 'Icy', 'unloading', 'cemeteries', 'dock', 'excavating', 'Hospital', 'Schmerenburgh', 'Smeerenberg', 'Fogo', 'Von', 'Slack', 'Smells', 'imports', 'smeer', 'berg', 'furnaces', 'sheds', 'casked', 'scentless', 'detect', 'Jew', 'enjoys', 'dispenses', 'scented', 'rustles', 'liken', 'fragrance', 'Must', 'redolent', 'myrrh', '93', 'Castaway', 'lamentable', 'sequel', 'timorous', 'keeper', 'Pippin', 'nick', 'abbreviation', 'pony', 'developments', 'eccentric', 'span', 'torpid', 'intellects', 'brightness', 'holidays', 'festivities', 'finer', 'calendar', 'Julys', 'Year', 'brilliancy', 'lustrous', 'cabinets', 'unaccountably', 'luridly', 'illumined', 'fictitiously', 'Tolland', 'County', 'Connecticut', 'enlivened', 'fiddler', 'frolic', 'melodious', 'belled', 'veined', 'watered', 'diamond', 'healthful', 'jeweller', 'gases', 'effulgences', 'divinest', 'stolen', 'sprain', 'nervousness', 'discreditably', 'exhort', 'courageousness', 'needful', 'rap', 'slack', 'breasted', 'plumping', 'poltroon', 'Snatching', 'interrogatively', 'assailed', 'execrations', 'Tranquilly', 'cursings', 'evaporate', 'officially', 'unofficially', 'STICK', 'motto', 'LEAP', 'undiluted', 'Stick', 'Hereby', 'interferes', 'benevolence', 'performance', 'bounteous', 'flatly', 'beater', 'Bobbing', 'ebon', 'cloves', 'brightest', 'lonesomeness', 'concentration', 'immensity', 'hug', 'jeopardized', 'ruthless', 'spying', 'merest', 'jeeringly', 'finite', 'unwarped', 'passive', 'miser', 'Wisdom', 'hoarded', 'juvenile', 'eternities', 'omnipresent', 'insects', 'orbs', 'treadle', 'weal', 'uncompromised', '94', 'Squeeze', 'crystallized', 'Constantine', 'bath', 'concreted', 'lumps', 'squeeze', 'clearer', 'sweetener', 'softener', 'molifier', 'eels', 'serpentine', 'spiralise', 'globules', 'tissues', 'richly', 'opulence', 'uncontaminated', 'aroma', 'Paracelsan', 'allaying', 'bathing', 'divinely', 'petulance', 'squeezed', 'squeezing', 'co', 'sentimentally', 'acerbities', 'envy', 'shift', 'attainable', 'felicity', 'saddle', 'visions', 'paradise', 'discoursing', 'behooves', 'thicker', 'muscle', 'portable', 'oblongs', 'mincer', 'Berkshire', 'Plum', 'fragmentary', 'participating', 'refreshing', 'tint', 'bestreaked', 'plums', 'rubies', 'citron', 'cutlet', 'le', 'Gros', 'venison', 'vintage', 'vineyards', 'Champagne', 'slobgollion', 'ineffably', 'stringy', 'decanting', 'ruptured', 'membranes', 'coalescing', 'Gurry', 'designates', 'glutinous', 'scraped', 'Nippers', 'indigenous', 'vocabulary', 'nipper', 'hoe', 'Edgewise', 'operates', 'squilgee', 'allures', 'impurities', 'recondite', 'receptacle', 'arrives', 'tyros', 'workmen', 'gaffman', 'gaff', 'lurches', 'hone', 'spademan', 'shoeless', 'irresistibly', 'assistants', 'Toes', '95', 'Cassock', 'mortemizing', 'strolled', 'scanned', 'scuppers', 'cone', 'Kentuckian', 'Maachah', 'Judea', 'Asa', 'depose', 'abomination', 'Kedron', 'grandissimus', 'Extending', 'cylindrically', 'pelt', 'boa', 'pantaloon', 'slits', 'canonicals', 'Immemorial', 'endwise', 'minced', 'rapt', 'orator', 'Arrayed', 'occupying', 'bible', 'archbishopric', '!*', 'enjoins', 'accelerated', 'improving', '96', 'Works', 'outwardly', 'joining', 'constituting', 'kiln', 'roomy', 'battened', 'Removing', 'remarkably', 'soapstone', 'cynical', 'polishing', 'circling', 'geometry', 'cycloid', 'tunnel', 'evaporates', 'oversee', 'ignition', 'shrivelled', 'properties', 'plethoric', 'martyr', 'misanthrope', 'supplies', 'funereal', 'pyres', 'freshening', 'licked', 'flues', 'sulphur', 'Hydriote', 'Canaris', 'frigates', 'conflagrations', 'Tartarean', 'stokers', 'pronged', 'Opposite', 'begrimed', 'matted', 'emblazonings', 'laughter', 'gesticulated', 'dippers', 'scornfully', 'champed', 'Wrapped', 'ghastliness', 'drowsiness', 'fatally', 'lids', 'illuminating', 'Uppermost', 'havens', 'bewildered', 'Convulsively', 'Lo', 'fronting', 'hallucination', 'accept', 'hitching', 'forking', 'morn', 'gentler', 'liars', 'Dismal', 'Swamp', 'Campagna', 'Sahara', 'griefs', 'Sorrows', 'Ecclesiastes', 'unchristian', 'dodges', 'hospitals', 'jails', 'graveyards', 'operas', 'Cowper', 'Pascal', 'Rousseau', 'swears', 'Rabelais', 'wandereth', 'invert', 'deaden', 'Catskill', 'blackest', 'soar', 'swoop', '97', 'Lamp', 'canonized', 'counsellors', 'pallet', 'Aladdin', 'pitchiest', 'illumination', 'cooler', 'replenishes', 'mugs', 'vat', 'solar', 'lunar', 'astral', 'hunts', 'freshness', 'genuineness', '98', 'Stowing', 'Clearing', 'moors', 'garments', 'executioner', 'Shadrach', 'Meshach', 'Abednego', 'unscathed', 'scoot', 'OFFICIO', 'unsealed', 'replaced', 'hermetically', 'incidents', 'freshets', 'brewery', 'besooted', 'suffused', 'deafening', 'scrupulously', 'possesses', 'cleansing', 'lye', 'adhesiveness', 'exterminates', 'restore', 'tidiness', 'brushed', 'cleansed', 'scrubbed', 'hiding', 'simultaneous', 'aglow', 'bridegrooms', 'discourse', 'parlors', 'carpets', 'cambrics', 'musked', 'allude', 'slash', 'sweatings', 'cleanse', 'toilings', 'tabernacles', 'BLOWS', 'routine', 'metempsychosis', 'Pythagoras', '99', 'Doubloon', 'halted', 'hopefulness', 'doubloon', 'interpret', 'cipher', 'cartload', 'morass', 'Milky', 'Way', 'raked', 'gorgeous', 'Pactolus', 'amidst', 'rustiness', 'verdigris', 'untouchable', 'foulness', 'amongst', 'livelong', 'pilfering', 'wanton', 'revered', 'talisman', 'medals', 'alpacas', 'volcanoes', 'disks', 'ecliptics', 'banners', 'luxuriant', 'profusion', 'preciousness', 'enhancing', 'mints', 'Spanishly', 'REPUBLICA', 'DEL', 'ECUADOR', 'QUITO', 'clime', 'autumn', 'Zoned', 'summits', 'crowing', 'arching', 'partitioned', 'zodiac', 'cabalistics', 'keystone', 'equinoctial', 'Libra', 'tops', 'Lucifer', 'volcano', 'undaunted', 'victorious', 'rounder', 'magician', 'mirrors', 'gains', 'solve', 'coined', 'equinox', 'Aries', 'claws', 'writing', 'inspectingly', 'Trinity', 'vale', 'girds', 'Righteousness', 'shines', 'beacon', 'fixture', 'wisely', 'falsely', 'twigging', 'Negro', 'Hill', 'Corlaer', 'Popayan', 'moidores', 'pistoles', 'joes', 'Golconda', 'Epitome', 'almanac', 'ditto', 'Daboll', 'arithmetic', 'curvicues', 'Signs', 'Hem', 'Taurus', 'Jimimi', 'Gemini', 'Twins', 'navigator', 'Pity', 'hist', 'hark', 'Almanack', 'lecherous', 'begets', 'Vice', 'Cancer', 'Crab', 'Leo', 'Lion', 'bites', 'surly', 'dabs', 'Virgo', 'marry', 'pop', 'Scales', 'Scorpio', 'Scorpion', 'stings', 'curing', 'Sagittarius', 'Archer', 'amusing', 'shafts', 'Capricornus', 'Goat', 'tilt', 'Aquarius', 'deluge', 'drowns', 'Pisces', 'writ', 'Jollily', 'alow', 'cigar', 'cigars', 'wiseish', 'luffs', 'halloa', 'Prick', 'witch', 'Copenhagen', 'Dodge', 'Cannibal', 'Astronomy', 'interpreters', 'Murray', 'Improving', 'bats', 'Caw', 'caw', 'poked', 'complimentary', 'wits', 'navel', 'unscrew', 'county', 'darkey', 'hoard', 'Hish', 'hish', 'blackberrying', 'Jenny', 'hey', '100', 'Leg', 'Arm', 'Enderby', 'Trumpet', 'tanned', 'thereabouts', 'festoons', 'broidered', 'hussar', 'surcoat', 'mallet', 'hourly', 'clamber', 'instantaneously', 'deprived', 'invention', 'abjectly', 'changeful', 'mishap', 'cleets', 'tastefully', 'bannisters', 'awkwardness', 'Jump', 'curve', 'rueful', 'Spin', 'cruised', 'milling', 'trim', 'bouncing', 'MY', 'exultingly', 'humoredly', 'grandfather', 'afoam', 'fluking', 'tangled', 'Mounttop', ');--', 'jiff', 'bat', 'befogged', 'bedeadened', 'looming', 'steeple', 'midday', 'flailings', 'ript', 'Bunger', 'spin', 'rank', 'marlingspike', 'pill', 'introduction', 'Boomer', 'Sammy', 'Stood', 'severe', 'chimed', 'Drinking', 'rum', 'toddies', 'bandages', 'watcher', 'dietetically', 'respected', 'spins', 'clever', 'en', 'passant', 'total', 'abstinence', 'hydrophobia', 'exposing', 'scarry', 'rogue', 'bait', 'mathematically', 'digestive', 'inscrutably', 'digest', 'feints', 'formerly', 'Ceylon', 'emetic', 'tacks', 'pawn', 'Bless', 'curse', 'stoopingly', 'thermometer', 'pulse', 'lancet', '101', 'Decanter', 'fades', '&', 'Sons', 'Tudors', 'Bourbons', '1775', '1726', 'Maceys', 'Amelia', 'Enderbys', 'auspices', 'government', 'Rattler', 'Commanded', '1819', 'tasting', 'Syren', 'experimental', 'Enderbies', 'sailer', 'flip', 'trumps', 'Saxon', 'Flip', 'flipped', 'squally', 'reefed', 'tars', 'scrambled', 'diluted', 'pickled', 'symmetrically', 'risked', 'anti', 'scorbutic', 'Hollanders', 'Zealanders', 'scrimps', 'normal', 'incidental', 'stumbled', 'musty', 'Coopman', 'reinforced', 'production', 'Fitz', 'Swackhammer', 'Snodhead', 'Low', 'college', 'Claus', 'Pott', 'translation', 'spied', 'Cooper', 'Smeer', 'larders', 'cellars', '180', 'translated', 'transcribe', '400', 'lbs', '150', '550', '800', 'firkins', 'Texel', '144', 'ankers', 'Geneva', 'beer', 'statistical', 'parchingly', 'flooded', 'quarts', 'devoted', 'studious', 'suggested', 'transcendental', 'Platonic', 'compiled', 'natures', 'rendered', 'bumpers', 'polar', 'prosecuted', 'climate', 'exclusive', 'fuddled', 'improbable', 'agrees', 'boozy', 'grievous', 'empties', 'decanter', '102', 'Bower', 'Arsacides', 'Hitherto', 'descriptively', 'treating', 'dwelt', 'structural', 'unbutton', 'untagging', 'hose', 'unbuckling', 'garters', 'ultimatum', 'lectures', 'Cetacea', 'Explain', 'examination', 'dishes', 'rafters', 'pinnings', 'vats', 'butteries', 'cheeseries', 'adult', 'dissect', 'sheaths', 'indebted', 'Tranquo', 'Tranque', 'Dey', 'Algiers', 'Arsacidean', 'villa', 'Pupella', 'glen', 'Bamboo', 'vertu', 'invent', 'paddles', 'droopings', 'enfoldings', 'sheltered', 'unextinguished', 'bough', 'devotees', 'Damocles', 'Glen', 'sap', 'industrious', 'weaver', 'tendrils', 'shrubs', 'ferns', 'grasses', 'lacings', 'weaves', 'deafened', 'factories', 'spindles', 'villainies', 'detected', 'thinkings', 'idler', 'intermixed', 'hummed', 'vines', 'greener', 'fresher', 'trellised', 'wived', 'youthful', 'curly', 'wandered', 'eddied', 'arbours', 'Dar', 'sconces', 'echoed', 'admeasurements', 'Museum', 'museum', 'Manchester', 'River', 'Yorkshire', 'Burton', 'Constable', 'Clifford', 'skeletons', 'seignories', 'cavities', 'Locks', 'shutters', 'footman', 'keys', 'charging', 'twopence', 'threepence', 'sixpence', 'verbatim', 'wanderings', 'statistics', 'wished', 'untattooed', 'admeasurement', '103', 'Measurement', 'Skeleton', 'briefly', 'exhibit', 'calculation', 'outweigh', 'Feet', 'Attached', 'basket', 'enclosed', 'vitals', 'disconnected', 'successively', 'climax', 'spanned', 'seemly', 'correspondence', 'footpath', 'attenuated', 'quickest', 'eddyings', 'angry', 'Pompey', 'Pillar', 'knobbed', 'urchins', '104', 'Fossil', 'theme', 'amplify', 'compress', 'involutions', 'intestines', 'hawsers', 'approve', 'omnisciently', 'exhaustive', 'seminal', 'germs', 'habitatory', 'magnify', 'archaeological', 'fossiliferous', 'Applied', 'flea', 'grandiloquent', 'Fain', 'emprise', 'weightiest', 'dictionary', 'consult', 'dissertations', 'expressly', 'lexicographer', 'compile', 'chirography', 'placard', 'condor', 'Vesuvius', 'inkstand', 'Friends', 'penning', 'outreaching', 'mastodons', 'panoramas', 'excluding', 'suburbs', 'geologist', 'mason', 'digger', 'ditches', 'canals', 'wells', 'cisterns', 'remind', 'fossils', 'Tertiary', 'formations', 'intercepted', 'antichronical', 'Ark', 'justify', 'Detached', 'adamite', 'Scotland', 'Louisiana', '1779', 'disinterred', 'Rue', 'Dauphine', 'Paris', 'Antwerp', '1842', 'Creagh', 'Basilosaurus', 'Anatomist', 'rechristened', 'Zeuglodon', 'Geological', 'mutations', 'blotted', 'characterized', 'partial', 'resemblances', 'affinities', 'seniors', 'Saturn', 'bastions', 'Tropics', 'inhabitable', 'Himmalehs', 'pedigree', 'older', 'Pharaoh', 'Methuselah', 'Shem', 'antemosaic', 'unsourced', 'stereotype', 'limestone', 'marl', 'bequeathed', 'print', 'Denderah', 'planisphere', 'griffins', 'grotesque', 'moderns', 'Gliding', 'cradled', 'attestation', 'osseous', 'diluvian', 'Rafters', 'Beams', 'Bones', 'Common', 'Power', 'Matter', 'Rocks', 'Miles', 'Rib', 'Miracle', 'Camel', 'layn', 'Historians', 'affirm', 'Mahomet', 'Base', '105', 'Magnitude', 'Diminish', 'Perish', 'Inasmuch', 'Eternities', 'inquired', 'degenerated', 'investigation', 'fossil', 'exhumed', 'tape', 'Assuredly', 'Aldrovandus', 'Walks', 'Tunnels', 'Solander', 'Cooke', 'Academy', 'Sciences', 'reydan', 'siskur', 'Wrinkled', 'Bellies', 'metres', 'ancestors', 'coffins', 'stall', 'Smithfield', 'fattest', 'kine', 'omniscient', 'whaleships', 'penetrating', 'exterminated', 'Comparing', 'overspread', 'manes', 'scowled', 'sites', 'extinction', 'extermination', 'forbids', 'Canadian', 'moccasined', 'statistically', 'gradual', 'remunerative', 'influenced', 'yokes', 'fallacious', 'haunt', 'declining', 'cape', 'unfamiliar', 'invasion', 'Swiss', 'savannas', 'citadels', 'barriers', 'floes', 'defiance', 'cachalot', 'annually', 'populousness', 'Harto', 'Goa', 'droves', 'Semiramis', 'Hannibal', 'survive', 'outlast', 'Americas', 'Isles', 'longevity', 'imagining', 'perishable', 'continents', 'Kremlin', 'despised', 'Netherlands', 'rats', 'crest', 'frothed', '106', 'precipitating', 'thwart', 'splintering', 'urgent', 'inflexibly', 'wrench', 'lusty', 'prone', 'insensible', 'displaced', 'groin', 'cured', 'marsh', 'perpetuates', 'songster', 'ancestry', 'Grief', 'Joy', 'canonic', 'enjoyments', 'childlessness', 'fertilely', 'progressive', 'inequality', 'analysis', 'felicities', 'unsignifying', 'pettiness', 'heartwoes', 'archangelic', 'tracings', 'deduction', 'sourceless', 'primogenitures', 'cymballing', 'moons', 'ineffaceable', 'signers', 'Unwittingly', 'Lama', 'exclusiveness', 'senate', 'revelation', 'partook', 'explanatory', 'recluseness', 'banned', 'moodily', 'unaccounted', 'underived', 'wails', 'conspired', 'muffle', 'transpire', 'synod', 'potentates', 'procedures', 'functionary', 'studs', 'clearest', 'fittings', 'forge', 'blacksmith', 'forging', '107', 'Carpenter', 'Seat', 'sultanically', 'abstracted', 'duplicates', 'abstraction', 'callings', 'outbranching', 'handicrafts', 'efficient', 'repairing', 'reforming', 'bladed', 'unhesitatingly', 'expert', 'conflicting', 'aptitudes', 'enacted', 'sizes', 'athwartships', 'belaying', 'strays', 'sprains', 'concocts', 'lotion', 'longed', 'vermillion', 'drills', 'pincers', 'bids', 'unmanageably', 'winces', 'unconcluded', 'capstans', 'expertness', 'vivacity', 'impersonal', 'stolidity', 'pauselessly', 'ignores', 'involving', 'ramifying', 'heartlessness', 'oddly', 'wheezing', 'unstreaked', 'wittiness', 'wanderer', 'clingings', 'pertained', 'abstract', 'unfractioned', 'babe', 'premeditated', 'uncompromisedness', 'unintelligence', 'intermixture', 'uneven', 'spontaneous', 'literal', 'manipulator', 'oozed', 'MULTUM', 'PARVO', 'Sheffield', 'drivers', 'screws', 'tweezers', 'awls', 'rulers', 'filers', 'countersinkers', 'superiors', 'omnitooled', 'machine', 'automaton', 'quicksilver', 'abided', 'soliloquizing', 'hummingly', 'soliloquizes', 'soliloquizer', '108', 'CARPENTER', 'VICE', 'BENCH', 'LIGHT', 'LANTERNS', 'BUSILY', 'FILING', 'IVORY', 'JOIST', 'LEG', 'IS', 'FIRMLY', 'FIXED', 'SLABS', 'LEATHER', 'STRAPS', 'PADS', 'SCREWS', 'TOOLS', 'SORTS', 'ABOUT', 'FORWARD', 'RED', 'FLAME', 'FORGE', 'SEEN', 'WHERE', 'BLACKSMITH', 'WORK', 'Drat', 'drat', 'SNEEZES', 'Saw', 'amputate', 'Smut', 'Lucky', 'shinbone', 'finish', 'shop', 'soak', 'doctored', 'lotions', 'Mogulship', 'DURING', 'ENSUING', 'SCENE', 'CONTINUES', 'SNEEZING', 'TIMES', 'manmaker', 'pleases', 'Measured', 'grip', 'pinch', 'partnership', 'Um', 'Africans', 'pedlar', 'crushing', 'pattern', 'Imprimis', 'modelled', 'Tunnel', 'outwards', 'architecture', 'thief', 'catcher', 'Thrusted', 'Clay', 'mud', 'ditchers', 'sneezing', 'Bone', 'callest', 'Truly', 'humbly', 'feelest', 'riddle', 'poser', 'uninterpenetratingly', 'standest', 'eavesdroppers', 'dissolved', 'mayst', 'Hah', 'Bungle', 'TURNS', 'debtor', 'blockhead', 'Cursed', 'inter', 'indebtedness', 'ledgers', 'wealthiest', 'Praetorians', 'auction', 'owe', 'crucible', 'dissolve', 'compendious', 'RESUMING', 'dinning', 'thoughted', 'haphazard', 'undertake', 'heron', 'chucks', 'slim', 'lasts', 'roly', 'poly', 'spavined', 'collecting', 'core', 'oval', 'slate', 'smoothed', '109', 'unfavourable', 'semiweekly', 'drench', 'damply', 'leakage', 'Formosa', 'Bashee', 'Niphon', 'Matsmai', 'Sikoke', 'braced', 'pruning', 'wrinkling', 'footstep', 'Begone', 'Burtons', 'nearing', 'Either', 'saving', 'aleak', 'outyell', 'Typhoons', 'Owners', 'prating', 'miserly', 'manifestation', 'resent', 'Devils', 'critically', 'forbearing', 'musket', 'mastering', 'outraged', 'waxes', 'obeys', 'plaits', 'Furl', 'honesty', 'imperiously', 'disaffection', '110', 'moles', 'lowermost', 'puncheons', 'copies', 'posted', 'placards', 'Tierce', 'shooks', 'bundles', 'treading', 'catacombs', 'demijohn', 'dinnerless', 'companion', 'sinecures', 'clumsiest', 'stowage', 'holders', 'disembowelled', 'dampness', 'lizard', 'chill', 'lapsed', 'thinned', 'fuller', 'softness', 'sickness', 'fainter', 'bystanders', 'Zoroaster', 'impresses', 'holier', 'embalming', 'horizons', 'uncontinented', 'interflow', 'adown', 'Lackaday', 'promptitude', 'chalking', 'ejaculated', 'transferringly', 'extremities', 'Overhearing', 'tyrannical', 'Leaning', 'attentive', 'woody', 'entreated', 'comforts', 'Rarmai', 'sobbings', 'rover', 'Antilles', 'Seek', 'tongues', 'probed', 'sweetness', 'vouchers', 'homes', 'runaway', 'shame', 'cowards', 'Shame', 'thereupon', 'convalescence', 'ungovernable', 'destroyer', 'convalescing', 'whimsiness', 'emptying', 'unfold', 'moulder', 'inscribed', 'unsolved', 'surveying', 'tantalization', '111', 'thanks', 'supplication', 'eastwards', 'stirrings', 'Ephesian', 'sod', 'Evangelist', 'Potters', 'Fields', 'ebb', 'somnambulisms', 'slumberers', 'restlessness', 'Magian', 'adoption', 'midmost', 'Californian', 'recentest', 'lave', 'Archipelagoes', 'Japans', 'Lifted', 'Pan', 'nostril', 'sugary', 'consciously', 'Launched', 'Delta', '112', 'Blacksmith', 'Availing', 'Perth', 'blistered', 'contributory', 'bowsmen', 'jealously', 'murmur', 'Silent', 'chronically', 'yawing', 'gait', 'importunity', 'questionings', 'Belated', 'innocently', 'stupidly', 'numbness', 'uncatastrophied', 'drama', 'postponedly', 'technicals', 'artisan', 'blithe', 'disguisement', 'Conjuror', 'economic', 'basement', 'listened', 'unhappy', 'reverberations', 'unsweetly', 'Labor', 'lullaby', 'Hadst', 'competency', 'virtuous', 'elder', 'responsibilities', 'glitteringly', 'bellows', 'cinders', 'houseless', 'familyless', 'crape', 'unreverenced', 'curls', 'Untried', 'Remote', 'Watery', 'Unshored', 'compunctions', 'suicide', 'contributed', 'receptive', 'alluringly', 'mermaids', 'guilt', 'abhorring', 'oblivious', 'THY', 'gravestone', 'Hearkening', '113', 'Forge', 'swathed', 'bristling', 'apron', 'hammering', 'Mother', 'Carey', 'chickens', 'liv', 'scorch', 'shrunk', 'woeful', 'wert', 'Welding', 'seams', 'smoothe', 'passionately', 'Said', 'unsmoothable', 'gaffs', 'stubbs', 'racing', 'Horse', 'stubbornest', 'weld', 'glue', 'shank', 'flaw', 'Work', 'welding', 'hems', 'blessing', 'lucifers', 'fusee', 'temper', 'wincing', 'pain', 'branding', 'razors', 'shave', 'sup', 'Fashioned', 'arrowy', 'tempering', 'punctures', 'Ego', 'baptizo', 'te', 'nomine', 'patris', 'sed', 'diaboli', 'scorchingly', 'baptismal', 'hickory', 'unwound', 'Pressing', 'harp', 'strandings', 'unstranded', 'intertwistings', 'hollowly', 'mummeries', 'unmeaningly', 'mocked', '114', 'Gilder', 'Penetrating', 'paddling', 'birch', 'mixing', 'cats', 'purr', 'forgets', 'conceals', 'fang', 'filial', 'vales', 'mixes', 'interpenetrate', 'seamless', 'treasuries', 'tarnishing', 'landscapes', 'parched', 'earthy', 'clover', 'dew', 'mingling', 'unretracing', 'gradations', 'boyhood', 'thoughtless', 'adolescence', 'disbelief', 'Ifs', 'unmoor', 'ether', 'weariest', 'foundling', 'unwedded', 'paternity', 'Loveliness', 'lover', 'tiered', 'oust', '115', 'Bachelor', 'apparel', 'gloriously', 'streamers', 'bunting', 'Signals', 'basketed', 'brazen', 'bartered', 'kindling', 'centrepiece', 'caulked', 'plugged', 'complacent', 'barbarian', 'drums', 'POKE', 'hued', 'eloped', 'negroes', 'Bastille', 'jubilations', 'forebodings', 'impersonated', 'islanders', 'aloud', 'sayst', 'Forward', 'Set', 'receding', 'homewardbound', '116', 'Dying', 'favourites', 'spearings', 'stilly', 'plaintiveness', 'inwreathing', 'orisons', 'convent', 'wantonly', 'vesper', 'hymns', 'Soothed', 'sterned', 'wanings', 'sunwards', 'placid', 'wondrousness', 'vassal', 'favouring', 'candid', 'unspoken', 'Niger', 'whirls', 'unverdured', 'speakest', 'slaughtering', 'Typhoon', 'trebly', 'hooped', 'aspiring', 'rainbowed', 'strivest', 'jettest', 'intercedings', 'unnamable', 'imminglings', 'suckled', 'mothered', 'foster', '117', 'flickering', 'chafed', 'spectrally', 'moaning', 'squadrons', 'Asphaltites', 'unforgiven', 'Started', 'hearses', 'couldst', 'plumes', 'pall', 'Believe', 'befall', 'pledges', 'derision', ';--\"', 'Immortal', '118', 'Quadrant', 'determine', 'unblinkingly', 'focus', 'immeasurable', 'splendors', 'quadrant', 'astrological', 'passionlessness', 'revery', 'AM', 'SHALL', 'cabalistical', 'Foolish', 'toy', 'plaything', 'Admirals', 'Commodores', 'brags', 'happenest', 'impotence', 'insultest', 'Science', 'Curse', 'vividness', 'scorches', 'Level', 'guide', 'deadreckoning', 'THESE', 'trample', 'feebly', 'pointest', 'trampled', 'sneering', 'fatalistic', 'Unobserved', 'awestruck', 'clustered', 'troubledly', 'erectly', 'Horatii', 'pirouetting', 'lurching', 'dumbest', 'charcoal', 'actest', '119', 'Candles', 'Warmest', 'cruellest', 'crouches', 'Skies', 'cloudless', 'exploding', 'bomb', 'dazed', 'poled', 'blazed', 'disabled', 'fluttering', 'firmer', 'teetering', 'sieve', 'Bad', ';\"--(', 'flourishin', 'sporty', 'gamy', 'jesty', 'joky', 'hoky', 'poky', 'flyin', 'foamin', \"';\", 'spicin', \"',--\", 'splits', 'smacks', 'tastin', 'Madman', 'markest', 'shortest', 'lightens', 'volley', 'peals', 'conductor', 'mishaps', 'interfering', 'impeding', 'flambeaux', 'weaker', 'corpusants', 'tipped', 'tri', 'sulphurous', 'teeter', 'Mene', 'Tekel', 'Upharsin', 'pallidness', 'gleaming', 'phosphorescence', 'Relieved', 'Satanic', 'tableau', 'thinkest', 'chock', 'Glancing', 'supernaturalness', 'cohered', 'numbed', 'wasps', 'Herculaneum', 'upcast', 'trinity', 'sacramental', 'placeless', 'dispute', 'unintegral', 'mastery', 'personality', 'whencesoe', 'wheresoe', 'queenly', 'supernal', 'launchest', 'madest', 'SUDDEN', 'REPEATED', 'FLASHES', 'LIGHTNING', 'NINE', 'FLAMES', 'LENGTHWISE', 'THRICE', 'PREVIOUS', 'HEIGHT', 'REST', 'CLOSES', 'EYES', 'PRESSED', 'HARD', 'UPON', 'wrung', 'shutter', 'stunning', 'blindfold', 'Light', 'leapest', 'genealogy', 'unbegotten', 'unbegun', 'unsuffusing', 'creativeness', 'unparticipated', 'Leap', 'torch', 'transfix', 'Petrified', 'shrinking', 'binding', 'sweeps', 'neighborhood', 'elm', '120', 'End', 'HELM', 'APPROACHING', 'inboard', 'coasting', 'gluepots', 'Loftiest', 'hooroosh', 'colic', 'malady', '121', 'Bulwarks', 'FLASK', 'MOUNTED', 'PASSING', 'ADDITIONAL', 'LASHINGS', 'OVER', 'ANCHORS', 'HANGING', 'ARE', 'afire', 'drenching', 'Shake', 'pitchers', 'risks', 'Marine', 'guarantees', 'hydrants', 'militia', 'skewered', 'trailing', 'sash', 'Tying', 'fists', 'wring', 'togs', 'Same', 'cocked', 'eave', 'troughs', 'nasty', '122', 'Lightning', 'MAIN', 'TOP', 'SAIL', 'YARD', 'AROUND', 'um', 'Plenty', '123', 'Musket', 'reelingly', 'preventer', 'shuttlecock', 'anyone', 'strenuous', 'exertions', 'trysail', 'HO', 'FAIR', 'OH', 'CHEERLY', 'MEN', 'falsified', 'compliance', 'trimmed', 'reluctantly', 'apprise', 'fitfully', 'fitful', 'panels', 'subterraneousness', 'shiningly', 'evolved', 'Loaded', 'spill', 'gropes', 'suffered', 'Sleeping', 'remonstrance', 'scornest', 'Flat', 'breathest', 'Ahabs', 'forbid', 'lawful', 'caged', 'howlings', 'tindering', 'stealthily', 'drunkard', 'panel', 'wrestling', '124', 'Needle', 'outspread', 'unstaggering', 'abounded', 'outbellying', 'boomed', 'Muffled', 'Emblazonings', 'Babylonian', 'molten', 'bubblingly', 'tetering', 'loweringly', 'rearward', 'Yoke', 'hallo', 'reined', 'huskily', 'liest', 'Heading', 'palpableness', 'Thrusting', 'electricity', 'Instances', 'loadstone', 'recovers', 'reaches', 'Deliberately', 'transpointed', 'unmurmuringly', 'acquiesced', 'rumbled', 'unimpressed', 'magnetism', 'tubes', 'Accessory', 'dictating', 'clumsily', 'shudderings', 'Abashed', 'servile', 'exchanged', 'blunted', 'magnetizing', 'slunk', '125', 'Log', 'fated', 'reliance', 'determining', 'neglect', 'railing', 'Rains', 'damped', 'warped', 'plungingly', 'Heave', 'Tahitian', 'grizzly', 'spindle', 'spool', 'unwinding', 'mistrust', 'truer', 'subservient', 'Excellent', 'unmanned', 'jerkingly', 'reelman', 'Snap', 'overstrained', 'sagged', 'tugging', 'loosening', 'fished', 'Jerk', 'loon', 'scolds', 'lesser', 'holiness', 'Astern', 'ding', 'dong', 'cowardly', 'Ding', 'creative', 'libertines', 'touchest', 'strings', 'weak', 'rivet', 'believers', 'idiotic', 'gratitude', 'daft', 'rotten', 'Mend', '126', 'Buoy', 'Making', 'unfrequented', 'monotonously', 'plaintively', 'wailings', 'Herod', 'Innocents', 'transfixedly', 'unappalled', 'dams', 'sobbing', 'peeringly', 'bodings', 'plausible', 'confirmation', 'waked', 'shrunken', 'pore', 'sooth', 'portent', 'foreshadowing', 'fulfilment', 'presaged', 'lightness', 'feverish', 'inuendoes', 'arrange', 'Bring', 'caulk', 'caulking', 'huff', 'baulks', 'bandbox', 'cobbling', 'undignified', 'tinkers', 'brats', 'tinkerings', 'betters', 'jobs', 'cobbler', 'heigh', 'Nail', 'batten', 'knotty', 'Aroostook', 'hemlock', 'Cruppered', 'Sailing', 'tray', 'workers', 'bedsteads', '127', 'LAID', 'LINE', 'TUBS', 'BETWEEN', 'OPEN', 'HATCHWAY', 'CAULKING', 'ITS', 'SEAMS', 'STRING', 'TWISTED', 'OAKUM', 'SLOWLY', 'UNWINDING', 'ROLL', 'PLACED', 'BOSOM', 'FROCK', 'COMES', 'GANGWAY', 'HEARS', 'FOLLOWING', 'complies', 'genially', 'aisle', 'Art', 'ferrule', 'undertaker', 'arrant', 'intermeddling', 'scamp', 'Titans', 'chipping', 'craters', 'sings', 'bier', 'Despatch', 'Albemarle', 'musical', 'HIMSELF', 'woodpecker', 'Blind', 'envied', 'Rat', 'tat', 'seconds', 'tick', 'immaterial', 'imponderable', 'suck', 'philosophies', 'conduits', '128', 'Rachel', 'clustering', 'boastful', 'bladders', 'Throttling', 'negatively', 'pulls', 'swiftest', 'gleam', 'conjure', 'icily', 'petition', 'charter', 'roundly', 'Manx', 'adopting', 'iciness', 'unmisgiving', 'hardihood', 'paternal', 'initiate', 'unenervated', 'display', 'partiality', 'undue', 'boon', 'nestling', 'relent', 'prolongingly', 'Gardiner', 'forgive', 'Hurriedly', 'transfixed', 'rejection', 'enchantment', 'tack', 'cherry', 'cherrying', 'wept', '129', 'MOVING', 'CATCHES', 'Lad', 'cures', 'bigot', 'fadeless', 'grows', 'Weep', 'Met', 'GOES', 'STEPS', 'STEP', 'fours', 'lieutenants', 'epaulets', 'monsieurs', 'Monsieurs', 'Jumped', 'Put', 'bulge', '130', 'Hat', 'contrastingly', 'concurred', 'sinning', 'sinned', 'unsetting', 'sustains', 'domineered', 'check', 'Alike', 'powdered', 'clamped', 'machines', 'despot', 'awed', 'wan', 'watchmen', 'limits', 'slouching', 'sunshine', 'gnarled', 'unearthed', 'intermission', 'unmomentous', 'asunder', 'verbal', 'forethrown', 'commandingly', 'subordinates', 'tyrant', 'siding', 'glimmering', 'slided', 'reeved', 'attaching', 'shunning', 'relying', 'arranging', 'foothold', 'relations', 'discerned', 'fastenings', 'watchman', 'carelessness', 'swooping', 'ventured', 'select', 'billed', 'incommodiously', 'untrackably', 'spiralized', 'Sicilian', 'scream', 'hawk', 'Tarquin', 'replace', 'Tanaquil', 'disappearance', '131', 'misnamed', 'shears', 'unrigged', 'bleaching', 'sewing', 'Tempered', 'triply', 'Brace', 'baptism', 'dejected', '132', 'Symphony', 'firmaments', 'separable', 'pensive', 'transparently', 'Samson', 'Hither', 'unspeckled', 'masculine', 'sex', 'czar', 'groom', 'haggardly', 'unyielding', 'untottering', 'clearness', 'innocency', 'Invisible', 'elves', 'heedlessly', 'gambol', 'singed', 'marge', 'aromas', 'dispel', 'cankerous', 'caress', 'erring', 'wee', 'privation', 'forsaken', 'heaviness', 'slavery', 'poorest', 'crusts', 'frenzy', 'foamingly', 'brush', 'mockery', 'Wife', 'sisterly', 'blighted', 'cindered', 'lovings', 'longings', 'Albicore', 'Sleep', 'blanched', 'Mate', 'motionlessly', '133', 'Chase', 'inspecting', 'vane', 'ascertaining', 'shortened', 'acute', 'vindicated', 'bordering', 'metallic', 'rip', 'Thundering', 'flattening', 'stunsails', 'Fired', 'jetting', 'moonlit', 'methodic', 'attuned', 'prolongings', 'Helm', 'luff', 'Shiver', 'Boats', 'gnawed', 'nautilus', 'unsuspecting', 'rugged', 'playfully', 'interchangeably', 'feathering', 'alternate', 'skimming', 'streaming', 'pennons', 'joyousness', 'ravished', 'Europa', 'bewitching', 'nuptial', 'Crete', 'Supreme', 'surpass', 'coincident', 'enticings', 'namelessly', 'assail', 'enticing', 'glidest', 'bejuggled', 'tranquillities', 'clappings', 'rapture', 'withholding', 'marbleized', 'warningly', 'bannered', 'Hoveringly', 'apeak', 'wooing', 'freshened', 'herons', 'expectant', 'keener', 'weasel', 'undiscoverable', 'scrolled', 'doored', 'stratagem', 'sidelingly', 'thrilled', 'unastonished', 'dallied', 'frenzied', 'frail', 'crafty', 'upraising', 'loosed', 'tilting', 'Ripplingly', 'spindled', 'vindictively', 'Channel', 'overleap', 'designation', 'poise', 'comprehensively', 'madden', 'mulberries', 'Antiochus', 'Maccabees', 'insolent', 'incuriously', 'revolvingly', 'planetarily', '!--\"', 'Dragged', 'caking', 'trodden', 'ravines', 'prostration', 'abbreviate', 'pang', 'feebler', 'decree', 'intensities', 'pointless', 'centres', 'circumferences', 'draggingly', 'Help', 'banked', 'treble', 'vicissitude', 'overtaking', 'stacking', 'outstretching', 'jointed', 'allotted', '.--\"', 'Whose', 'clouded', 'intending', 'thistle', 'pricked', 'soulless', 'Groan', 'Omen', 'honourably', 'darkling', 'peopled', 'Cold', 'rustling', 'unset', 'slower', '.\"--', 'rousing', '134', 'punctually', 'pertinacious', 'prescience', 'invincible', 'geniuses', 'foretell', 'trending', 'obscures', 'proverbial', 'evanescence', 'railway', 'acuteness', 'windbound', 'Inferable', 'furrow', 'missent', 'plough', 'creeps', 'tingles', 'launch', 'blister', 'miller', 'shuts', 'watergate', 'frenzies', 'hares', 'bounding', 'suspense', 'enslaved', 'maple', 'individualities', 'guiltiness', 'oneness', 'outspreadingly', 'Clinging', 'wavings', 'shading', 'blueness', 'Sway', 'belayed', 'orchestra', 'vibrate', 'discharges', 'rifles', 'halloo', 'breaching', 'bravadoes', 'salmon', 'bluer', 'glittered', 'glacier', 'fading', 'mistiness', 'Unmindful', 'ladders', 'dartingly', 'excludes', 'annihilating', 'manoeuvred', 'trained', 'chargers', 'slogan', 'untraceable', 'evolutions', 'recrossed', 'foreshortened', 'hoping', 'disencumber', 'snarls', 'Caught', 'corkscrewed', 'fagot', 'tangles', 'husks', 'grated', 'nutmeg', 'aslope', 'bobbed', 'twitching', 'lustily', 'unstricken', 'struggled', 'modifying', 'crumb', 'intertangled', 'contusions', 'inextricable', 'splinter', 'leaner', 'Dead', 'muster', 'gores', 'Accursed', 'Gone', 'knell', \"!--'\", 'collect', 'unmeasured', 'Jesus', 'mobbing', 'Impiety', 'lipless', 'unfeatured', 'immutably', 'billion', 'Fool', 'lieutenant', 'underling', 'obeyest', 'propped', 'centipede', 'omens', 'encore', 'tomorrow', 'baffle', 'judges', 'LL', 'dusk', 'hid', 'heliotrope', '135', 'dawned', 'goest', 'fairer', 'clefts', 'lava', 'corridors', 'ventilated', 'fleeces', 'tainted', 'slink', 'braver', 'exasperate', 'bodiless', 'Trade', 'Winds', 'veer', 'baser', 'Mississippies', 'Poles', 'unchangeable', 'oversailed', 'reverse', 'rechurned', 'Against', 'misdoubt', 'voiced', 'Forehead', 'wink', 'leewardings', 'Leeward', 'bitterer', 'tiny', 'shallop', 'weeps', 'persuasion', 'maliciously', 'prescient', 'regiments', 'molesting', 'Heart', 'ravening', 'Future', 'fadest', 'Strangest', 'Feel', 'Stir', 'Crazed', 'soars', 'upheaved', 'bedraggled', 'Shrouded', 'swamping', 'Crushed', 'brokenly', 'creamed', 'combinedly', 'tiers', 'overspreading', 'knitted', 'flailed', 'Lashed', 'frayed', 'Befooled', 'befooled', 'seekest', 'judicious', 'staved', 'busying', 'abate', 'pertinaciously', 'rowlocks', 'Monadnock', 'fiercer', 'writhed', 'foreknew', 'unprepared', 'ungraduated', 'tug', 'sinew', 'Burst', 'crashing', 'evolution', 'persecutions', 'Slope', 'splashing', 'gap', 'wrapping', 'plaid', 'fidelities', 'unappeasable', 'unwinking', 'mattrass', 'brushwood', 'assassins', 'gulping', 'cherries', 'Cherries', 'coppers', 'inactive', 'predestinating', 'Retribution', 'buttress', 'dislodged', 'flume', 'Diving', 'unsurrendered', 'uncracked', 'bullied', 'foregone', 'comber', 'destroying', 'unconquering', 'grapple', 'THUS', 'voicelessly', 'mutes', 'bowstring', 'bewildering', 'mediums', 'gaseous', 'Fata', 'Morgana', 'infatuation', 'lookouts', 'animate', 'inanimate', 'vortex', 'whelmings', 'intermixingly', 'ironical', 'coincidings', 'backwardly', 'tauntingly', 'incommoding', 'intercept', 'etherial', 'thrill', 'Epilogue', 'ONLY', 'ESCAPED', 'THEE', 'halfspent', 'suction', 'closing', 'Ixion', 'Till', 'liberated', 'Buoyed', 'dirgelike', 'padlocks', 'sheathed', 'retracing', 'orphan'])"
            ]
          },
          "metadata": {
            "tags": []
          },
          "execution_count": 32
        }
      ]
    },
    {
      "cell_type": "code",
      "metadata": {
        "colab": {
          "base_uri": "https://localhost:8080/"
        },
        "id": "65e-3dz9SPAA",
        "outputId": "b8d31572-d661-4756-f06e-1cc9a2130b34"
      },
      "source": [
        "fdist1['whale'] # Returns the frequency of the word specified"
      ],
      "execution_count": 33,
      "outputs": [
        {
          "output_type": "execute_result",
          "data": {
            "text/plain": [
              "906"
            ]
          },
          "metadata": {
            "tags": []
          },
          "execution_count": 33
        }
      ]
    },
    {
      "cell_type": "code",
      "metadata": {
        "colab": {
          "base_uri": "https://localhost:8080/"
        },
        "id": "SR-HNX0mShgI",
        "outputId": "17008372-db29-44cf-bcaa-cb525cbe29cb"
      },
      "source": [
        "fdist2 = FreqDist(text2)\r\n",
        "print(fdist2)"
      ],
      "execution_count": 34,
      "outputs": [
        {
          "output_type": "stream",
          "text": [
            "<FreqDist with 6833 samples and 141576 outcomes>\n"
          ],
          "name": "stdout"
        }
      ]
    },
    {
      "cell_type": "code",
      "metadata": {
        "colab": {
          "base_uri": "https://localhost:8080/"
        },
        "id": "9k1VVJ5ATPvY",
        "outputId": "33125829-9a3e-4c99-ee3d-7a6d6fb68b91"
      },
      "source": [
        "vocabulary2 = fdist2.keys()\r\n",
        "vocabulary2"
      ],
      "execution_count": 35,
      "outputs": [
        {
          "output_type": "execute_result",
          "data": {
            "text/plain": [
              "dict_keys(['[', 'Sense', 'and', 'Sensibility', 'by', 'Jane', 'Austen', '1811', ']', 'CHAPTER', '1', 'The', 'family', 'of', 'Dashwood', 'had', 'long', 'been', 'settled', 'in', 'Sussex', '.', 'Their', 'estate', 'was', 'large', ',', 'their', 'residence', 'at', 'Norland', 'Park', 'the', 'centre', 'property', 'where', 'for', 'many', 'generations', 'they', 'lived', 'so', 'respectable', 'a', 'manner', 'as', 'to', 'engage', 'general', 'good', 'opinion', 'surrounding', 'acquaintance', 'late', 'owner', 'this', 'single', 'man', 'who', 'very', 'advanced', 'age', 'years', 'his', 'life', 'constant', 'companion', 'housekeeper', 'sister', 'But', 'her', 'death', 'which', 'happened', 'ten', 'before', 'own', 'produced', 'great', 'alteration', 'home', ';', 'supply', 'loss', 'he', 'invited', 'received', 'into', 'house', 'nephew', 'Mr', 'Henry', 'legal', 'inheritor', 'person', 'whom', 'intended', 'bequeath', 'it', 'In', 'society', 'niece', 'children', 'old', 'Gentleman', \"'\", 's', 'days', 'were', 'comfortably', 'spent', 'His', 'attachment', 'them', 'all', 'increased', 'attention', 'Mrs', 'wishes', 'proceeded', 'not', 'merely', 'from', 'interest', 'but', 'goodness', 'heart', 'gave', 'him', 'every', 'degree', 'solid', 'comfort', 'could', 'receive', 'cheerfulness', 'added', 'relish', 'existence', 'By', 'former', 'marriage', 'one', 'son', ':', 'present', 'lady', 'three', 'daughters', 'steady', 'young', 'amply', 'provided', 'fortune', 'mother', 'half', 'devolved', 'on', 'coming', 'likewise', 'soon', 'afterwards', 'wealth', 'To', 'therefore', 'succession', 'really', 'important', 'sisters', 'independent', 'what', 'might', 'arise', 'father', 'inheriting', 'that', 'be', 'small', 'nothing', 'only', 'seven', 'thousand', 'pounds', 'disposal', 'remaining', 'moiety', 'first', 'wife', 'also', 'secured', 'child', '-', 'gentleman', 'died', 'will', 'read', 'like', 'almost', 'other', 'much', 'disappointment', 'pleasure', 'He', 'neither', 'unjust', 'nor', 'ungrateful', 'leave', ';--', 'left', 'such', 'terms', 'destroyed', 'value', 'bequest', 'wished', 'more', 'sake', 'than', 'himself', 'or', 'four', 'way', 'no', 'power', 'providing', 'those', 'most', 'dear', 'needed', 'provision', 'any', 'charge', 'sale', 'its', 'valuable', 'woods', 'whole', 'tied', 'up', 'benefit', 'occasional', 'visits', 'with', 'far', 'gained', 'affections', 'uncle', 'attractions', 'are', 'means', 'unusual', 'two', 'an', 'imperfect', 'articulation', 'earnest', 'desire', 'having', 'cunning', 'tricks', 'deal', 'noise', 'outweigh', 'meant', 'unkind', 'however', 'mark', 'affection', 'girls', 'piece', 'severe', 'temper', 'cheerful', 'sanguine', 'reasonably', 'hope', 'live', 'living', 'economically', 'lay', 'considerable', 'sum', 'produce', 'already', 'capable', 'immediate', 'improvement', 'tardy', 'twelvemonth', 'survived', 'longer', 'including', 'legacies', 'remained', 'widow', 'sent', 'danger', 'known', 'recommended', 'strength', 'urgency', 'illness', 'command', 'law', 'John', 'strong', 'feelings', 'rest', 'affected', 'recommendation', 'nature', 'time', 'promised', 'do', 'thing', 'make', 'comfortable', 'rendered', 'easy', 'assurance', 'then', 'leisure', 'consider', 'how', 'there', 'prudently', 'ill', 'disposed', 'unless', 'rather', 'cold', 'hearted', 'selfish', 'is', 'well', 'respected', 'conducted', 'propriety', 'discharge', 'ordinary', 'duties', 'Had', 'married', 'amiable', 'woman', 'have', 'made', 'still', ':--', 'even', 'when', 'fond', 'caricature', 'narrow', 'minded', 'When', 'promise', 'meditated', 'within', 'increase', 'fortunes', 'thought', 'equal', 'prospect', 'year', 'addition', 'income', 'besides', 'warmed', 'feel', 'generosity', '.--', '\"', 'Yes', 'would', 'give', 'liberal', 'handsome', '!', 'It', 'enough', 'completely', 'Three', 'spare', 'little', 'inconvenience', '.\"--', 'day', 'successively', 'did', 'repent', 'No', 'sooner', 'funeral', 'over', 'without', 'sending', 'notice', 'intention', 'arrived', 'attendants', 'dispute', 'right', 'come', 'husband', 'moment', 'decease', 'indelicacy', 'conduct', 'greater', 'situation', 'common', 'must', 'highly', 'unpleasing', 'HER', 'mind', 'sense', 'honor', 'keen', 'romantic', 'offence', 'kind', 'whomsoever', 'given', 'source', 'immoveable', 'disgust', 'never', 'favourite', 'she', 'opportunity', 'till', 'shewing', 'people', 'act', 'occasion', 'required', 'So', 'acutely', 'ungracious', 'behaviour', 'earnestly', 'despise', 'daughter', 'arrival', 'latter', 'quitted', 'ever', 'entreaty', 'eldest', 'girl', 'induced', 'reflect', 'going', 'tender', 'love', 'determined', 'stay', 'sakes', 'avoid', 'breach', 'brother', 'Elinor', 'whose', 'advice', 'effectual', 'possessed', 'understanding', 'coolness', 'judgment', 'qualified', 'though', 'nineteen', 'counsellor', 'enabled', 'frequently', 'counteract', 'advantage', 'eagerness', 'generally', 'led', 'imprudence', 'She', 'excellent', 'disposition', 'affectionate', 'knew', 'govern', 'knowledge', 'yet', 'learn', 'resolved', 'taught', 'Marianne', 'abilities', 'respects', 'quite', 'sensible', 'clever', 'eager', 'everything', 'sorrows', 'joys', 'moderation', 'generous', 'interesting', 'prudent', 'resemblance', 'between', 'strikingly', 'saw', 'concern', 'excess', 'sensibility', 'valued', 'cherished', 'They', 'encouraged', 'each', 'now', 'violence', 'affliction', 'agony', 'grief', 'overpowered', 'voluntarily', 'renewed', 'sought', 'created', 'again', 'themselves', 'wholly', 'sorrow', 'seeking', 'wretchedness', 'reflection', 'afford', 'against', 'admitting', 'consolation', 'future', 'too', 'deeply', 'afflicted', 'struggle', 'exert', 'herself', 'consult', 'treat', 'proper', 'strive', 'rouse', 'similar', 'exertion', 'encourage', 'forbearance', 'Margaret', 'humored', 'imbibed', 'romance', 'thirteen', 'bid', 'fair', 'period', '2', 'installed', 'mistress', 'degraded', 'condition', 'visitors', 'As', 'treated', 'quiet', 'civility', 'kindness', 'towards', 'anybody', 'beyond', 'pressed', 'some', 'earnestness', 'plan', 'appeared', 'eligible', 'accommodate', 'neighbourhood', 'invitation', 'accepted', 'A', 'continuance', 'place', 'reminded', 'delight', 'exactly', 'suited', 'seasons', 'hers', 'possess', 'expectation', 'happiness', 'itself', 'equally', 'carried', 'away', 'fancy', 'alloy', 'approve', 'take', 'boy', 'impoverishing', 'dreadful', 'begged', 'think', 'subject', 'How', 'answer', 'rob', '?', 'And', 'possible', 'claim', 'Miss', 'Dashwoods', 'related', 'blood', 'considered', 'relationship', 'amount', 'supposed', 'exist', 'different', 'marriages', 'why', 'ruin', 'poor', 'Harry', 'giving', 'money', 'my', 'last', 'request', 'me', ',\"', 'replied', 'I', 'should', 'assist', '.\"', 'know', 'talking', 'dare', 'say', 'light', 'headed', 'senses', 'begging', 'you', 'your', 'stipulate', 'particular', 'Fanny', 'requested', 'Perhaps', 'if', 'myself', 'hardly', 'suppose', 'neglect', 'less', 'least', 'performed', 'Something', 'done', 'whenever', 'settle', 'new', 'Well', 'LET', 'something', 'THAT', 'need', 'Consider', 'once', 'parted', 'can', 'return', 'Your', 'marry', 'gone', 'If', 'indeed', 'restored', 'our', '--\"', 'Why', 'sure', 'said', 'gravely', 'difference', 'may', 'regret', 'numerous', 'instance', 'convenient', 'better', 'parties', 'diminished', 'Five', 'hundred', 'prodigious', '!\"', 'Oh', 'anything', 'What', 'earth', 'REALLY', '--', '!--', 'spirit', 'wish', 'mean', 'One', 'occasions', 'expect', 'There', 'knowing', 'THEY', 'we', 'expectations', 'question', 'Certainly', 'five', 'mine', 'about', 'strikes', 'want', 'divided', 'amongst', 'doing', 'together', 'That', 'true', 'whether', 'upon', 'advisable', 'while', 'lives', 'annuity', 'My', 'effects', 'perfectly', 'hesitated', 'consent', 'parting', 'fifteen', 'shall', 'taken', 'Fifteen', 'cannot', 'worth', 'purchase', 'observe', 'always', 'paid', 'stout', 'healthy', 'forty', 'An', 'serious', 'business', 'comes', 'getting', 'rid', 'You', 'aware', 'trouble', 'annuities', 'clogged', 'payment', 'superannuated', 'servants', 'amazing', 'disagreeable', 'found', 'Twice', 'these', 'turned', 'out', 'sick', 'Her', 'perpetual', 'claims', 'because', 'otherwise', 'entirely', 'restriction', 'whatever', 'has', 'abhorrence', 'am', 'pin', 'down', 'world', 'certainly', 'unpleasant', 'yearly', 'drains', 'justly', 'says', 'NOT', 'regular', 'rent', 'desirable', 'takes', 'independence', 'Undoubtedly', 'after', 'thanks', 'secure', 'expected', 'raises', 'gratitude', 'discretion', 'bind', 'allow', 'inconvenient', 'fifty', 'expenses', 'believe', 'case', 'occasionally', 'assistance', 'allowance', 'enlarge', 'style', 'felt', 'larger', 'sixpence', 'richer', 'end', 'best', 'prevent', 'being', 'distressed', 'discharging', 'Indeed', 'truth', 'convinced', 'idea', 'looking', 'helping', 'move', 'things', 'presents', 'fish', 'game', 'forth', 'season', 'll', 'farther', 'strange', 'unreasonable', 'Do', 'excessively', 'belonging', 'brings', 'course', 'pay', 'board', 'Altogether', 'women', '?--', 'cheap', 'housekeeping', 'carriage', 'horses', 'keep', 'company', 'Only', 'conceive', 'imagine', 'spend', 'absurd', 'able', 'YOU', 'Upon', 'word', 'clearly', 'understand', 'strictly', 'fulfil', 'engagement', 'acts', 'described', 'removes', 'another', 'services', 'readily', 'Some', 'furniture', 'acceptable', 'returned', 'ONE', 'moved', 'Stanhill', 'sold', 'china', 'plate', 'linen', 'saved', 'fitted', 'material', 'consideration', 'undoubtedly', 'legacy', 'pleasant', 'stock', 'here', 'set', 'breakfast', 'twice', 'belongs', 'THEM', 'owe', 'This', 'argument', 'irresistible', 'intentions', 'decision', 'wanting', 'finally', 'absolutely', 'unnecessary', 'indecorous', 'neighbourly', 'pointed', '3', 'several', 'months', 'disinclination', 'sight', 'spot', 'ceased', 'raise', 'violent', 'emotion', 'spirits', 'began', 'revive', 'became', 'heightening', 'melancholy', 'remembrances', 'impatient', 'indefatigable', 'inquiries', 'suitable', 'dwelling', 'remove', 'beloved', 'impossible', 'hear', 'answered', 'notions', 'ease', 'prudence', 'steadier', 'rejected', 'houses', 'approved', 'informed', 'solemn', 'part', 'favour', 'earthly', 'reflections', 'doubted', 'sincerity', 'satisfaction', 'persuaded', 'smaller', '7000L', 'support', 'affluence', 'For', 'rejoiced', 'reproached', 'merit', 'believing', 'incapable', 'attentive', 'welfare', 'firmly', 'relied', 'liberality', 'contempt', 'early', 'character', 'afforded', 'perhaps', 'spite', 'politeness', 'maternal', 'side', 'ladies', 'circumstance', 'occurred', 'eligibility', 'according', 'opinions', 'growing', 'pleasing', 'introduced', 'establishment', 'since', 'greatest', 'mothers', 'intimacy', 'motives', 'Edward', 'Ferrars', 'rich', 'repressed', 'except', 'trifling', 'depended', 'alike', 'uninfluenced', 'either', 'loved', 'partiality', 'contrary', 'doctrine', 'couple', 'asunder', 'attracted', 'acknowledged', 'comprehension', 'peculiar', 'graces', 'address', 'manners', 'diffident', 'justice', 'natural', 'shyness', 'overcome', 'indication', 'open', 'education', 'longed', 'see', 'distinguished', 'wanted', 'fine', 'figure', 'political', 'concerns', 'get', 'parliament', 'connected', 'men', 'superior', 'blessings', 'attained', 'quieted', 'ambition', 'driving', 'barouche', 'turn', 'barouches', 'All', 'centered', 'domestic', 'private', 'Fortunately', 'younger', 'promising', 'staying', 'weeks', 'engaged', 'careless', 'objects', 'unobtrusive', 'liked', 'disturb', 'timed', 'conversation', 'called', 'chanced', 'contrast', 'forcibly', 'unlike', 'implies', 'Like', 'smile', 'sentiment', 'approbation', 'inferior', 'esteem', 'separate', 'took', 'pains', 'acquainted', 'attaching', 'banished', 'reserve', 'speedily', 'comprehended', 'merits', 'persuasion', 'regard', 'assisted', 'penetration', 'assured', 'quietness', 'militated', 'established', 'ideas', 'ought', 'uninteresting', 'warm', 'perceive', 'symptom', 'certain', 'looked', 'forward', 'rapidly', 'approaching', 'few', 'probability', 'We', 'miss', 'SHE', 'happy', 'Mamma', '?\"', 'scarcely', 'separation', 'miles', 'meet', 'gain', 'real', 'highest', 'look', 'grave', 'disapprove', 'choice', 'surprise', 'tenderly', 'striking', 'none', 'grace', 'seriously', 'attach', 'eyes', 'fire', 'announce', 'virtue', 'intelligence', 'afraid', 'taste', 'Music', 'seems', 'attract', 'admires', 'drawings', 'admiration', 'evident', 'frequent', 'draws', 'fact', 'knows', 'matter', 'lover', 'connoisseur', 'satisfy', 'characters', 'united', 'point', 'coincide', 'enter', 'same', 'books', 'music', 'charm', 'us', 'both', 'mama', 'spiritless', 'tame', 'reading', 'night', 'severely', 'Yet', 'bore', 'composure', 'seemed', 'seat', 'beautiful', 'lines', 'driven', 'wild', 'pronounced', 'impenetrable', 'calmness', 'indifference', '!\"--', 'simple', 'elegant', 'prose', 'WOULD', 'Cowper', 'Nay', 'animated', 'overlook', 'broke', 'MY', 'Mama', 'require', 'virtues', 'ornament', 'Remember', 'seventeen', 'despair', 'fortunate', 'destiny', '4', 'pity', 'drawing', 'does', 'draw', 'seeing', 'performances', 'assure', 'deficient', 'opportunities', 'improving', 'learning', 'drawn', 'distrusts', 'matters', 'unwilling', 'picture', 'innate', 'simplicity', 'direct', 'offending', 'excited', 'rapturous', 'alone', 'smiling', 'mistake', 'honoured', 'blind', 'continued', 'cordial', 'civil', 'wound', 'account', 'At', 'length', 'offended', 'praise', 'estimating', 'minuter', 'propensities', 'inclinations', 'tastes', 'worthy', 'dearest', 'friends', 'dissatisfied', 'commendation', 'express', 'yourself', 'warmly', 'find', 'easily', 'pleased', 'Of', 'doubt', 'seen', 'often', 'unreserved', 'excellence', 'principles', 'concealed', 'keeps', 'silent', 'call', 'circumstances', 'kept', 'ignorant', 'times', 'thrown', 'engrossed', 'principle', 'studied', 'sentiments', 'heard', 'subjects', 'literature', 'venture', 'pronounce', 'enjoyment', 'exceedingly', 'imagination', 'lively', 'observation', 'just', 'correct', 'delicate', 'pure', 'respect', 'improve', 'expression', 'uncommonly', 'sweetness', 'countenance', 'perceived', 'tell', 'imperfection', 'face', 'started', 'declaration', 'sorry', 'warmth', 'betrayed', 'speaking', 'stood', 'high', 'believed', 'mutual', 'certainty', 'conviction', 'agreeable', 'conjectured', 'next', 'tried', 'explain', 'state', 'attempt', 'deny', 'greatly', 'burst', 'indignation', 'Esteem', 'Cold', 'worse', 'Ashamed', 'Use', 'words', 'room', 'help', 'laughing', 'Excuse', 'Believe', 'stronger', 'declared', 'short', 'suspicion', 'warrant', 'folly', 'moments', 'extent', 'doubtful', 'fully', 'wonder', 'wishing', 'encouragement', 'calling', 'preference', 'points', 'inclination', 'mention', 'mistaken', 'difficulties', 'rank', 'astonished', 'outstripped', 'happen', 'advantages', 'proceed', 'delay', 'lose', 'pursuit', 'indispensably', 'necessary', 'felicity', 'stimulated', 'genius', 'delightful', 'prosperous', 'denote', 'spoke', 'unpromising', 'supposing', 'inquietude', 'likely', 'dejection', 'attended', 'reasonable', 'cause', 'dependent', 'forbade', 'indulgence', 'behaved', 'form', 'attending', 'views', 'aggrandizement', 'With', 'depending', 'result', 'sometimes', 'painful', 'minutes', 'friendship', 'limits', 'uneasy', '(', ',)', 'uncivil', 'affronting', 'expressively', 'resolution', 'sons', 'attempted', 'DRAW', 'HIM', 'IN', 'pretend', 'unconscious', 'endeavor', 'calm', 'marked', 'instantly', 'resolving', 'expense', 'sudden', 'removal', 'exposed', 'week', 'insinuations', 'letter', 'delivered', 'post', 'contained', 'proposal', 'particularly', 'offer', 'relation', 'consequence', 'Devonshire', 'written', 'friendly', 'accommodation', 'understood', 'offered', 'cottage', 'particulars', 'garden', 'Barton', 'whence', 'judge', 'Cottage', 'parish', 'anxious', 'fail', 'cousin', 'especially', 'suffering', 'under', 'unfeeling', 'nearer', 'connections', 'deliberation', 'inquiry', 'formed', 'county', 'distant', 'hours', 'sufficient', 'objection', 'quit', 'evil', 'object', 'blessing', 'comparison', 'misery', 'continuing', 'guest', 'inhabit', 'visit', 'wrote', 'Sir', 'Middleton', 'acknowledgment', 'acceptance', 'hastened', 'shew', 'letters', 'distance', 'immediately', 'On', 'head', 'oppose', 'removing', 'scale', 'moderate', 'brought', 'vicinity', 'dissuade', 'acquiescence', '5', 'dispatched', 'indulged', 'announcing', 'incommode', 'ready', 'inhabiting', 'civilly', 'hoped', 'replying', 'hastily', 'hearing', 'voice', 'explanation', 'repeated', 'Are', 'hence', 'explained', 'northward', 'Exeter', 'difficulty', 'travelling', 'accommodating', 'concluded', 'Though', 'resolve', 'unavoidable', 'smallest', 'effect', 'principally', 'tended', 'show', 'totally', 'disregarded', 'disapprobation', 'match', 'told', 'service', 'conscientiously', 'vexed', 'limited', 'performance', 'arrangement', 'impracticable', 'around', 'water', 'chiefly', 'consisted', 'household', 'pianoforte', 'packages', 'depart', 'sigh', 'feeling', 'hard', 'article', 'furnished', 'possession', 'arose', 'agreement', 'waited', 'determine', 'off', 'west', 'rapid', 'interested', 'offering', 'disposing', 'agreed', 'sell', 'consulted', 'prevailed', 'wisdom', 'number', 'maids', 'prepare', 'Lady', 'unknown', 'preferred', 'directly', 'visitor', 'undoubtingly', 'description', 'curiosity', 'examine', 'entered', 'preserved', 'diminution', 'feebly', 'defer', 'departure', 'Now', 'fulfilled', 'Since', 'neglected', 'quitting', 'accomplishment', 'shortly', 'drift', 'discourse', 'extended', 'maintenance', 'six', 'talked', 'increasing', 'demands', 'purse', 'calculation', 'stand', 'design', 'abode', 'enable', 'begin', 'journey', 'Many', 'tears', 'shed', 'adieus', 'Dear', 'wandered', 'evening', 'cease', 'elsewhere', 'suffer', 'viewing', 'view', 'ye', 'trees', 'continue', 'leaf', 'decay', 'removed', 'branch', 'become', 'motionless', 'although', 'insensible', 'change', 'walk', 'shade', 'remain', 'enjoy', '6', 'tedious', 'drew', 'appearance', 'country', 'overcame', 'Valley', 'fertile', 'wooded', 'pasture', 'After', 'winding', 'along', 'mile', 'reached', 'green', 'court', 'demesne', 'front', 'neat', 'wicket', 'gate', 'admitted', 'compact', 'defective', 'building', 'roof', 'tiled', 'window', 'shutters', 'painted', 'walls', 'covered', 'honeysuckles', 'passage', 'through', 'behind', 'entrance', 'sitting', 'sixteen', 'feet', 'square', 'offices', 'stairs', 'Four', 'bed', 'rooms', 'garrets', 'built', 'repair', 'recollection', 'dried', 'cheered', 'joy', 'others', 'appear', 'September', 'weather', 'impression', 'recommending', 'lasting', 'High', 'hills', 'rose', 'downs', 'cultivated', 'woody', 'village', 'windows', 'extensive', 'commanded', 'valley', 'surrounded', 'terminated', 'direction', 'name', 'branched', 'steepest', 'size', 'satisfied', 'additions', 'indispensable', 'add', 'elegance', 'apartments', 'ourselves', 'tolerably', 'improvements', 'spring', 'plenty', 'These', 'parlors', 'collected', 'thoughts', 'throwing', 'remainder', 'chamber', 'garret', 'above', 'snug', 'difficult', 'widen', 'hand', 'accordingly', 'alterations', 'savings', 'wise', 'contented', 'busy', 'arranging', 'endeavoring', 'placing', 'possessions', 'unpacked', 'properly', 'affixed', 'employments', 'interrupted', 'landlord', 'welcome', 'theirs', 'formerly', 'visited', 'cousins', 'remember', 'thoroughly', 'humoured', 'solicitude', 'sociable', 'cordially', 'dine', 'entreaties', 'perseverance', 'confined', 'hour', 'basket', 'full', 'stuff', 'fruit', 'park', 'followed', 'insisted', 'moreover', 'conveying', 'denied', 'newspaper', 'message', 'denoting', 'waiting', 'polite', 'ladyship', 'depend', 'favourable', 'twenty', 'tall', 'graceful', 'improved', 'share', 'frankness', 'detract', 'bred', 'reserved', 'remark', 'Conversation', 'chatty', 'precaution', 'bringing', 'recurred', 'extremity', 'enquire', 'admire', 'beauty', 'ask', 'questions', 'hung', 'held', 'wondered', 'shy', 'formal', 'party', 'resembled', 'body', 'differed', 'debating', 'securing', 'dining', '7', 'passed', 'near', 'screened', 'projection', 'hill', 'Middletons', 'hospitality', 'gratification', 'dissimilar', 'outward', 'strongly', 'total', 'talent', 'unconnected', 'compass', 'sportsman', 'hunted', 'shot', 'resources', 'spoil', 'round', 'Continual', 'engagements', 'abroad', 'supplied', 'deficiencies', 'supported', 'exercise', 'breeding', 'piqued', 'table', 'arrangements', 'vanity', 'delighted', 'collecting', 'hold', 'noisier', 'juvenile', 'summer', 'forming', 'eat', 'ham', 'chicken', 'doors', 'winter', 'balls', 'unsatiable', 'appetite', 'charmed', 'inhabitants', 'procured', 'pretty', 'unaffected', 'captivating', 'friendliness', 'past', 'unfortunate', 'showing', 'settling', 'females', 'esteems', 'sex', 'sportsmen', 'desirous', 'encouraging', 'manor', 'met', 'door', 'welcomed', 'unable', 'smart', 'friend', 'gay', 'excuse', 'smallness', 'families', 'morning', 'hopes', 'procuring', 'moonlight', 'Luckily', 'dull', 'entire', 'strangers', 'Jennings', 'merry', 'fat', 'elderly', 'vulgar', 'jokes', 'laughter', 'dinner', 'witty', 'lovers', 'husbands', 'hearts', 'pretended', 'blush', 'attacks', 'pain', 'raillery', 'Colonel', 'Brandon', 'adapted', 'absolute', 'bachelor', 'wrong', 'thirty', 'gentlemanlike', 'recommend', 'companions', 'insipidity', 'repulsive', 'gravity', 'boisterous', 'mirth', 'roused', 'noisy', 'pulled', 'tore', 'clothes', 'put', 'discovered', 'musical', 'play', 'instrument', 'unlocked', 'prepared', 'sang', 'went', 'chief', 'songs', 'lain', 'position', 'celebrated', 'event', 'played', 'extremely', 'applauded', 'loud', 'song', 'lasted', 'order', 'diverted', 'asked', 'sing', 'finished', 'raptures', 'compliment', 'forfeited', 'shameless', 'amounted', 'ecstatic', 'sympathize', 'estimable', 'contrasted', 'horrible', 'insensibility', 'outlived', 'acuteness', 'exquisite', 'colonel', 'humanity', '8', 'ample', 'jointure', 'respectably', 'promotion', 'zealously', 'active', 'ability', 'missed', 'projecting', 'weddings', 'among', 'remarkably', 'quick', 'discovery', 'attachments', 'enjoyed', 'raising', 'blushes', 'discernment', 'decisively', 'suspected', 'listening', 'attentively', 'ascertained', 'HE', 'connection', 'inconsiderable', 'endless', 'laughed', 'probably', 'regarded', 'indifferent', 'incomprehensible', 'laugh', 'absurdity', 'censure', 'impertinence', 'forlorn', 'ancient', 'youthful', 'ventured', 'clear', 'throw', 'ridicule', 'accusation', 'intentionally', 'natured', 'sensation', 'ridiculous', 'safe', 'wit', 'infirmity', 'protect', 'Infirmity', 'infirm', 'deceive', 'use', 'limbs', 'Did', 'complain', 'rheumatism', 'commonest', 'declining', 'rate', 'continual', 'terror', 'seem', 'miracle', 'apprehensive', 'losing', 'matrimony', 'chance', 'marrying', 'pausing', 'inspire', 'uncomfortable', 'bring', 'submit', 'nurse', 'security', 'unsuitable', 'convenience', 'commercial', 'exchange', 'benefited', 'convince', 'dooming', 'confinement', 'yesterday', 'damp', ')', 'slight', 'rheumatic', 'shoulders', 'flannel', 'waistcoats', 'waistcoat', 'invariably', 'aches', 'cramps', 'rheumatisms', 'species', 'ailment', 'afflict', 'feeble', 'fever', 'despised', 'Confess', 'flushed', 'cheek', 'hollow', 'eye', 'pulse', 'Soon', 'leaving', 'alarm', 'conceal', 'fortnight', 'Nothing', 'indisposition', 'extraordinary', 'else', 'detain', 'anxiety', 'recollecting', 'showed', 'readiness', 'accepting', 'Does', 'mentioned', 'grate', 'bedchamber', 'observed', 'hurry', 'meaning', 'unaccountable', 'composed', 'languid', 'farewell', 'distinction', 'purposely', 'unaccountably', 'follow', 'cried', 'Even', 'self', 'invariable', 'dejected', 'try', 'restless', '9', 'tolerable', 'familiar', 'pursuits', 'charms', 'habit', 'occupation', 'amazement', 'finding', 'employed', 'urgent', 'mix', 'assurances', 'resolute', 'classed', 'attainable', 'About', 'Allenham', 'issued', 'earliest', 'walks', 'mansion', 'reminding', 'learnt', 'enquiry', 'possessor', 'unfortunately', 'stirred', 'abounded', 'seek', 'air', 'summits', 'alternative', 'dirt', 'valleys', 'beneath', 'shut', 'beauties', 'memorable', 'steps', 'partial', 'sunshine', 'showery', 'sky', 'bear', 'rain', 'preceding', 'occasioned', 'tempting', 'pencil', 'book', 'lastingly', 'threatening', 'cloud', 'gaily', 'ascended', 'rejoicing', 'glimpse', 'blue', 'caught', 'faces', 'animating', 'gales', 'south', 'westerly', 'wind', 'pitied', 'fears', 'prevented', 'sharing', 'sensations', 'Is', 'pursued', 'resisting', 'suddenly', 'clouds', 'heads', 'Chagrined', 'surprised', 'obliged', 'unwillingly', 'back', 'shelter', 'exigence', 'usual', 'running', 'speed', 'steep', 'false', 'step', 'ground', 'stop', 'involuntarily', 'hurried', 'bottom', 'safety', 'carrying', 'gun', 'pointers', 'playing', 'passing', 'yards', 'accident', 'ran', 'raised', 'foot', 'twisted', 'fall', 'perceiving', 'modesty', 'declined', 'arms', 'Then', 'whither', 'seated', 'chair', 'parlour', 'fixed', 'secret', 'sprung', 'apologized', 'intrusion', 'relating', 'frank', 'additional', 'ugly', 'influence', 'youth', 'action', 'came', 'thanked', 'dirty', 'wet', 'Willoughby', 'honour', 'tomorrow', 'granted', 'departed', 'midst', 'heavy', 'manly', 'gracefulness', 'theme', 'gallantry', 'exterior', 'confusion', 'crimsoned', 'lifting', 'robbed', 'regarding', 'entering', 'join', 'energy', 'adorned', 'hero', 'story', 'previous', 'formality', 'rapidity', 'Every', 'dresses', 'shooting', 'jacket', 'becoming', 'sprained', 'ankle', 'interval', 'allowed', 'eagerly', 'news', 'ride', 'Thursday', 'Know', 'sort', 'fellow', 'decent', 'bolder', 'rider', 'England', 'indignantly', 'intimate', 'talents', 'puzzled', 'soul', 'got', 'nicest', 'black', 'bitch', 'pointer', 'Was', 'today', 'colour', 'describe', 'shades', 'Where', 'Has', 'resided', 'visiting', 'Court', 'inherit', 'adding', 'yes', 'catching', 'Somersetshire', 'tumbling', 'jealous', 'care', 'incommoded', 'attempts', 'CATCHING', 'employment', 'Men', 'let', 'glad', 'ineligible', 'Christmas', 'hop', 'danced', 'eight', 'o', 'clock', 'sparkling', 'covert', 'Whatever', 'fatigue', 'Aye', 'aye', 'setting', 'cap', 'dislike', 'abhor', 'phrase', \",'\", 'making', 'conquest', 'odious', 'tendency', 'gross', 'illiberal', 'construction', 'deemed', 'ago', 'ingenuity', 'reproof', 'heartily', 'Ay', 'conquests', 'Poor', 'smitten', 'spraining', 'ankles', '10', 'preserver', 'precision', 'styled', 'personal', 'enquiries', 'prompted', 'during', 'second', 'interview', 'complexion', 'features', 'handsomer', 'height', 'lovely', 'cant', 'violently', 'outraged', 'usually', 'happens', 'skin', 'brown', 'transparency', 'brilliant', 'sweet', 'attractive', 'dark', 'hardily', 'From', 'embarrassment', 'remembrance', 'perfect', 'vivacity', 'declare', 'dancing', 'passionately', 'largest', 'amusement', 'talk', 'discussion', 'conformity', 'Encouraged', 'further', 'examination', 'authors', 'dwelt', 'convert', 'works', 'passages', 'idolized', 'force', 'arguments', 'brightness', 'displayed', 'acquiesced', 'decisions', 'enthusiasm', 'conversed', 'familiarity', 'importance', 'thinks', 'Scott', 'admiring', 'Pope', 'despatch', 'exhausted', 'topic', 'Another', 'meeting', 'suffice', 'picturesque', 'scanty', 'erred', 'notion', 'decorum', 'sincere', 'deceitful', 'roads', 'spoken', 'reproach', 'spared', 'jest', 'scold', 'check', 'softened', 'proof', 'reception', 'recovery', 'irksome', 'joined', 'ardour', 'example', 'gradually', 'estimation', 'faultless', 'propensity', 'peculiarly', 'saying', 'persons', 'sacrificing', 'undivided', 'slighting', 'forms', 'worldly', 'caution', 'desperation', 'seized', 'perfection', 'rash', 'unjustifiable', 'delineated', 'unhappy', 'brighter', 'speculative', 'riches', 'secretly', 'congratulate', 'perceptible', 'noticed', 'rival', 'incurred', 'annexed', 'assigned', 'actually', 'opposition', 'hindrance', 'opposed', 'successful', 'beheld', 'mild', 'oppression', 'gloominess', 'dropped', 'hints', 'injuries', 'disappointments', 'justified', 'belief', 'compassion', 'esteemed', 'slighted', 'prejudiced', 'undervalue', 'speaks', 'nobody', 'cares', 'remembers', 'boast', 'injustice', 'taking', 'converse', 'patronised', 'Who', 'indignity', 'abuse', 'amends', 'undiscerning', 'defence', 'protege', 'saucy', 'thinking', 'information', 'various', 'contemptuously', 'East', 'Indies', 'climate', 'hot', 'mosquitoes', 'troublesome', 'previously', 'observations', 'nabobs', 'gold', 'mohrs', 'palanquins', 'HIS', 'stretched', 'candour', 'employ', 'coats', 'Add', 'brilliancy', 'decide', 'imperfections', 'mass', 'comparatively', 'insipid', 'gentle', 'possessing', 'using', 'unkindly', 'endeavouring', 'disarm', 'reason', 'stubborn', 'artful', 'unanswerable', 'reasons', 'disliking', 'threatened', 'fault', 'hanging', 'curricle', 'persuade', 'buy', 'mare', 'irreproachable', 'confess', 'privilege', '11', 'Little', 'imagined', 'occupy', 'presented', 'invitations', 'recovered', 'schemes', 'execution', 'accomplished', 'October', 'included', 'naturally', 'calculated', 'witnessing', 'excellencies', 'marking', 'receiving', 'openly', 'shewn', 'suggest', 'abhorred', 'concealment', 'disgrace', 'attend', 'unreserve', 'aim', 'restraint', 'illaudable', 'effort', 'disgraceful', 'subjection', 'illustration', 'evenings', 'cards', 'cheated', 'partners', 'dances', 'careful', 'Such', 'shame', 'provoke', 'checking', 'excessive', 'display', 'ardent', 'devoted', 'bestowed', 'amusements', 'teach', 'Neither', 'everlasting', 'talker', 'ensured', 'history', 'memory', 'Jenning', 'mere', 'Towards', 'desired', 'arranged', 'experienced', 'presence', 'boys', 'excite', 'sisterly', 'attentions', 'conversing', 'suspect', 'disappointed', 'accidently', 'silence', 'faint', 'Or', 'considers', 'contrives', 'reflecting', 'wives', 'basis', 'define', 'justify', 'prejudices', 'agree', 'inconveniences', 'ignorance', 'atone', 'systems', 'nought', 'pause', 'resumed', ',--', 'objections', 'criminal', 'inconstancy', 'perverseness', 'minutiae', 'admit', 'pardonable', 'refinements', 'succeeded', 'dangerous', 'speak', 'experience', 'judged', 'inforced', 'series', '\"--', 'Here', 'stopt', 'rise', 'conjectures', 'concerned', 'escape', 'lips', 'connect', 'disastrous', '12', 'walking', 'communicated', 'extravagant', 'testimony', 'horse', 'carry', 'Without', 'considering', 'alter', 'gift', 'servant', 'build', 'stable', 'hesitation', 'intends', 'send', 'groom', 'arrives', 'Imagine', 'gallop', 'Most', 'awaken', 'dream', 'comprehend', 'truths', 'affair', 'refused', 'trifle', 'merest', 'lately', 'creature', 'Seven', 'insufficient', 'guilty', 'impropriety', 'wisest', 'touch', 'Opposition', 'appeal', 'representing', 'indulgent', 'consented', 'subdued', 'tempt', 'imprudent', 'mentioning', 'faithful', 'low', 'forego', 'apparent', 'expressing', ',--\"', 'yours', 'Queen', 'Mab', 'overheard', 'sentence', 'pronouncing', 'addressing', 'Christian', 'decided', 'tempers', 'discover', 'placed', 'clearer', 'church', 'Down', 'wore', 'neck', 'miniature', 'lock', 'hair', 'Take', 'cut', 'Last', 'tea', 'whispering', 'fast', 'presently', 'scissors', 'tumbled', 'kissed', 'folded', 'white', 'paper', 'pocket', 'stated', 'authority', 'withhold', 'credit', 'unison', 'sagacity', 'satisfactory', 'attacked', 'standing', 'joke', 'sincerely', 'harm', 'turning', 'red', 'angry', 'repeat', 'pray', 'ma', 'guess', 'curate', 'profession', 'invention', 'dead', 'begins', 'F', 'grateful', 'observing', 'rained', 'interruption', 'inelegant', 'mindful', 'opened', 'piano', 'forte', 'sit', 'thus', 'amidst', 'endeavours', 'fell', 'recover', 'following', 'twelve', 'proprietor', 'strict', 'orders', 'grounds', 'noble', 'sail', 'provisions', 'carriages', 'complete', 'bold', 'undertaking', '13', 'excursion', 'Whitwell', 'fatigued', 'frightened', 'go', 'assembled', 'dispersing', 'across', 'sun', 'humour', 'hardships', 'While', 'Among', 'changed', 'Nobody', 'bad', ';\"', 'None', 'thank', 'Avignon', 'town', 'discompose', 'Come', 'won', 't', 'madam', 'recollect', 'Whom', 'colouring', 'requires', 'attendance', 'fear', 'admittance', 'blow', 'write', 'note', 'shook', '.--\"', 'later', 'invented', 'trick', 'guineas', 'writing', 'persuading', 'Careys', 'Newton', 'walked', 'purpose', 'disappointing', 'conveniently', 'obliging', 'uncertain', 'pry', 'ashamed', 'announced', 'horseback', 'Honiton', 'bowed', 'complaints', 'lamentations', 'hitherto', 'restrained', 'universally', 'provoking', 'exultingly', 'Can', 'Williams', 'shocking', 'lowering', 'stare', 'concluding', 'consultation', 'procure', 'ordered', 'happier', 'drove', 'drive', 'lanes', 'dance', 'nearly', 'contentment', 'elder', 'sat', 'leant', 'coloured', '?\"--', 'Impudence', 'WHERE', 'method', 'unlikely', 'propose', 'Smith', 'enquired', 'doubting', 'pleasanter', 'pleasantness', 'evince', 'acting', 'impertinent', 'remarks', 'blushed', 'hint', 'visibly', 'gratifying', 'WAS', 'charming', 'nice', 'modern', 'corner', 'sides', 'bowling', 'wood', 'admired', 'newly', 'pleasantest', 'Could', 'listened', '14', 'termination', 'steadiness', 'concealing', 'filled', 'wonderer', 'comings', 'goings', 'intermission', 'distress', 'befallen', 'determination', 'Delaford', 'reckoned', 'sadly', 'involved', 'bye', 'conscious', 'May', 'sickly', 'wager', 'NOW', 'cleared', 'bargain', 'varying', 'fresh', 'conjecture', 'seeming', 'probable', 'bestow', 'variety', 'speculation', 'incompatible', 'acknowledge', 'rated', 'complained', 'poverty', 'secrecy', 'maintained', 'relative', 'contradictory', 'practice', 'expressive', 'distinguishing', 'tenderness', 'ending', 'happening', 'exclaimed', 'Improve', 'Not', 'stone', 'inch', 'alarmed', 'Thank', 'sacrifice', 'local', 'Depend', 'unemployed', 'accounts', 'uselessly', 'dispose', 'attached', 'defect', 'pull', 'Combe', 'exact', 'kitchen', 'smokes', 'tone', 'INconvenience', 'variation', 'flatter', 'disadvantage', 'broader', 'staircase', 'hereafter', 'endear', 'possibly', 'plainly', 'denoted', 'inhabited', 'grieving', 'prescience', 'Must', 'lowered', 'imaginary', 'degrade', 'pass', 'apartment', 'handsomest', 'dimensions', 'makes', 'Extend', 'Tell', 'unchanged', 'Shall', '15', 'excused', 'pretext', 'absent', 'foreseen', 'foresight', 'apparently', 'handkerchief', 'noticing', 'Surprised', 'leaning', 'mantel', 'shewed', 'partook', 'powered', 'trying', 'forced', 'Disappointment', 'exercised', 'London', 'dispatches', 'exhilaration', 'Almost', 'returning', 'wait', 'press', 'confusedly', 'broken', 'linger', 'torment', 'minute', 'speech', 'solitude', 'uneasiness', 'distrust', 'affectation', 'unwillingness', 'accept', 'backwardness', 'disturbed', 'feared', 'quarrel', 'indubitable', 'tenderest', 'relief', 'feeding', 'duty', 'uncheerful', 'Our', 'work', 'travel', 'Gone', 'intending', 'owned', 'behave', 'quarrelled', 'ME', 'trust', 'suspects', 'disapproves', 'sends', 'transact', 'dismiss', 'DOES', 'dares', 'feels', 'listen', 'cavil', 'anticipated', 'guilt', 'apology', 'blameable', 'inadvertence', 'depressed', 'recent', 'probabilities', 'certainties', 'due', 'possibility', 'unavoidably', 'inevitable', 'witnessed', 'urged', 'allowances', 'candid', 'Secrecy', 'wondering', 'practiced', 'blame', 'departing', 'deviation', 'acquitted', 'ARE', 'expedient', 'Concealing', 'accuse', 'reproaching', 'incautiousness', 'syllable', 'syllables', 'actions', 'nearest', 'Have', 'daily', 'looks', 'occur', 'telling', 'confidence', 'outweighs', 'wretchedly', 'carelessness', 'attribute', 'doubts', 'fainter', 'correspond', 'mighty', 'concession', 'altar', 'Ungracious', 'uniformly', 'inconsistency', 'create', 'integrity', 'involuntary', 'startled', 'cordiality', 'affairs', 'resist', 'temptation', 'ungenerous', 'suspicious', 'embarrassed', 'plain', 'avowal', 'consistent', 'foundation', 'deserve', 'WE', 'stranger', 'independently', 'odd', 'acknowledging', 'prosperously', 'begun', 'liberty', 'representations', 'swollen', 'avoided', 'silently', 'pressing', 'fortitude', 'slightest', 'instant', 'anxiously', '16', 'inexcusable', 'sleep', 'risen', 'repose', 'incurring', 'awake', 'wept', 'headache', 'nourishment', 'forbidding', 'potent', 'indulging', 'crying', 'reverse', 'used', 'voices', 'oftenest', 'gazing', 'line', 'sadness', 'applied', 'alternately', 'singing', 'suspended', 'courted', 'sunk', 'calmer', 'solitary', 'meditations', 'effusions', 'explanations', 'fetches', 'carries', 'correspondence', 'hands', 'motive', 'mystery', 'suggesting', 'Supposing', 'inflict', 'forcing', 'confession', 'unacknowledged', 'dearly', 'loves', 'revealment', 'denial', 'overstrained', 'vain', 'delicacy', 'witticisms', 'accidentally', 'volume', 'Shakespeare', 'Hamlet', '...', 'Months', 'reply', 'instead', 'wandering', 'Hitherto', 'carefully', 'rambles', 'stole', 'speedy', 'climbing', 'exertions', 'disapproved', 'seclusion', 'road', 'MIND', 'controlled', 'gaining', 'Beyond', 'stretch', 'travelled', 'reaching', 'stopped', 'reach', 'Amongst', 'scene', 'riding', 'distinguish', 'rapturously', 'hastening', 'coat', 'screen', 'particularity', 'quickened', 'pace', 'abruptly', 'hurrying', 'third', 'forgiven', 'dispersed', 'forgot', 'dismounted', 'continuation', 'coldness', 'deficiency', 'confused', 'ended', 'sufficiently', 'elect', 'Plymouth', 'month', 'thickly', 'leaves', 'transporting', 'showers', 'altogether', 'inspired', 'nuisance', 'swept', 'passion', 'shared', 'SOMETIMES', 'reverie', 'rousing', 'Look', 'tranquil', 'equals', 'plantations', 'farthest', 'rises', 'grandeur', 'bottoms', 'Because', 'lane', 'situated', 'friendliest', 'owed', 'directing', 'endeavoured', 'conveniences', '&', 'c', 'extorting', 'mortified', 'regulate', 'resentment', 'displeasure', '17', 'kindest', 'extending', 'reanimate', 'praised', 'attributing', 'indignant', 'parents', 'orator', 'public', 'fame', 'famous', 'Heaven', 'eloquence', 'Greatness', 'Strange', 'Grandeur', 'competence', 'YOUR', 'goes', 'external', 'eighteen', 'TWO', 'guessed', 'hunters', 'smiled', 'describing', 'accurately', 'Magna', 'Hunters', 'hunt', 'novel', 'somebody', 'apiece', 'animation', 'cheeks', 'glowing', 'unanimous', 'insufficiency', 'vanish', 'magnificent', 'booksellers', 'sellers', 'print', 'shops', 'commission', 'greatness', 'content', 'Thomson', 'copy', 'falling', 'unworthy', 'tells', 'tree', 'Should', 'Forgive', 'willing', 'disputes', 'recall', 'offend', 'loose', 'cash', 'collection', 'bulk', 'laid', 'heirs', 'reward', 'ablest', 'maxim', 'presume', 'steadfast', 'altered', 'grown', 'gaiety', 'Nor', 'talks', 'detected', 'mistakes', 'misapprehension', 'fancying', 'ingenious', 'stupid', 'deception', 'originated', 'Sometimes', 'guided', 'oneself', 'deliberate', 'judgments', 'subservient', 'neighbours', 'aimed', 'confound', 'advised', 'adopt', 'conform', 'Quite', 'foolishly', 'negligent', 'awkwardness', 'gentility', 'inattention', 'Shyness', 'inferiority', 'Reserved', 'Am', 'calls', 'thoughtfulness', 'fullest', '18', 'inspiring', 'reservedness', 'contradicted', 'intimated', 'promote', 'upstairs', '***', 'parts', 'higher', 'beginning', 'scenes', 'minutely', 'struck', 'surfaces', 'uncouth', 'irregular', 'rugged', 'indistinct', 'soft', 'medium', 'hazy', 'atmosphere', 'honestly', 'timber', 'meadows', 'farm', 'scattered', 'answers', 'unites', 'utility', 'rocks', 'promontories', 'grey', 'moss', 'brush', 'lost', 'falls', 'believes', 'disgusted', 'pretensions', 'affects', 'discrimination', 'possesses', 'fastidious', 'landscape', 'scenery', 'jargon', 'pretends', 'tries', 'defined', 'detest', 'language', 'worn', 'hackneyed', 'profess', 'crooked', 'blasted', 'straight', 'flourishing', 'ruined', 'tattered', 'cottages', 'nettles', 'thistles', 'heath', 'blossoms', 'watch', 'tower', 'troop', 'tidy', 'villages', 'please', 'finest', 'banditti', 'thoughtfully', 'ring', 'plait', 'conspicuous', 'fingers', 'wear', 'darker', 'inconsiderately', 'pained', 'vexation', 'surpassed', 'momentary', 'glance', 'casts', 'instantaneously', 'conclusions', 'free', 'theft', 'contrivance', 'affront', 'affecting', 'internally', 'henceforward', 'catch', 'eyeing', 'satisfying', 'absence', 'censured', 'forgiveness', 'Before', 'middle', 'survey', 'discovering', 'newness', 'learned', 'significant', 'founded', 'instructions', 'inviting', 'drink', 'entertainment', 'bound', 'contribute', 'MUST', 'enforced', 'necessity', 'Impossible', 'yourselves', 'Whitakers', 'nameless', 'blushing', 'suspicions', 'brief', 'communicative', 'expressions', 'whisper', 'guessing', 'hunts', 'archness', '19', 'bent', 'mortification', 'unequal', 'grew', 'environs', 'disengaged', 'Never', 'quickly', 'repeatedly', 'lie', 'detested', 'astonishing', 'imperfectly', 'Disappointed', 'displeased', 'qualifications', 'painfully', 'extorted', 'openness', 'consistency', 'attributed', 'designs', 'shortness', 'fettered', 'temporizing', 'grievance', 'parent', 'yield', 'reformed', 'renewal', 'flattering', 'constantly', 'finger', 'plans', 'materially', 'misfortune', 'nicety', 'idle', 'helpless', 'army', 'genteel', 'chambers', 'Temple', 'circles', 'gigs', 'abstruse', 'study', 'navy', 'fashion', 'dashing', 'expensive', 'idleness', 'advantageous', 'honourable', 'solicitations', 'Oxford', 'promoted', 'professions', 'trades', 'Columella', 'accent', 'effusion', 'patience', 'fascinating', 'ere', 'wasted', 'discontent', 'defy', 'desponding', 'subdue', 'appearing', 'suffered', 'judiciously', 'augment', 'fix', 'advancement', 'busily', 'lessen', 'meritorious', 'faulty', 'ones', 'WERE', 'dared', 'loving', 'respecting', 'mortifying', 'shutting', 'lying', 'indulge', 'meditation', 'abundance', 'forbidden', 'inevitably', 'chained', 'engross', 'closing', 'ceremony', 'knocking', 'stepping', 'turf', 'casement', 'space', 'Hush', 'Palmers', 'Charlotte', 'run', 'hallooing', 'drinking', 'Palmer', 'plump', 'prepossessing', 'willingness', 'slightly', 'briefly', 'surveying', 'staid', 'endowed', 'meantime', 'ceasing', 'astonishment', 'nodding', 'significantly', 'pointing', 'expects', 'February', 'endure', 'exerted', 'monstrous', 'ushered', 'stared', 'asleep', 'examining', 'pitched', 'ceiling', 'bow', 'chuse', 'oftener', 'dined', 'ate', '20', 'affectionately', 'expressed', 'seating', 'Westons', 'droll', 'ours', 'Hanover', 'chaperon', 'bowing', 'complaining', 'horrid', 'disgusting', 'Dullness', 'devil', 'billiard', 'dropt', 'don', 'sly', 'Much', 'Ah', 'vile', 'Gilberts', 'contradict', 'rude', 'whip', 'cross', 'insolence', 'scolded', 'abused', 'inclined', 'genuinely', 'unaffectedly', 'soured', 'bias', 'silly', 'blunder', 'hurt', 'contemptuous', 'treatment', 'succeed', 'establishing', 'superiority', 'Will', 'Cleveland', 'applying', 'sneer', ',\"--', 'refuse', 'resolutely', 'canvassing', 'election', 'fatiguing', 'assented', 'hardship', 'obligation', 'Parliament', 'directed', 'M', 'P', 'declares', 'Don', 'irrational', 'palm', 'abuses', 'languages', 'asking', 'decline', 'changing', 'gathered', 'confirmation', 'inquiring', 'intimately', ';--\"', 'Somehow', 'Weymouth', 'However', 'unluckily', 'inquire', 'neighbour', 'Monday', 'Bond', 'street', 'Surely', '.\\'\"', 'praises', 'flattered', 'wherever', 'lucky', 'objected', 'school', '21', 'entertain', 'simply', 'unsuitableness', 'existed', 'zeal', 'relations', 'invite', 'fashionable', 'resigned', 'philosophy', 'contenting', 'reprimand', 'ungenteel', 'unfashionable', 'dress', 'doatingly', 'enthusiastic', 'Steeles', 'sweetest', 'guests', 'Benevolent', 'philanthropic', 'Lucy', 'creatures', 'coach', 'playthings', 'prevail', 'obtain', 'anew', 'boasting', 'consequent', 'introduction', 'sharp', 'smartness', 'actual', 'judicious', 'extolling', 'courting', 'humouring', 'whims', 'importunate', 'patterns', 'unceasing', 'foibles', 'rapacious', 'human', 'beings', 'credulous', 'exorbitant', 'swallow', 'endurance', 'offspring', 'viewed', 'complacency', 'encroachments', 'mischievous', 'submitted', 'sashes', 'untied', 'ears', 'bags', 'searched', 'knives', 'stolen', 'reciprocal', 'suggested', 'composedly', 'claiming', 'monkey', 'pinching', 'fondly', 'playful', 'William', 'Annamaria', 'caressing', 'bestowing', 'embraces', 'scratching', 'pattern', 'gentleness', 'screams', 'outdone', 'professedly', 'consternation', 'surpass', 'critical', 'emergency', 'assuage', 'agonies', 'sufferer', 'lap', 'kisses', 'bathed', 'lavender', 'knees', 'mouth', 'stuffed', 'sugar', 'plums', 'screamed', 'sobbed', 'lustily', 'kicked', 'brothers', 'soothings', 'ineffectual', 'luckily', 'remembering', 'apricot', 'marmalade', 'successfully', 'bruised', 'temple', 'remedy', 'proposed', 'scratch', 'quest', 'medicine', 'chose', 'entreated', 'Steele', 'sad', 'reality', 'trivial', 'task', 'lies', 'eclat', 'doat', 'distractedly', 'outside', 'freedom', 'estimate', 'beaux', 'vast', 'm', 'lief', 'vastly', 'nasty', 'Rose', 'beau', 'clerk', 'Simpson', 'fit', 'Lord', 'Anne', 'specimen', 'blinded', 'shrewd', 'youngest', 'artlessness', 'niggardly', 'proportion', 'dealt', 'lot', 'consists', 'situations', '\"\\'', 'Twill', 'luck', 'proclaiming', 'somewhat', 'newer', 'conjectural', 'significancy', 'nods', 'winks', 'productive', 'countless', 'wittiest', 'alphabet', 'alluded', 'impertinently', 'inquisitiveness', 'sport', 'audible', 'amendment', 'assertions', 'petty', 'communicate', 'unavailing', '22', 'toleration', 'vulgarity', 'advances', 'checked', 'endeavour', 'engaging', 'striving', 'communication', 'amusing', 'powers', 'aid', 'illiterate', 'mental', 'thorough', 'rectitude', 'assiduities', 'flatteries', 'insincerity', 'instruction', 'equality', 'toward', 'deference', 'valueless', 'personally', 'DID', 'cautious', 'enquiring', 'curious', 'trusting', 'manage', 'MAY', 'amiably', 'bashful', 'Good', 'heavens', 'Robert', 'ROBERT', 'fixing', 'Astonishment', 'disbelief', 'assertion', 'divine', 'varied', 'firm', 'incredulity', 'hysterical', 'swoon', 'faithfully', 'dependence', 'trusted', 'paused', 'cautiously', 'shocked', 'date', 'Pratt', 'Longstaple', 'pupil', 'revived', 'falsehood', 'Engaged', 'beg', 'pardon', 'surely', 'Street', 'deceived', 'depends', 'perplexity', 'OCCASION', 'suspecting', 'sink', 'heaven', 'puts', 'painting', 'hasty', 'detecting', 'likeness', 'calmly', 'paces', 'keeping', 'exceeding', 'proud', 'imagining', 'hoping', 'Besides', 'betraying', 'tongue', 'fright', 'lest', 'alive', 'suspense', 'uncertainty', 'seldom', 'compassionate', 'wiping', 'break', 'miserable', 'advise', 'Pardon', 'provide', 'sometime', 'cast', 'spirited', 'feelingly', 'veracity', 'remembered', 'names', 'writes', 'wretched', 'carelessly', 'tired', 'sheet', 'obtained', 'subsist', 'positive', 'authorised', 'struggled', 'success', 'Writing', 'separations', 'confounded', 'editions', 'Volume', 'ends', '.]', '23', 'answerable', 'inventing', 'asserted', 'proofs', 'indisputable', 'alarming', 'dissatisfaction', 'prospects', 'evidence', 'condemning', 'unfairly', 'aside', 'dupe', 'considerations', 'deceiving', 'feigned', 'illusion', 'softener', 'forgive', 'blamable', 'defended', 'injured', 'pitiable', 'hopeless', 'deprived', 'regain', 'tranquillity', 'infatuation', 'succeeding', 'rationally', 'defects', 'frivolous', 'supposition', 'alienated', 'unkindness', 'Supported', 'unhappiness', 'consoled', 'forfeit', 'guard', 'extinction', 'mourning', 'obstacles', 'divide', 'perfections', 'entrusted', 'aggravation', 'condemnation', 'flow', 'counsel', 'firmness', 'unshaken', 'regrets', 'poignant', 'renewing', 'agitation', 'venturing', 'confessedly', 'evidently', 'joking', 'weight', 'disclosure', 'honesty', 'combat', 'unwounded', 'mistrust', 'repetition', 'joining', 'chat', 'eating', 'consequences', 'meetings', 'affording', 'charity', 'club', 'foresaw', 'fairer', 'opening', 'permission', 'compliant', 'seclude', 'happily', 'frightful', 'novelty', 'accompanied', 'impossibility', 'card', 'entertained', 'preparation', 'finish', 'filigree', 'candlelight', 'morrow', 'recollected', 'disappoint', 'angel', 'supper', 'bell', 'working', 'candles', 'reseated', 'alacrity', 'infer', 'spoilt', 'rubber', 'Casino', 'Ladyship', 'touched', 'tuned', 'smooth', 'toned', 'rolling', 'papers', 'labour', 'singly', 'terrible', 'joyfully', 'profited', 'proposals', 'condescend', 'practise', 'rivals', 'utmost', 'harmony', 'forwarding', 'wrapped', 'forgotten', 'safely', 'introduce', 'risk', '24', 'undeserving', 'apologize', 'breaking', 'ice', 'somehow', 'Offended', 'truest', 'quarrelling', 'relieve', 'madness', 'robbing', 'constancy', 'deprive', 'failed', 'guarding', 'test', 'trial', 'unpardonable', 'lowness', 'observant', 'sighted', 'impose', 'tediousness', 'involve', 'owning', 'headstrong', 'anger', 'frightens', 'measures', 'disinterestedness', 'coxcomb', 'ear', 'coxcombs', 'modestest', 'prettiest', 'likes', 'modest', 'bit', 'lip', 'angrily', 'lower', 'powerful', 'protection', 'concerto', 'scheme', 'prefer', 'incumbent', 'deep', 'dissolving', 'beset', 'agitated', 'solemnity', 'effectually', 'frighten', 'dividing', 'Tis', 'pique', 'laying', 'stress', 'biased', 'partly', 'duration', 'accustomary', 'brightened', 'unlucky', 'January', 'conclusion', 'confidential', 'reluctance', 'induce', 'weary', 'introducing', 'inform', 'confidante', 'dismissed', 'conversations', 'lengthened', 'implied', 'fulfill', 'celebration', 'festival', 'dinners', 'proclaim', '25', 'spending', 'portion', 'habitation', 'traded', 'streets', 'Portman', 'Square', 'approach', 'thither', 'unexpectedly', 'Misses', 'accompany', 'alleged', 'refusal', 'DO', 've', 'shan', 'Betty', 'chaise', 'merrier', 'ways', 'bless', 'poking', 'strike', 'insured', 'referred', 'cautiousness', 'disregard', 'wounding', 'irritable', 'witness', 'foresee', 'accrue', 'quietly', 'bedrooms', 'SHOULD', 'motherly', 'faults', 'estranged', 'obviating', 'impediment', 'formidable', 'obstacle', 'separately', 'scruples', 'unpleasantness', 'persisted', 'sole', 'guidance', 'abandoned', 'mercy', 'reconciled', 'abridgement', 'BOTH', 'nonsensical', 'anticipate', 'sources', 'attempting', 'weaken', 'shock', 'revealed', 'attack', 'lifted', 'prevailing', 'dread', 'acquisition', 'putting', 'counteracted', 'unconcern', 'exhilarated', 'elevated', 'perturbation', 'impatience', 'restorative', 'score', 'eternal', 'station', '26', 'unsuited', 'measure', 'overlooked', 'rapture', 'beamed', 'blank', 'cheerless', 'gladly', 'watching', 'zealous', 'ascertain', 'unfavourable', 'events', 'banish', 'complaisance', 'companionableness', 'wrapt', 'exclamation', 'exclusively', 'addressed', 'solicitous', 'choose', 'inn', 'extort', 'preferring', 'salmon', 'cod', 'boiled', 'fowls', 'veal', 'cutlets', 'released', 'luxury', 'handsomely', 'mantelpiece', 'silks', 'mysteriously', 'sealed', 'W', 'ringing', 'footman', 'conveyed', 'penny', 'flutter', 'sound', 'rap', 'neighbouring', 'starting', 'borne', 'seconds', 'ecstasy', 'exclaiming', 'unnoticed', 'demanded', 'fatigues', 'decently', 'caused', 'fearful', 'Cartwright', 'bee', 'conjure', 'commissioned', 'somewhere', 'secrets', 'mildness', 'thoughtful', 'agreeing', 'forget', 'concerning', 'purchases', 'Wherever', 'shop', 'abstracted', 'occupied', 'Restless', 'dawdled', 'indecision', 'flew', 'sorrowful', 'parcels', 'negative', 'porter', 'permitting', 'mysterious', 'interference', 'appearances', 'represent', 'strongest', 'whist', 'backwards', 'forwards', '27', 'holds', 'tis', 'souls', 'Frosts', 'severity', 'extreme', 'nay', 'freeze', 'tonight', 'Mary', 'privacy', 'eluded', 'watchfulness', 'frost', 'variations', 'colder', 'muff', 'afternoon', 'persevered', 'symptoms', 'excepting', 'city', 'Pleased', 'compound', 'amuse', 'derived', 'occurrence', 'strengthening', 'grieved', 'watched', 'God', 'escaped', 'precious', 'unfit', 'Berkeley', 'expecting', 'Me', 'aloud', 'Conduit', 'requesting', 'Business', 'appointment', 'indisposed', 'contrived', 'collect', 'ball', 'unpremeditated', 'allowable', 'reputation', 'risking', 'nine', 'violins', 'collation', 'recognition', 'nodded', 'sauntered', 'Invited', 'Impatient', 'lead', 'awakening', 'health', 'delayed', 'application', 'urging', 'plea', 'demand', 'foretold', 'hated', 'impatiently', 'unwell', 'disclosing', '-?', 'remains', 'debated', 'liable', 'shield', 'imaginable', 'confirm', '28', 'dispirited', 'stirring', 'altering', 'attitude', 'destination', 'string', 'alighted', 'landing', 'splendidly', 'lit', 'insufferably', 'tribute', 'curtsying', 'permitted', 'mingle', 'crowd', 'heat', 'necessarily', 'Cassino', 'moving', 'chairs', 'unobserved', 'Pray', 'betray', 'feature', 'approached', 'inquired', 'shake', 'During', 'struggling', 'Tuesday', 'regretted', 'notes', 'wildest', 'dreadfully', 'reviving', 'Go', 'peace', 'Wait', 'incessantly', 'exclamations', 'entreat', 'Scarcely', 'oppressed', 'hartshorn', 'undressed', 'subsisted', 'feed', 'consciousness', 'misconduct', 'unprincipled', 'sporting', 'investigation', 'Absence', 'weakened', 'pangs', 'await', 'deepest', 'ESTEEM', 'embitter', 'uniting', 'heighten', 'final', 'irreconcilable', 'rupture', '29', 'maid', 'gloomy', 'dressed', 'kneeling', 'seats', 'permit', 'sobs', 'considerate', '-?\"', 'desperate', 'bursts', 'intervals', 'pen', 'sooth', 'tranquilize', 'nervous', 'irritability', 'requiring', 'wander', 'avoiding', 'pitying', 'meal', 'paleness', 'sickness', 'tremour', 'liking', 'measuring', 'lengths', 'worsted', 'rug', 'disappeared', 'desperately', 'foolish', 'grievous', 'Ma', 'imply', 'wedding', 'spreading', 'report', 'choked', 'joint', 'covering', 'follows', 'DEAR', 'MADAM', 'acknowledgments', 'unintentional', 'guarded', 'obey', 'commands', 'obligingly', 'Madam', 'obedient', 'humble', 'JOHN', 'WILLOUGHBY', 'impudently', 'cruel', 'release', 'faith', 'insult', 'proclaimed', 'writer', 'hardened', 'villainy', 'perusal', 'served', 'bitter', 'deeper', 'treating', 'disengagement', 'worst', 'irremediable', 'evils', 'deliverance', 'contents', 'depravity', 'dictate', 'unread', 'unreasonably', 'chariot', 'Determined', 'contributing', 'floor', 'giddy', 'food', 'nights', 'slept', 'aching', 'stomach', 'faintness', 'glass', 'wine', 'COULD', 'exclaim', 'anguish', 'torrent', 'unresisted', 'Exert', 'kill', 'Think', 'hate', 'torture', 'Happy', 'oh', 'solemnly', 'wildly', 'CAN', 'Mine', 'comforts', 'Engagement', 'hither', 'adieu', 'D', \"',\", 'earlier', 'Again', 'repulsed', 'insulting', 'justification', 'misinformed', 'acted', 'grieve', 'insincere', 'acquit', 'hazarded', 'unsolicited', 'warranted', 'condemned', 'strictest', 'covenant', 'blackest', 'art', '),', 'supplication', 'firmer', 'cruelly', 'Dearest', 'instigated', 'leagued', 'cruelty', 'whoever', 'barbarous', 'bely', 'contend', 'Whoever', 'detestably', 'enemy', 'malignant', 'triumph', 'nobly', 'innocence', 'supports', 'laudable', 'pride', 'resists', 'malevolence', 'discerning', 'posts', 'shuddering', 'Cruel', 'clearing', 'repeating', \"'--\", 'barbarously', 'insolent', 'premeditated', 'female', 'ensued', 'regards', 'posture', 'constrained', 'drops', '30', 'Taylor', 'Grey', 'abominably', 'plague', 'dressing', 'admirers', 'cry', 'Parrys', 'Sandersons', 'tiptoe', 'bustle', 'governed', 'adjusting', 'summoned', 'abstraction', 'distressing', 'civilities', 'fondness', 'holidays', 'tempted', 'amused', 'cure', 'sweetmeats', 'olives', 'Misery', 'sign', 'grieves', 'finishing', 'cherries', 'oddest', '!--\"', 'Fifty', 'stylish', 'aunt', 'Biddy', 'Henshawe', 'wealthy', 'pieces', 'signify', 'promises', 'fly', 'grows', 'reform', 'Walker', 'hinted', 'Ellison', 'Ellisons', 'guardians', 'moan', 'hates', 'wants', 'Let', 'joked', 'naming', 'allusion', 'blown', 'cases', 'THIS', 'Law', 'defend', 'House', 'enforcement', 'hilarity', 'Mind', 'Mid', 'chuckle', 'Two', 'debt', 'drawback', 'prenticed', 'cost', 'fashioned', 'mulberry', 'dove', 'cote', 'stew', 'ponds', 'canal', 'close', 'quarter', 'turnpike', 'yew', 'arbour', 'butcher', 'parsonage', 'prettier', 'meat', 'shoulder', 'mutton', 'drives', 'rising', 'compliance', 'pillow', 'repaired', 'Constantia', 'tasted', 'Whenever', 'colicky', 'gout', 'regretting', 'compromise', 'swallowed', 'reflected', 'healing', 'fancied', 'presided', 'whispered', 'hesitatingly', 'KNEW', 'elucidation', 'unfolded', 'unfathomable', 'stationer', 'Pall', 'Mall', 'preparations', 'identify', 'stayed', 'guardian', 'sufferings', 'proportionately', 'Till', 'hardness', 'instantaneous', 'bloom', '31', 'awoke', 'closed', 'impetuous', 'innocent', 'acquitting', 'uniform', 'sympathy', 'gossip', 'refinement', 'delicacies', 'polished', 'Thus', 'weakness', 'prove', 'impulse', 'goodwill', 'outstretched', 'contrition', 'explanatory', 'convincing', 'rushing', 'inforce', 'unwelcome', 'happiest', 'streamed', 'passionate', 'withdrew', 'referring', 'page', 'confident', 'relying', 'intreat', 'dearer', 'positively', 'refusing', 'directions', 'nerves', 'HAD', 'retreating', 'conscience', 'proved', 'error', 'esteeming', 'lightly', 'salutation', 'desiring', 'VERY', 'useful', 'tending', 'HERS', 'awkward', 'narrator', 'SHALL', 'sighing', 'heavily', 'diffuse', ')--', 'resembling', 'orphan', 'infancy', 'guardianship', 'ages', 'playfellows', 'Eliza', 'judging', 'fervent', 'encumbered', 'blindly', 'relate', 'eloping', 'Scotland', 'treachery', 'lament', 'pleasures', 'inexperienced', 'restrain', 'regiment', 'divorce', 'threw', 'gloom', 'arrive', 'search', 'fruitless', 'trace', 'seducer', 'sin', 'adequate', 'extravagance', 'Regard', 'fallen', 'spunging', 'faded', 'acute', 'blooming', 'healthful', 'doted', 'endured', 'beholding', 'stage', 'consumption', 'Life', 'lodgings', 'fate', 'disgraced', 'fates', 'untouched', 'fourteen', 'handle', 'WILL', 'concise', 'discharged', 'fourteenth', 'residing', 'Dorsetshire', 'imprudently', 'Bath', 'deserved', 'obstinate', 'clue', 'ranging', 'unconcerned', 'forwarded', 'incivility', 'availed', 'Would', 'smiles', 'seduced', 'creditable', 'relieved', 'dissipated', 'Knowing', 'irresolute', 'interfering', 'reclaim', 'dishonorable', 'usage', 'doubtless', 'compares', 'pictures', 'tormented', 'Concern', 'strengthen', 'communicating', 'afflictions', 'recital', 'endeavors', 'irritates', 'unworthiness', 'easier', 'confessed', 'reluctantly', 'punish', 'sighed', 'soldier', 'presumed', 'delivery', 'Recollecting', '32', 'submissive', 'vindication', 'irritated', 'seduction', 'desertion', 'ONCE', 'preyed', 'brooding', 'answering', 'Long', 'Bad', 'humiliating', 'origin', 'Against', 'individual', 'afflicting', 'shorten', 'comprise', 'occupations', 'cheat', 'spurned', 'Design', 'negligence', 'retirement', 'paying', 'foreseeing', 'alleviation', 'doomed', 'comforted', 'militate', 'carefulness', 'reaped', 'scoundrel', 'dog', 'Folly', 'puppies', 'drop', 'thankful', 'everybody', 'coachmaker', 'painter', 'portrait', 'warehouse', 'clamorous', 'exciting', 'circle', 'qualification', 'worried', 'officious', 'condolence', 'vent', 'dignity', 'assemblies', 'abundantly', 'earned', 'soften', 'humiliations', 'oblige', 'THESE', 'augmented', 'Midsummer', 'Michaelmas', 'honours', 'Early', 'receipt', 'office', 'informing', 'Willoughbys', 'degrees', 'Bartlett', 'Buildings', 'Holburn', 'grand', 'Streets', 'gracious', 'overpowering', 'STILL', 'emphasis', 'awhile', 'TOLD', 'MONTH', 'amazingly', 'WORD', 'exultation', 'Dr', 'Davies', 'd', 'genteelly', 'shillings', 'Doctor', 'affectedly', 'simpering', 'laughs', 'Nancy', 'crossing', 'cessation', 'hostile', 'interposed', 'silenced', 'plagued', 'US', 'gown', 'governing', '33', 'yielded', 'expressly', 'conditioned', 'Gray', 'Sackville', 'negotiation', 'jewels', 'transacted', 'ascending', 'tend', 'counter', 'quickest', 'quicker', 'correctness', 'toothpick', 'shape', 'ornaments', 'inventive', 'comprised', 'broad', 'stares', 'imprint', 'sterling', 'insignificance', 'puppyism', 'deciding', 'horrors', 'inspection', 'bedroom', 'ivory', 'pearls', 'named', 'gloves', 'leisurely', 'conceit', 'respectful', 'beasts', 'Exchange', 'bespeak', 'seal', 'Excellent', 'serve', 'duly', 'pretence', 'eyed', 'narrowly', 'pitch', 'TWICE', 'secures', 'undecided', 'hang', 'encouragements', 'prior', 'insurmountable', 'universal', 'ALL', 'PARTIES', 'truly', 'vouchsafe', 'remarkable', 'Hon', 'Morton', 'bank', 'assent', 'enclosure', 'Common', 'drain', 'Kingham', 'Farm', 'Gibson', 'land', 'adjoining', 'HAS', 'More', 'intrinsically', 'stocks', 'banker', 'Other', 'bequeathed', 'Far', 'repine', 'undoubted', 'flower', 'knoll', 'walnut', 'slope', 'thorns', 'patches', 'brow', 'provocation', 'Having', 'buying', 'pair', 'rings', 'cheerfuller', 'dies', 'descend', 'Few', 'saves', 'Whereas', 'conscientious', 'kinder', 'prosperity', 'thin', 'complaint', 'destroys', 'likelihood', 'relinquished', 'promoting', 'compunction', 'easiest', 'atoning', 'Abundance', 'scruple', 'prepossessed', 'associate', '34', 'rewarded', 'selfishness', 'mutually', 'sympathised', 'demeanor', 'suit', 'uncordial', 'sedulously', 'deed', 'flowed', 'detection', 'prodigiously', 'Harley', 'powerfully', 'pleasantly', 'nieces', 'apprehensions', 'inflicting', 'Pity', 'behold', 'utter', 'irrepressible', 'envy', 'upright', 'sourness', 'aspect', 'sallow', 'contraction', 'rescued', 'proportioned', 'graciousness', 'mortify', 'pointedly', 'misapplied', 'despising', 'honorably', 'teazed', 'bespoke', 'Mistress', 'Master', 'indigence', 'laboured', 'disqualifications', 'Want', 'gentlemen', 'politics', 'inclosing', 'coffee', 'comparative', 'heights', 'tallest', 'politely', 'grandmothers', 'descendant', 'enforcing', 'declaring', 'screens', 'mounted', 'ornamented', 'officiously', 'handed', 'disclaiming', 'connoisseurship', 'considerately', 'Hum', 'paint', 'delightfully', 'beautifully', 'Beautifully', 'provoked', 'stiffly', 'retort', 'philippic', 'audacity', 'foretell', 'distresses', 'wounded', 'horror', 'arm', 'hiding', 'intelligent', 'salts', 'enraged', 'author', 'retained', 'constitution', 'BEEN', '35', 'undesirable', 'meanness', 'prejudice', 'perplexed', 'retarded', 'OWN', 'creation', 'caprice', 'rejoice', 'OUGHT', 'ELINOR', 'derive', 'affable', 'dreaded', 'affability', 'Civil', 'hauteur', 'spends', 'courtesy', 'advance', 'unpleasantest', 'LOOK', 'deter', 're', 'courage', 'exceeded', 'rare', 'demure', 'contribution', 'volunteer', 'heroically', 'fetching', 'loitered', 'witnesses', 'conciliate', 'benignant', 'muttered', 'admirable', 'relatives', 'revenge', 'sting', 'scrupulous', 'performing', 'thirds', 'auditors', 'unexhilarating', 'Going', 'outstaid', 'teazing', 'longest', 'steadily', 'tricked', 'expose', '36', 'Within', 'newspapers', 'Thomas', 'Esq', 'heir', 'paragraph', 'temporary', 'influenced', 'intruding', 'THEIR', 'monopolize', 'satirical', 'flattery', 'administer', 'discomposed', 'reconcile', 'conciliation', 'lighter', 'anymore', 'jealousies', 'discontents', 'unsuspected', 'congratulated', 'detail', 'unfatherly', 'infants', 'baby', 'proposition', 'befell', 'imaginations', 'outrun', 'misconstruction', 'mode', 'mechanically', 'toilet', 'price', 'gowns', 'washing', 'per', 'scrutinies', 'douceur', 'undergoing', 'shoes', 'punctuality', 'preceded', 'coachman', 'performers', 'unrestrained', 'harp', 'violoncello', 'excursive', 'glances', 'group', 'lecture', 'familiarly', 'stroke', 'emptiness', 'lamenting', 'GAUCHERIE', 'mixing', 'candidly', 'generously', 'tuition', 'Westminster', \".'\", 'reside', 'Dawlish', 'surprising', 'hearty', 'protest', 'Courtland', 'Bonomi', 'accommodations', 'Elliott', 'Dartford', \"?'\", 'managed', 'tables', 'library', 'refreshments', 'saloon', 'measured', 'precisely', 'spacious', 'rational', 'Dennison', 'requisite', 'enfranchisement', 'shews', 'humility', 'vigor', 'favourites', 'pacified', 'slyly', 'needless', 'cherishing', 'gratefully', 'precise', 'shown', 'uncommon', 'vouchsafed', 'malice', 'entry', 'strengthened', 'needle', 'emigrant', 'edtions', 'II', '37', 'habits', 'resume', 'fourth', 'resettled', 'wonderful', 'fuss', 'fretted', 'pimples', 'gum', \"--'\", 'Donavan', 'stepped', 'smirked', 'simpered', \"!'\", 'turns', 'conjurer', 'popt', \";'\", 'carpet', 'hysterics', 'steward', 'dreaming', 'fury', 'fainting', 'bitterly', 'packed', 'THEN', 'uproar', 'hears', 'scornfully', 'bigger', 'housemaid', 'impartiality', 'preparing', 'undeceiving', ',-', 'perform', 'dwell', 'practised', 'practicable', 'narration', 'belonged', 'hearer', 'comforter', 'unamiable', 'mankind', 'regularity', 'soothe', 'alarms', 'November', 'confirmed', 'undeceive', 'essential', 'harbour', 'bewitching', 'punishment', 'enjoying', 'cries', 'caresses', 'frame', 'obtaining', 'bitterness', 'concessions', 'reparation', 'discreet', 'unchanging', 'dissented', 'spasm', 'throat', 'heroism', 'awful', 'complicated', 'storm', 'weathered', 'apprehended', 'ingratitude', 'benevolence', 'harmless', 'planning', 'ANY', 'prepossession', 'THERE', 'avail', 'Duty', 'Norfolk', 'tax', 'represented', 'penury', 'protested', 'advancing', 'clapped', 'Gracious', 'obstinacy', 'forbore', 'blunt', 'honest', 'rascal', 'deserves', 'disrespectfully', 'deserving', 'throughout', 'dignified', 'apprehension', 'wrung', 'braving', 'threats', 'sir', 'Born', 'deplorable', 'taverns', 'forbear', 'conditions', 'lawyer', 'Everybody', 'galling', 'vehemence', 'critique', '38', 'disobedient', 'gloried', 'forgave', 'offences', 'urge', 'penitence', 'Sunday', 'Kensington', 'Gardens', 'March', 'accosted', 'Get', 'Clarke', 'WITHOUT', 'rage', 'vowed', 'trim', 'bonnet', 'hat', 'feather', 'pink', 'ribbons', 'IS', 'plaguing', 'triumphantly', 'reports', 'spread', 'Godby', 'Sparks', 'Richard', 'Wednesday', 'Friday', 'Saturday', 'Once', 'curacy', 'shift', 'oath', 'la', 'below', 'Richardson', 'interrupt', 'silk', 'stockings', 'Richardsons', 'interrupting', 'La', 'Laughing', '.)--', 'Martha', 'Sharpe', 'bones', 'closet', 'chimney', 'uppermost', 'lodging', '--,', 'huswifes', 'Bishop', 'ordained', 'giggling', '!\\'\"', 'bout', 'kindly', 'spotted', 'muslin', 'torn', 'compliments', 'claimed', 'foreplanned', 'preferment', 'ay', 'em', 'furnishing', 'Building', 'troubles', 'apologies', 'trials', 'persecutions', 'thankfully', 'bright', 'twould', 'reminds', 'conclude', 'respectfully', 'comments', 'Very', 'prettily', '39', 'effected', 'hostess', 'resisted', 'detaining', 'Easter', 'auspicious', 'gently', '...\"', 'argue', 'overcoming', 'Bristol', 'concurrence', 'statement', ';\"--', 'gape', 'cats', 'vigorous', 'sketch', 'ennui', 'expeditiously', 'honorable', 'intent', 'pursue', 'Still', 'lesson', 'apologising', 'badness', 'etiquette', 'motion', 'commended', 'Astonished', 'unlover', 'hinder', 'ejaculation', 'older', 'conference', 'froid', 'suitor', 'persevering', 'rightly', '?--\"', 'impolitic', 'vacant', 'circumstanced', 'nonsense', 'rectory', '200', 'L', 'annum', 'presenting', 'minor', 'undertake', 'fortunately', 'presentation', 'patronage', 'unforeseen', 'differently', 'principal', 'misunderstood', 'worded', 'arisen', '40', 'sagaciously', 'withdrawn', 'TRIED', 'sensibly', 'Opportunity', 'Holborn', 'ordination', 'ho', '.)', 'goodby', 'deliberating', 'band', 'congratulating', 'preferable', 'Whether', 'determining', 'intruded', 'recovering', 'charged', 'breathing', 'faster', 'Allow', 'establish', 'LOOKED', 'unexpected', 'unthought', 'gathering', 'solicitation', 'Truth', 'benefactress', 'contributed', 'recently', 'respectability', 'lodges', 'St', 'James', 'befall', 'anticipation', 'reconsider', 'reverted', 'Really', 'Sure', 'marries', 'exchanged', 'forfeiting', 'ebullition', 'beds', 'ninny', 'Parsonage', 'sha', 'nt', '41', 'congratulations', 'worship', 'saint', 'tithes', 'cows', 'poultry', 'verbal', 'disliked', 'tete', 'assuring', ':--\"', 'livings', 'fetch', 'vacate', 'improvident', 'bears', 'refrain', 'impoverished', 'befalls', 'weak', 'retain', 'reasoning', 'discarded', 'accelerate', 'S', 'decisive', 'Choice', 'intents', 'purposes', 'gratify', 'agitate', 'fill', 'uninformed', 'unfair', 'division', 'confirming', 'inquisitive', 'immoderately', 'clergyman', 'fanciful', 'imagery', 'prayers', 'surplice', 'publishing', 'banns', 'Brown', 'immovable', 'recalled', 'considerably', 'genuine', 'born', 'kingdom', 'intend', 'frantic', 'Just', 'captivate', 'interfere', 'hit', 'disapproving', 'starved', 'enamoured', 'accents', '42', 'completed', 'intercourse', 'promptitude', 'April', 'respective', 'homes', 'extinguished', 'shedding', 'lingering', 'persecution', 'unseen', 'tranquility', 'restoring', 'prohibited', 'Somerset', 'forenoon', 'sloping', 'lawn', 'shrubbery', 'closer', 'gravel', 'plantation', 'dotted', 'fir', 'mountain', 'ash', 'acacia', 'thick', 'interspersed', 'Lombardy', 'poplars', 'swelling', 'eighty', 'stealing', 'shrubberies', 'eminence', 'Grecian', 'wide', 'tract', 'east', 'ridge', 'horizon', 'invaluable', 'circuit', 'luxurious', 'premises', 'whiled', 'lounging', 'gardener', 'blights', 'dawdling', 'plants', 'unwarily', 'nipped', 'yard', 'dairy', 'hens', 'forsaking', 'nests', 'fox', 'decrease', 'brood', 'merriment', 'dry', 'twilight', 'deterred', 'Reading', 'knack', 'heartiness', 'atoned', 'conceited', 'enlargement', 'reduced', 'aptitude', 'traits', 'idled', 'mornings', 'billiards', 'Epicurism', 'disinterested', 'confidant', 'suggestion', 'observer', 'unexpressed', 'delighful', 'wildness', 'oldest', 'grass', 'wettest', 'trifled', 'ailments', 'Prescriptions', 'poured', 'quarters', 'feverish', 'cough', 'sore', 'simplest', 'remedies', '43', 'shivering', 'sofa', 'nursing', 'medicines', 'efficacy', 'persisting', 'apothecary', 'examined', 'patient', 'restore', 'disorder', 'putrid', 'allowing', 'infection', 'Harris', 'infant', 'importunity', 'withstood', 'helpmate', 'malady', 'lamentation', 'acceptably', 'piquet', 'affect', 'demur', 'seconded', 'emergence', 'owners', 'boldly', 'seizure', 'forebodings', 'render', 'admission', 'expel', 'anticipations', 'auspiciously', 'administering', 'cordials', 'prescribed', 'slumber', 'beneficial', 'unusually', 'nurses', 'recreating', 'unremitting', 'inarticulate', 'sounds', 'awakened', 'accidental', 'assisting', 'despatching', 'messenger', 'effecting', 'rung', 'despondence', 'obviated', 'pre', 'resistance', 'guide', 'summons', 'lessened', 'meanwhile', 'exactness', 'Hour', 'sleepless', 'delirium', 'tortured', 'incoherently', 'pang', 'pictured', 'arriving', 'darling', 'lesser', 'attendant', 'reproaches', 'punctual', 'unabated', 'stupor', 'noon', 'image', 'scrupled', 'reasonableness', 'bury', 'foregoing', 'revival', 'conning', 'injunction', 'Hope', 'Half', 'blessed', 'Others', 'breath', 'signs', 'gaze', 'Anxiety', 'felicitations', 'surpassing', 'unfeigned', 'unequivocal', 'doting', 'expand', 'demonstrations', 'breast', 'calming', 'enfeebled', 'supplying', 'succour', 'relapse', 'remind', 'slow', 'progress', 'sweetly', 'refreshment', 'capability', 'retired', 'stormy', 'roared', 'beat', 'blast', 'travellers', 'store', 'ALMOST', 'shutter', 'flaring', 'lamps', 'discern', 'vestibule', 'inner', 'lobby', 'rushed', '44', 'obeyed', 'Sit', 'dispatch', 'opposite', 'abruptness', 'AM', 'mood', 'glow', 'overspreading', 'knave', 'fool', 'liquor', 'strangeness', 'intelligible', 'drunk', 'pint', 'beef', 'Marlborough', 'nuncheon', 'intoxication', 'blockhead', 'LONG', 'accounted', 'diabolical', 'imputed', 'Careless', 'insist', 'associating', 'debts', 'reprobate', 'injury', 'sacrificed', 'avarice', 'blameless', 'addresses', 'improperly', 'expatiate', 'scrupling', 'circumspection', 'contemptible', 'interim', 'heightened', 'hardening', 'impartial', 'libertine', 'passions', 'creating', '--(', '?)', 'infinitely', 'wanton', 'pursuing', 'extremest', 'omitted', 'taxed', 'purity', 'morality', 'discontented', 'formally', 'awaited', 'deliver', 'debate', 'undervalued', 'magnanimity', 'reproachfully', 'dissembling', 'reliance', 'gives', 'grudge', 'rascally', 'tediously', 'soothing', 'infamous', 'metaphor', 'forbid', 'dagger', 'thunderbolt', 'Thunderbolts', 'daggers', 'undergone', 'changes', 'Relate', 'separated', 'remorse', 'dissipation', 'villain', 'chusing', 'shrugging', 'silencing', \".'--\", 'infamously', 'retreat', 'preserve', 'wiser', 'cool', 'Watched', 'Lodging', 'blundered', 'inducement', 'artless', 'confiding', 'hateful', 'Those', 'holding', 'Sophia', 'dying', 'hue', 'haste', 'breakfasting', 'vague', 'Affecting', 'playfulness', 'impudence', 'appeased', 'feminine', 'servilely', 'copying', 'sentences', 'original', 'diction', 'Preparation', 'couched', 'bluster', 'blackguard', 'reasonings', 'copied', 'relics', 'pocketbook', 'hoarded', 'kiss', 'ingratiating', 'virulence', 'memento', 'slightingly', 'atonement', 'wicked', 'inflicted', 'lightened', 'spontaneous', 'inconstant', 'Drury', 'Lane', 'vex', 'horridly', 'bluntly', 'imminent', 'puppy', 'scorning', 'hating', 'latest', 'projects', 'irreparable', 'Extravagance', 'Vanity', 'Each', 'leading', 'outwardly', 'incurable', 'thence', 'letting', 'forgetting', 'rub', 'Domestic', 'Were', '45', 'widely', 'differing', 'worthless', 'commiseration', 'attraction', 'awaking', 'refreshed', 'Short', 'Eager', 'save', 'hall', 'joyful', 'embraced', 'bliss', 'stake', 'wearing', 'irritation', 'blamed', 'harshly', 'widower', 'reproved', 'errand', 'mend', 'temperate', 'exuberance', 'imparted', 'unawares', 'undesignedly', 'equalled', 'embellishments', 'warning', 'worthiest', 'acquired', 'Time', 'rooted', 'solidly', 'unstudied', 'accordant', 'liveliness', 'artificial', 'dissent', '46', 'weakening', 'smoothly', 'pour', 'pale', 'recurrence', 'reclining', 'watchful', 'dawned', 'determinate', 'hospitable', 'redeem', 'bidding', 'dullness', 'bodily', 'eventually', 'field', 'unobtrusiveness', 'entitled', 'subsequent', 'traced', 'accustom', 'rested', 'opera', 'containing', 'duets', 'bearing', 'keys', 'feebleness', 'abatement', 'anticipating', 'edge', 'Cross', 'Abbeyland', 'ruins', 'Priory', 'foundations', 'resorted', 'production', 'borrow', 'indolence', 'repining', 'virtuous', 'control', 'unfulfilled', 'unsettle', 'Willing', 'appointed', 'invalid', 'genial', 'untried', 'mound', 'ALWAYS', 'treasured', 'doubly', 'shamefully', 'unguarded', 'fickle', 'postponing', 'crept', 'compare', 'autumn', 'destruction', 'fretful', 'murmurings', 'failing', 'repaid', 'wronged', 'imitate', 'restraints', 'deserted', 'professed', 'unbounded', 'reproving', 'adhering', 'worry', 'solely', 'henceforth', '>', 'incitement', 'humbled', 'amended', 'regulated', 'religion', 'hazarding', 'listener', 'grounded', 'repentance', 'protestations', 'trembled', 'whiter', 'panting', 'unknowingly', 'closely', 'dreading', 'conjecturing', 'minuteness', 'articulate', 'slowly', '47', 'unmoved', 'unbroken', 'unblemished', 'replace', 'injure', 'interests', 'retailed', 'Reflection', 'sobered', 'deserts', 'facts', 'embellishment', 'astray', 'unquiet', 'unsteady', 'unbiased', 'practices', 'sensitive', 'poorly', 'expensiveness', 'inexperience', 'LESS', 'economy', 'frugality', 'retrenched', 'management', 'abridge', 'enjoyments', 'quivered', 'Selfish', 'ruling', 'finds', 'unembarrassed', 'suffers', 'pecuniary', 'reckons', 'necessitous', 'innumerable', 'Rather', 'fairly', 'crime', 'enumeration', 'unitedly', 'unsubdued', 'studies', 'vigour', 'prosecution', 'tidings', 'voluntary', 'start', 'intuitively', 'disordered', 'stopping', 'New', 'Inn', 'Sally', 'howsever', 'westward', 'bide', 'recognised', 'tablecloth', 'appetites', 'meals', 'dessert', 'similarity', 'hazard', 'representation', 'misled', 'slighter', 'wont', 'inattentive', '48', 'mediation', 'lurking', 'consequently', 'provident', 'conspired', 'contriving', 'manager', 'economical', 'thoughtless', 'indolent', 'utterance', 'footsteps', 'path', 'merited', 'conforming', 'stammered', 'unintelligible', 'shaken', 'retreated', 'dryness', 'affirmative', 'fearing', 'EDWARD', 'doubtingly', 'spoiling', 'sheath', 'cutting', 'echoed', 'unspeakable', 'penetrate', 'lessening', '49', 'Unaccountable', 'experiencing', 'contracted', 'failure', 'exercising', 'commonly', 'swell', 'entanglement', 'flowing', 'weaknesses', 'errors', 'boyish', 'philosophic', 'unconquerable', 'outgrown', 'chosen', 'nominal', 'university', 'unnatural', 'comparisons', 'Considering', 'wrought', 'minds', 'Comparisons', 'justifying', 'compared', 'honourably', 'profiting', 'familiarized', 'sedateness', 'labor', 'incessant', 'Between', 'discussions', 'puzzle', 'worked', 'afterward', 'stupified', 'SIR', 'Being', 'scorn', 'Sincerely', 'wisher', 'LUCY', 'FERRARS', 'burnt', 'Please', 'destroy', 'scrawls', 'comment', 'composition', 'worlds', 'pages', 'substance', 'appropriate', 'bribing', 'disinherited', 'jealousy', 'flourish', 'enlightened', 'disquiet', 'option', 'renounced', 'relent', 'WHAT', 'plead', 'FAITH', 'plighted', 'sacred', 'expediency', 'resented', 'Which', 'ungraciously', 'glebe', 'warmest', 'residue', 'enrich', 'comer', 'calculate', 'disproportion', 'rumour', 'unite', 'nerve', 'thrill', 'transport', 'tale', 'jilting', 'hussy', 'borrowed', 'Burgess', 'crossness', 'strains', 'enormously', 'submission', 'amiss', 'reconciliation', 'penitent', 'patron', '50', 'fluctuating', 'annihilation', 'resuscitation', 'publication', 'nobleman', 'THREE', 'decree', 'augmenting', 'shuffling', 'excuses', 'completion', 'delays', 'dilatoriness', 'workmen', 'Mansion', 'superintend', 'project', 'invent', 'sweep', 'prophecies', 'jumbled', 'couples', 'pasturage', 'inspect', 'gates', 'Hanger', 'insulted', 'scrape', 'assiduous', 'crowned', 'obstructed', 'privately', 'interviews', 'TIME', 'lingered', 'Instead', 'supplanted', 'tricking', 'acquaintances', 'instigation', 'adopted', 'transgressed', 'unpardoned', 'messages', 'haughty', 'birth', 'intruder', 'continually', 'subsisting', 'disagreements', 'exceed', 'rendering', 'useless', 'policy', 'frequency', 'Precious', 'obligations', 'confederacy', 'observable', 'maxims', 'constitutional', 'safeguard', 'sober', 'submitting', 'patroness', 'halves', 'stating', 'clemency', 'inconsolable', 'fled', 'habitual', 'breed', 'dogs', 'surviving', 'standard', 'ranked', 'disagreement', 'producing', 'THE', 'END'])"
            ]
          },
          "metadata": {
            "tags": []
          },
          "execution_count": 35
        }
      ]
    },
    {
      "cell_type": "code",
      "metadata": {
        "colab": {
          "base_uri": "https://localhost:8080/",
          "height": 299
        },
        "id": "Dc0kDt7hTVp0",
        "outputId": "21d70c38-b575-4544-910b-0a4b71ec71de"
      },
      "source": [
        "# Cumulative Frequency Plot\r\n",
        "\r\n",
        "fdist1.plot(50, cumulative = True)"
      ],
      "execution_count": 36,
      "outputs": [
        {
          "output_type": "display_data",
          "data": {
            "image/png": "[encoded data removed]",
            "text/plain": [
              "<Figure size 432x288 with 1 Axes>"
            ]
          },
          "metadata": {
            "tags": [],
            "needs_background": "light"
          }
        }
      ]
    },
    {
      "cell_type": "code",
      "metadata": {
        "colab": {
          "base_uri": "https://localhost:8080/"
        },
        "id": "GbED1yGITsfT",
        "outputId": "b76b47e9-ce40-4718-8e88-242f215441c8"
      },
      "source": [
        "# Hapaxes are the words that appear once in a text\r\n",
        "\r\n",
        "fdist1.hapaxes()"
      ],
      "execution_count": 37,
      "outputs": [
        {
          "output_type": "execute_result",
          "data": {
            "text/plain": [
              "['Herman',\n",
              " 'Melville',\n",
              " ']',\n",
              " 'ETYMOLOGY',\n",
              " 'Late',\n",
              " 'Consumptive',\n",
              " 'School',\n",
              " 'threadbare',\n",
              " 'lexicons',\n",
              " 'mockingly',\n",
              " 'flags',\n",
              " 'mortality',\n",
              " 'signification',\n",
              " 'HACKLUYT',\n",
              " 'Sw',\n",
              " 'HVAL',\n",
              " 'roundness',\n",
              " 'Dut',\n",
              " 'Ger',\n",
              " 'WALLEN',\n",
              " 'WALW',\n",
              " 'IAN',\n",
              " 'RICHARDSON',\n",
              " 'KETOS',\n",
              " 'GREEK',\n",
              " 'CETUS',\n",
              " 'LATIN',\n",
              " 'WHOEL',\n",
              " 'ANGLO',\n",
              " 'SAXON',\n",
              " 'WAL',\n",
              " 'HWAL',\n",
              " 'SWEDISH',\n",
              " 'ICELANDIC',\n",
              " 'BALEINE',\n",
              " 'BALLENA',\n",
              " 'FEGEE',\n",
              " 'ERROMANGOAN',\n",
              " 'Librarian',\n",
              " 'painstaking',\n",
              " 'burrower',\n",
              " 'grub',\n",
              " 'Vaticans',\n",
              " 'stalls',\n",
              " 'higgledy',\n",
              " 'piggledy',\n",
              " 'gospel',\n",
              " 'promiscuously',\n",
              " 'commentator',\n",
              " 'belongest',\n",
              " 'sallow',\n",
              " 'Pale',\n",
              " 'Sherry',\n",
              " 'loves',\n",
              " 'bluntly',\n",
              " 'Subs',\n",
              " 'thankless',\n",
              " 'Hampton',\n",
              " 'Court',\n",
              " 'hie',\n",
              " 'refugees',\n",
              " 'pampered',\n",
              " 'Michael',\n",
              " 'Raphael',\n",
              " 'unsplinterable',\n",
              " 'GENESIS',\n",
              " 'JOB',\n",
              " 'JONAH',\n",
              " 'punish',\n",
              " 'ISAIAH',\n",
              " 'soever',\n",
              " 'cometh',\n",
              " 'incontinently',\n",
              " 'perisheth',\n",
              " 'PLUTARCH',\n",
              " 'MORALS',\n",
              " 'breedeth',\n",
              " 'Whirlpooles',\n",
              " 'Balaene',\n",
              " 'arpens',\n",
              " 'PLINY',\n",
              " 'Scarcely',\n",
              " 'TOOKE',\n",
              " 'LUCIAN',\n",
              " 'TRUE',\n",
              " 'catched',\n",
              " 'OCTHER',\n",
              " 'VERBAL',\n",
              " 'TAKEN',\n",
              " 'MOUTH',\n",
              " 'ALFRED',\n",
              " '890',\n",
              " 'gudgeon',\n",
              " 'retires',\n",
              " 'MONTAIGNE',\n",
              " 'APOLOGY',\n",
              " 'RAIMOND',\n",
              " 'SEBOND',\n",
              " 'Nick',\n",
              " 'RABELAIS',\n",
              " 'cartloads',\n",
              " 'STOWE',\n",
              " 'ANNALS',\n",
              " 'LORD',\n",
              " 'BACON',\n",
              " 'Touching',\n",
              " 'ork',\n",
              " 'DEATH',\n",
              " 'sovereignest',\n",
              " 'bruise',\n",
              " 'HAMLET',\n",
              " 'leach',\n",
              " 'Mote',\n",
              " 'availle',\n",
              " 'returne',\n",
              " 'againe',\n",
              " 'worker',\n",
              " 'Dinting',\n",
              " 'paine',\n",
              " 'thro',\n",
              " 'maine',\n",
              " 'FAERIE',\n",
              " 'Immense',\n",
              " 'til',\n",
              " 'DAVENANT',\n",
              " 'PREFACE',\n",
              " 'GONDIBERT',\n",
              " 'spermacetti',\n",
              " 'Hosmannus',\n",
              " 'Nescio',\n",
              " 'VIDE',\n",
              " 'Spencer',\n",
              " 'Talus',\n",
              " 'flail',\n",
              " 'threatens',\n",
              " 'jav',\n",
              " 'lins',\n",
              " 'WALLER',\n",
              " 'SUMMER',\n",
              " 'ISLANDS',\n",
              " 'Commonwealth',\n",
              " 'Civitas',\n",
              " 'OPENING',\n",
              " 'SENTENCE',\n",
              " 'HOBBES',\n",
              " 'LEVIATHAN',\n",
              " 'Silly',\n",
              " 'Mansoul',\n",
              " 'chewing',\n",
              " 'sprat',\n",
              " 'PILGRIM',\n",
              " 'PROGRESS',\n",
              " 'Created',\n",
              " 'PARADISE',\n",
              " 'LOST',\n",
              " '---\"',\n",
              " 'Hugest',\n",
              " 'Stretched',\n",
              " 'Draws',\n",
              " 'FULLLER',\n",
              " 'PROFANE',\n",
              " 'HOLY',\n",
              " 'STATE',\n",
              " 'DRYDEN',\n",
              " 'ANNUS',\n",
              " 'MIRABILIS',\n",
              " 'aground',\n",
              " 'EDGE',\n",
              " 'TEN',\n",
              " 'SPITZBERGEN',\n",
              " 'PURCHAS',\n",
              " 'wantonness',\n",
              " 'fuzzing',\n",
              " 'vents',\n",
              " 'HERBERT',\n",
              " 'INTO',\n",
              " 'ASIA',\n",
              " 'AFRICA',\n",
              " 'SCHOUTEN',\n",
              " 'SIXTH',\n",
              " 'CIRCUMNAVIGATION',\n",
              " 'Elbe',\n",
              " 'ducat',\n",
              " 'herrings',\n",
              " 'GREENLAND',\n",
              " 'Several',\n",
              " 'Fife',\n",
              " 'Anno',\n",
              " '1652',\n",
              " 'Pitferren',\n",
              " 'SIBBALD',\n",
              " 'FIFE',\n",
              " 'KINROSS',\n",
              " 'Myself',\n",
              " 'Sperma',\n",
              " 'ceti',\n",
              " 'fierceness',\n",
              " 'RICHARD',\n",
              " 'STRAFFORD',\n",
              " 'LETTER',\n",
              " 'BERMUDAS',\n",
              " 'PHIL',\n",
              " 'TRANS',\n",
              " '1668',\n",
              " 'PRIMER',\n",
              " 'COWLEY',\n",
              " '1729',\n",
              " '\"...',\n",
              " 'frequendy',\n",
              " 'insupportable',\n",
              " 'disorder',\n",
              " 'ULLOA',\n",
              " 'SOUTH',\n",
              " 'AMERICA',\n",
              " 'sylphs',\n",
              " 'petticoat',\n",
              " 'Oft',\n",
              " 'Tho',\n",
              " 'RAPE',\n",
              " 'LOCK',\n",
              " 'NAT',\n",
              " 'wales',\n",
              " 'JOHNSON',\n",
              " 'COOK',\n",
              " 'dung',\n",
              " 'lime',\n",
              " 'juniper',\n",
              " 'UNO',\n",
              " 'VON',\n",
              " 'TROIL',\n",
              " 'LETTERS',\n",
              " 'BANKS',\n",
              " 'SOLANDER',\n",
              " '1772',\n",
              " 'Nantuckois',\n",
              " 'JEFFERSON',\n",
              " 'MEMORIAL',\n",
              " 'MINISTER',\n",
              " 'REFERENCE',\n",
              " 'PARLIAMENT',\n",
              " 'SOMEWHERE',\n",
              " 'guarding',\n",
              " 'protecting',\n",
              " 'robbers',\n",
              " 'BLACKSTONE',\n",
              " 'Rodmond',\n",
              " 'suspends',\n",
              " 'attends',\n",
              " 'FALCONER',\n",
              " 'Bright',\n",
              " 'roofs',\n",
              " 'domes',\n",
              " 'rockets',\n",
              " 'Around',\n",
              " 'unwieldy',\n",
              " 'COWPER',\n",
              " 'VISIT',\n",
              " 'LONDON',\n",
              " 'HUNTER',\n",
              " 'DISSECTION',\n",
              " 'SMALL',\n",
              " 'SIZED',\n",
              " 'aorta',\n",
              " 'gushing',\n",
              " 'PALEY',\n",
              " 'THEOLOGY',\n",
              " 'mammiferous',\n",
              " 'hind',\n",
              " 'BARON',\n",
              " 'CUVIER',\n",
              " 'COLNETT',\n",
              " 'PURPOSE',\n",
              " 'EXTENDING',\n",
              " 'SPERMACETI',\n",
              " 'Floundered',\n",
              " 'chace',\n",
              " 'peopling',\n",
              " 'Gather',\n",
              " 'Led',\n",
              " 'instincts',\n",
              " 'trackless',\n",
              " 'Assaulted',\n",
              " 'voracious',\n",
              " 'spiral',\n",
              " 'MONTGOMERY',\n",
              " 'WORLD',\n",
              " 'FLOOD',\n",
              " 'Paean',\n",
              " 'fatter',\n",
              " 'Flounders',\n",
              " 'CHARLES',\n",
              " 'LAMB',\n",
              " 'TRIUMPH',\n",
              " '1690',\n",
              " 'OBED',\n",
              " 'Susan',\n",
              " 'HAWTHORNE',\n",
              " 'TWICE',\n",
              " 'bespeak',\n",
              " 'raal',\n",
              " 'COOPER',\n",
              " 'PILOT',\n",
              " 'Berlin',\n",
              " 'Gazette',\n",
              " 'ECKERMANN',\n",
              " 'CONVERSATIONS',\n",
              " 'GOETHE',\n",
              " 'ESSEX',\n",
              " 'WAS',\n",
              " 'ATTACKED',\n",
              " 'FINALLY',\n",
              " 'DESTROYED',\n",
              " 'OWEN',\n",
              " 'CHACE',\n",
              " 'FIRST',\n",
              " 'SAID',\n",
              " 'VESSEL',\n",
              " 'YORK',\n",
              " '1821',\n",
              " 'piping',\n",
              " 'dimmed',\n",
              " 'phospher',\n",
              " 'ELIZABETH',\n",
              " 'OAKES',\n",
              " 'SMITH',\n",
              " 'amounted',\n",
              " '440',\n",
              " 'SCORESBY',\n",
              " 'Mad',\n",
              " 'agonies',\n",
              " 'endures',\n",
              " 'infuriated',\n",
              " 'rears',\n",
              " 'snaps',\n",
              " 'propelled',\n",
              " 'observers',\n",
              " 'opportunities',\n",
              " 'habitudes',\n",
              " 'BEALE',\n",
              " 'offensively',\n",
              " 'artful',\n",
              " 'mischievous',\n",
              " 'FREDERICK',\n",
              " 'DEBELL',\n",
              " '1840',\n",
              " 'October',\n",
              " 'Raise',\n",
              " 'ay',\n",
              " 'THAR',\n",
              " 'bowes',\n",
              " 'os',\n",
              " 'ROSS',\n",
              " 'ETCHINGS',\n",
              " 'CRUIZE',\n",
              " '1846',\n",
              " 'Globe',\n",
              " 'transactions',\n",
              " 'relate',\n",
              " 'HUSSEY',\n",
              " 'SURVIVORS',\n",
              " 'parried',\n",
              " 'MISSIONARY',\n",
              " 'JOURNAL',\n",
              " 'TYERMAN',\n",
              " 'boldest',\n",
              " 'persevering',\n",
              " 'REPORT',\n",
              " 'DANIEL',\n",
              " 'SPEECH',\n",
              " 'SENATE',\n",
              " 'APPLICATION',\n",
              " 'ERECTION',\n",
              " 'BREAKWATER',\n",
              " 'CAPTORS',\n",
              " 'WHALEMAN',\n",
              " 'ADVENTURES',\n",
              " 'BIOGRAPHY',\n",
              " 'GATHERED',\n",
              " 'HOMEWARD',\n",
              " 'COMMODORE',\n",
              " 'PREBLE',\n",
              " 'REV',\n",
              " 'CHEEVER',\n",
              " 'MUTINEER',\n",
              " 'BROTHER',\n",
              " 'ANOTHER',\n",
              " 'MCCULLOCH',\n",
              " 'COMMERCIAL',\n",
              " 'reciprocal',\n",
              " 'clews',\n",
              " 'SOMETHING',\n",
              " 'UNPUBLISHED',\n",
              " 'CURRENTS',\n",
              " 'Pedestrians',\n",
              " 'recollect',\n",
              " 'gateways',\n",
              " 'VOYAGER',\n",
              " 'ARCTIC',\n",
              " 'NEWSPAPER',\n",
              " 'TAKING',\n",
              " 'RETAKING',\n",
              " 'HOBOMACK',\n",
              " 'MIRIAM',\n",
              " 'FISHERMAN',\n",
              " 'appliance',\n",
              " 'RIBS',\n",
              " 'TRUCKS',\n",
              " 'Terra',\n",
              " 'Del',\n",
              " 'Fuego',\n",
              " 'DARWIN',\n",
              " 'NATURALIST',\n",
              " \";--'\",\n",
              " '!\\'\"',\n",
              " 'WHARTON',\n",
              " 'Loomings',\n",
              " 'spleen',\n",
              " 'regulating',\n",
              " 'circulation',\n",
              " 'Whenever',\n",
              " 'drizzly',\n",
              " 'hypos',\n",
              " 'philosophical',\n",
              " 'Cato',\n",
              " 'Manhattoes',\n",
              " 'reefs',\n",
              " 'downtown',\n",
              " 'gazers',\n",
              " 'Circumambulate',\n",
              " 'Corlears',\n",
              " 'Coenties',\n",
              " 'Slip',\n",
              " 'Whitehall',\n",
              " 'Posted',\n",
              " 'sentinels',\n",
              " 'spiles',\n",
              " 'pier',\n",
              " 'lath',\n",
              " 'counters',\n",
              " 'desks',\n",
              " 'loitering',\n",
              " 'shady',\n",
              " 'Inlanders',\n",
              " 'lanes',\n",
              " 'alleys',\n",
              " 'attract',\n",
              " 'dale',\n",
              " 'dreamiest',\n",
              " 'shadiest',\n",
              " 'quietest',\n",
              " 'enchanting',\n",
              " 'Saco',\n",
              " 'crucifix',\n",
              " 'Deep',\n",
              " 'mazy',\n",
              " 'Tiger',\n",
              " 'Tennessee',\n",
              " 'Rockaway',\n",
              " 'Persians',\n",
              " 'deity',\n",
              " 'Narcissus',\n",
              " 'ungraspable',\n",
              " 'hazy',\n",
              " 'quarrelsome',\n",
              " 'offices',\n",
              " 'abominate',\n",
              " 'toils',\n",
              " 'trials',\n",
              " 'barques',\n",
              " 'schooners',\n",
              " 'broiling',\n",
              " 'buttered',\n",
              " 'judgmatically',\n",
              " 'peppered',\n",
              " 'reverentially',\n",
              " 'idolatrous',\n",
              " 'dotings',\n",
              " 'ibis',\n",
              " 'roasted',\n",
              " 'bake',\n",
              " 'plumb',\n",
              " 'Van',\n",
              " 'Rensselaers',\n",
              " 'Randolphs',\n",
              " 'Hardicanutes',\n",
              " 'lording',\n",
              " 'tallest',\n",
              " 'decoction',\n",
              " 'Seneca',\n",
              " 'Stoics',\n",
              " 'Testament',\n",
              " 'promptly',\n",
              " 'rub',\n",
              " 'infliction',\n",
              " 'BEING',\n",
              " 'PAID',\n",
              " 'urbane',\n",
              " 'ills',\n",
              " 'monied',\n",
              " 'consign',\n",
              " 'prevalent',\n",
              " 'violate',\n",
              " 'Pythagorean',\n",
              " 'commonalty',\n",
              " 'police',\n",
              " 'surveillance',\n",
              " 'programme',\n",
              " 'solo',\n",
              " 'CONTESTED',\n",
              " 'ELECTION',\n",
              " 'PRESIDENCY',\n",
              " 'UNITED',\n",
              " 'STATES',\n",
              " 'ISHMAEL',\n",
              " 'BLOODY',\n",
              " 'AFFGHANISTAN',\n",
              " 'managers',\n",
              " 'genteel',\n",
              " 'comedies',\n",
              " 'farces',\n",
              " 'cunningly',\n",
              " 'disguises',\n",
              " 'cajoling',\n",
              " 'unbiased',\n",
              " 'freewill',\n",
              " 'discriminating',\n",
              " 'overwhelming',\n",
              " 'undeliverable',\n",
              " 'itch',\n",
              " 'forbidden',\n",
              " 'ignoring',\n",
              " 'lodges',\n",
              " 'Carpet',\n",
              " 'Bag',\n",
              " 'Manhatto',\n",
              " 'candidates',\n",
              " 'penalties',\n",
              " 'Tyre',\n",
              " 'Carthage',\n",
              " 'imported',\n",
              " 'cobblestones',\n",
              " 'bitingly',\n",
              " 'shouldering',\n",
              " 'price',\n",
              " 'fervent',\n",
              " 'asphaltic',\n",
              " 'pavement',\n",
              " 'flinty',\n",
              " 'projections',\n",
              " 'soles',\n",
              " 'Too',\n",
              " 'cheapest',\n",
              " 'cheeriest',\n",
              " 'invitingly',\n",
              " 'particles',\n",
              " 'peer',\n",
              " 'Angel',\n",
              " 'Doom',\n",
              " 'wailing',\n",
              " 'gnashing',\n",
              " 'Wretched',\n",
              " 'entertainment',\n",
              " 'Moving',\n",
              " 'emigrant',\n",
              " 'poverty',\n",
              " 'creak',\n",
              " 'lodgings',\n",
              " 'zephyr',\n",
              " 'hob',\n",
              " 'toasting',\n",
              " 'observest',\n",
              " 'sashless',\n",
              " 'glazier',\n",
              " 'reasonest',\n",
              " 'chinks',\n",
              " 'crannies',\n",
              " 'lint',\n",
              " 'chattering',\n",
              " 'shiverings',\n",
              " 'cob',\n",
              " 'redder',\n",
              " 'Orion',\n",
              " 'glitters',\n",
              " 'conservatories',\n",
              " 'president',\n",
              " 'temperance',\n",
              " 'blubbering',\n",
              " 'straggling',\n",
              " 'wainscots',\n",
              " 'reminding',\n",
              " 'oilpainting',\n",
              " 'besmoked',\n",
              " 'defaced',\n",
              " 'unequal',\n",
              " 'crosslights',\n",
              " 'hags',\n",
              " 'delineate',\n",
              " 'bewitched',\n",
              " 'ponderings',\n",
              " 'boggy',\n",
              " 'soggy',\n",
              " 'squitchy',\n",
              " 'froze',\n",
              " 'heath',\n",
              " 'icebound',\n",
              " 'represents',\n",
              " 'Horner',\n",
              " 'foundered',\n",
              " 'clubs',\n",
              " 'harvesting',\n",
              " 'hacking',\n",
              " 'horrifying',\n",
              " 'Mixed',\n",
              " 'Nathan',\n",
              " 'Swain',\n",
              " 'corkscrew',\n",
              " 'Blanco',\n",
              " 'sojourning',\n",
              " 'fireplaces',\n",
              " 'duskier',\n",
              " 'cockpits',\n",
              " 'rarities',\n",
              " 'Projecting',\n",
              " 'Within',\n",
              " 'shelves',\n",
              " 'flasks',\n",
              " 'bustles',\n",
              " 'deliriums',\n",
              " 'Abominable',\n",
              " 'tumblers',\n",
              " 'cylinders',\n",
              " 'goggling',\n",
              " 'deceitfully',\n",
              " 'tapered',\n",
              " 'Parallel',\n",
              " 'pecked',\n",
              " 'footpads',\n",
              " 'Fill',\n",
              " 'shilling',\n",
              " 'examining',\n",
              " 'SKRIMSHANDER',\n",
              " 'accommodated',\n",
              " 'unoccupied',\n",
              " 'haint',\n",
              " 'pose',\n",
              " 'whalin',\n",
              " 'decidedly',\n",
              " 'objectionable',\n",
              " 'wander',\n",
              " 'Battery',\n",
              " 'ruminating',\n",
              " 'adorning',\n",
              " 'potatoes',\n",
              " 'sartainty',\n",
              " 'diabolically',\n",
              " 'steaks',\n",
              " 'undress',\n",
              " 'looker',\n",
              " 'rioting',\n",
              " 'Grampus',\n",
              " 'seed',\n",
              " 'Feegees',\n",
              " 'tramping',\n",
              " 'Enveloped',\n",
              " 'bedarned',\n",
              " 'eruption',\n",
              " 'officiating',\n",
              " 'brimmers',\n",
              " 'complained',\n",
              " 'potion',\n",
              " 'colds',\n",
              " 'catarrhs',\n",
              " 'liquor',\n",
              " 'arrantest',\n",
              " 'topers',\n",
              " 'obstreperously',\n",
              " 'aloof',\n",
              " 'desirous',\n",
              " 'hilarity',\n",
              " 'coffer',\n",
              " 'Southerner',\n",
              " 'mountaineers',\n",
              " 'Alleghanian',\n",
              " 'missed',\n",
              " 'supernaturally',\n",
              " 'congratulate',\n",
              " 'multiply',\n",
              " 'bachelor',\n",
              " 'abominated',\n",
              " 'tidiest',\n",
              " 'bedwards',\n",
              " 'shan',\n",
              " 'tablecloth',\n",
              " 'Skrimshander',\n",
              " 'bump',\n",
              " 'spraining',\n",
              " 'eider',\n",
              " 'yoking',\n",
              " 'rickety',\n",
              " 'whirlwinds',\n",
              " 'knockings',\n",
              " 'dismissed',\n",
              " 'popped',\n",
              " 'cherishing',\n",
              " 'chuckled',\n",
              " 'chuckle',\n",
              " 'mightily',\n",
              " 'catches',\n",
              " 'bamboozingly',\n",
              " 'overstocked',\n",
              " 'toothpick',\n",
              " 'rayther',\n",
              " 'BROWN',\n",
              " 'slanderin',\n",
              " 'farrago',\n",
              " 'BROKE',\n",
              " 'Sartain',\n",
              " 'Mt',\n",
              " 'Hecla',\n",
              " 'persist',\n",
              " 'mystifying',\n",
              " 'unsay',\n",
              " 'criminal',\n",
              " 'Wall',\n",
              " 'purty',\n",
              " 'sarmon',\n",
              " 'rips',\n",
              " 'tellin',\n",
              " 'bought',\n",
              " 'balmed',\n",
              " 'curios',\n",
              " 'sellin',\n",
              " 'inions',\n",
              " 'fooling',\n",
              " 'idolators',\n",
              " 'Depend',\n",
              " 'reg',\n",
              " 'lar',\n",
              " 'spliced',\n",
              " 'Johnny',\n",
              " 'sprawling',\n",
              " 'Arter',\n",
              " 'glim',\n",
              " 'jiffy',\n",
              " 'irresolute',\n",
              " 'vum',\n",
              " 'WON',\n",
              " 'Folding',\n",
              " 'scrutiny',\n",
              " 'porcupine',\n",
              " 'moccasin',\n",
              " 'ponchos',\n",
              " 'parade',\n",
              " 'rainy',\n",
              " 'remembering',\n",
              " 'commended',\n",
              " 'cobs',\n",
              " 'Nod',\n",
              " 'footfall',\n",
              " 'unlacing',\n",
              " 'blackish',\n",
              " 'plasters',\n",
              " 'inkling',\n",
              " 'Placing',\n",
              " 'crammed',\n",
              " 'scalp',\n",
              " 'mildewed',\n",
              " 'Ignorance',\n",
              " 'parent',\n",
              " 'nonplussed',\n",
              " 'undressing',\n",
              " 'checkered',\n",
              " 'Thirty',\n",
              " 'frogs',\n",
              " 'quaked',\n",
              " 'wrapall',\n",
              " 'dreadnaught',\n",
              " 'fumbled',\n",
              " 'Remembering',\n",
              " 'manikin',\n",
              " 'tenpin',\n",
              " 'andirons',\n",
              " 'jambs',\n",
              " 'bricks',\n",
              " 'appropriate',\n",
              " 'applying',\n",
              " 'hastier',\n",
              " 'withdrawals',\n",
              " 'antics',\n",
              " 'devotee',\n",
              " 'extinguishing',\n",
              " 'unceremoniously',\n",
              " 'bagged',\n",
              " 'sportsman',\n",
              " 'woodcock',\n",
              " 'uncomfortableness',\n",
              " 'deliberating',\n",
              " 'puffed',\n",
              " 'sang',\n",
              " 'Stammering',\n",
              " 'conjured',\n",
              " 'responses',\n",
              " 'debel',\n",
              " 'flourishing',\n",
              " 'Angels',\n",
              " 'flourishings',\n",
              " 'peddlin',\n",
              " 'sleepe',\n",
              " 'grunted',\n",
              " 'gettee',\n",
              " 'motioning',\n",
              " 'comely',\n",
              " 'insured',\n",
              " 'Counterpane',\n",
              " 'parti',\n",
              " 'triangles',\n",
              " 'interminable',\n",
              " 'caper',\n",
              " 'supperless',\n",
              " '21st',\n",
              " 'hemisphere',\n",
              " 'sigh',\n",
              " 'Sixteen',\n",
              " 'ached',\n",
              " 'coaches',\n",
              " 'stockinged',\n",
              " 'slippering',\n",
              " 'misbehaviour',\n",
              " 'unendurable',\n",
              " 'stepmothers',\n",
              " 'misfortunes',\n",
              " 'steeped',\n",
              " 'shudderingly',\n",
              " 'confounding',\n",
              " 'soberly',\n",
              " 'recurred',\n",
              " 'predicament',\n",
              " 'unlock',\n",
              " 'bridegroom',\n",
              " 'clasp',\n",
              " 'hugged',\n",
              " 'rouse',\n",
              " 'snore',\n",
              " 'scratch',\n",
              " 'Throwing',\n",
              " 'expostulations',\n",
              " 'unbecomingness',\n",
              " 'matrimonial',\n",
              " 'dawning',\n",
              " 'overture',\n",
              " 'innate',\n",
              " 'compliment',\n",
              " 'civility',\n",
              " 'rudeness',\n",
              " 'toilette',\n",
              " 'dressing',\n",
              " 'donning',\n",
              " 'gaspings',\n",
              " 'booting',\n",
              " 'caterpillar',\n",
              " 'outlandishness',\n",
              " 'manners',\n",
              " 'education',\n",
              " 'undergraduate',\n",
              " 'dreamt',\n",
              " 'cowhide',\n",
              " 'pinched',\n",
              " 'curtains',\n",
              " 'indecorous',\n",
              " 'contented',\n",
              " 'restricting',\n",
              " 'donned',\n",
              " 'lathering',\n",
              " 'unsheathes',\n",
              " 'whets',\n",
              " 'Rogers',\n",
              " 'cutlery',\n",
              " 'Afterwards',\n",
              " 'baton',\n",
              " 'Breakfast',\n",
              " 'pleasantly',\n",
              " 'bountifully',\n",
              " 'laughable',\n",
              " 'bosky',\n",
              " 'unshorn',\n",
              " 'gowns',\n",
              " 'toasted',\n",
              " 'lingers',\n",
              " 'tarried',\n",
              " 'barred',\n",
              " 'Grub',\n",
              " 'Park',\n",
              " 'assurance',\n",
              " 'polish',\n",
              " 'occasioned',\n",
              " 'embarrassed',\n",
              " 'bashfulness',\n",
              " 'duelled',\n",
              " 'winking',\n",
              " 'tastes',\n",
              " 'sheepishly',\n",
              " 'bashful',\n",
              " 'icicle',\n",
              " 'admirer',\n",
              " 'cordially',\n",
              " 'grappling',\n",
              " 'genteelly',\n",
              " 'eschewed',\n",
              " 'undivided',\n",
              " '6',\n",
              " 'circulating',\n",
              " 'nondescripts',\n",
              " 'Chestnut',\n",
              " 'jostle',\n",
              " 'Regent',\n",
              " 'Lascars',\n",
              " 'Bombay',\n",
              " 'Apollo',\n",
              " 'Feegeeans',\n",
              " 'Tongatobooarrs',\n",
              " 'Erromanggoans',\n",
              " 'Pannangians',\n",
              " 'Brighggians',\n",
              " 'weekly',\n",
              " 'Vermonters',\n",
              " 'stalwart',\n",
              " 'frames',\n",
              " 'felled',\n",
              " 'strutting',\n",
              " 'wester',\n",
              " 'bombazine',\n",
              " 'cloak',\n",
              " 'mow',\n",
              " 'gloves',\n",
              " 'joins',\n",
              " 'outfit',\n",
              " 'waistcoats',\n",
              " 'Hay',\n",
              " 'Seed',\n",
              " 'tract',\n",
              " 'dearest',\n",
              " 'pave',\n",
              " 'eggs',\n",
              " 'patrician',\n",
              " 'parks',\n",
              " 'scraggy',\n",
              " 'scoria',\n",
              " 'Herr',\n",
              " 'dowers',\n",
              " 'nieces',\n",
              " 'reservoirs',\n",
              " 'maples',\n",
              " 'bountiful',\n",
              " 'proffer',\n",
              " 'passer',\n",
              " 'cones',\n",
              " 'blossoms',\n",
              " 'superinduced',\n",
              " 'carnation',\n",
              " 'Salem',\n",
              " 'sweethearts',\n",
              " 'Puritanic',\n",
              " 'Whaleman',\n",
              " 'Wrapping',\n",
              " 'Each',\n",
              " 'quote',\n",
              " 'TALBOT',\n",
              " 'Near',\n",
              " 'Desolation',\n",
              " '1st',\n",
              " 'SISTER',\n",
              " 'ROBERT',\n",
              " 'WILLIS',\n",
              " 'ELLERY',\n",
              " 'NATHAN',\n",
              " 'COLEMAN',\n",
              " 'WALTER',\n",
              " 'CANNY',\n",
              " 'SETH',\n",
              " 'GLEIG',\n",
              " 'Forming',\n",
              " 'ELIZA',\n",
              " '31st',\n",
              " 'MARBLE',\n",
              " 'SHIPMATES',\n",
              " 'EZEKIEL',\n",
              " 'HARDY',\n",
              " 'AUGUST',\n",
              " '3d',\n",
              " '1833',\n",
              " 'WIDOW',\n",
              " 'Shaking',\n",
              " 'glazed',\n",
              " 'Affected',\n",
              " 'relatives',\n",
              " 'unhealing',\n",
              " 'sympathetically',\n",
              " 'wounds',\n",
              " 'bleed',\n",
              " 'blanks',\n",
              " ...]"
            ]
          },
          "metadata": {
            "tags": []
          },
          "execution_count": 37
        }
      ]
    },
    {
      "cell_type": "code",
      "metadata": {
        "colab": {
          "base_uri": "https://localhost:8080/"
        },
        "id": "gX8vQtPtjIHv",
        "outputId": "cd27f347-c862-4492-cc0e-e69c71ada718"
      },
      "source": [
        "# Finding the frequent long words. This eliminates the short frequent words like 'the' which are insignificant\r\n",
        "\r\n",
        "sorted([word for word in set(text1) if len(word) > 7 and fdist1[word] > 7])"
      ],
      "execution_count": 38,
      "outputs": [
        {
          "output_type": "execute_result",
          "data": {
            "text/plain": [
              "['American',\n",
              " 'Atlantic',\n",
              " 'Bulkington',\n",
              " 'Canallers',\n",
              " 'Christian',\n",
              " 'Commodore',\n",
              " 'Consider',\n",
              " 'Fedallah',\n",
              " 'Greenland',\n",
              " 'Guernsey',\n",
              " 'Heidelburgh',\n",
              " 'Japanese',\n",
              " 'Jeroboam',\n",
              " 'Leviathan',\n",
              " 'Meantime',\n",
              " 'Meanwhile',\n",
              " 'Mediterranean',\n",
              " 'Moreover',\n",
              " 'NANTUCKET',\n",
              " 'Nantucket',\n",
              " 'Nantucketer',\n",
              " 'Nantucketers',\n",
              " 'Nevertheless',\n",
              " 'Porpoise',\n",
              " 'Queequeg',\n",
              " 'Scoresby',\n",
              " 'Sebastian',\n",
              " 'Starbuck',\n",
              " 'Steelkilt',\n",
              " 'Tashtego',\n",
              " 'Therefore',\n",
              " 'Wherefore',\n",
              " 'abounding',\n",
              " 'according',\n",
              " 'accounted',\n",
              " 'accounts',\n",
              " 'accursed',\n",
              " 'activity',\n",
              " 'actually',\n",
              " 'additional',\n",
              " 'advanced',\n",
              " 'advancing',\n",
              " 'afternoon',\n",
              " 'afterwards',\n",
              " 'alongside',\n",
              " 'altogether',\n",
              " 'ambergris',\n",
              " 'answered',\n",
              " 'anything',\n",
              " 'anywhere',\n",
              " 'appalling',\n",
              " 'apparently',\n",
              " 'apparition',\n",
              " 'appearance',\n",
              " 'appeared',\n",
              " 'approaching',\n",
              " 'archangel',\n",
              " 'articles',\n",
              " 'attached',\n",
              " 'attention',\n",
              " 'authority',\n",
              " 'backward',\n",
              " 'barbaric',\n",
              " 'beautiful',\n",
              " 'beginning',\n",
              " 'beholding',\n",
              " 'belonged',\n",
              " 'belonging',\n",
              " 'bestowed',\n",
              " 'binnacle',\n",
              " 'blackness',\n",
              " 'blacksmith',\n",
              " 'bowsprit',\n",
              " 'breakfast',\n",
              " 'breaking',\n",
              " 'bringing',\n",
              " 'bulwarks',\n",
              " 'bursting',\n",
              " 'business',\n",
              " 'cannibal',\n",
              " 'cannibals',\n",
              " 'captains',\n",
              " 'captured',\n",
              " 'carefully',\n",
              " 'carpenter',\n",
              " 'carrying',\n",
              " 'centuries',\n",
              " 'certainly',\n",
              " 'character',\n",
              " 'children',\n",
              " 'circumstance',\n",
              " 'circumstances',\n",
              " 'civilized',\n",
              " 'clinging',\n",
              " 'coloured',\n",
              " 'combined',\n",
              " 'comfortable',\n",
              " 'commanded',\n",
              " 'commander',\n",
              " 'commotion',\n",
              " 'comparatively',\n",
              " 'compared',\n",
              " 'compasses',\n",
              " 'complete',\n",
              " 'completely',\n",
              " 'comrades',\n",
              " 'concerned',\n",
              " 'concerning',\n",
              " 'conclude',\n",
              " 'concluded',\n",
              " 'concluding',\n",
              " 'confidential',\n",
              " 'connected',\n",
              " 'connexion',\n",
              " 'conscience',\n",
              " 'conscious',\n",
              " 'consider',\n",
              " 'considerable',\n",
              " 'considerably',\n",
              " 'consideration',\n",
              " 'considered',\n",
              " 'considering',\n",
              " 'consternation',\n",
              " 'containing',\n",
              " 'continual',\n",
              " 'continually',\n",
              " 'continued',\n",
              " 'contrary',\n",
              " 'contrast',\n",
              " 'contrasting',\n",
              " 'contrivances',\n",
              " 'convenient',\n",
              " 'countenance',\n",
              " 'creature',\n",
              " 'creatures',\n",
              " 'critical',\n",
              " 'crossing',\n",
              " 'cruising',\n",
              " 'curiosity',\n",
              " 'customary',\n",
              " 'dangerous',\n",
              " 'darkness',\n",
              " 'daylight',\n",
              " 'declared',\n",
              " 'demanded',\n",
              " 'departed',\n",
              " 'descending',\n",
              " 'described',\n",
              " 'descried',\n",
              " 'desperate',\n",
              " 'destroyed',\n",
              " 'detached',\n",
              " 'devilish',\n",
              " 'difference',\n",
              " 'different',\n",
              " 'direction',\n",
              " 'directions',\n",
              " 'directly',\n",
              " 'disappeared',\n",
              " 'discovered',\n",
              " 'discovery',\n",
              " 'distance',\n",
              " 'distinct',\n",
              " 'distinctly',\n",
              " 'domestic',\n",
              " 'doubloon',\n",
              " 'doubtless',\n",
              " 'downward',\n",
              " 'downwards',\n",
              " 'dripping',\n",
              " 'dropping',\n",
              " 'eagerness',\n",
              " 'eastward',\n",
              " 'elements',\n",
              " 'elephant',\n",
              " 'elephants',\n",
              " 'elevated',\n",
              " 'elsewhere',\n",
              " 'employed',\n",
              " 'enchanted',\n",
              " 'encounter',\n",
              " 'encountered',\n",
              " 'enormous',\n",
              " 'entirely',\n",
              " 'entitled',\n",
              " 'especially',\n",
              " 'eventually',\n",
              " 'everlasting',\n",
              " 'everything',\n",
              " 'exceeding',\n",
              " 'exceedingly',\n",
              " 'excellent',\n",
              " 'exclaimed',\n",
              " 'experience',\n",
              " 'experienced',\n",
              " 'expression',\n",
              " 'external',\n",
              " 'extremity',\n",
              " 'fashioned',\n",
              " 'fastened',\n",
              " 'fearless',\n",
              " 'features',\n",
              " 'fishermen',\n",
              " 'floating',\n",
              " 'followed',\n",
              " 'following',\n",
              " 'forecastle',\n",
              " 'forehead',\n",
              " 'foremost',\n",
              " 'forgotten',\n",
              " 'fountain',\n",
              " 'freighted',\n",
              " 'frequently',\n",
              " 'furnished',\n",
              " 'generally',\n",
              " 'gentleman',\n",
              " 'gentlemen',\n",
              " 'gigantic',\n",
              " 'glancing',\n",
              " 'glittering',\n",
              " 'gradually',\n",
              " 'grandeur',\n",
              " 'greatest',\n",
              " 'grinning',\n",
              " 'gunwales',\n",
              " 'hammered',\n",
              " 'happened',\n",
              " 'harpooned',\n",
              " 'harpooneer',\n",
              " 'harpooneers',\n",
              " 'harpoons',\n",
              " 'headsman',\n",
              " 'helmsman',\n",
              " 'hereafter',\n",
              " 'historical',\n",
              " 'hitherto',\n",
              " 'hoisting',\n",
              " 'hopeless',\n",
              " 'horizontal',\n",
              " 'horrible',\n",
              " 'hovering',\n",
              " 'hundreds',\n",
              " 'ignorance',\n",
              " 'ignorant',\n",
              " 'immediately',\n",
              " 'immortal',\n",
              " 'imperial',\n",
              " 'important',\n",
              " 'impossible',\n",
              " 'impressions',\n",
              " 'inclined',\n",
              " 'included',\n",
              " 'including',\n",
              " 'incredible',\n",
              " 'independent',\n",
              " 'indifferent',\n",
              " 'indirectly',\n",
              " 'indispensable',\n",
              " 'individual',\n",
              " 'infallibly',\n",
              " 'inferior',\n",
              " 'infernal',\n",
              " 'infinite',\n",
              " 'influence',\n",
              " 'inscrutable',\n",
              " 'inserted',\n",
              " 'instance',\n",
              " 'instances',\n",
              " 'instantly',\n",
              " 'instinct',\n",
              " 'intended',\n",
              " 'intensity',\n",
              " 'intention',\n",
              " 'intently',\n",
              " 'interest',\n",
              " 'interesting',\n",
              " 'interior',\n",
              " 'interval',\n",
              " 'intervals',\n",
              " 'intolerable',\n",
              " 'invariably',\n",
              " 'invested',\n",
              " 'invisible',\n",
              " 'involuntarily',\n",
              " 'involved',\n",
              " 'judgment',\n",
              " 'knowledge',\n",
              " 'landlord',\n",
              " 'landsman',\n",
              " 'landsmen',\n",
              " 'larboard',\n",
              " 'latitude',\n",
              " 'latitudes',\n",
              " 'lengthwise',\n",
              " 'levelled',\n",
              " 'leviathan',\n",
              " 'leviathans',\n",
              " 'lightning',\n",
              " 'likewise',\n",
              " 'lingering',\n",
              " 'lowering',\n",
              " 'magnitude',\n",
              " 'mainmast',\n",
              " 'malicious',\n",
              " 'mariners',\n",
              " 'marvellous',\n",
              " 'material',\n",
              " 'meanwhile',\n",
              " 'measureless',\n",
              " 'mechanically',\n",
              " 'melancholy',\n",
              " 'mentioned',\n",
              " 'merchant',\n",
              " 'midnight',\n",
              " 'miserable',\n",
              " 'mistaken',\n",
              " 'monomaniac',\n",
              " 'monsters',\n",
              " 'monstrous',\n",
              " 'moonlight',\n",
              " 'moreover',\n",
              " 'motionless',\n",
              " 'mountain',\n",
              " 'mountains',\n",
              " 'movement',\n",
              " 'murderous',\n",
              " 'murmured',\n",
              " 'muttered',\n",
              " 'mysterious',\n",
              " 'mystical',\n",
              " 'nameless',\n",
              " 'narrative',\n",
              " 'naturalists',\n",
              " 'naturally',\n",
              " 'nevertheless',\n",
              " 'numerous',\n",
              " 'obedience',\n",
              " 'obliquely',\n",
              " 'observed',\n",
              " 'observing',\n",
              " 'occasion',\n",
              " 'occasional',\n",
              " 'occasionally',\n",
              " 'occupied',\n",
              " 'occurred',\n",
              " 'officers',\n",
              " 'operation',\n",
              " 'opposite',\n",
              " 'ordinary',\n",
              " 'original',\n",
              " 'originally',\n",
              " 'otherwise',\n",
              " 'ourselves',\n",
              " 'overboard',\n",
              " 'particular',\n",
              " 'particularly',\n",
              " 'particulars',\n",
              " 'peculiar',\n",
              " 'peculiarities',\n",
              " 'perceive',\n",
              " 'perceived',\n",
              " 'perilous',\n",
              " 'perpendicular',\n",
              " 'perpendicularly',\n",
              " 'phantoms',\n",
              " 'pictures',\n",
              " 'pleasant',\n",
              " 'pointing',\n",
              " 'ponderous',\n",
              " 'popularly',\n",
              " 'position',\n",
              " 'possession',\n",
              " 'possible',\n",
              " 'possibly',\n",
              " 'practical',\n",
              " 'precious',\n",
              " 'precisely',\n",
              " 'preliminary',\n",
              " 'prepared',\n",
              " 'presented',\n",
              " 'presently',\n",
              " 'presumed',\n",
              " 'previous',\n",
              " 'previously',\n",
              " 'principle',\n",
              " 'probably',\n",
              " 'proceeds',\n",
              " 'prodigious',\n",
              " 'profound',\n",
              " 'projecting',\n",
              " 'prolonged',\n",
              " 'properly',\n",
              " 'published',\n",
              " 'quantity',\n",
              " 'question',\n",
              " 'reaching',\n",
              " 'reasonable',\n",
              " 'received',\n",
              " 'receiving',\n",
              " 'recognised',\n",
              " 'reference',\n",
              " 'regarded',\n",
              " 'regularly',\n",
              " 'relieved',\n",
              " 'remained',\n",
              " 'remaining',\n",
              " 'remarkable',\n",
              " 'remember',\n",
              " 'remotest',\n",
              " 'repeated',\n",
              " 'reserved',\n",
              " 'resolved',\n",
              " 'respects',\n",
              " 'retained',\n",
              " 'returned',\n",
              " 'revealed',\n",
              " 'revolving',\n",
              " 'scarcely',\n",
              " 'scattered',\n",
              " 'scientific',\n",
              " 'seemingly',\n",
              " 'sensible',\n",
              " 'separate',\n",
              " 'shipmate',\n",
              " 'shipmates',\n",
              " 'shoulder',\n",
              " 'shoulders',\n",
              " 'shuddering',\n",
              " 'sideways',\n",
              " 'significant',\n",
              " 'silently',\n",
              " 'simultaneously',\n",
              " 'singular',\n",
              " 'skeleton',\n",
              " 'sleeping',\n",
              " 'slightest',\n",
              " 'slightly',\n",
              " 'slouched',\n",
              " 'smallest',\n",
              " 'snatching',\n",
              " 'solemnly',\n",
              " 'solitary',\n",
              " 'something',\n",
              " 'sometimes',\n",
              " 'somewhat',\n",
              " 'somewhere',\n",
              " 'sounding',\n",
              " 'sparkling',\n",
              " 'speaking',\n",
              " 'specially',\n",
              " 'specific',\n",
              " 'spermaceti',\n",
              " 'spiritual',\n",
              " 'spouting',\n",
              " 'standing',\n",
              " 'starboard',\n",
              " 'starting',\n",
              " 'steadily',\n",
              " 'steering',\n",
              " 'stopping',\n",
              " 'straight',\n",
              " 'straightway',\n",
              " 'strained',\n",
              " 'stranded',\n",
              " 'strangely',\n",
              " 'stranger',\n",
              " 'strength',\n",
              " 'stretched',\n",
              " 'stricken',\n",
              " 'striking',\n",
              " 'stripped',\n",
              " 'striving',\n",
              " 'strongly',\n",
              " 'submerged',\n",
              " 'subsequent',\n",
              " 'substance',\n",
              " 'succeeded',\n",
              " 'suddenly',\n",
              " 'sufficiently',\n",
              " 'superior',\n",
              " 'superstitious',\n",
              " 'supplied',\n",
              " 'supposed',\n",
              " 'surprise',\n",
              " 'surrounded',\n",
              " 'suspended',\n",
              " 'swallowed',\n",
              " 'sweeping',\n",
              " 'swimming',\n",
              " 'swinging',\n",
              " 'taffrail',\n",
              " 'tambourine',\n",
              " 'tapering',\n",
              " 'tattooed',\n",
              " 'temporarily',\n",
              " 'temporary',\n",
              " 'terrible',\n",
              " 'terrific',\n",
              " 'themselves',\n",
              " 'therefore',\n",
              " 'thinking',\n",
              " 'thoughts',\n",
              " 'thousand',\n",
              " 'thousands',\n",
              " 'throughout',\n",
              " 'throwing',\n",
              " 'thrusting',\n",
              " 'together',\n",
              " 'tomahawk',\n",
              " 'tormented',\n",
              " 'touching',\n",
              " 'traditions',\n",
              " 'transparent',\n",
              " 'traveller',\n",
              " 'tremendous',\n",
              " 'troubled',\n",
              " 'trowsers',\n",
              " 'tumultuous',\n",
              " 'unaccountable',\n",
              " 'uncertain',\n",
              " 'uncommon',\n",
              " 'understand',\n",
              " 'unearthly',\n",
              " 'universal',\n",
              " 'unnatural',\n",
              " 'unspeakable',\n",
              " 'uplifted',\n",
              " 'valuable',\n",
              " 'velocity',\n",
              " 'venerable',\n",
              " 'vengeance',\n",
              " 'vertebrae',\n",
              " 'vicinity',\n",
              " 'vigorous',\n",
              " 'violently',\n",
              " 'vitality',\n",
              " 'vocation',\n",
              " 'watching',\n",
              " 'whalebone',\n",
              " 'whaleman',\n",
              " 'whalemen',\n",
              " 'whatever',\n",
              " 'whenever',\n",
              " 'whispered',\n",
              " 'whiteness',\n",
              " 'windlass',\n",
              " 'windward',\n",
              " 'withdrawing',\n",
              " 'withstand',\n",
              " 'wonderful',\n",
              " 'wondrous',\n",
              " 'wrinkled',\n",
              " 'wrinkles',\n",
              " 'yesterday',\n",
              " 'yourself']"
            ]
          },
          "metadata": {
            "tags": []
          },
          "execution_count": 38
        }
      ]
    },
    {
      "cell_type": "markdown",
      "metadata": {
        "id": "Vouw32KQoHiN"
      },
      "source": [
        "A collocation is a sequence of words that occur together unusually often. Example - red wine. They are resistant to substitution with words that have similar senses. Example - maroon wine. List of word pairs is called bigrams. Collocations are essentially just frequent bigrams."
      ]
    },
    {
      "cell_type": "code",
      "metadata": {
        "colab": {
          "base_uri": "https://localhost:8080/"
        },
        "id": "4ufgK8-KmIDA",
        "outputId": "e4ab7b89-b035-466e-d235-4402d68f2dd7"
      },
      "source": [
        "text4.collocations() # Helps in finding genre of text"
      ],
      "execution_count": 39,
      "outputs": [
        {
          "output_type": "stream",
          "text": [
            "United States; fellow citizens; four years; years ago; Federal\n",
            "Government; General Government; American people; Vice President; God\n",
            "bless; Chief Justice; Old World; Almighty God; Fellow citizens; Chief\n",
            "Magistrate; every citizen; one another; fellow Americans; Indian\n",
            "tribes; public debt; foreign nations\n"
          ],
          "name": "stdout"
        }
      ]
    },
    {
      "cell_type": "code",
      "metadata": {
        "colab": {
          "base_uri": "https://localhost:8080/"
        },
        "id": "m_vpJfAtozUY",
        "outputId": "f4143c2d-718c-46da-85ee-9f4def536f6a"
      },
      "source": [
        "text8.collocations()"
      ],
      "execution_count": 40,
      "outputs": [
        {
          "output_type": "stream",
          "text": [
            "would like; medium build; social drinker; quiet nights; non smoker;\n",
            "long term; age open; Would like; easy going; financially secure; fun\n",
            "times; similar interests; Age open; weekends away; poss rship; well\n",
            "presented; never married; single mum; permanent relationship; slim\n",
            "build\n"
          ],
          "name": "stdout"
        }
      ]
    },
    {
      "cell_type": "code",
      "metadata": {
        "colab": {
          "base_uri": "https://localhost:8080/"
        },
        "id": "XvSeqQ7spBrj",
        "outputId": "1a49f0c8-bea9-4d4e-ed21-2a7c9f740158"
      },
      "source": [
        "# Counting the number of different length words\r\n",
        "\r\n",
        "fdist = FreqDist([len(word) for word in text1])\r\n",
        "fdist.keys()"
      ],
      "execution_count": 41,
      "outputs": [
        {
          "output_type": "execute_result",
          "data": {
            "text/plain": [
              "dict_keys([1, 4, 2, 6, 8, 9, 11, 5, 7, 3, 10, 12, 13, 14, 16, 15, 17, 18, 20])"
            ]
          },
          "metadata": {
            "tags": []
          },
          "execution_count": 41
        }
      ]
    },
    {
      "cell_type": "code",
      "metadata": {
        "colab": {
          "base_uri": "https://localhost:8080/"
        },
        "id": "ftK_6P5MsksS",
        "outputId": "0575fc05-bc1d-46d6-abee-bd5e0ac7cf0a"
      },
      "source": [
        "fdist.items()"
      ],
      "execution_count": 42,
      "outputs": [
        {
          "output_type": "execute_result",
          "data": {
            "text/plain": [
              "dict_items([(1, 47933), (4, 42345), (2, 38513), (6, 17111), (8, 9966), (9, 6428), (11, 1873), (5, 26597), (7, 14399), (3, 50223), (10, 3528), (12, 1053), (13, 567), (14, 177), (16, 22), (15, 70), (17, 12), (18, 1), (20, 1)])"
            ]
          },
          "metadata": {
            "tags": []
          },
          "execution_count": 42
        }
      ]
    },
    {
      "cell_type": "code",
      "metadata": {
        "colab": {
          "base_uri": "https://localhost:8080/"
        },
        "id": "h1sZQS-Ls5qc",
        "outputId": "127b7081-aa22-4274-acfe-34cacfc0ecb6"
      },
      "source": [
        "fdist.max()"
      ],
      "execution_count": 43,
      "outputs": [
        {
          "output_type": "execute_result",
          "data": {
            "text/plain": [
              "3"
            ]
          },
          "metadata": {
            "tags": []
          },
          "execution_count": 43
        }
      ]
    },
    {
      "cell_type": "code",
      "metadata": {
        "colab": {
          "base_uri": "https://localhost:8080/"
        },
        "id": "Sw2exbKps71U",
        "outputId": "2ee88283-0e5e-4a2e-d370-af86aa137393"
      },
      "source": [
        "fdist.freq(3) # Around 20% of words are of length 3"
      ],
      "execution_count": 44,
      "outputs": [
        {
          "output_type": "execute_result",
          "data": {
            "text/plain": [
              "0.19255882431878046"
            ]
          },
          "metadata": {
            "tags": []
          },
          "execution_count": 44
        }
      ]
    },
    {
      "cell_type": "markdown",
      "metadata": {
        "id": "BiHaDOEgtq-u"
      },
      "source": [
        "![Screenshot (25).png](data:image/png;base64,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)\r\n",
        "\r\n",
        "Word Sense Disambiguation - which sense of a word was intended\r\n",
        "in a given context. Example - bank (blood bank, SBI bank)\r\n",
        "\r\n",
        "Pronoun Resolution - detect subjects and objects of verb. Anaphora Resolution and Semantic Role Labeling are the techniques used to tackle this problem.\r\n",
        "\r\n",
        "a. The thieves stole the paintings. They were subsequently sold.\r\n",
        "\r\n",
        "b. The thieves stole the paintings. They were subsequently caught.\r\n",
        "\r\n",
        "c. The thieves stole the paintings. They were subsequently found.\r\n",
        "\r\n",
        "Machine Translation and Question Answering\r\n",
        "\r\n",
        "Machine translation is difficult because a given word could have several possible translations (depending on its meaning), and because word order must be changed in keeping with the grammatical structure of the target language."
      ]
    },
    {
      "cell_type": "code",
      "metadata": {
        "id": "xIrcQ-Wz4x4y"
      },
      "source": [
        ""
      ],
      "execution_count": null,
      "outputs": []
    }
  ]
}