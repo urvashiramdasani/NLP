{
  "nbformat": 4,
  "nbformat_minor": 0,
  "metadata": {
    "kernelspec": {
      "language": "python",
      "display_name": "Python 3",
      "name": "python3"
    },
    "language_info": {
      "pygments_lexer": "ipython3",
      "nbconvert_exporter": "python",
      "version": "3.6.4",
      "file_extension": ".py",
      "codemirror_mode": {
        "name": "ipython",
        "version": 3
      },
      "name": "python",
      "mimetype": "text/x-python"
    },
    "colab": {
      "name": "Word2Vec.ipynb",
      "provenance": [],
      "collapsed_sections": [],
      "machine_shape": "hm",
      "include_colab_link": true
    }
  },
  "cells": [
    {
      "cell_type": "markdown",
      "metadata": {
        "id": "view-in-github",
        "colab_type": "text"
      },
      "source": [
        "<a href=\"https://colab.research.google.com/github/urvashiramdasani/NLP/blob/main/Word2Vec.ipynb\" target=\"_parent\"><img src=\"https://colab.research.google.com/assets/colab-badge.svg\" alt=\"Open In Colab\"/></a>"
      ]
    },
    {
      "cell_type": "code",
      "metadata": {
        "colab": {
          "base_uri": "https://localhost:8080/"
        },
        "id": "FVrCSDtB0TPj",
        "outputId": "74f76dbe-2f2e-4f17-8128-a26140e0cc81"
      },
      "source": [
        "import itertools\r\n",
        "\r\n",
        "animals = ['cat','dog','goat','elephant','eagle','zebra','rhino', 'hippo']\r\n",
        "actions = ['sat','stood','jumped','slept']\r\n",
        "furniture = ['mat','rug','sofa','bed']\r\n",
        "\r\n",
        "# Generate all combinations of animal, action and furniture\r\n",
        "animal_corpus = ['The {} {} on the {}'.format(x[0], x[1], x[2]) for x in itertools.product(animals, actions, furniture)]\r\n",
        "vocabulary_size = len(animals) + len(actions) + len(furniture) + 2\r\n",
        "\r\n",
        "print(\"There are {} sentences in the corpus, with a vocabulary of {} words\".format(len(animal_corpus), vocabulary_size))"
      ],
      "execution_count": 1,
      "outputs": [
        {
          "output_type": "stream",
          "text": [
            "There are 128 sentences in the corpus, with a vocabulary of 18 words\n"
          ],
          "name": "stdout"
        }
      ]
    },
    {
      "cell_type": "code",
      "metadata": {
        "colab": {
          "base_uri": "https://localhost:8080/"
        },
        "id": "CApsutn80V7b",
        "outputId": "77326bb6-4731-4690-a85b-8eed64efa0b1"
      },
      "source": [
        "from keras.preprocessing.text import Tokenizer\r\n",
        "from keras.preprocessing.sequence import skipgrams\r\n",
        "import numpy as np\r\n",
        "\r\n",
        "# Hyper-parameters\r\n",
        "\r\n",
        "EMBEDDING_SIZE = 7  # Small corpus, so we're using a small dimension\r\n",
        "WINDOW_SIZE = 2     # Empirically found to work well. Initial value 4\r\n",
        "\r\n",
        "# Convert text to numerical sequences\r\n",
        "\r\n",
        "# Note that the Tokenizer starts numbering words with 1.  So we have vocabulary_size+1 words.  The 0-th word\r\n",
        "# is considered to be the 'Out-of-vocabulary' token.\r\n",
        "tokenizer = Tokenizer(num_words=vocabulary_size+1, filters='!\"#$%&()*+,-./:;<=>?@[\\]^_`{|}~ ', lower=True, split=' ',)\r\n",
        "tokenizer.fit_on_texts(animal_corpus)\r\n",
        "sequences = tokenizer.texts_to_sequences(animal_corpus)\r\n",
        "\r\n",
        "# Generate (target, context) pairs with negative sampling\r\n",
        "\r\n",
        "pairs = []\r\n",
        "labels = []\r\n",
        "\r\n",
        "for this_sequence in sequences:\r\n",
        "    # Again note the vocabulary_size+1 expression\r\n",
        "    c, l = skipgrams(this_sequence, vocabulary_size+1, window_size=WINDOW_SIZE, negative_samples=1, shuffle=True)\r\n",
        "    for i in range(len(c)):\r\n",
        "        pairs.append(c[i])\r\n",
        "        labels.append(l[i])\r\n",
        "pairs = np.array(pairs)\r\n",
        "labels = np.array(labels)\r\n",
        "    \r\n",
        "print(\"There are {} (context,target) pairs in the dataset\".format(len(pairs)))"
      ],
      "execution_count": 2,
      "outputs": [
        {
          "output_type": "stream",
          "text": [
            "There are 4608 (context,target) pairs in the dataset\n"
          ],
          "name": "stdout"
        }
      ]
    },
    {
      "cell_type": "code",
      "metadata": {
        "colab": {
          "base_uri": "https://localhost:8080/"
        },
        "id": "0RDbzhhq0YRg",
        "outputId": "4b9b50b9-8ade-4dd5-ccc0-19e355596034"
      },
      "source": [
        "from keras.layers import Embedding, Input, Dense, Reshape\r\n",
        "from keras.layers.merge import Dot, Concatenate, Add, Maximum, Minimum, Average, Multiply, Subtract\r\n",
        "from keras.models import Model\r\n",
        "from keras.optimizers import RMSprop, Adadelta, Adagrad, Adam, Adamax, Nadam, Ftrl, SGD\r\n",
        "\r\n",
        "\r\n",
        "\r\n",
        "target_word = Input((1,))\r\n",
        "context_word = Input((1,))\r\n",
        "\r\n",
        "# An embedding layer is just a lookup table - a matrix of size vocabulary_size x EMBEDDING_SIZE\r\n",
        "# We select input_length rows from this matrix\r\n",
        "\r\n",
        "embedding_layer = Embedding(vocabulary_size + 1, EMBEDDING_SIZE, input_length = 1, name = 'embedding_layer') ##TODO## :  Add embedding layer nambed 'embedding_layer'.  Remember to add 1 to the vocabulary size!\r\n",
        "\r\n",
        "# Expect an output of similarity score between 0 and 1\r\n",
        "output_layer = Dense(1, activation='sigmoid')\r\n",
        "\r\n",
        "# Select the row indexed by target_word, reshape it for convenience\r\n",
        "target_embedding = embedding_layer(target_word)\r\n",
        "target_embedding = Reshape((EMBEDDING_SIZE,))(target_embedding)\r\n",
        "\r\n",
        "# Select the row indexed by context_word, reshape it for convenience\r\n",
        "context_embedding = embedding_layer(context_word)\r\n",
        "context_embedding = Reshape((EMBEDDING_SIZE,))(context_embedding)\r\n",
        "\r\n",
        "\r\n",
        "# Perform the dot product on the two embeddings, and run through the output sigmoid \r\n",
        "output = Dot(axes = 1)([target_embedding, context_embedding]) ##TODO## : Add dot product layer\r\n",
        "\r\n",
        "output = output_layer(output)\r\n",
        "    \r\n",
        "# Setup a model for training\r\n",
        "model = Model(inputs=[target_word, context_word], outputs=output)\r\n",
        "\r\n",
        "optimizer = RMSprop(lr=0.001, rho=0.99)\r\n",
        "model.compile(loss='binary_crossentropy', optimizer=optimizer)\r\n",
        "\r\n",
        "model.summary()"
      ],
      "execution_count": 3,
      "outputs": [
        {
          "output_type": "stream",
          "text": [
            "Model: \"model\"\n",
            "__________________________________________________________________________________________________\n",
            "Layer (type)                    Output Shape         Param #     Connected to                     \n",
            "==================================================================================================\n",
            "input_1 (InputLayer)            [(None, 1)]          0                                            \n",
            "__________________________________________________________________________________________________\n",
            "input_2 (InputLayer)            [(None, 1)]          0                                            \n",
            "__________________________________________________________________________________________________\n",
            "embedding_layer (Embedding)     (None, 1, 7)         133         input_1[0][0]                    \n",
            "                                                                 input_2[0][0]                    \n",
            "__________________________________________________________________________________________________\n",
            "reshape (Reshape)               (None, 7)            0           embedding_layer[0][0]            \n",
            "__________________________________________________________________________________________________\n",
            "reshape_1 (Reshape)             (None, 7)            0           embedding_layer[1][0]            \n",
            "__________________________________________________________________________________________________\n",
            "dot (Dot)                       (None, 1)            0           reshape[0][0]                    \n",
            "                                                                 reshape_1[0][0]                  \n",
            "__________________________________________________________________________________________________\n",
            "dense (Dense)                   (None, 1)            2           dot[0][0]                        \n",
            "==================================================================================================\n",
            "Total params: 135\n",
            "Trainable params: 135\n",
            "Non-trainable params: 0\n",
            "__________________________________________________________________________________________________\n"
          ],
          "name": "stdout"
        }
      ]
    },
    {
      "cell_type": "code",
      "metadata": {
        "colab": {
          "base_uri": "https://localhost:8080/"
        },
        "id": "C_Q-zjv-0ako",
        "outputId": "0852f2ba-20a6-4612-f617-1b773557cd12"
      },
      "source": [
        "# Only print the results after this many epochs\r\n",
        "INTERNAL_EPOCHS = 100\r\n",
        "\r\n",
        "TOTAL_EPOCHS = 1500\r\n",
        "\r\n",
        "def train(X,y):\r\n",
        "    for index in range(int(TOTAL_EPOCHS / INTERNAL_EPOCHS)):\r\n",
        "        h = model.fit(x=X, y=y, batch_size=256, epochs=INTERNAL_EPOCHS, verbose=0)\r\n",
        "        print('Epoch {} - loss {}'.format((index + 1) * INTERNAL_EPOCHS, h.history['loss'][-1]))\r\n",
        "\r\n",
        "train([pairs[:,0], pairs[:,1]], labels)        \r\n"
      ],
      "execution_count": 4,
      "outputs": [
        {
          "output_type": "stream",
          "text": [
            "Epoch 100 - loss 0.533477246761322\n",
            "Epoch 200 - loss 0.5298049449920654\n",
            "Epoch 300 - loss 0.5288598537445068\n",
            "Epoch 400 - loss 0.5283042788505554\n",
            "Epoch 500 - loss 0.5279319286346436\n",
            "Epoch 600 - loss 0.5276448726654053\n",
            "Epoch 700 - loss 0.5273759365081787\n",
            "Epoch 800 - loss 0.5273505449295044\n",
            "Epoch 900 - loss 0.5272536873817444\n",
            "Epoch 1000 - loss 0.527176558971405\n",
            "Epoch 1100 - loss 0.5271828174591064\n",
            "Epoch 1200 - loss 0.5272847414016724\n",
            "Epoch 1300 - loss 0.5271743535995483\n",
            "Epoch 1400 - loss 0.527154266834259\n",
            "Epoch 1500 - loss 0.5271297693252563\n"
          ],
          "name": "stdout"
        }
      ]
    },
    {
      "cell_type": "code",
      "metadata": {
        "colab": {
          "base_uri": "https://localhost:8080/",
          "height": 607
        },
        "id": "gMIsAzAP0c2i",
        "outputId": "72c506e1-c189-4a65-c69d-e0b85e626c1e"
      },
      "source": [
        "%matplotlib inline\r\n",
        "from sklearn.decomposition import PCA\r\n",
        "from matplotlib import pyplot as plt\r\n",
        "\r\n",
        "\r\n",
        "category_colors = {'animals' : 'green', \r\n",
        "                   'actions' : 'blue',\r\n",
        "                   'furniture' : 'yellow'}\r\n",
        "\r\n",
        "colors = []\r\n",
        "for i in range(vocabulary_size):\r\n",
        "    colors.append('red')\r\n",
        "    \r\n",
        "for word in tokenizer.word_index:\r\n",
        "    index = tokenizer.word_index[word] -1\r\n",
        "    if word in animals:\r\n",
        "        colors[index] = category_colors['animals']\r\n",
        "    elif word in actions:\r\n",
        "        colors[index] = category_colors['actions']\r\n",
        "    elif word in furniture:\r\n",
        "        colors[index] = category_colors['furniture']\r\n",
        "        \r\n",
        "def plot_embeddings_after_pca(vectors):  \r\n",
        "        \"\"\"\r\n",
        "        Perform PCA and plot the resulting 2 components on X and Y axis\r\n",
        "        Args:\r\n",
        "          embedding_weights - the set of vectors to \r\n",
        "        \"\"\"\r\n",
        "        pca = PCA(n_components=2)\r\n",
        "        vectors_pca = pca.fit_transform(vectors)\r\n",
        "        plt.figure(figsize=(20,10))\r\n",
        "        \r\n",
        "        # We do not draw the first element, which is the 'Out-of-Vocabulary' token\r\n",
        "        plt.scatter(vectors_pca[1:,0], vectors_pca[1:,1], c=colors, s=100, alpha=0.3);\r\n",
        "        plt.title('Embeddings after PCA')\r\n",
        "        legend_elements = [\r\n",
        "                    plt.Line2D([0], [0], marker='o', color=category_colors['animals'], label='Animals'),\r\n",
        "                    plt.Line2D([0], [0], marker='o', color=category_colors['actions'], label='Actions'),\r\n",
        "                    plt.Line2D([0], [0], marker='o', color=category_colors['furniture'], label='Furniture'),\r\n",
        "                    plt.Line2D([0], [0], marker='o', color='red', label='Other'),\r\n",
        "                  ]\r\n",
        "\r\n",
        "        # Create the figure\r\n",
        "        plt.legend(handles=legend_elements);\r\n",
        "\r\n",
        "        \r\n",
        "plot_embeddings_after_pca(model.get_layer('embedding_layer').get_weights()[0])"
      ],
      "execution_count": 5,
      "outputs": [
        {
          "output_type": "display_data",
          "data": {
            "image/png": "[encoded data removed]",
            "text/plain": [
              "<Figure size 1440x720 with 1 Axes>"
            ]
          },
          "metadata": {
            "tags": [],
            "needs_background": "light"
          }
        }
      ]
    },
    {
      "cell_type": "code",
      "metadata": {
        "id": "rIWweaV_1U0M"
      },
      "source": [
        ""
      ],
      "execution_count": null,
      "outputs": []
    }
  ]
}