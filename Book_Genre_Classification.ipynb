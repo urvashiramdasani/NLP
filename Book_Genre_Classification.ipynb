{
  "nbformat": 4,
  "nbformat_minor": 0,
  "metadata": {
    "colab": {
      "name": "Book-Genre-Classification.ipynb",
      "provenance": [],
      "collapsed_sections": [
        "zUebXMa_-wSu"
      ],
      "include_colab_link": true
    },
    "kernelspec": {
      "display_name": "Python 3",
      "name": "python3"
    }
  },
  "cells": [
    {
      "cell_type": "markdown",
      "metadata": {
        "id": "view-in-github",
        "colab_type": "text"
      },
      "source": [
        "<a href=\"https://colab.research.google.com/github/urvashiramdasani/NLP/blob/main/Book_Genre_Classification.ipynb\" target=\"_parent\"><img src=\"https://colab.research.google.com/assets/colab-badge.svg\" alt=\"Open In Colab\"/></a>"
      ]
    },
    {
      "cell_type": "markdown",
      "metadata": {
        "id": "E4YcWVoh0eSw"
      },
      "source": [
        "This Notebook consists of the code for Book-Genre-Classification. It has been developed as a part of Software Engineering Project. It would be then deployed on Django network. A user has to upload a scanned image of the book cover he wants to sell. Our model will predict the genre of the book by processing the book cover and will auto label the book.\n",
        "\n",
        "We have used this link to implement this model : https://github.com/akarasman/gutenberg-book-titles-genre-classification/blob/master/gutenberg-book-title-classification.ipynb"
      ]
    },
    {
      "cell_type": "markdown",
      "metadata": {
        "id": "t4TDOV9m-0mh"
      },
      "source": [
        "## Using NLP"
      ]
    },
    {
      "cell_type": "code",
      "metadata": {
        "id": "DKdDzjIJabo_",
        "colab": {
          "base_uri": "https://localhost:8080/"
        },
        "outputId": "2391cd64-9e13-4603-f44a-818c0597e4ae"
      },
      "source": [
        "import pandas as pd\n",
        "dataset = pd.read_csv(\"https://raw.githubusercontent.com/urvashiramdasani/Online-Book-Exchange-Portal/master/Dataset/books.csv\", \n",
        "                   encoding=\"ISO-8859-1\")\n",
        "dataset.groupby('category').count()['name']"
      ],
      "execution_count": null,
      "outputs": [
        {
          "output_type": "execute_result",
          "data": {
            "text/plain": [
              "category\n",
              "Calendars                       2636\n",
              "Comics & Graphic Novels         3026\n",
              "Mystery, Thriller & Suspense    1998\n",
              "Romance                          724\n",
              "Science Fiction & Fantasy       3800\n",
              "Test Preparation                2906\n",
              "Name: name, dtype: int64"
            ]
          },
          "metadata": {
            "tags": []
          },
          "execution_count": 9
        }
      ]
    },
    {
      "cell_type": "code",
      "metadata": {
        "id": "cvzVklFQcAgR",
        "colab": {
          "base_uri": "https://localhost:8080/"
        },
        "outputId": "9bd73f9d-32e7-48b8-834f-c816ff49e7e2"
      },
      "source": [
        "import nltk\n",
        "nltk.download('stopwords')"
      ],
      "execution_count": null,
      "outputs": [
        {
          "output_type": "stream",
          "text": [
            "[nltk_data] Downloading package stopwords to /root/nltk_data...\n",
            "[nltk_data]   Unzipping corpora/stopwords.zip.\n"
          ],
          "name": "stdout"
        },
        {
          "output_type": "execute_result",
          "data": {
            "text/plain": [
              "True"
            ]
          },
          "metadata": {
            "tags": []
          },
          "execution_count": 2
        }
      ]
    },
    {
      "cell_type": "code",
      "metadata": {
        "id": "JZ9TPm70YKpv",
        "colab": {
          "base_uri": "https://localhost:8080/"
        },
        "outputId": "8e637b24-8d56-4dbb-a363-8aa5d5eb466d"
      },
      "source": [
        "import concurrent.futures\n",
        "import re\n",
        "from tqdm import tqdm\n",
        "from nltk.corpus import stopwords\n",
        "from nltk.stem.porter import PorterStemmer\n",
        "\n",
        "corpus = []\n",
        "with concurrent.futures.ProcessPoolExecutor() as executor:\n",
        "    for i in tqdm(range(0, dataset.shape[0])):\n",
        "        book = re.sub('[^a-zA-Z]', ' ', dataset['name'][i]) # Filter non alphabetical chars\n",
        "        book = book.lower() # Convert to lowercase\n",
        "        book = book.split() # Split on spaces\n",
        "        ps = PorterStemmer() # Stem\n",
        "        book = [ps.stem(word) for word in book if not word in set(stopwords.words('english'))]\n",
        "        book = ' '.join(book) \n",
        "        corpus.append(book)"
      ],
      "execution_count": null,
      "outputs": [
        {
          "output_type": "stream",
          "text": [
            "100%|██████████| 15091/15091 [00:16<00:00, 888.83it/s] \n"
          ],
          "name": "stderr"
        }
      ]
    },
    {
      "cell_type": "code",
      "metadata": {
        "id": "gbsJhaAt3KI5",
        "colab": {
          "base_uri": "https://localhost:8080/"
        },
        "outputId": "15b5aa40-8f0b-48c7-df99-224d3e88ea82"
      },
      "source": [
        "from sklearn.feature_extraction.text import TfidfVectorizer\n",
        "import pickle\n",
        "import joblib\n",
        "vectorizer = TfidfVectorizer()\n",
        "X = vectorizer.fit_transform(corpus)\n",
        "# file = open(\"vectorizer.pkl\", 'w')\n",
        "# pickle.dump(X, file)\n",
        "joblib.dump(X, 'vectorizer.joblib')"
      ],
      "execution_count": null,
      "outputs": [
        {
          "output_type": "execute_result",
          "data": {
            "text/plain": [
              "['vectorizer.joblib']"
            ]
          },
          "metadata": {
            "tags": []
          },
          "execution_count": 11
        }
      ]
    },
    {
      "cell_type": "code",
      "metadata": {
        "colab": {
          "base_uri": "https://localhost:8080/",
          "height": 201
        },
        "id": "hgHoTbs3ApvL",
        "outputId": "2e4ff48b-a2c3-4279-ded1-9fa7ef5a17a3"
      },
      "source": [
        "from nltk.stem.porter import PorterStemmer\n",
        "from nltk.corpus import stopwords\n",
        "import pickle\n",
        "\n",
        "title = \"Coronavirus Update\"\n",
        "title = title.lower()\n",
        "title = title.split()\n",
        "ps = PorterStemmer()\n",
        "title = [ps.stem(word) for word in title if not word in set(stopwords.words('english'))]\n",
        "title = ' '.join(title)\n",
        "import joblib\n",
        "file = joblib.load(\"vectorizer.joblib\")\n",
        "# x = file.transform([title])\n",
        "model = open(\"model.pkl\", \"rb\")\n",
        "model = pickle.load(model)\n",
        "model.predict(title.reshape(-1, 1))"
      ],
      "execution_count": null,
      "outputs": [
        {
          "output_type": "error",
          "ename": "AttributeError",
          "evalue": "ignored",
          "traceback": [
            "\u001b[0;31m---------------------------------------------------------------------------\u001b[0m",
            "\u001b[0;31mAttributeError\u001b[0m                            Traceback (most recent call last)",
            "\u001b[0;32m<ipython-input-16-4474f045b81d>\u001b[0m in \u001b[0;36m<module>\u001b[0;34m()\u001b[0m\n\u001b[1;32m     14\u001b[0m \u001b[0mmodel\u001b[0m \u001b[0;34m=\u001b[0m \u001b[0mopen\u001b[0m\u001b[0;34m(\u001b[0m\u001b[0;34m\"model.pkl\"\u001b[0m\u001b[0;34m,\u001b[0m \u001b[0;34m\"rb\"\u001b[0m\u001b[0;34m)\u001b[0m\u001b[0;34m\u001b[0m\u001b[0;34m\u001b[0m\u001b[0m\n\u001b[1;32m     15\u001b[0m \u001b[0mmodel\u001b[0m \u001b[0;34m=\u001b[0m \u001b[0mpickle\u001b[0m\u001b[0;34m.\u001b[0m\u001b[0mload\u001b[0m\u001b[0;34m(\u001b[0m\u001b[0mmodel\u001b[0m\u001b[0;34m)\u001b[0m\u001b[0;34m\u001b[0m\u001b[0;34m\u001b[0m\u001b[0m\n\u001b[0;32m---> 16\u001b[0;31m \u001b[0mmodel\u001b[0m\u001b[0;34m.\u001b[0m\u001b[0mpredict\u001b[0m\u001b[0;34m(\u001b[0m\u001b[0mtitle\u001b[0m\u001b[0;34m.\u001b[0m\u001b[0mreshape\u001b[0m\u001b[0;34m(\u001b[0m\u001b[0;34m-\u001b[0m\u001b[0;36m1\u001b[0m\u001b[0;34m,\u001b[0m \u001b[0;36m1\u001b[0m\u001b[0;34m)\u001b[0m\u001b[0;34m)\u001b[0m\u001b[0;34m\u001b[0m\u001b[0;34m\u001b[0m\u001b[0m\n\u001b[0m",
            "\u001b[0;31mAttributeError\u001b[0m: 'str' object has no attribute 'reshape'"
          ]
        }
      ]
    },
    {
      "cell_type": "code",
      "metadata": {
        "id": "HTDQ4uRyrESV",
        "colab": {
          "base_uri": "https://localhost:8080/",
          "height": 901
        },
        "outputId": "1ac6f9ed-9759-46ad-b0cd-38b2c665acf9"
      },
      "source": [
        "print(X)"
      ],
      "execution_count": null,
      "outputs": [
        {
          "output_type": "stream",
          "text": [
            "  (0, 1186)\t0.26057789048856567\n",
            "  (0, 9133)\t0.3350578148663078\n",
            "  (0, 2990)\t0.5664980570766057\n",
            "  (0, 5494)\t0.7063394191279252\n",
            "  (1, 6715)\t0.6124202913104387\n",
            "  (1, 2446)\t0.7118053576659301\n",
            "  (1, 1186)\t0.21112927574831286\n",
            "  (1, 9133)\t0.27147550259886694\n",
            "  (2, 1891)\t0.3659639515028605\n",
            "  (2, 7820)\t0.4451138338531303\n",
            "  (2, 847)\t0.30042652707110906\n",
            "  (2, 4741)\t0.3820595449294741\n",
            "  (2, 5874)\t0.4007540376484067\n",
            "  (2, 9211)\t0.3413368944537036\n",
            "  (2, 5491)\t0.3931968881698531\n",
            "  (3, 2118)\t0.39724164875808626\n",
            "  (3, 6102)\t0.5213350679577673\n",
            "  (3, 1647)\t0.5119511382915182\n",
            "  (3, 1293)\t0.49656895895938835\n",
            "  (3, 1186)\t0.24846351927282156\n",
            "  (4, 2742)\t0.4578066489933878\n",
            "  (4, 1577)\t0.5184375602677769\n",
            "  (4, 7663)\t0.6881070169872471\n",
            "  (4, 1186)\t0.21941809727994785\n",
            "  (5, 9277)\t0.5560378177261882\n",
            "  :\t:\n",
            "  (15084, 8762)\t0.5097344692435538\n",
            "  (15085, 6138)\t0.7341182703646624\n",
            "  (15085, 7126)\t0.6790216234530358\n",
            "  (15086, 7454)\t0.3753931240579957\n",
            "  (15086, 5881)\t0.16514775637862295\n",
            "  (15086, 2431)\t0.7507862481159914\n",
            "  (15086, 7503)\t0.18745808300814581\n",
            "  (15086, 847)\t0.48268592037463626\n",
            "  (15087, 9485)\t0.47260299767864\n",
            "  (15087, 2334)\t0.4535144832440197\n",
            "  (15087, 5312)\t0.4162088744796048\n",
            "  (15087, 6587)\t0.3947718616854486\n",
            "  (15087, 8072)\t0.28829121165977106\n",
            "  (15087, 5978)\t0.39847778781086396\n",
            "  (15088, 4086)\t0.6984078439846665\n",
            "  (15088, 7704)\t0.7156999954315284\n",
            "  (15089, 8741)\t0.6096011448530879\n",
            "  (15089, 2868)\t0.6333534011627256\n",
            "  (15089, 4969)\t0.4767073666615736\n",
            "  (15090, 7336)\t0.5490590777040082\n",
            "  (15090, 103)\t0.33556152713595316\n",
            "  (15090, 2801)\t0.39749119406441535\n",
            "  (15090, 1877)\t0.49838839068235313\n",
            "  (15090, 3000)\t0.2987053806422469\n",
            "  (15090, 106)\t0.3005286158532675\n"
          ],
          "name": "stdout"
        }
      ]
    },
    {
      "cell_type": "code",
      "metadata": {
        "id": "GNSaHYKq3V-D",
        "colab": {
          "base_uri": "https://localhost:8080/",
          "height": 35
        },
        "outputId": "53491d2c-9da0-4d9c-e4be-3da75daf8f72"
      },
      "source": [
        "from sklearn.preprocessing import LabelEncoder\n",
        "label_encoder = LabelEncoder()\n",
        "y = dataset['category'].values # Get target categories\n",
        "y[-1] = 'Romance'\n",
        "print(y, y.shape)\n",
        "y = label_encoder.fit_transform(y) # Encode category labels to integers"
      ],
      "execution_count": null,
      "outputs": [
        {
          "output_type": "stream",
          "text": [
            "['Calendars' 'Calendars' 'Calendars' ... 'Romance' 'Romance' 'Romance'] (15091,)\n"
          ],
          "name": "stdout"
        }
      ]
    },
    {
      "cell_type": "code",
      "metadata": {
        "id": "9t5M6Ubm3Zwb",
        "colab": {
          "base_uri": "https://localhost:8080/",
          "height": 35
        },
        "outputId": "7c297350-6e24-4943-abac-8e3586a61392"
      },
      "source": [
        "from sklearn.model_selection import train_test_split\n",
        "\n",
        "# Splitting the dataset into the Training set and Test set\n",
        "X_train, X_test, y_train, y_test = train_test_split(X, y, test_size = 0.01, random_state = 0)\n",
        "print(X_train.shape, X_test.shape)"
      ],
      "execution_count": null,
      "outputs": [
        {
          "output_type": "stream",
          "text": [
            "(14940, 9514) (151, 9514)\n"
          ],
          "name": "stdout"
        }
      ]
    },
    {
      "cell_type": "code",
      "metadata": {
        "id": "0lSwOjXH3fQI",
        "colab": {
          "base_uri": "https://localhost:8080/",
          "height": 139
        },
        "outputId": "e1d78710-5461-4d39-8e34-96b647cd6647"
      },
      "source": [
        "name_map = pd.DataFrame.from_dict(dict(zip(label_encoder.classes_, \n",
        "                                           label_encoder.transform(label_encoder.classes_))), \n",
        "                                  orient='index')\n",
        "print(name_map)"
      ],
      "execution_count": null,
      "outputs": [
        {
          "output_type": "stream",
          "text": [
            "                              0\n",
            "Calendars                     0\n",
            "Comics & Graphic Novels       1\n",
            "Mystery, Thriller & Suspense  2\n",
            "Romance                       3\n",
            "Science Fiction & Fantasy     4\n",
            "Test Preparation              5\n"
          ],
          "name": "stdout"
        }
      ]
    },
    {
      "cell_type": "code",
      "metadata": {
        "id": "Ew4hBN4s31Qh"
      },
      "source": [
        "## This import is useful later \n",
        "from sklearn.metrics import classification_report, accuracy_score"
      ],
      "execution_count": null,
      "outputs": []
    },
    {
      "cell_type": "code",
      "metadata": {
        "id": "lZPOyyKj32gv",
        "colab": {
          "base_uri": "https://localhost:8080/",
          "height": 485
        },
        "outputId": "f9909375-d3e6-4e4f-8143-48a0180f08ee"
      },
      "source": [
        "from sklearn.ensemble import RandomForestClassifier\n",
        "\n",
        "rf = RandomForestClassifier(n_estimators=50, max_depth=200, criterion='entropy', \n",
        "                                    warm_start=True, n_jobs=4, verbose=True)\n",
        "rf.fit(X_train, y_train)\n",
        "\n",
        "# Evaluate on train and test set\n",
        "print(\"Train set score:\", rf.score(X_train, y_train))\n",
        "print(\"Test set score:\", rf.score(X_test, y_test))\n",
        "\n",
        "# Generate classification report\n",
        "y_pred = rf.predict(X_test)\n",
        "print(classification_report(y_test.astype(int), y_pred))"
      ],
      "execution_count": null,
      "outputs": [
        {
          "output_type": "stream",
          "text": [
            "[Parallel(n_jobs=4)]: Using backend ThreadingBackend with 4 concurrent workers.\n",
            "[Parallel(n_jobs=4)]: Done  42 tasks      | elapsed:    4.8s\n",
            "[Parallel(n_jobs=4)]: Done  50 out of  50 | elapsed:    5.4s finished\n",
            "[Parallel(n_jobs=4)]: Using backend ThreadingBackend with 4 concurrent workers.\n",
            "[Parallel(n_jobs=4)]: Done  42 tasks      | elapsed:    0.2s\n",
            "[Parallel(n_jobs=4)]: Done  50 out of  50 | elapsed:    0.3s finished\n",
            "[Parallel(n_jobs=4)]: Using backend ThreadingBackend with 4 concurrent workers.\n",
            "[Parallel(n_jobs=4)]: Done  42 tasks      | elapsed:    0.0s\n",
            "[Parallel(n_jobs=4)]: Done  50 out of  50 | elapsed:    0.0s finished\n",
            "[Parallel(n_jobs=4)]: Using backend ThreadingBackend with 4 concurrent workers.\n",
            "[Parallel(n_jobs=4)]: Done  42 tasks      | elapsed:    0.0s\n",
            "[Parallel(n_jobs=4)]: Done  50 out of  50 | elapsed:    0.0s finished\n"
          ],
          "name": "stderr"
        },
        {
          "output_type": "stream",
          "text": [
            "Train set score: 0.9159127195316658\n",
            "Test set score: 0.7953216374269005\n",
            "              precision    recall  f1-score   support\n",
            "\n",
            "           0       1.00      0.91      0.95        33\n",
            "           1       0.88      0.85      0.86        26\n",
            "           2       0.69      0.69      0.69        16\n",
            "           3       0.79      0.39      0.52        28\n",
            "           4       0.59      0.90      0.71        39\n",
            "           5       1.00      0.93      0.96        29\n",
            "\n",
            "    accuracy                           0.80       171\n",
            "   macro avg       0.82      0.78      0.78       171\n",
            "weighted avg       0.82      0.80      0.79       171\n",
            "\n"
          ],
          "name": "stdout"
        }
      ]
    },
    {
      "cell_type": "code",
      "metadata": {
        "id": "B0o9-SMX4JN8",
        "colab": {
          "base_uri": "https://localhost:8080/",
          "height": 295
        },
        "outputId": "ee234837-58d9-4273-e5ec-7e6a170c5651"
      },
      "source": [
        "from xgboost import XGBClassifier\n",
        "import joblib\n",
        "\n",
        "xgb = XGBClassifier(max_depth=50, n_estimators=100, booster='gbtree',\n",
        "                            objective='reg:logistic', gamma=0.1, rate_drop=0.3, \n",
        "                            nthread=4, verbosity=0);\n",
        "xgb.fit(X_train, y_train)\n",
        "\n",
        "# Evaluate and dump\n",
        "print(\"Train set score:\", xgb.score(X_train, y_train))\n",
        "print(\"Test set score:\", xgb.score(X_test, y_test))\n",
        "# Generate classification report\n",
        "y_pred = xgb.predict(X_test)\n",
        "print(classification_report(y_test.astype(int), y_pred))\n",
        "\n",
        "# Save the model\n",
        "joblib.dump(name_map, './name_map.joblib', compress = True)\n",
        "joblib.dump(xgb, './gradient_boost.joblib', compress = True)"
      ],
      "execution_count": null,
      "outputs": [
        {
          "output_type": "stream",
          "text": [
            "Train set score: 0.9291834002677376\n",
            "Test set score: 0.8410596026490066\n",
            "              precision    recall  f1-score   support\n",
            "\n",
            "           0       1.00      1.00      1.00        28\n",
            "           1       0.87      0.79      0.83        34\n",
            "           2       0.58      0.54      0.56        13\n",
            "           3       0.50      0.29      0.36         7\n",
            "           4       0.69      0.85      0.76        34\n",
            "           5       1.00      0.97      0.99        35\n",
            "\n",
            "    accuracy                           0.84       151\n",
            "   macro avg       0.77      0.74      0.75       151\n",
            "weighted avg       0.84      0.84      0.84       151\n",
            "\n"
          ],
          "name": "stdout"
        },
        {
          "output_type": "execute_result",
          "data": {
            "text/plain": [
              "['./gradient_boost.joblib']"
            ]
          },
          "metadata": {
            "tags": []
          },
          "execution_count": 25
        }
      ]
    },
    {
      "cell_type": "code",
      "metadata": {
        "id": "pEuwYBUx4O00",
        "colab": {
          "base_uri": "https://localhost:8080/",
          "height": 277
        },
        "outputId": "a49ad4a2-4402-403a-e479-c7dce4b1415a"
      },
      "source": [
        "from sklearn.naive_bayes import MultinomialNB\n",
        "nb = MultinomialNB(alpha=0.1, fit_prior=True, class_prior=None)\n",
        "nb.fit(X_train, y_train)\n",
        "    \n",
        "# Evaluate and dump\n",
        "print(\"Train set score:\", nb.score(X_train, y_train))\n",
        "print(\"Test set score:\", nb.score(X_test, y_test))\n",
        "\n",
        "# Generate classification report\n",
        "y_pred = nb.predict(X_test)\n",
        "print(classification_report(y_test.astype(int), y_pred))"
      ],
      "execution_count": null,
      "outputs": [
        {
          "output_type": "stream",
          "text": [
            "Train set score: 0.9344805156407072\n",
            "Test set score: 0.8070175438596491\n",
            "              precision    recall  f1-score   support\n",
            "\n",
            "           0       0.89      0.94      0.91        33\n",
            "           1       0.79      0.85      0.81        26\n",
            "           2       0.69      0.69      0.69        16\n",
            "           3       0.77      0.61      0.68        28\n",
            "           4       0.72      0.72      0.72        39\n",
            "           5       0.94      1.00      0.97        29\n",
            "\n",
            "    accuracy                           0.81       171\n",
            "   macro avg       0.80      0.80      0.80       171\n",
            "weighted avg       0.80      0.81      0.80       171\n",
            "\n"
          ],
          "name": "stdout"
        }
      ]
    },
    {
      "cell_type": "code",
      "metadata": {
        "id": "KL3vcPAy4fIl",
        "colab": {
          "base_uri": "https://localhost:8080/",
          "height": 329
        },
        "outputId": "eaf92ac9-1d8d-44ad-ad83-05f8a6a5e1e9"
      },
      "source": [
        "from sklearn.linear_model import LogisticRegression\n",
        "lr = LogisticRegression(solver='sag',max_iter=200,random_state=450,\n",
        "                                             n_jobs=4, verbose=True)\n",
        "lr.fit(X_train, y_train)\n",
        "        \n",
        "# Evaluate on train and test set\n",
        "print(\"Train set score:\", lr.score(X_train, y_train))\n",
        "print(\"Train set score:\", lr.score(X_test, y_test))\n",
        "\n",
        "# Generate classification report\n",
        "y_pred = lr.predict(X_test)\n",
        "print(classification_report(y_test.astype(int), y_pred))"
      ],
      "execution_count": null,
      "outputs": [
        {
          "output_type": "stream",
          "text": [
            "[Parallel(n_jobs=4)]: Using backend ThreadingBackend with 4 concurrent workers.\n"
          ],
          "name": "stderr"
        },
        {
          "output_type": "stream",
          "text": [
            "convergence after 20 epochs took 0 seconds\n",
            "Train set score: 0.9258366800535476\n",
            "Train set score: 0.9072847682119205\n",
            "              precision    recall  f1-score   support\n",
            "\n",
            "           0       1.00      1.00      1.00        28\n",
            "           1       0.89      0.94      0.91        34\n",
            "           2       0.82      0.69      0.75        13\n",
            "           3       1.00      0.29      0.44         7\n",
            "           4       0.79      0.91      0.85        34\n",
            "           5       1.00      1.00      1.00        35\n",
            "\n",
            "    accuracy                           0.91       151\n",
            "   macro avg       0.92      0.81      0.83       151\n",
            "weighted avg       0.91      0.91      0.90       151\n",
            "\n"
          ],
          "name": "stdout"
        },
        {
          "output_type": "stream",
          "text": [
            "[Parallel(n_jobs=4)]: Done   1 out of   1 | elapsed:    0.2s finished\n"
          ],
          "name": "stderr"
        }
      ]
    },
    {
      "cell_type": "code",
      "metadata": {
        "id": "GNH4Qcuu4wCK"
      },
      "source": [
        "from keras.preprocessing.text import Tokenizer\n",
        "from keras.preprocessing import sequence\n",
        "from keras.utils import to_categorical\n",
        "\n",
        "## Tokenize\n",
        "tokenizer = Tokenizer()\n",
        "tokenizer.fit_on_texts(corpus)\n",
        "X = tokenizer.texts_to_sequences(corpus)\n",
        "max_features=len(tokenizer.word_index) + 1\n",
        "\n",
        "## Pad sequences\n",
        "X = sequence.pad_sequences(X, maxlen=100)\n",
        "\n",
        "## Encode labels\n",
        "label_encoder = LabelEncoder()\n",
        "y = to_categorical(label_encoder.fit_transform(dataset['category'].values))\n",
        "\n",
        "X_train, X_test, y_train, y_test = train_test_split(X, y, test_size = 0.01, \n",
        "                                                    random_state = 0)"
      ],
      "execution_count": null,
      "outputs": []
    },
    {
      "cell_type": "code",
      "metadata": {
        "id": "318O2A_-5D8H"
      },
      "source": [
        "from keras.models import Sequential\n",
        "from keras.layers import Embedding, Flatten, LSTM, Conv1D, GlobalMaxPooling1D,\\\n",
        "                         Dense, Dropout, Activation\n",
        "import numpy as np"
      ],
      "execution_count": null,
      "outputs": []
    },
    {
      "cell_type": "code",
      "metadata": {
        "id": "BQwTKsyp5PoB"
      },
      "source": [
        "ann = Sequential()\n",
        "\n",
        "## EMBEDDING LAYER ##\n",
        "ann.add(Embedding(max_features, 50, input_length=100))\n",
        "ann.add(Flatten())\n",
        "\n",
        "## HIDDEN LAYER ##    \n",
        "ann.add(Dense(256))\n",
        "ann.add(Dropout(0.1))\n",
        "ann.add(Activation('relu'))\n",
        "    \n",
        "## OUTPUT LAYER ##\n",
        "ann.add(Dense(6))\n",
        "ann.add(Activation('softmax'))\n",
        "\n",
        "ann.compile(loss='binary_crossentropy', optimizer='adam', metrics=['accuracy'])\n",
        "ann.fit(X_train, y_train, batch_size=256, epochs=2)"
      ],
      "execution_count": null,
      "outputs": []
    },
    {
      "cell_type": "code",
      "metadata": {
        "id": "4sQ9ZV935TYD"
      },
      "source": [
        "y_pred_test = ann.predict_classes(X_test)\n",
        "y_true_test = np.argmax(y_test, axis=1)\n",
        "y_pred_train = ann.predict_classes(X_train)\n",
        "y_true_train = np.argmax(y_train,axis=1)\n",
        "\n",
        "print(\"Train set score:\", accuracy_score(y_pred_train, y_true_train))\n",
        "print(\"Test set score:\", accuracy_score(y_pred_test, y_true_test))\n",
        "print(classification_report(y_pred_test, y_true_test))"
      ],
      "execution_count": null,
      "outputs": []
    },
    {
      "cell_type": "code",
      "metadata": {
        "id": "-e8csLNF5ejG"
      },
      "source": [
        "cnn = Sequential()\n",
        "\n",
        "## EMBEDDING LAYER ##\n",
        "cnn.add(Embedding(max_features, 50, input_length=100))\n",
        "cnn.add(Dropout(0.2))\n",
        " \n",
        "## CONVOLUTIONAL LAYER ##\n",
        "cnn.add(Conv1D(250, 10, padding='valid', activation='relu',\n",
        "                 strides=1));\n",
        "cnn.add(GlobalMaxPooling1D())\n",
        " \n",
        "## DENSE LAYER ##\n",
        "cnn.add(Dense(64))\n",
        "cnn.add(Dropout(0.1))\n",
        "cnn.add(Activation('relu'))\n",
        "    \n",
        "## OUTPUT LAYER ##\n",
        "cnn.add(Dense(6))\n",
        "cnn.add(Activation('softmax'))\n",
        "\n",
        "cnn.compile(loss='binary_crossentropy', optimizer='adam', metrics=['accuracy'])\n",
        "cnn.fit(X_train, y_train, batch_size=256, epochs=2)"
      ],
      "execution_count": null,
      "outputs": []
    },
    {
      "cell_type": "code",
      "metadata": {
        "id": "cZRPJmCx5mmd"
      },
      "source": [
        "y_pred_test = cnn.predict_classes(X_test)\n",
        "y_true_test = np.argmax(y_test, axis=1)\n",
        "y_pred_train = cnn.predict_classes(X_train)\n",
        "y_true_train = np.argmax(y_train,axis=1)\n",
        "\n",
        "print(\"Train set score:\", accuracy_score(y_pred_train, y_true_train))\n",
        "print(\"Test set score:\", accuracy_score(y_pred_test, y_true_test))\n",
        "print(classification_report(y_pred_test, y_true_test))"
      ],
      "execution_count": null,
      "outputs": []
    },
    {
      "cell_type": "code",
      "metadata": {
        "id": "o2989Hne5qTR"
      },
      "source": [
        "lstm = Sequential()\n",
        "\n",
        "## EMBEDDING LAYER ##\n",
        "lstm.add(Embedding(max_features, 50, input_length=100))\n",
        "lstm.add(Dropout(0.2))\n",
        "    \n",
        "## LSTM LAYER #\n",
        "lstm.add(LSTM(124, dropout=0.2, recurrent_dropout=0.2))\n",
        "    \n",
        "## OUTPUT LAYER ##\n",
        "lstm.add(Dense(6))\n",
        "lstm.add(Activation('softmax'))\n",
        "\n",
        "lstm.compile(loss='binary_crossentropy', optimizer='adam', metrics=['accuracy'])\n",
        "lstm.fit(X_train, y_train, batch_size=256, epochs=2)"
      ],
      "execution_count": null,
      "outputs": []
    },
    {
      "cell_type": "code",
      "metadata": {
        "id": "9b6CSAuM6wkX"
      },
      "source": [
        "y_pred_test = cnn.predict_classes(X_test)\n",
        "y_true_test = np.argmax(y_test, axis=1)\n",
        "y_pred_train = cnn.predict_classes(X_train)\n",
        "y_true_train = np.argmax(y_train,axis=1)\n",
        "\n",
        "print(\"Train set score:\", accuracy_score(y_pred_train, y_true_train))\n",
        "print(\"Test set score:\", accuracy_score(y_pred_test, y_true_test))\n",
        "print(classification_report(y_pred_test, y_true_test))"
      ],
      "execution_count": null,
      "outputs": []
    },
    {
      "cell_type": "code",
      "metadata": {
        "id": "cz-jndnSEFpd"
      },
      "source": [
        "book = \"Machine Leaning and its Applications\""
      ],
      "execution_count": null,
      "outputs": []
    },
    {
      "cell_type": "code",
      "metadata": {
        "id": "UTS1bk9aENEa"
      },
      "source": [
        "book = book.lower()\n",
        "book = book.split()\n",
        "ps = PorterStemmer()\n",
        "book = [ps.stem(word) for word in book if not word in set(stopwords.words('english'))]\n",
        "book = ' '.join(book)"
      ],
      "execution_count": null,
      "outputs": []
    },
    {
      "cell_type": "code",
      "metadata": {
        "id": "sJSYh3WxEObC",
        "colab": {
          "base_uri": "https://localhost:8080/",
          "height": 52
        },
        "outputId": "72e191fb-4a8a-435c-b739-49018924e160"
      },
      "source": [
        "x = vectorizer.transform([book])\n",
        "print(x)"
      ],
      "execution_count": null,
      "outputs": [
        {
          "output_type": "stream",
          "text": [
            "  (0, 5033)\t0.7419396110592162\n",
            "  (0, 359)\t0.6704667132239294\n"
          ],
          "name": "stdout"
        }
      ]
    },
    {
      "cell_type": "code",
      "metadata": {
        "id": "bGfYhCC1ESD1",
        "colab": {
          "base_uri": "https://localhost:8080/",
          "height": 35
        },
        "outputId": "9bcfc760-452f-43bb-deab-5e5fbae32ad2"
      },
      "source": [
        "import numpy as np\n",
        "probs = lr.predict_proba(x).reshape((6,))\n",
        "# print(probs, type(probs))\n",
        "print(np.argmax(probs))"
      ],
      "execution_count": null,
      "outputs": [
        {
          "output_type": "stream",
          "text": [
            "4\n"
          ],
          "name": "stdout"
        }
      ]
    },
    {
      "cell_type": "code",
      "metadata": {
        "id": "aACPSyuMEZC5"
      },
      "source": [
        "# Create class to probability mappings\n",
        "from collections import OrderedDict\n",
        "prob_classes = {k: v for k, v in zip(label_encoder.classes_, probs)}\n",
        "prob_classes = OrderedDict(reversed(sorted(prob_classes.items(), key=lambda x: x[1])[-10:]))"
      ],
      "execution_count": null,
      "outputs": []
    },
    {
      "cell_type": "code",
      "metadata": {
        "id": "CsK3sjBJEgMc",
        "colab": {
          "base_uri": "https://localhost:8080/",
          "height": 602
        },
        "outputId": "9286e0c3-5b77-4ec4-c5c9-d172bf5bb829"
      },
      "source": [
        "import matplotlib.pyplot as plt\n",
        "\n",
        "# Plot class probabilities bar graph\n",
        "plt.bar(range(len(prob_classes)), list(prob_classes.values()), align='center')\n",
        "plt.xticks(range(len(prob_classes)), list(prob_classes.keys()), rotation=70)"
      ],
      "execution_count": null,
      "outputs": [
        {
          "output_type": "execute_result",
          "data": {
            "text/plain": [
              "([<matplotlib.axis.XTick at 0x7fd5d44d7c88>,\n",
              "  <matplotlib.axis.XTick at 0x7fd5d44d7c50>,\n",
              "  <matplotlib.axis.XTick at 0x7fd5d44d7898>,\n",
              "  <matplotlib.axis.XTick at 0x7fd5d44a35c0>,\n",
              "  <matplotlib.axis.XTick at 0x7fd5d44a3a58>,\n",
              "  <matplotlib.axis.XTick at 0x7fd5d44a3ef0>],\n",
              " [Text(0, 0, 'Science Fiction & Fantasy'),\n",
              "  Text(0, 0, 'Romance'),\n",
              "  Text(0, 0, 'Test Preparation'),\n",
              "  Text(0, 0, 'Mystery, Thriller & Suspense'),\n",
              "  Text(0, 0, 'Comics & Graphic Novels'),\n",
              "  Text(0, 0, 'Calendars')])"
            ]
          },
          "metadata": {
            "tags": []
          },
          "execution_count": 44
        },
        {
          "output_type": "display_data",
          "data": {
            "image/png": "[encoded data removed]",
            "text/plain": [
              "<Figure size 432x288 with 1 Axes>"
            ]
          },
          "metadata": {
            "tags": [],
            "needs_background": "light"
          }
        }
      ]
    }
  ]
}